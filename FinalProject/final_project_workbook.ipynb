{
 "cells": [
  {
   "cell_type": "markdown",
   "metadata": {},
   "source": [
    "#  Classification of Music Lyrics by Genre\n",
    "\n",
    "\n",
    "__`MIDS w266: Natural Language Processing and Deep Learning | UC Berkeley School of Information | Summer 2019`__\n",
    "\n",
    "_Team members_\n",
    "\n",
    "  - __Dan Price__, danprice@ischool.berkeley.edu\n",
    "  - __Shiraz Chakraverty__, schakraverty@berkeley.edu\n",
    "\n",
    "  \n",
    "## Table of Contents\n",
    "\n",
    "[1.Abstract](#1.-Abstract)\n",
    "\n",
    "[2.Introduction](#2.-Introduction)\n",
    "\n",
    "[3.Background](#3.-Background)\n",
    "\n",
    "[3.EDA and discussion of challenges](#3.-EDA-and-discussion-of-challenges)\n",
    "\n",
    "[4.Methods (design and implementation)](#4.-Methods)\n",
    "\n",
    "[5. Application of New Concepts](#5.-Application-of-New-Concepts)\n",
    "\n",
    "[References](#6.-References)"
   ]
  },
  {
   "cell_type": "markdown",
   "metadata": {},
   "source": [
    "__Please render this notebook with `jupyter` or `nbviewer`. The github notebook viewer does not render all equations correctly.__"
   ]
  },
  {
   "cell_type": "markdown",
   "metadata": {},
   "source": [
    "# 1. Abstract\n",
    "\n",
    "\n",
    "\"CD sales are plummeting, and vinyl sales have plateaued after rising to their greatest peak since the 1990s, but that doesn't mean that people have stopped listening to music. With the rise of streaming music, people are listening as much as ever, in their homes, offices, or any other location where their devices can connect to the internet.\" - Says PCMag<sup>[1]</sup>\n",
    "\n",
    "Spotify<sup>[2]</sup>, happens to have total market share of over $25 Billion, and is one of the leaders in the music streaming space today. It has millions of songs in its database and claims at its core that it has the right music for everyone. They have invested a lot in research, especially NLP methods, starting with classification of the music based on many factors including tempo, acoustics, energy, danceability etc. to answer that most important and stressful first impression question: What is your favorite type of music?\n",
    "\n",
    "Companies like spotify are surviving based on more and more nuanced music classification, either to be able to place the right recommendations to their customers or simply as a product (for example Shazam). Thus finding out at scale, the music genres is the most fundamental step in moving towards a personal listening experience."
   ]
  },
  {
   "cell_type": "markdown",
   "metadata": {},
   "source": [
    "# 2. Introduction\n",
    "\n",
    "Various academic and industry teams have tried approaches to this space. Efforts to understand music, both sonically and semantically through lyrics and metadata, have coalesced in a subfield known as Music Information Retrieval (MIR). No single effort has been very successful in finding a stable method which performs significantly well to tackle the lyrical genre classification problem. SVM, KNN and Naive Bayes have all been used in lyrical classification but they all have very low accuracy. We would like to explore the application of new and emerging models to the task.\n",
    "\n",
    "In the field of Natural Language Processing, the classification of music genres based on lyrics is a challenging task. Machine understanding of language in general is complex. We cannot yet fully understand how the human brain does it but many strides have been made. With that understanding, newer and emerging algorithms and word embeddings are able to offer classifications useful for organizations doing language tasks at a large scale. \n",
    "\n",
    "We would like to explore advantages and disadvantages of several methods in papers we have selected and report our observations, learnings and a recommendation. With the focus of deep learning, it is clear that Neural Networks tend to work better than previously used models. We would like to explore this path and provide some comparative analysis. \n",
    "\n",
    "The dataset for this problem is hard to come by  due to copyright and other original content protection requirements. The search for more examples continues, in the meantime we have we found a data set in Kaggle which is suitable to get started with model development.\n",
    "\n",
    "The initial dataset is downloadable as a comma delimited file. The columns in the file are as follows:\n",
    "`index,song,year,artist,genre,lyrics`\n",
    "    \n",
    "We are particularly interested in the text in the lyrics column. However, we may find ways to utilize other columns as features. The lyrics are a string with carriage returns denoting an end of line. Statistics specific to the overall structure of the lyrics, such as line length, may add value to the classification task."
   ]
  },
  {
   "cell_type": "markdown",
   "metadata": {},
   "source": [
    "# 3. Background\n",
    "\n",
    "\n",
    "__[to be done] - this section needs to capture a summary of the literature we used with reference citations, methods we chose, etc\n",
    "[the following is a sample only]__\n",
    "\n",
    "The algorithm is based on Logistic Regression. We follow the development and notation of [Chapelle et al.,](https://www.dropbox.com/s/s4x7wp8gjsh021d/TISTRespPredAds-Chappelle-CTR-Prediction-2014Paper.pdf?dl+=0)<sup>[5]</sup> For a given data sample $i$, let $y_i$ be our target variable, namely,  we have\n",
    "\n",
    "$$\n",
    "y_i =\n",
    "\\begin{cases}\n",
    "0 \\;\\; \\text{if user does not click on the ad},\\\\\n",
    "1 \\;\\; \\text{otherwise}.\n",
    "\\end{cases}\n",
    "$$\n",
    "\n",
    "Let $\\mathbf{x}_i$ be the $d$-dimensional one-hot vector, i.e., $\\mathbf{x}_i \\in \\{0,1\\}^d$. Our goal is to find the weight vector $\\mathbf{w} \\in \\mathbb{R}^d$. The probability of sample $\\mathbf{x}_i$ belonging to class 1 is given by the following.\n",
    "\n",
    "$$P(y_i=1 | \\mathbf{x}_i, \\mathbf{w}) = \\frac{1}{1+e^{-\\mathbf{w}^\\top\\mathbf{x}_i}}$$\n",
    "\n",
    "Thus, the probability of sample $\\mathbf{x}_i$ belonging to class 0 is given by the following.\n",
    "\n",
    "$$P(y_i=0 | \\mathbf{x}_i, \\mathbf{w}) = \\frac{e^{-\\mathbf{w}^\\top\\mathbf{x}_i}}{1+e^{-\\mathbf{w}^\\top\\mathbf{x}_i}}$$\n",
    "\n",
    "The logistic regression model is a linear model of the log odds ratio, namely, we have the following.\n",
    "\n",
    "$$\\log \\frac{P(y_i=1 | \\mathbf{x}_i, \\mathbf{w})}{P(y_i=0 | \\mathbf{x}_i, \\mathbf{w})} = \\log \\frac{1}{e^{-\\mathbf{w}^\\top\\mathbf{x}_i}} = \\log e^{\\mathbf{w}^\\top\\mathbf{x}_i}= \\mathbf{w}^\\top\\mathbf{x}_i $$\n",
    "\n",
    "The weight factor can be calculated via minimizing the negative log likelihood (namely maximize the joined probability across all samples). Also, in order to overcome over fitting, we need to add regularization. Thus, we have the following equation under the $L_2$ regularization.\n",
    "\n",
    "$$\\underset{\\mathbf{w}}{\\operatorname{argmin}} \\left( \\sum_{i=1}^{n}\\left(\\log(1+e^{-\\mathbf{w}^\\top\\mathbf{x}_i})+(1-y_i)\\mathbf{w}^\\top\\mathbf{x}_i\\right) + \\lambda \\lVert \\mathbf{w} \\rVert^2 \\right) \\tag{1} $$\n",
    "\n",
    "The above objective function is a convex function and we can leverage Gradient Descent (GD) methods to solve it. The GD can be easily parallelized in a map-reduce framework. Furthermore,\n",
    "we can derive the gradient of equation (1) as follows.\n",
    "\n",
    "$$ \\nabla_{\\boldsymbol{\\mathbf{w}}} = \\sum_{i=1}^{n}\\left( \\frac{-\\mathbf{x}_i e^{-\\mathbf{w}^\\top\\mathbf{x}_i }}{1+e^{-\\mathbf{w}^\\top\\mathbf{x}_i }} + (1-y_i)\\mathbf{x}_i\\right)  + 2\\lambda \\mathbf{w} = \\sum_{i=1}^{n} \\left( \\frac{1}{1+e^{-\\mathbf{w}^\\top\\mathbf{x}_i}} - y_i \\right) \\mathbf{x}_i   + 2\\lambda \\mathbf{w} \\tag{2}$$ \n",
    "\n",
    "Let $\\alpha$ be the learning rate, we can iteratively update $\\mathbf{w}$ as follows.\n",
    "\n",
    "$$\\mathbf{w}_\\text{new} = \\mathbf{w}_\\text{old} - \\alpha \\nabla_{\\boldsymbol{\\mathbf{w}}}$$\n",
    "\n",
    "To illustrate our algorithm, let us consider the following simple example with two features.\n",
    "\n",
    "  - Feature $f_1$ is the user identifier, it has two possible values `user1` or `user2`.\n",
    "  - Feature $f_2$ is the advertise web site url, it can be either `url1`, `url2` or `url3`.\n",
    " \n",
    "Let us use one-hot encoding for these categorical variables as it is standard practice in machine learning for categorical variables. The dimensionality with one-hot coding is $d=\\sum_{j=1}^{F} c_f$, where $f$-th feature has $c_f$ values. In the above example, we have $d=5$. Furthermore, each position in one-hot code is referenced by tuple `(feature_id, category_value)`. For example, we have the following vector in our case.\n",
    "\n",
    "$$[(f_1, \\text{user1}), (f_1, \\text{user2}), (f_2, \\text{url1}), (f_2, \\text{url2}), (f_2, \\text{url3}) ]$$\n",
    "\n",
    "Each position in above vector is a binary. 1 means that the referenced feature takes the corresponding value. The following table shows all possible one-hot vector and their corresponding meaning.\n",
    "\n",
    "| One-Hot vector | $f_1$ | $f_2$ |\n",
    "| :---: | :---: |    :---: |\n",
    "| [1,0,1,0,0]  | user1     | url1 |\n",
    "| [1,0,0,1,0]  | user1     | url2 |\n",
    "| [1,0,0,0,1]  | user1     | url3 |\n",
    "| [0,1,1,0,0]  | user2     | url1 |\n",
    "| [0,1,0,1,0]  | user2     | url2 |\n",
    "| [0,1,0,0,1]  | user2     | url3 |"
   ]
  },
  {
   "cell_type": "markdown",
   "metadata": {},
   "source": [
    "## Notebook Set-Up\n",
    "\n",
    "The following setup demonstrates two distinct yet valuable approaches. We have used the RDD API as well as the Spark 2.0 DataFrame and ML API in this project. The following are the setup elements, in brief:\n",
    "\n",
    "(1) Python and Spark libraries - \n",
    "\n",
    "`NumPy` Provides\n",
    ",\n",
    "  1. An array object of arbitrary homogeneous items\n",
    "  2. Fast mathematical operations over arrays\n",
    "  3. Linear Algebra, Fourier Transforms, Random Number Generation\n",
    "\n",
    "`Pandas` Provides,\n",
    "\n",
    "  1. Intelligent label-based slicing, fancy indexing, and subsetting of large data sets.\n",
    "  2. Intuitive merging and joining data sets.\n",
    "  3. Flexible reshaping and pivoting of data sets.\n",
    "\n",
    "`Matplotlib` Provides a MATLAB-like way of plotting. `pyplot` is mainly intended for interactive plots and simple cases of programmatic\n",
    "plot generation::\n",
    "\n",
    "`SparkSession` is the entry point to programming Spark with the Dataset and DataFrame API. A SparkSession can be used create `DataFrame` as tables, execute SQL over tables, cache tables, and read parquet files.\n",
    "\n",
    "For brevity, we will not list out all the libraries and their functions, this can be easily requested by executing `[name of library]??`"
   ]
  },
  {
   "cell_type": "code",
   "execution_count": 1,
   "metadata": {},
   "outputs": [
    {
     "name": "stderr",
     "output_type": "stream",
     "text": [
      "Using TensorFlow backend.\n"
     ]
    }
   ],
   "source": [
    "from __future__ import print_function\n",
    "\n",
    "# This tells matplotlib not to try opening a new window for each plot.\n",
    "%matplotlib inline\n",
    "\n",
    "# General libraries.\n",
    "import time\n",
    "import re\n",
    "import numpy as np\n",
    "import matplotlib.pyplot as plt\n",
    "import pandas as pd\n",
    "import math\n",
    "import csv\n",
    "import os\n",
    "import sys\n",
    "from tabulate import tabulate\n",
    "import seaborn as sns\n",
    "from nltk.corpus import wordnet\n",
    "from sklearn.naive_bayes import MultinomialNB, BernoulliNB\n",
    "from sklearn.linear_model import LogisticRegression\n",
    "from sklearn.tree import DecisionTreeClassifier\n",
    "from sklearn.neural_network import MLPClassifier\n",
    "from sklearn.ensemble import RandomForestClassifier\n",
    "from sklearn.feature_extraction.text import CountVectorizer, TfidfVectorizer\n",
    "from sklearn.model_selection import cross_validate\n",
    "from sklearn.model_selection import train_test_split\n",
    "from sklearn import svm\n",
    "#from nltk.stem.porter import *\n",
    "from stemming.porter2 import stem\n",
    "from sklearn.metrics import confusion_matrix\n",
    "import sys\n",
    "from sklearn.pipeline import Pipeline\n",
    "import pickle\n",
    "from sklearn.externals import joblib\n",
    "from sklearn import preprocessing\n",
    "from keras.preprocessing.text import Tokenizer\n",
    "from keras.preprocessing.sequence import pad_sequences\n",
    "from keras.utils import to_categorical\n",
    "from keras.layers import Dense, Input, GlobalMaxPooling1D, Flatten, Dropout\n",
    "from keras.layers import Conv1D, MaxPooling1D, Embedding\n",
    "from keras.models import Model\n",
    "from keras import optimizers\n",
    "from gensim.models.word2vec import Word2Vec\n",
    "from collections import Counter, defaultdict\n",
    "from sklearn.feature_extraction.text import CountVectorizer\n",
    "from sklearn.feature_extraction.text import TfidfVectorizer\n",
    "from sklearn.ensemble import ExtraTreesClassifier\n",
    "from sklearn.naive_bayes import BernoulliNB, MultinomialNB\n",
    "from sklearn.pipeline import Pipeline\n",
    "from sklearn.svm import SVC\n",
    "from sklearn.metrics import accuracy_score\n",
    "from sklearn.model_selection import cross_val_score\n",
    "from sklearn.model_selection import train_test_split\n"
   ]
  },
  {
   "cell_type": "code",
   "execution_count": 183,
   "metadata": {},
   "outputs": [],
   "source": [
    "from datetime import datetime\n",
    "import bert\n",
    "from bert import run_classifier\n",
    "from bert import optimization\n",
    "from bert import tokenization\n",
    "import tensorflow as tf\n",
    "import tensorflow_hub as hub\n",
    "from tensorflow import keras\n",
    "VOCAB_FILE= \"uncased_L-12_H-768_A-12/vocab.txt\"\n",
    "INIT_CHECKPOINT = \"uncased_L-12_H-768_A-12/bert_model.ckpt\"\n",
    "CONFIG_FILE = \"uncased_L-12_H-768_A-12/bert_config.json\""
   ]
  },
  {
   "cell_type": "code",
   "execution_count": 2,
   "metadata": {},
   "outputs": [],
   "source": [
    "%reload_ext autoreload\n",
    "%autoreload 2"
   ]
  },
  {
   "cell_type": "code",
   "execution_count": 13,
   "metadata": {},
   "outputs": [],
   "source": [
    "# store path to notebook\n",
    "PWD = !pwd\n",
    "PWD = PWD[0]"
   ]
  },
  {
   "cell_type": "markdown",
   "metadata": {},
   "source": [
    "# 3. EDA and discussion of challenges\n",
    "\n",
    "__[section needs to be updated]__\n",
    "\n",
    "\n",
    "The goal of our EDA is to characterize the dimensionality and distribution of our data. While dependent variable in our dataset tells us that the problem at hand can be solved using a binary classification algorithm, EDA helps us confirm model selection and evaluate options for a scalable solution in the Map-Reduce framework. More specifically, we will explore the data to identify the following:\n",
    "\n",
    "- What is the total number of dimensions?\n",
    "- What is the distribution of dimensions?\n",
    "- Does the dataset conform to the assumptions of a Linear Regression statistcal model?\n",
    "- What is Receiver Operating Characteristic (ROC) curve with all features (i.e., without any feature hashing)?\n",
    "\n",
    "\n",
    "### Loading the Dataset\n",
    "\n",
    "In a limited scope and timeframe we can use this chunk of data that represents roughly a week's worth of click through logs captured. From the raw data, we can see that the dataset consists of text delimited by tabs. The first entry is the label (0 or 1, where 0 means the user didn't click on the given ad), while the rest are features associated with the ad. While we can imagine that there could be a whole host of features like device types, browser types, time of day, date, advertisers, ad, platform, company...but we cannot see any of these labels or the underlying values, these have been changed and hence we cannot `infer` based on any domain knowledge, hence the goal in this project will be more on `prediction performance` and `distributed computing scalability and design efficiency`.\n",
    "\n",
    "Data file strip :  ```0\t\t0\t14\t6\t7132\t171\t2\t2\t6\t\t1\t\t6\t05db9164\t38a947a1\te88a1d4c\t8eb9aec7\t25c83c98\tfbad5c96\t3fd38f3b\t```\n",
    "\n"
   ]
  },
  {
   "cell_type": "markdown",
   "metadata": {},
   "source": [
    "The training data set consists of over 45 million rows with 13 integer and 26 categorical features. The following observations can be made by analyzing a sample:\n",
    "\n",
    "1. Label data is 0 or 1 making it a good candidate for logistic regression model\n",
    "2. Sparse matrix - Dataset contains a lot of missing values. These cannot be deleted since missing values for columns are normal for this use case. Our model will have to be able to handle a sparse matrix \n",
    "3. Columns 14 onwards are categorical variables, but the majority of the values are missing and each column has thousands of categories. One Hot encoding of these categorical variables will result in a very large number of features (columns). \n",
    "4. The correlation matrix of integer features in sample reveal no significant positive or negative correlation between features. This helps ascertain that data conforms with logistic regression assumption of 'little or no multicollinearity between independent variables'. As a result, all independent variables will be used as features within our model. \n",
    "5. The integer variable histograms show that these variables are highly skewed to the left, with a few values to the extreme right. This skewed distribution of data should not be an issue since logistic regression does not assume underlying data is normal.\n",
    "6. A count of outcomes in sample data shows approx. 3:1 ratio between 0 and 1 as outcome (approx. 75% of data has 0 as outcome). Our strategies to handle the sparse matrix will have to pay careful attention to the ratio of outcome variables to ensure minimal bias in model.\n",
    "7.  Classification models need to be developed with mind to the prior rates of success (click) or failure (not-clicked). If one is much more likely than the other, predicting the more likely class every time will be accurate at the same rate as the likely class. In the case of this data the prior rates are not given, and the description of the data<sup>[2]</sup> specifically indicates that the classes have been sampled at different rates to change the size of the data set. We cannot hope to recover the initial information. Non-clicks comprise approximately 75% of the data we do have, so our classifier will have to do better than 75% accuracy to beat simply predicting \"non-click\" every time."
   ]
  },
  {
   "cell_type": "markdown",
   "metadata": {},
   "source": [
    "#### Project file Handling (pipeline workflow)\n",
    "\n",
    "This section is for illustrating the benefits of parsing the raw data files methodically. We need to be mindful that Kaggle challenge provides a dataset that is cleaned, formatted and contains some data preprocessing that will be unavailable with model encounters new data. The operating system provides simple Unix raw file reading tools that can be used to move, split, modify (tab to csv) and even do simple EDA like count lines, words, find specific key words etc. the following section tackles these and each step is explained."
   ]
  },
  {
   "cell_type": "markdown",
   "metadata": {},
   "source": [
    "(1) Create a storage directory, download and extract the tarball. This section below is to capture the data we have been provided. In production, we will likely grep this from a kafka stream dumping files into a hdfs storage location from where we can safely load the data into our Spark clusters. However before doing these, we still need to capture these files, and be able to perform some basic operations prior to using the Spark application."
   ]
  },
  {
   "cell_type": "code",
   "execution_count": 5,
   "metadata": {},
   "outputs": [
    {
     "name": "stdout",
     "output_type": "stream",
     "text": [
      "Copying gs://266-schakraverty/lyrics.tar...\n",
      "- [1/1 files][309.6 MiB/309.6 MiB] 100% Done                                    \n",
      "Operation completed over 1 objects/309.6 MiB.                                    \n"
     ]
    }
   ],
   "source": [
    "#copy file from bucket\n",
    "!gsutil -m cp gs://266-schakraverty/lyrics.tar ."
   ]
  },
  {
   "cell_type": "code",
   "execution_count": 7,
   "metadata": {},
   "outputs": [
    {
     "name": "stdout",
     "output_type": "stream",
     "text": [
      "./._lyrics.csv\r\n",
      "lyrics.csv\r\n"
     ]
    }
   ],
   "source": [
    "# Run Once - In production, this will move to the data pipeline\n",
    "# make a data folder & download zipped datafile\n",
    "#!mkdir data\n",
    "#!gunzip data/lyrics.tar.gz\n",
    "!tar -xvf lyrics.tar\n",
    "#!cp lyrics.csv data/lyrics.csv"
   ]
  },
  {
   "cell_type": "markdown",
   "metadata": {},
   "source": [
    "(2) Count the total size of the dataset."
   ]
  },
  {
   "cell_type": "code",
   "execution_count": 3,
   "metadata": {},
   "outputs": [
    {
     "name": "stdout",
     "output_type": "stream",
     "text": [
      " 9357041 lyrics.csv\r\n"
     ]
    }
   ],
   "source": [
    "#Count the number of records in the raw data\n",
    "!wc -l lyrics.csv"
   ]
  },
  {
   "cell_type": "code",
   "execution_count": 5,
   "metadata": {},
   "outputs": [
    {
     "name": "stdout",
     "output_type": "stream",
     "text": [
      "Number of Records: 362237\n"
     ]
    }
   ],
   "source": [
    "lyrics_sample = pd.read_csv('lyrics.csv')\n",
    "print('Number of Records:',len(lyrics_sample))"
   ]
  },
  {
   "cell_type": "code",
   "execution_count": 13,
   "metadata": {},
   "outputs": [],
   "source": [
    "#Pre-processing\n",
    "def data_cleanup():\n",
    "\n",
    "#Cleaning up the data\n",
    "    with open('lyrics.csv', 'r') as inp, open('lyrics_out.csv', 'w') as out:\n",
    "        writer = csv.writer(out)\n",
    "        for row in csv.reader(inp):\n",
    "            writer.writerow(row)\n",
    "\n",
    "def multi_class_data():\n",
    "\tdata_cleanup()\n",
    "\n",
    "\tdf = pd.read_csv('lyrics_out.csv')\n",
    "\n",
    "\t#add a new column with word count of the lyrics of a song\n",
    "\tdf['word_count'] = df['lyrics'].str.split( ).str.len()\n",
    "\n",
    "\tdf[\"lyrics\"] = df['lyrics'].str.lower()\n",
    "\n",
    "\t#remove rows with lyrics count less than 100\n",
    "\n",
    "\t#df = df[df['genre']!=\"Pop\"]\n",
    "\tdf = df[df['genre']!=\"Folk\"]\n",
    "\t#df = df[df['genre']!=\"Jazz\"]\n",
    "\tdf = df[df['genre']!=\"R&B\"]\n",
    "\tdf = df[df['genre']!=\"Indie\"]\n",
    "\tdf = df[df['genre']!=\"Electronic\"]\n",
    "\tdf = df[df['genre']!=\"Metal\"]\n",
    "\n",
    "\tdf = df[df['word_count'] > 100]\n",
    "\n",
    "\tdf = df.groupby('genre').head(1000)\n",
    "\t#replace carriage returns\n",
    "\tdf = df.replace({'\\n': ' '}, regex=True)\n",
    "\n",
    "\tdel df['song'],df['year'],df['artist'],df['word_count']\n",
    "\tprint (df.head())\n",
    "\n",
    "\tdf.to_csv('lyrics_final.csv', index=False)"
   ]
  },
  {
   "cell_type": "code",
   "execution_count": 14,
   "metadata": {},
   "outputs": [
    {
     "name": "stdout",
     "output_type": "stream",
     "text": [
      "   index genre                                             lyrics\n",
      "0      0   Pop  oh baby, how you doing? you know i'm gonna cut...\n",
      "1      1   Pop  playin' everything so easy, it's like you seem...\n",
      "2      2   Pop  if you search for tenderness it isn't hard to ...\n",
      "3      3   Pop  oh oh oh i, oh oh oh i [verse 1:] if i wrote a...\n",
      "4      4   Pop  party the people, the people the party it's po...\n",
      "completed job in: 29.07986617088318 seconds\n"
     ]
    }
   ],
   "source": [
    "start = time.time()\n",
    "multi_class_data()\n",
    "end = time.time()\n",
    "print(\"completed job in:\",end - start,\"seconds\")"
   ]
  },
  {
   "cell_type": "markdown",
   "metadata": {},
   "source": [
    "__explain what is being done above]__"
   ]
  },
  {
   "cell_type": "markdown",
   "metadata": {},
   "source": []
  },
  {
   "cell_type": "code",
   "execution_count": 15,
   "metadata": {},
   "outputs": [],
   "source": [
    "df = pd.read_csv('lyrics_final.csv')\n",
    "df.replace('?', -9999999, inplace=True)\n",
    "\n",
    "df.drop(['index'],1, inplace=True)\n"
   ]
  },
  {
   "cell_type": "code",
   "execution_count": 16,
   "metadata": {},
   "outputs": [
    {
     "data": {
      "text/html": [
       "<div>\n",
       "<style scoped>\n",
       "    .dataframe tbody tr th:only-of-type {\n",
       "        vertical-align: middle;\n",
       "    }\n",
       "\n",
       "    .dataframe tbody tr th {\n",
       "        vertical-align: top;\n",
       "    }\n",
       "\n",
       "    .dataframe thead th {\n",
       "        text-align: right;\n",
       "    }\n",
       "</style>\n",
       "<table border=\"1\" class=\"dataframe\">\n",
       "  <thead>\n",
       "    <tr style=\"text-align: right;\">\n",
       "      <th></th>\n",
       "      <th>genre</th>\n",
       "      <th>lyrics</th>\n",
       "    </tr>\n",
       "  </thead>\n",
       "  <tbody>\n",
       "    <tr>\n",
       "      <th>0</th>\n",
       "      <td>Pop</td>\n",
       "      <td>oh baby, how you doing? you know i'm gonna cut...</td>\n",
       "    </tr>\n",
       "    <tr>\n",
       "      <th>1</th>\n",
       "      <td>Pop</td>\n",
       "      <td>playin' everything so easy, it's like you seem...</td>\n",
       "    </tr>\n",
       "    <tr>\n",
       "      <th>2</th>\n",
       "      <td>Pop</td>\n",
       "      <td>if you search for tenderness it isn't hard to ...</td>\n",
       "    </tr>\n",
       "    <tr>\n",
       "      <th>3</th>\n",
       "      <td>Pop</td>\n",
       "      <td>oh oh oh i, oh oh oh i [verse 1:] if i wrote a...</td>\n",
       "    </tr>\n",
       "    <tr>\n",
       "      <th>4</th>\n",
       "      <td>Pop</td>\n",
       "      <td>party the people, the people the party it's po...</td>\n",
       "    </tr>\n",
       "  </tbody>\n",
       "</table>\n",
       "</div>"
      ],
      "text/plain": [
       "  genre                                             lyrics\n",
       "0   Pop  oh baby, how you doing? you know i'm gonna cut...\n",
       "1   Pop  playin' everything so easy, it's like you seem...\n",
       "2   Pop  if you search for tenderness it isn't hard to ...\n",
       "3   Pop  oh oh oh i, oh oh oh i [verse 1:] if i wrote a...\n",
       "4   Pop  party the people, the people the party it's po..."
      ]
     },
     "execution_count": 16,
     "metadata": {},
     "output_type": "execute_result"
    }
   ],
   "source": [
    "df.head()"
   ]
  },
  {
   "cell_type": "code",
   "execution_count": 53,
   "metadata": {},
   "outputs": [],
   "source": [
    "def pre_process():\n",
    "\n",
    "\tprint(\"Processing the data...\")\n",
    "\tdf = pd.read_csv('lyrics_final.csv')\n",
    "\tdf.replace('?', -9999999, inplace=True)\n",
    "\n",
    "\tdf.drop(['index'],1, inplace=True)\n",
    "\t\n",
    "\t#dict_genres={'Rock':1, 'Country':2, 'Hip-Hop':3, 'Pop':4, 'Jazz':5}\n",
    "    \n",
    "\tdict_genres={genre:index for index,genre in enumerate(df.genre.value_counts().keys())}\n",
    "    \n",
    "\tlabels = []\n",
    "\ttext = []\n",
    "\tfor index, row in df.iterrows():\n",
    "\t\tlabels.append(row[0])\n",
    "\t\twords = row[1].split()\n",
    "\t\ttext.append(row[1])\n",
    "\t\t#text.append(words)\n",
    "\t#stemming\n",
    "\ttext = [[stem(word) for word in sentence.split(\" \")] for sentence in text]\n",
    "\ttext = [\" \".join(sentence) for sentence in text]\n",
    "\n",
    "\tprint(\"Data processing done!!\")\n",
    "\treturn text,labels,dict_genres\n",
    "\n",
    "\n",
    "def build_dataset(text,labels):\n",
    "\t#text, labels = pre_process()\n",
    "\t\n",
    "\tprint(\"Total songs: %s\"%(len(labels)))\n",
    "\tcountVec = TfidfVectorizer(stop_words = 'english', sublinear_tf=True)\n",
    "\n",
    "\t#countVec = CountVectorizer(stop_words = 'english')\n",
    "\n",
    "\tx_train, x_test, y_train, y_test = train_test_split(text,labels,test_size=0.2)\n",
    "\n",
    "\t#Creating tf-idf vector for the documents\n",
    "\n",
    "\tx_trainCV = countVec.fit_transform(x_train)\n",
    "\tjoblib.dump(countVec, \"tfidf_vectorizer.pickle\")\n",
    "\n",
    "\tx_testCV = countVec.transform(x_test)\n",
    "\n",
    "    \n",
    "\tx_train = x_trainCV.toarray()\n",
    "\tx_test = x_testCV.toarray()\n",
    "\n",
    "\tx_train = preprocessing.normalize(x_train)\n",
    "\tx_train = preprocessing.scale(x_train)\n",
    "\t\n",
    "\tx_test = preprocessing.normalize(x_test)\n",
    "\tx_test = preprocessing.scale(x_test)\n",
    "    \n",
    "    \n",
    "\tjoblib.dump(countVec, \"tfidf_vectorizer.pickle\")\n",
    "\n",
    "\tprint(\"x_train: %s, x_test: %s, y_train: %s, y_test: %s\"%(len(x_train),len(x_test),len(y_train),len(y_test)))\t\n",
    "\treturn x_train,x_test,y_train,y_test\n",
    "\n",
    "def train(input1,x_train,x_test,y_train,y_test):\n",
    "\tf = open(\"multiclass.txt\", \"w\")\n",
    "\tif input1 == \"bnb\":\n",
    "\t\tprint(\"Bernoulli Naive Bayes Classifier\")\n",
    "\t\tbnb = BernoulliNB()\n",
    "\t\tbnb.fit(x_train,y_train)\n",
    "\t\taccuracy = bnb.score(x_test,y_test)\n",
    "\t\tprint(\"accuracy for bernoulli naive bayes: %s\"%(accuracy))\n",
    "\t\tf.write(\"accuracy for bernoulli naive bayes: %s \\n\"%(accuracy))\n",
    "\t\n",
    "\tif input1 == \"dt\":\n",
    "\t\tprint(\"Decision Tree Classifier\")\n",
    "\t\tdt = DecisionTreeClassifier()\n",
    "\t\tdt.fit(x_train,y_train)\n",
    "\t\taccuracy = dt.score(x_test,y_test)\n",
    "\t\tprint(\"accuracy for Decision Tree: %s\"%(dt.score(x_test,y_test)))\n",
    "\t\tf.write(\"accuracy for decision tree: %s \\n\"%(accuracy))\n",
    "\t\n",
    "\tif input1 == \"mlp\":\n",
    "\t\tprint(\"Multi Layer Perceptron Classifier\")\n",
    "\t\t#Training and Testing on SCikit Neural Network library\n",
    "\t\tneural = MLPClassifier()\n",
    "\t\tneural.fit(x_train,y_train)\n",
    "\n",
    "\t\tjoblib.dump(neural, \"classifier.pickle\")\n",
    "\n",
    "\t\taccuracy = neural.score(x_test, y_test)\n",
    "\t\tprint(\"accuracy for Neural Network: %s\"%(accuracy))\n",
    "\t\t\n",
    "\tif input1 == \"rf\":\n",
    "\t\tprint(\"Random Forest Classifier\")\n",
    "\t\trf = RandomForestClassifier(n_estimators=100,max_features=\"sqrt\").fit(x_train,y_train)\n",
    "\t\tjoblib.dump(rf, \"classifier.pickle\")\n",
    "\t\taccuracy = rf.score(x_test, y_test)\n",
    "\t\t\n",
    "\t\tprint(\"accuracy for Random Forest: %s\"%(accuracy))\n",
    "\t\tf.write(\"accuracy for Random Forest: %s \\n\"%(accuracy))\n",
    "\t\n",
    "\tf.close()\n",
    "\n",
    "def test(input_string):\n",
    "\n",
    "\tvectorizer = joblib.load(\"tfidf_vectorizer.pickle\")\n",
    "\tclassifier = joblib.load(\"classifier.pickle\")\n",
    "\t\n",
    "\ttr = vectorizer.transform(input_string)\n",
    "\n",
    "\tpredictions = classifier.predict(tr)\n",
    "\tprint(predictions[0])\n",
    "\treturn predictions[0]"
   ]
  },
  {
   "cell_type": "code",
   "execution_count": 54,
   "metadata": {},
   "outputs": [
    {
     "name": "stdout",
     "output_type": "stream",
     "text": [
      "Processing the data...\n",
      "Data processing done!!\n",
      "completed in : 36.025065183639526 seconds\n",
      "{'Rock': 0, 'Jazz': 1, 'Other': 2, 'Hip-Hop': 3, 'Pop': 4, 'Not Available': 5, 'Country': 6}\n"
     ]
    }
   ],
   "source": [
    "# process the lyrics, convert into train and test\n",
    "start = time.time()\n",
    "text, labels, genre_dict = pre_process()\n",
    "end = time.time()\n",
    "print(\"completed in :\",end - start,\"seconds\")\n",
    "print(genre_dict)"
   ]
  },
  {
   "cell_type": "code",
   "execution_count": 19,
   "metadata": {},
   "outputs": [
    {
     "name": "stdout",
     "output_type": "stream",
     "text": [
      "Total songs: 7000\n",
      "x_train: 5600, x_test: 1400, y_train: 5600, y_test: 1400\n",
      "completed in : 28.13624405860901 seconds\n"
     ]
    }
   ],
   "source": [
    "start = time.time()\n",
    "x_train, x_test, y_train, y_test = build_dataset(text, labels)\n",
    "end = time.time()\n",
    "print(\"completed in :\",end - start,\"seconds\")"
   ]
  },
  {
   "cell_type": "markdown",
   "metadata": {},
   "source": [
    "### -------------------------------------------------------------------------------------"
   ]
  },
  {
   "cell_type": "markdown",
   "metadata": {},
   "source": [
    "### -------------------------------------------------------------------------------------"
   ]
  },
  {
   "cell_type": "code",
   "execution_count": 23,
   "metadata": {},
   "outputs": [
    {
     "name": "stdout",
     "output_type": "stream",
     "text": [
      "Bernoulli Naive Bayes Classifier\n",
      "accuracy for bernoulli naive bayes: 0.45571428571428574\n",
      "completed in: 22.113301992416382 seconds\n",
      "Decision Tree Classifier\n",
      "accuracy for Decision Tree: 0.37785714285714284\n",
      "completed in: 132.6816530227661 seconds\n",
      "Multi Layer Perceptron Classifier\n",
      "accuracy for Neural Network: 0.4928571428571429\n",
      "completed in: 696.5804917812347 seconds\n",
      "Random Forest Classifier\n",
      "accuracy for Random Forest: 0.49214285714285716\n",
      "completed in: 154.745032787323 seconds\n"
     ]
    }
   ],
   "source": [
    "input_param = [\"bnb\",\"dt\",\"mlp\",\"rf\"]\n",
    "for i in input_param:\n",
    "    start = time.time()\n",
    "    train(i,x_train,x_test,y_train,y_test)\n",
    "    end = time.time()\n",
    "    print(\"completed in:\",end - start,\"seconds\")"
   ]
  },
  {
   "cell_type": "markdown",
   "metadata": {},
   "source": [
    "__[have to explain the ineffectiveness of each algorithm used from sklearn]__"
   ]
  },
  {
   "cell_type": "markdown",
   "metadata": {},
   "source": [
    "Model approach 1 - traditional ML algorithms\n",
    "\n",
    "We used term frequency and inverse document frequency as our feature vectors and the genre classes as our labels to identify.\n",
    "\n",
    "Bag of Words\n",
    "\n",
    "This is one of the most common approaches in text retrieval. Here, any unique term occurring in any of the document of the collection is regarded as a feature. One simple approach is to count the frequency of the word in the entire lyrical text. Another approach is term weighting scheme based on the importance of a term to describe and discriminate between documents, such as the popular tf - idf (term frequency times inverse document frequency) weighting scheme. In this model, a document is denoted by d, a term (token) by t, and the number of documents in a corpus by N. The term frequency tf(t, d) denotes the number of times term t appears in document d. The number of documents in the collection that term t occurs in is denoted as document frequency df(d). The tf-idf weight of a term in a document is computed as:\n",
    "\n",
    "$tf$ x $idf(t, d)$ = $tf$ $(t, d)$ x $\\ln(N/df(t))$\n",
    "\n",
    "Word2Vec\n",
    "\n",
    "Next, we used the word vectors (word2vec) to represent our lyrical text. These semantic vectors preserve most of the relevant information in a text while having relatively low dimensionality. Word2Vec is an algorithm that takes every word in your vocabulary that is, the text that needs to be classi\f",
    "ed is turned into a unique vector that can be added, subtracted, and manipulated in other ways just like a vector in space. We trained word vectors using python's genism library. We generated 100-dimensional word2vec embedding trained on the benchmark data itself.\n",
    "Algorithms\n",
    "\n",
    "With our features and labels ready we fed them into a classi\f",
    "er and trained it. We used 4:1 split of the dataset for training and testing. We used python's sci-kit learn library to implement the following algorithms:\n",
    "\n",
    "Naive Bayes: Implemented Bernoulli\n",
    "Decision Tree, Random Forest: \n",
    "\n",
    "Used 100 trees and the majority of all the classifications are the result\n",
    "MultiLayer Perceptron Model: Experimented with various activation functions and hidden layers, \n",
    "Extra Trees Classifier: Used this algorithm to test with word2vec feature vectors, \n",
    "Extra Trees Classi\f",
    "er: Used this algorithm to test with word2vec feature vectors."
   ]
  },
  {
   "cell_type": "markdown",
   "metadata": {},
   "source": [
    "### Extremely large feature space Challenge\n"
   ]
  },
  {
   "cell_type": "markdown",
   "metadata": {},
   "source": [
    "\n",
    "### Sparse, High-Dimensional Challenge\n",
    "\n",
    "\n",
    "\n",
    "\n",
    "### Volume and velocity of data Challenge\n",
    "\n"
   ]
  },
  {
   "cell_type": "code",
   "execution_count": 6,
   "metadata": {
    "collapsed": true
   },
   "outputs": [],
   "source": []
  },
  {
   "cell_type": "code",
   "execution_count": 7,
   "metadata": {
    "collapsed": true
   },
   "outputs": [],
   "source": []
  },
  {
   "cell_type": "code",
   "execution_count": 8,
   "metadata": {
    "collapsed": true
   },
   "outputs": [],
   "source": []
  },
  {
   "cell_type": "code",
   "execution_count": 6,
   "metadata": {},
   "outputs": [
    {
     "name": "stdout",
     "output_type": "stream",
     "text": [
      "# of training data points: 41256132, # of dev data points: 4584485, total # of data points from train.txt: 45840617\n",
      "['0,1,1,5,0,1382,4,15,2,181,1,2,,2,68fd1e64,80e26c9b,fb936136,7b4723c4,25c83c98,7e0ccccf,de7995b8,1f89b562,a73ee510,a8cd5504,b2cb9c98,37c9c164,2824a5f6,1adce6ef,8ba8b39a,891b62e7,e5ba7672,f54016b9,21ddcdc9,b1252a9d,07b5194c,,3a171ecb,c5c50484,e8b83407,9727dd16']\n"
     ]
    }
   ],
   "source": []
  },
  {
   "cell_type": "markdown",
   "metadata": {},
   "source": [
    "#### Explore the features and distributions\n",
    "\n",
    "__[explain some of the exploration]__\n",
    "\n",
    "\n",
    "Below cells demonstrate the complexity of a dataset where a lot of the private attributes of the metadata are hidden, hence we cannot `infer` like we could in a standard fully explainable human readable data. Here we can see a lot of he data has been hashed out, it still maintains it's underlying variance and collinearity, however the values themselves are hashed to allow the original data to remain private. We can also see that the categorical variables have many values but they don't have any ordinal nature, just a very sparse distribution, with gaps and this poses a major hurdle with one hot encoding, as we will end up with tens of thousands of sparse columns with maybe a handful of '1' and all the rest to be '0'."
   ]
  },
  {
   "cell_type": "code",
   "execution_count": 22,
   "metadata": {},
   "outputs": [],
   "source": [
    "## need EDA here"
   ]
  },
  {
   "cell_type": "code",
   "execution_count": 20,
   "metadata": {},
   "outputs": [],
   "source": [
    "## Need EDA here"
   ]
  },
  {
   "cell_type": "code",
   "execution_count": 21,
   "metadata": {},
   "outputs": [],
   "source": [
    "# Need EDA here"
   ]
  },
  {
   "cell_type": "markdown",
   "metadata": {},
   "source": [
    "#### Method 2 - need explanation"
   ]
  },
  {
   "cell_type": "code",
   "execution_count": 24,
   "metadata": {},
   "outputs": [],
   "source": [
    "##start method 2\n",
    "df = pd.read_csv('lyrics_final.csv')\n",
    "!mkdir genres_data\n",
    "!mkdir genres_data/pop\n",
    "!mkdir genres_data/rock\n",
    "!mkdir genres_data/jazz\n",
    "!mkdir genres_data/country\n",
    "!mkdir genres_data/hiphop\n",
    "\n",
    "for index, row in df.iterrows():\n",
    "\tif row[1] == \"Pop\":\n",
    "\t\twith open(\"genres_data/pop/%s\"%(row[0]), \"a\") as pop_file:\n",
    "\t\t\tpop_file.write(row[2])\n",
    "\n",
    "\tif row[1] == \"Rock\":\n",
    "\t\twith open(\"genres_data/rock/%s\"%(row[0]), \"a\") as rock_file:\n",
    "\t\t\trock_file.write(row[2])\n",
    "\n",
    "\tif row[1] == \"Jazz\":\n",
    "\t\twith open(\"genres_data/jazz/%s\"%(row[0]), \"a\") as jazz_file:\n",
    "\t\t\tjazz_file.write(row[2])\n",
    "\n",
    "\tif row[1] == \"Country\":\n",
    "\t\twith open(\"genres_data/country/%s\"%(row[0]), \"a\") as country_file:\n",
    "\t\t\tcountry_file.write(row[2])\n",
    "\n",
    "\tif row[1] == \"Hip-Hop\":\n",
    "\t\twith open(\"genres_data/hiphop/%s\"%(row[0]), \"a\") as hiphop_file:\n",
    "\t\t\thiphop_file.write(row[2])"
   ]
  },
  {
   "cell_type": "code",
   "execution_count": null,
   "metadata": {},
   "outputs": [],
   "source": []
  },
  {
   "cell_type": "code",
   "execution_count": 25,
   "metadata": {},
   "outputs": [
    {
     "name": "stdout",
     "output_type": "stream",
     "text": [
      "/bin/sh: wget: command not found\n",
      "/bin/sh: wget: command not found\n"
     ]
    }
   ],
   "source": [
    "!wget http://nlp.stanford.edu/data/glove.6B.zip\n",
    "!wget http://nlp.stanford.edu/data/glove.840B.300d.zip\n"
   ]
  },
  {
   "cell_type": "code",
   "execution_count": 43,
   "metadata": {},
   "outputs": [
    {
     "name": "stdout",
     "output_type": "stream",
     "text": [
      "Archive:  glove.6B.zip\n",
      "  inflating: glove.6B.50d.txt        \n",
      "  inflating: glove.6B.100d.txt       \n",
      "  inflating: glove.6B.200d.txt       \n",
      "  inflating: glove.6B.300d.txt       \n",
      "Archive:  glove.840B.300d.zip\n",
      "  inflating: glove.840B.300d.txt     \n"
     ]
    }
   ],
   "source": [
    "!unzip glove.6B.zip\n",
    "!unzip glove.840B.300d.zip"
   ]
  },
  {
   "cell_type": "code",
   "execution_count": 50,
   "metadata": {},
   "outputs": [
    {
     "name": "stdout",
     "output_type": "stream",
     "text": [
      "total examples 7000\n"
     ]
    },
    {
     "name": "stderr",
     "output_type": "stream",
     "text": [
      "/home/schakraverty/anaconda3/lib/python3.5/site-packages/ipykernel_launcher.py:56: DeprecationWarning: Call to deprecated `syn0` (Attribute will be removed in 4.0.0, use self.vectors instead).\n"
     ]
    },
    {
     "name": "stdout",
     "output_type": "stream",
     "text": [
      "model            score\n",
      "-------------  -------\n",
      "bern_nb         0.3811\n",
      "bern_nb_tfidf   0.3811\n",
      "mult_nb         0.3849\n",
      "mult_nb_tfidf   0.3349\n",
      "svc             0.3554\n",
      "svc_tfidf       0.3960\n"
     ]
    }
   ],
   "source": [
    "# Song word to vector\n",
    "\n",
    "GLOVE_6B_50D_PATH = \"glove.6B.50d.txt\"\n",
    "GLOVE_840B_300D_PATH = \"glove.840B.300d.txt\"\n",
    "\n",
    "f = open(\"multiclass.txt\", \"w\")\n",
    "\n",
    "df = pd.read_csv('lyrics_final.csv')\n",
    "df.replace('?', -9999999, inplace=True)\n",
    "\n",
    "df.drop(['index'],1, inplace=True)\n",
    "labels = []\n",
    "text = []\n",
    "\n",
    "for index, row in df.iterrows():\n",
    "    labels.append(row[0])\n",
    "    words = row[1].split()\n",
    "    text.append(words)\n",
    "\n",
    "#print(labels)\n",
    "\n",
    "X, y = np.array(text), np.array(labels)\n",
    "print(\"total examples %s\" % len(y))\n",
    "\n",
    "with open(GLOVE_6B_50D_PATH, \"rb\") as lines:\n",
    "    word2vec = {line.split()[0]: np.array(map(float, line.split()[1:]))\n",
    "               for line in lines}\n",
    "\n",
    "# reading glove files, this may take a while\n",
    "# we're reading line by line and only saving vectors\n",
    "# that correspond to words from our training set\n",
    "\n",
    "\n",
    "glove_small = {}\n",
    "all_words = set(w for words in X for w in words)\n",
    "with open(GLOVE_6B_50D_PATH, \"rb\") as infile:\n",
    "    for line in infile:\n",
    "        parts = line.split()\n",
    "        word = parts[0]\n",
    "        nums = map(float, parts[1:])\n",
    "        if word in all_words:\n",
    "            glove_small[word] = np.array(nums)\n",
    "            \n",
    "glove_big = {}\n",
    "with open(GLOVE_840B_300D_PATH, \"rb\") as infile:\n",
    "    for line in infile:\n",
    "        parts = line.split()\n",
    "        word = parts[0]\n",
    "        nums = map(float, parts[1:])\n",
    "        if word in all_words:\n",
    "            glove_big[word] = np.array(nums)\n",
    "\n",
    "# train word2vec on all the texts - both training and test set\n",
    "# we're not using test labels, just texts so this is fine\n",
    "model = Word2Vec(X, size=100, window=5, min_count=5, workers=2)\n",
    "w2v = {w: vec for w, vec in zip(model.wv.index2word, model.wv.syn0)}\n",
    "\n",
    "# start with the classics - naive bayes of the multinomial and bernoulli varieties\n",
    "# with either pure counts or tfidf features\n",
    "mult_nb = Pipeline([(\"count_vectorizer\", CountVectorizer(analyzer=lambda x: x)), (\"multinomial nb\", MultinomialNB())])\n",
    "bern_nb = Pipeline([(\"count_vectorizer\", CountVectorizer(analyzer=lambda x: x)), (\"bernoulli nb\", BernoulliNB())])\n",
    "mult_nb_tfidf = Pipeline([(\"tfidf_vectorizer\", TfidfVectorizer(analyzer=lambda x: x)), (\"multinomial nb\", MultinomialNB())])\n",
    "bern_nb_tfidf = Pipeline([(\"tfidf_vectorizer\", TfidfVectorizer(analyzer=lambda x: x)), (\"bernoulli nb\", BernoulliNB())])\n",
    "# SVM - which is supposed to be more or less state of the art \n",
    "# http://www.cs.cornell.edu/people/tj/publications/joachims_98a.pdf\n",
    "svc = Pipeline([(\"count_vectorizer\", CountVectorizer(analyzer=lambda x: x)), (\"linear svc\", SVC(kernel=\"linear\"))])\n",
    "svc_tfidf = Pipeline([(\"tfidf_vectorizer\", TfidfVectorizer(analyzer=lambda x: x)), (\"linear svc\", SVC(kernel=\"linear\"))])\n",
    "\n",
    "\n",
    "all_models = [\n",
    "    (\"mult_nb\", mult_nb),\n",
    "    (\"mult_nb_tfidf\", mult_nb_tfidf),\n",
    "    (\"bern_nb\", bern_nb),\n",
    "    (\"bern_nb_tfidf\", bern_nb_tfidf),\n",
    "    (\"svc\", svc),\n",
    "    (\"svc_tfidf\", svc_tfidf)\n",
    "]\n",
    "scores = sorted([(name, cross_val_score(model, X, y, cv=5).mean()) \n",
    "                 for name, model in all_models])\n",
    "print(tabulate(scores, floatfmt=\".4f\", headers=(\"model\", 'score')))"
   ]
  },
  {
   "cell_type": "code",
   "execution_count": 49,
   "metadata": {},
   "outputs": [],
   "source": []
  },
  {
   "cell_type": "code",
   "execution_count": 53,
   "metadata": {},
   "outputs": [
    {
     "name": "stdout",
     "output_type": "stream",
     "text": [
      "Indexing word vectors.\n",
      "Found 400000 word vectors.\n",
      "Processing text dataset\n",
      "Found 5000 texts.\n",
      "Found 39061 unique tokens.\n",
      "Shape of data tensor: (5000, 1000)\n",
      "Shape of label tensor: (5000, 5)\n"
     ]
    },
    {
     "name": "stderr",
     "output_type": "stream",
     "text": [
      "WARNING: Logging before flag parsing goes to stderr.\n",
      "W0714 08:37:51.738897 139890629416704 deprecation_wrapper.py:119] From /home/schakraverty/anaconda3/lib/python3.5/site-packages/keras/backend/tensorflow_backend.py:74: The name tf.get_default_graph is deprecated. Please use tf.compat.v1.get_default_graph instead.\n",
      "\n",
      "W0714 08:37:51.770836 139890629416704 deprecation_wrapper.py:119] From /home/schakraverty/anaconda3/lib/python3.5/site-packages/keras/backend/tensorflow_backend.py:517: The name tf.placeholder is deprecated. Please use tf.compat.v1.placeholder instead.\n",
      "\n",
      "W0714 08:37:51.777314 139890629416704 deprecation_wrapper.py:119] From /home/schakraverty/anaconda3/lib/python3.5/site-packages/keras/backend/tensorflow_backend.py:4138: The name tf.random_uniform is deprecated. Please use tf.random.uniform instead.\n",
      "\n",
      "W0714 08:37:51.790424 139890629416704 deprecation_wrapper.py:119] From /home/schakraverty/anaconda3/lib/python3.5/site-packages/keras/backend/tensorflow_backend.py:174: The name tf.get_default_session is deprecated. Please use tf.compat.v1.get_default_session instead.\n",
      "\n",
      "W0714 08:37:51.792008 139890629416704 deprecation_wrapper.py:119] From /home/schakraverty/anaconda3/lib/python3.5/site-packages/keras/backend/tensorflow_backend.py:181: The name tf.ConfigProto is deprecated. Please use tf.compat.v1.ConfigProto instead.\n",
      "\n"
     ]
    },
    {
     "name": "stdout",
     "output_type": "stream",
     "text": [
      "Preparing embedding matrix.\n",
      "Training model.\n"
     ]
    },
    {
     "name": "stderr",
     "output_type": "stream",
     "text": [
      "W0714 08:37:51.902581 139890629416704 deprecation_wrapper.py:119] From /home/schakraverty/anaconda3/lib/python3.5/site-packages/keras/backend/tensorflow_backend.py:3976: The name tf.nn.max_pool is deprecated. Please use tf.nn.max_pool2d instead.\n",
      "\n",
      "W0714 08:37:51.914178 139890629416704 deprecation.py:506] From /home/schakraverty/anaconda3/lib/python3.5/site-packages/keras/backend/tensorflow_backend.py:3445: calling dropout (from tensorflow.python.ops.nn_ops) with keep_prob is deprecated and will be removed in a future version.\n",
      "Instructions for updating:\n",
      "Please use `rate` instead of `keep_prob`. Rate should be set to `rate = 1 - keep_prob`.\n",
      "W0714 08:37:52.062066 139890629416704 deprecation_wrapper.py:119] From /home/schakraverty/anaconda3/lib/python3.5/site-packages/keras/optimizers.py:790: The name tf.train.Optimizer is deprecated. Please use tf.compat.v1.train.Optimizer instead.\n",
      "\n",
      "W0714 08:37:52.192745 139890629416704 deprecation.py:323] From /home/schakraverty/anaconda3/lib/python3.5/site-packages/tensorflow/python/ops/math_grad.py:1250: add_dispatch_support.<locals>.wrapper (from tensorflow.python.ops.array_ops) is deprecated and will be removed in a future version.\n",
      "Instructions for updating:\n",
      "Use tf.where in 2.0, which has the same broadcast rule as np.where\n"
     ]
    },
    {
     "name": "stdout",
     "output_type": "stream",
     "text": [
      "Train on 4000 samples, validate on 1000 samples\n",
      "Epoch 1/100\n",
      "4000/4000 [==============================] - 9s 2ms/step - loss: 1.6759 - acc: 0.2945 - val_loss: 1.5184 - val_acc: 0.2970\n",
      "Epoch 2/100\n",
      "4000/4000 [==============================] - 8s 2ms/step - loss: 1.4639 - acc: 0.3448 - val_loss: 1.5063 - val_acc: 0.2860\n",
      "Epoch 3/100\n",
      "4000/4000 [==============================] - 8s 2ms/step - loss: 1.3628 - acc: 0.3927 - val_loss: 1.3139 - val_acc: 0.3990\n",
      "Epoch 4/100\n",
      "4000/4000 [==============================] - 7s 2ms/step - loss: 1.2946 - acc: 0.4318 - val_loss: 1.2182 - val_acc: 0.4670\n",
      "Epoch 5/100\n",
      "4000/4000 [==============================] - 7s 2ms/step - loss: 1.2321 - acc: 0.4682 - val_loss: 1.3565 - val_acc: 0.4050\n",
      "Epoch 6/100\n",
      "4000/4000 [==============================] - 8s 2ms/step - loss: 1.2098 - acc: 0.4798 - val_loss: 1.1943 - val_acc: 0.4660\n",
      "Epoch 7/100\n",
      "4000/4000 [==============================] - 8s 2ms/step - loss: 1.1441 - acc: 0.5075 - val_loss: 1.2018 - val_acc: 0.4810\n",
      "Epoch 8/100\n",
      "4000/4000 [==============================] - 7s 2ms/step - loss: 1.1192 - acc: 0.5235 - val_loss: 1.1599 - val_acc: 0.4870\n",
      "Epoch 9/100\n",
      "4000/4000 [==============================] - 7s 2ms/step - loss: 1.0642 - acc: 0.5577 - val_loss: 1.1228 - val_acc: 0.5030\n",
      "Epoch 10/100\n",
      "4000/4000 [==============================] - 7s 2ms/step - loss: 1.0203 - acc: 0.5787 - val_loss: 1.1525 - val_acc: 0.5030\n",
      "Epoch 11/100\n",
      "4000/4000 [==============================] - 7s 2ms/step - loss: 0.9826 - acc: 0.6100 - val_loss: 1.0835 - val_acc: 0.5660\n",
      "Epoch 12/100\n",
      "4000/4000 [==============================] - 7s 2ms/step - loss: 0.9486 - acc: 0.6158 - val_loss: 1.1614 - val_acc: 0.5230\n",
      "Epoch 13/100\n",
      "4000/4000 [==============================] - 7s 2ms/step - loss: 0.8817 - acc: 0.6467 - val_loss: 1.1597 - val_acc: 0.5340\n",
      "Epoch 14/100\n",
      "4000/4000 [==============================] - 7s 2ms/step - loss: 0.8455 - acc: 0.6785 - val_loss: 1.1515 - val_acc: 0.5190\n",
      "Epoch 15/100\n",
      "4000/4000 [==============================] - 7s 2ms/step - loss: 0.7967 - acc: 0.6937 - val_loss: 1.1944 - val_acc: 0.5510\n",
      "Epoch 16/100\n",
      "4000/4000 [==============================] - 7s 2ms/step - loss: 0.7774 - acc: 0.6905 - val_loss: 1.2719 - val_acc: 0.4910\n",
      "Epoch 17/100\n",
      "4000/4000 [==============================] - 7s 2ms/step - loss: 0.7293 - acc: 0.7208 - val_loss: 1.0932 - val_acc: 0.5560\n",
      "Epoch 18/100\n",
      "4000/4000 [==============================] - 8s 2ms/step - loss: 0.6476 - acc: 0.7620 - val_loss: 1.0972 - val_acc: 0.5750\n",
      "Epoch 19/100\n",
      "4000/4000 [==============================] - 8s 2ms/step - loss: 0.6293 - acc: 0.7678 - val_loss: 1.0430 - val_acc: 0.5770\n",
      "Epoch 20/100\n",
      "4000/4000 [==============================] - 7s 2ms/step - loss: 0.5707 - acc: 0.7812 - val_loss: 1.2113 - val_acc: 0.5300\n",
      "Epoch 21/100\n",
      "4000/4000 [==============================] - 7s 2ms/step - loss: 0.5432 - acc: 0.7950 - val_loss: 1.2285 - val_acc: 0.5350\n",
      "Epoch 22/100\n",
      "4000/4000 [==============================] - 7s 2ms/step - loss: 0.5001 - acc: 0.8195 - val_loss: 1.2436 - val_acc: 0.5500\n",
      "Epoch 23/100\n",
      "4000/4000 [==============================] - 7s 2ms/step - loss: 0.4417 - acc: 0.8425 - val_loss: 1.1426 - val_acc: 0.6000\n",
      "Epoch 24/100\n",
      "4000/4000 [==============================] - 7s 2ms/step - loss: 0.4079 - acc: 0.8582 - val_loss: 1.4750 - val_acc: 0.5180\n",
      "Epoch 25/100\n",
      "4000/4000 [==============================] - 8s 2ms/step - loss: 0.4002 - acc: 0.8713 - val_loss: 1.2240 - val_acc: 0.5930\n",
      "Epoch 26/100\n",
      "4000/4000 [==============================] - 8s 2ms/step - loss: 0.3284 - acc: 0.8872 - val_loss: 1.3205 - val_acc: 0.5700\n",
      "Epoch 27/100\n",
      "4000/4000 [==============================] - 8s 2ms/step - loss: 0.3280 - acc: 0.8872 - val_loss: 1.6395 - val_acc: 0.5280\n",
      "Epoch 28/100\n",
      "4000/4000 [==============================] - 8s 2ms/step - loss: 0.3371 - acc: 0.8975 - val_loss: 1.5795 - val_acc: 0.5140\n",
      "Epoch 29/100\n",
      "4000/4000 [==============================] - 8s 2ms/step - loss: 0.2356 - acc: 0.9263 - val_loss: 1.3725 - val_acc: 0.6030\n",
      "Epoch 30/100\n",
      "4000/4000 [==============================] - 7s 2ms/step - loss: 0.2969 - acc: 0.9000 - val_loss: 1.3786 - val_acc: 0.5680\n",
      "Epoch 31/100\n",
      "4000/4000 [==============================] - 7s 2ms/step - loss: 0.2164 - acc: 0.9373 - val_loss: 1.8773 - val_acc: 0.5290\n",
      "Epoch 32/100\n",
      "4000/4000 [==============================] - 8s 2ms/step - loss: 0.2149 - acc: 0.9380 - val_loss: 1.6152 - val_acc: 0.5410\n",
      "Epoch 33/100\n",
      "4000/4000 [==============================] - 7s 2ms/step - loss: 0.2560 - acc: 0.9170 - val_loss: 1.2880 - val_acc: 0.5510\n",
      "Epoch 34/100\n",
      "4000/4000 [==============================] - 7s 2ms/step - loss: 0.1436 - acc: 0.9592 - val_loss: 1.8823 - val_acc: 0.5350\n",
      "Epoch 35/100\n",
      "4000/4000 [==============================] - 7s 2ms/step - loss: 0.2131 - acc: 0.9370 - val_loss: 1.4150 - val_acc: 0.5750\n",
      "Epoch 36/100\n",
      "4000/4000 [==============================] - 7s 2ms/step - loss: 0.2487 - acc: 0.9285 - val_loss: 1.6046 - val_acc: 0.5850\n",
      "Epoch 37/100\n",
      "4000/4000 [==============================] - 7s 2ms/step - loss: 0.1596 - acc: 0.9500 - val_loss: 1.6341 - val_acc: 0.5690\n",
      "Epoch 38/100\n",
      "4000/4000 [==============================] - 7s 2ms/step - loss: 0.2039 - acc: 0.9355 - val_loss: 1.3625 - val_acc: 0.5930\n",
      "Epoch 39/100\n",
      "4000/4000 [==============================] - 7s 2ms/step - loss: 0.1429 - acc: 0.9635 - val_loss: 1.9805 - val_acc: 0.5630\n",
      "Epoch 40/100\n",
      "4000/4000 [==============================] - 7s 2ms/step - loss: 0.1717 - acc: 0.9417 - val_loss: 1.5666 - val_acc: 0.6140\n",
      "Epoch 41/100\n",
      "4000/4000 [==============================] - 7s 2ms/step - loss: 0.1697 - acc: 0.9555 - val_loss: 1.6266 - val_acc: 0.6070\n",
      "Epoch 42/100\n",
      "4000/4000 [==============================] - 8s 2ms/step - loss: 0.1339 - acc: 0.9597 - val_loss: 2.0185 - val_acc: 0.4770\n",
      "Epoch 43/100\n",
      "4000/4000 [==============================] - 8s 2ms/step - loss: 0.1234 - acc: 0.9665 - val_loss: 2.4077 - val_acc: 0.5210\n",
      "Epoch 44/100\n",
      "4000/4000 [==============================] - 8s 2ms/step - loss: 0.1584 - acc: 0.9595 - val_loss: 1.6995 - val_acc: 0.5520\n",
      "Epoch 45/100\n",
      "4000/4000 [==============================] - 7s 2ms/step - loss: 0.1545 - acc: 0.9547 - val_loss: 1.5117 - val_acc: 0.5600\n",
      "Epoch 46/100\n",
      "4000/4000 [==============================] - 7s 2ms/step - loss: 0.0944 - acc: 0.9693 - val_loss: 4.1246 - val_acc: 0.4490\n",
      "Epoch 47/100\n",
      "4000/4000 [==============================] - 7s 2ms/step - loss: 0.2363 - acc: 0.9463 - val_loss: 2.0562 - val_acc: 0.5420\n",
      "Epoch 48/100\n",
      "4000/4000 [==============================] - 7s 2ms/step - loss: 0.1005 - acc: 0.9670 - val_loss: 1.6233 - val_acc: 0.5820\n",
      "Epoch 49/100\n",
      "4000/4000 [==============================] - 7s 2ms/step - loss: 0.1173 - acc: 0.9667 - val_loss: 1.6743 - val_acc: 0.6130\n",
      "Epoch 50/100\n",
      "4000/4000 [==============================] - 7s 2ms/step - loss: 0.1239 - acc: 0.9617 - val_loss: 1.6739 - val_acc: 0.5880\n",
      "Epoch 51/100\n",
      "4000/4000 [==============================] - 7s 2ms/step - loss: 0.1006 - acc: 0.9682 - val_loss: 2.1732 - val_acc: 0.5380\n",
      "Epoch 52/100\n",
      "4000/4000 [==============================] - 7s 2ms/step - loss: 0.1548 - acc: 0.9530 - val_loss: 1.5656 - val_acc: 0.5820\n",
      "Epoch 53/100\n",
      "4000/4000 [==============================] - 7s 2ms/step - loss: 0.1008 - acc: 0.9723 - val_loss: 1.6798 - val_acc: 0.5860\n",
      "Epoch 54/100\n",
      "4000/4000 [==============================] - 7s 2ms/step - loss: 0.1112 - acc: 0.9643 - val_loss: 1.8877 - val_acc: 0.5880\n",
      "Epoch 55/100\n",
      "4000/4000 [==============================] - 7s 2ms/step - loss: 0.1420 - acc: 0.9647 - val_loss: 2.2688 - val_acc: 0.5370\n",
      "Epoch 56/100\n",
      "4000/4000 [==============================] - 7s 2ms/step - loss: 0.0458 - acc: 0.9878 - val_loss: 2.2136 - val_acc: 0.5440\n",
      "Epoch 57/100\n",
      "4000/4000 [==============================] - 7s 2ms/step - loss: 0.1764 - acc: 0.9527 - val_loss: 1.5921 - val_acc: 0.5750\n",
      "Epoch 58/100\n",
      "4000/4000 [==============================] - 7s 2ms/step - loss: 0.0281 - acc: 0.9933 - val_loss: 1.7654 - val_acc: 0.5970\n",
      "Epoch 59/100\n",
      "4000/4000 [==============================] - 7s 2ms/step - loss: 0.1338 - acc: 0.9652 - val_loss: 1.7861 - val_acc: 0.5730\n",
      "Epoch 60/100\n",
      "4000/4000 [==============================] - 8s 2ms/step - loss: 0.1444 - acc: 0.9600 - val_loss: 1.6619 - val_acc: 0.5550\n"
     ]
    },
    {
     "name": "stdout",
     "output_type": "stream",
     "text": [
      "Epoch 61/100\n",
      "4000/4000 [==============================] - 8s 2ms/step - loss: 0.1332 - acc: 0.9677 - val_loss: 1.6184 - val_acc: 0.5880\n",
      "Epoch 62/100\n",
      "4000/4000 [==============================] - 7s 2ms/step - loss: 0.1052 - acc: 0.9775 - val_loss: 1.6628 - val_acc: 0.5670\n",
      "Epoch 63/100\n",
      "4000/4000 [==============================] - 7s 2ms/step - loss: 0.0504 - acc: 0.9830 - val_loss: 2.0456 - val_acc: 0.5510\n",
      "Epoch 64/100\n",
      "4000/4000 [==============================] - 7s 2ms/step - loss: 0.1117 - acc: 0.9725 - val_loss: 2.6787 - val_acc: 0.5410\n",
      "Epoch 65/100\n",
      "4000/4000 [==============================] - 7s 2ms/step - loss: 0.0570 - acc: 0.9822 - val_loss: 2.2585 - val_acc: 0.5670\n",
      "Epoch 66/100\n",
      "4000/4000 [==============================] - 7s 2ms/step - loss: 0.0498 - acc: 0.9850 - val_loss: 2.9544 - val_acc: 0.5180\n",
      "Epoch 67/100\n",
      "4000/4000 [==============================] - 7s 2ms/step - loss: 0.0769 - acc: 0.9762 - val_loss: 2.2574 - val_acc: 0.5840\n",
      "Epoch 68/100\n",
      "4000/4000 [==============================] - 7s 2ms/step - loss: 0.0805 - acc: 0.9770 - val_loss: 2.0186 - val_acc: 0.5750\n",
      "Epoch 69/100\n",
      "4000/4000 [==============================] - 7s 2ms/step - loss: 0.1151 - acc: 0.9730 - val_loss: 1.9092 - val_acc: 0.5950\n",
      "Epoch 70/100\n",
      "4000/4000 [==============================] - 7s 2ms/step - loss: 0.1110 - acc: 0.9732 - val_loss: 1.9500 - val_acc: 0.5920\n",
      "Epoch 71/100\n",
      "4000/4000 [==============================] - 7s 2ms/step - loss: 0.1188 - acc: 0.9663 - val_loss: 1.8098 - val_acc: 0.5830\n",
      "Epoch 72/100\n",
      "4000/4000 [==============================] - 7s 2ms/step - loss: 0.0683 - acc: 0.9805 - val_loss: 1.9894 - val_acc: 0.5640\n",
      "Epoch 73/100\n",
      "4000/4000 [==============================] - 7s 2ms/step - loss: 0.1085 - acc: 0.9712 - val_loss: 1.8933 - val_acc: 0.5850\n",
      "Epoch 74/100\n",
      "4000/4000 [==============================] - 7s 2ms/step - loss: 0.1555 - acc: 0.9688 - val_loss: 1.8262 - val_acc: 0.5990\n",
      "Epoch 75/100\n",
      "4000/4000 [==============================] - 7s 2ms/step - loss: 0.0275 - acc: 0.9922 - val_loss: 1.9919 - val_acc: 0.5810\n",
      "Epoch 76/100\n",
      "4000/4000 [==============================] - 7s 2ms/step - loss: 0.1547 - acc: 0.9675 - val_loss: 2.0345 - val_acc: 0.5840\n",
      "Epoch 77/100\n",
      "4000/4000 [==============================] - 7s 2ms/step - loss: 0.1374 - acc: 0.9627 - val_loss: 2.0898 - val_acc: 0.5790\n",
      "Epoch 78/100\n",
      "4000/4000 [==============================] - 7s 2ms/step - loss: 0.0435 - acc: 0.9870 - val_loss: 1.8366 - val_acc: 0.5940\n",
      "Epoch 79/100\n",
      "4000/4000 [==============================] - 7s 2ms/step - loss: 0.0852 - acc: 0.9715 - val_loss: 1.8068 - val_acc: 0.5790\n",
      "Epoch 80/100\n",
      "4000/4000 [==============================] - 7s 2ms/step - loss: 0.0562 - acc: 0.9828 - val_loss: 2.1111 - val_acc: 0.5860\n",
      "Epoch 81/100\n",
      "4000/4000 [==============================] - 7s 2ms/step - loss: 0.0966 - acc: 0.9730 - val_loss: 1.8945 - val_acc: 0.5840\n",
      "Epoch 82/100\n",
      "4000/4000 [==============================] - 7s 2ms/step - loss: 0.0448 - acc: 0.9870 - val_loss: 2.4499 - val_acc: 0.5580\n",
      "Epoch 83/100\n",
      "4000/4000 [==============================] - 7s 2ms/step - loss: 0.0750 - acc: 0.9795 - val_loss: 1.8174 - val_acc: 0.5910\n",
      "Epoch 84/100\n",
      "4000/4000 [==============================] - 7s 2ms/step - loss: 0.0593 - acc: 0.9810 - val_loss: 2.3589 - val_acc: 0.5810\n",
      "Epoch 85/100\n",
      "4000/4000 [==============================] - 7s 2ms/step - loss: 0.0553 - acc: 0.9818 - val_loss: 1.9944 - val_acc: 0.5980\n",
      "Epoch 86/100\n",
      "4000/4000 [==============================] - 8s 2ms/step - loss: 0.0480 - acc: 0.9848 - val_loss: 1.9847 - val_acc: 0.5910\n",
      "Epoch 87/100\n",
      "4000/4000 [==============================] - 7s 2ms/step - loss: 0.0845 - acc: 0.9753 - val_loss: 2.0135 - val_acc: 0.5800\n",
      "Epoch 88/100\n",
      "4000/4000 [==============================] - 7s 2ms/step - loss: 0.0347 - acc: 0.9898 - val_loss: 2.1062 - val_acc: 0.5860\n",
      "Epoch 89/100\n",
      "4000/4000 [==============================] - 7s 2ms/step - loss: 0.0805 - acc: 0.9758 - val_loss: 2.3225 - val_acc: 0.5900\n",
      "Epoch 90/100\n",
      "4000/4000 [==============================] - 7s 2ms/step - loss: 0.0761 - acc: 0.9770 - val_loss: 2.0182 - val_acc: 0.5850\n",
      "Epoch 91/100\n",
      "4000/4000 [==============================] - 7s 2ms/step - loss: 0.0478 - acc: 0.9835 - val_loss: 2.5285 - val_acc: 0.5270\n",
      "Epoch 92/100\n",
      "4000/4000 [==============================] - 7s 2ms/step - loss: 0.0427 - acc: 0.9860 - val_loss: 2.5674 - val_acc: 0.5620\n",
      "Epoch 93/100\n",
      "4000/4000 [==============================] - 7s 2ms/step - loss: 0.0806 - acc: 0.9790 - val_loss: 2.0331 - val_acc: 0.5820\n",
      "Epoch 94/100\n",
      "4000/4000 [==============================] - 7s 2ms/step - loss: 0.0817 - acc: 0.9772 - val_loss: 2.1037 - val_acc: 0.6040\n",
      "Epoch 95/100\n",
      "4000/4000 [==============================] - 7s 2ms/step - loss: 0.0800 - acc: 0.9800 - val_loss: 1.9557 - val_acc: 0.5900\n",
      "Epoch 96/100\n",
      "4000/4000 [==============================] - 7s 2ms/step - loss: 0.0562 - acc: 0.9820 - val_loss: 2.0815 - val_acc: 0.5990\n",
      "Epoch 97/100\n",
      "4000/4000 [==============================] - 7s 2ms/step - loss: 0.0695 - acc: 0.9785 - val_loss: 2.1520 - val_acc: 0.5870\n",
      "Epoch 98/100\n",
      "4000/4000 [==============================] - 7s 2ms/step - loss: 0.0714 - acc: 0.9785 - val_loss: 2.1854 - val_acc: 0.5750\n",
      "Epoch 99/100\n",
      "4000/4000 [==============================] - 7s 2ms/step - loss: 0.0287 - acc: 0.9905 - val_loss: 2.0774 - val_acc: 0.5870\n",
      "Epoch 100/100\n",
      "4000/4000 [==============================] - 7s 2ms/step - loss: 0.0571 - acc: 0.9822 - val_loss: 2.1119 - val_acc: 0.5790\n",
      "Test loss: 2.111938522338867\n",
      "Test accuracy: 0.579\n"
     ]
    },
    {
     "name": "stderr",
     "output_type": "stream",
     "text": [
      "/home/schakraverty/anaconda3/lib/python3.5/site-packages/ipykernel_launcher.py:148: UserWarning: Update your `Conv1D` call to the Keras 2 API: `Conv1D(kernel_size=3, filters=128, activation=\"relu\")`\n",
      "/home/schakraverty/anaconda3/lib/python3.5/site-packages/ipykernel_launcher.py:148: UserWarning: Update your `Conv1D` call to the Keras 2 API: `Conv1D(kernel_size=4, filters=128, activation=\"relu\")`\n",
      "/home/schakraverty/anaconda3/lib/python3.5/site-packages/ipykernel_launcher.py:148: UserWarning: Update your `Conv1D` call to the Keras 2 API: `Conv1D(kernel_size=5, filters=128, activation=\"relu\")`\n"
     ]
    },
    {
     "ename": "NameError",
     "evalue": "name 'Merge' is not defined",
     "output_type": "error",
     "traceback": [
      "\u001b[0;31m---------------------------------------------------------------------------\u001b[0m",
      "\u001b[0;31mNameError\u001b[0m                                 Traceback (most recent call last)",
      "\u001b[0;32m<ipython-input-53-5939da98d6f3>\u001b[0m in \u001b[0;36m<module>\u001b[0;34m()\u001b[0m\n\u001b[1;32m    150\u001b[0m     \u001b[0mconvs\u001b[0m\u001b[0;34m.\u001b[0m\u001b[0mappend\u001b[0m\u001b[0;34m(\u001b[0m\u001b[0ml_pool\u001b[0m\u001b[0;34m)\u001b[0m\u001b[0;34m\u001b[0m\u001b[0m\n\u001b[1;32m    151\u001b[0m \u001b[0;34m\u001b[0m\u001b[0m\n\u001b[0;32m--> 152\u001b[0;31m \u001b[0ml_merge\u001b[0m \u001b[0;34m=\u001b[0m \u001b[0mMerge\u001b[0m\u001b[0;34m(\u001b[0m\u001b[0mmode\u001b[0m\u001b[0;34m=\u001b[0m\u001b[0;34m'concat'\u001b[0m\u001b[0;34m,\u001b[0m \u001b[0mconcat_axis\u001b[0m\u001b[0;34m=\u001b[0m\u001b[0;36m1\u001b[0m\u001b[0;34m)\u001b[0m\u001b[0;34m(\u001b[0m\u001b[0mconvs\u001b[0m\u001b[0;34m)\u001b[0m\u001b[0;34m\u001b[0m\u001b[0m\n\u001b[0m\u001b[1;32m    153\u001b[0m \u001b[0ml_cov1\u001b[0m\u001b[0;34m=\u001b[0m \u001b[0mConv1D\u001b[0m\u001b[0;34m(\u001b[0m\u001b[0;36m128\u001b[0m\u001b[0;34m,\u001b[0m \u001b[0;36m5\u001b[0m\u001b[0;34m,\u001b[0m \u001b[0mactivation\u001b[0m\u001b[0;34m=\u001b[0m\u001b[0;34m'relu'\u001b[0m\u001b[0;34m)\u001b[0m\u001b[0;34m(\u001b[0m\u001b[0ml_merge\u001b[0m\u001b[0;34m)\u001b[0m\u001b[0;34m\u001b[0m\u001b[0m\n\u001b[1;32m    154\u001b[0m \u001b[0ml_pool1\u001b[0m \u001b[0;34m=\u001b[0m \u001b[0mMaxPooling1D\u001b[0m\u001b[0;34m(\u001b[0m\u001b[0;36m5\u001b[0m\u001b[0;34m)\u001b[0m\u001b[0;34m(\u001b[0m\u001b[0ml_cov1\u001b[0m\u001b[0;34m)\u001b[0m\u001b[0;34m\u001b[0m\u001b[0m\n",
      "\u001b[0;31mNameError\u001b[0m: name 'Merge' is not defined"
     ]
    }
   ],
   "source": [
    "# CNN approach\n",
    "\n",
    "BASE_DIR = ''\n",
    "GLOVE_DIR = BASE_DIR\n",
    "TEXT_DATA_DIR = os.path.join(BASE_DIR, 'genres_data')\n",
    "MAX_SEQUENCE_LENGTH = 1000\n",
    "MAX_NUM_WORDS = 20000\n",
    "EMBEDDING_DIM = 100\n",
    "VALIDATION_SPLIT = 0.2\n",
    "learning_rate = .0000001\n",
    "max_grad_norm = 1.\n",
    "dropout = 0.5\n",
    "\n",
    "# first, build index mapping words in the embeddings set\n",
    "# to their embedding vector\n",
    "\n",
    "print('Indexing word vectors.')\n",
    "\n",
    "embeddings_index = {}\n",
    "f = open(os.path.join(GLOVE_DIR, 'glove.6B.100d.txt'))\n",
    "for line in f:\n",
    "    values = line.split()\n",
    "    word = values[0]\n",
    "    coefs = np.asarray(values[1:], dtype='float32')\n",
    "    embeddings_index[word] = coefs\n",
    "f.close()\n",
    "\n",
    "print('Found %s word vectors.' % len(embeddings_index))\n",
    "\n",
    "# second, prepare text samples and their labels\n",
    "print('Processing text dataset')\n",
    "\n",
    "texts = []  # list of text samples\n",
    "labels_index = {}  # dictionary mapping label name to numeric id\n",
    "labels = []  # list of label ids\n",
    "for name in sorted(os.listdir(TEXT_DATA_DIR)):\n",
    "    path = os.path.join(TEXT_DATA_DIR, name)\n",
    "    if os.path.isdir(path):\n",
    "        label_id = len(labels_index)\n",
    "        labels_index[name] = label_id\n",
    "        for fname in sorted(os.listdir(path)):\n",
    "            if fname.isdigit():\n",
    "                fpath = os.path.join(path, fname)\n",
    "                if sys.version_info < (3,):\n",
    "                    f = open(fpath)\n",
    "                else:\n",
    "                    f = open(fpath, encoding='latin-1')\n",
    "                t = f.read()\n",
    "                i = t.find('\\n\\n')  # skip header\n",
    "                if 0 < i:\n",
    "                    t = t[i:]\n",
    "                texts.append(t)\n",
    "                f.close()\n",
    "                labels.append(label_id)\n",
    "\n",
    "print('Found %s texts.' % len(texts))\n",
    "\n",
    "# finally, vectorize the text samples into a 2D integer tensor\n",
    "tokenizer = Tokenizer(num_words=MAX_NUM_WORDS)\n",
    "tokenizer.fit_on_texts(texts)\n",
    "sequences = tokenizer.texts_to_sequences(texts)\n",
    "\n",
    "word_index = tokenizer.word_index\n",
    "print('Found %s unique tokens.' % len(word_index))\n",
    "\n",
    "data = pad_sequences(sequences, maxlen=MAX_SEQUENCE_LENGTH)\n",
    "\n",
    "labels = to_categorical(np.asarray(labels))\n",
    "print('Shape of data tensor:', data.shape)\n",
    "print('Shape of label tensor:', labels.shape)\n",
    "\n",
    "# split the data into a training set and a validation set\n",
    "indices = np.arange(data.shape[0])\n",
    "np.random.shuffle(indices)\n",
    "data = data[indices]\n",
    "labels = labels[indices]\n",
    "num_validation_samples = int(VALIDATION_SPLIT * data.shape[0])\n",
    "\n",
    "x_train = data[:-num_validation_samples]\n",
    "y_train = labels[:-num_validation_samples]\n",
    "x_val = data[-num_validation_samples:]\n",
    "y_val = labels[-num_validation_samples:]\n",
    "\n",
    "print('Preparing embedding matrix.')\n",
    "\n",
    "# prepare embedding matrix\n",
    "num_words = min(MAX_NUM_WORDS, len(word_index))\n",
    "embedding_matrix = np.zeros((num_words, EMBEDDING_DIM))\n",
    "for word, i in word_index.items():\n",
    "    if i >= MAX_NUM_WORDS:\n",
    "        continue\n",
    "    embedding_vector = embeddings_index.get(word)\n",
    "    if embedding_vector is not None:\n",
    "        # words not found in embedding index will be all-zeros.\n",
    "        embedding_matrix[i] = embedding_vector\n",
    "\n",
    "# load pre-trained word embeddings into an Embedding layer\n",
    "# note that we set trainable = False so as to keep the embeddings fixed\n",
    "embedding_layer = Embedding(num_words,\n",
    "                            EMBEDDING_DIM,\n",
    "                            weights=[embedding_matrix],\n",
    "                            input_length=MAX_SEQUENCE_LENGTH,\n",
    "                            trainable=False)\n",
    "\n",
    "print('Training model.')\n",
    "\n",
    "# train a 1D convnet with global maxpooling\n",
    "\n",
    "sequence_input = Input(shape=(MAX_SEQUENCE_LENGTH,), dtype='int32')\n",
    "embedded_sequences = embedding_layer(sequence_input)\n",
    "\n",
    "#Model 1\n",
    "l_cov1= Conv1D(128, 5, activation='relu')(embedded_sequences)\n",
    "l_pool1 = MaxPooling1D(5)(l_cov1)\n",
    "l_drop1= Dropout(0.2)(l_pool1)\n",
    "l_cov2 = Conv1D(128, 5, activation='relu')(l_drop1)\n",
    "l_pool2 = MaxPooling1D(5)(l_cov2)\n",
    "l_drop2 = Dropout(0.2)(l_pool2)\n",
    "l_cov3 = Conv1D(128, 5, activation='relu')(l_drop2)\n",
    "l_pool3 = MaxPooling1D(35)(l_cov3)  # global max pooling\n",
    "l_flat = Flatten()(l_pool3)\n",
    "l_dense = Dense(128, activation='relu')(l_flat)\n",
    "preds = Dense(len(labels_index), activation='softmax')(l_dense)\n",
    "\n",
    "optimizer = optimizers.RMSprop(lr=learning_rate, clipnorm = max_grad_norm)\n",
    "model = Model(sequence_input, preds)\n",
    "model.compile(loss='categorical_crossentropy',\n",
    "              optimizer='rmsprop',\n",
    "              metrics=['acc'])\n",
    "\n",
    "model_details = model.fit(x_train, y_train,\n",
    "            batch_size=128,\n",
    "            epochs=100,\n",
    "            validation_data=(x_val, y_val))\n",
    "\n",
    "scores = model.evaluate(x_val,y_val, verbose=0)\n",
    "print('Test loss:', scores[0])\n",
    "print('Test accuracy:', scores[1])\n",
    "\n",
    "sequence_input = Input(shape=(MAX_SEQUENCE_LENGTH,), dtype='int32')\n",
    "embedded_sequences = embedding_layer(sequence_input)\n",
    "\n",
    "# applying a more complex convolutional approach\n",
    "convs = []\n",
    "filter_sizes = [3,4,5]\n",
    "\n",
    "for fsz in filter_sizes:\n",
    "    l_conv = Conv1D(nb_filter=128,filter_length=fsz,activation='relu')(embedded_sequences)\n",
    "    l_pool = MaxPooling1D(5)(l_conv)\n",
    "    convs.append(l_pool)\n",
    "    \n",
    "l_merge = Merge(mode='concat', concat_axis=1)(convs)\n",
    "l_cov1= Conv1D(128, 5, activation='relu')(l_merge)\n",
    "l_pool1 = MaxPooling1D(5)(l_cov1)\n",
    "l_cov2 = Conv1D(128, 5, activation='relu')(l_pool1)\n",
    "l_pool2 = MaxPooling1D(30)(l_cov2)\n",
    "l_flat = Flatten()(l_pool2)\n",
    "l_dense = Dense(128, activation='relu')(l_flat)\n",
    "preds = Dense(len(labels_index), activation='softmax')(l_dense)\n",
    "\n",
    "model = Model(sequence_input, preds)\n",
    "model.compile(loss='categorical_crossentropy',\n",
    "              optimizer='rmsprop',\n",
    "              metrics=['acc'])\n",
    "\n",
    "print(\"model fitting - more complex convolutional neural network\")\n",
    "#model.summary()\n",
    "model.fit(x_train, y_train, validation_data=(x_val, y_val),\n",
    "          nb_epoch=10, batch_size=50)"
   ]
  },
  {
   "cell_type": "code",
   "execution_count": 178,
   "metadata": {},
   "outputs": [],
   "source": [
    "MAX_SEQ_LENGTH = 128\n",
    "\n",
    "def build_bert_dataset(text,labels,dict_genre):\n",
    "\ttokenization.validate_case_matches_checkpoint(True,INIT_CHECKPOINT)\n",
    "\tbert_tokenizer = tokenization.FullTokenizer(vocab_file=VOCAB_FILE, do_lower_case=True)\n",
    "\tprint(\"BERT Vocab length = \",len(bert_tokenizer.vocab))\n",
    "    \n",
    "\tjoblib.dump(bert_tokenizer, \"bert_tokenizer.pickle\")\n",
    "\n",
    "\tx_train, x_test, y_train, y_test = train_test_split(text,labels,test_size=0.2)\n",
    "\n",
    "\ty_train_df = pd.DataFrame(y_train,columns = ['label'])\n",
    "\ty_test_df = pd.DataFrame(y_test,columns = ['label'])\n",
    "    \n",
    "\ty_train_num = y_train_df.label.apply(lambda x: dict_genre[x])\n",
    "\ty_test_num = y_test_df.label.apply(lambda x: dict_genre[x])   \n",
    "    \n",
    "\tx_train_df = pd.DataFrame(x_train,columns = ['text'])\n",
    "\tx_test_df = pd.DataFrame(x_test,columns = ['text'])\n",
    "    \n",
    "\ttrain_df = pd.concat([x_train_df.text,y_train_num],axis=1)\n",
    "\ttest_df = pd.concat([x_test_df.text, y_test_num],axis=1)\n",
    "\n",
    "\tDATA_COLUMN,LABEL_COLUMN = 0,1\n",
    "\n",
    "\t# Use the InputExample class from BERT's run_classifier code to create examples from the data\n",
    "\ttrain_InputExamples = train_df.apply(lambda x: bert.run_classifier.InputExample(guid=None, # Globally unique ID for bookkeeping, unused in this example\n",
    "                                                                   text_a = x.text, \n",
    "                                                                   text_b = None, \n",
    "                                                                   label = x.label), axis = 1)\n",
    "\n",
    "\ttest_InputExamples = test_df.apply(lambda x: bert.run_classifier.InputExample(guid=None, \n",
    "                                                                   text_a = x.text, \n",
    "                                                                   text_b = None, \n",
    "                                                                   label = x.label), axis = 1)\n",
    "    \n",
    "\tlabel_list = list(dict_genre.values())\n",
    "\t# We'll set sequences to be at most 128 tokens long.\n",
    "\t# Convert our train and test features to InputFeatures that BERT understands.\n",
    "\ttrain_features = bert.run_classifier.convert_examples_to_features(train_InputExamples, label_list, MAX_SEQ_LENGTH, bert_tokenizer)\n",
    "\ttest_features = bert.run_classifier.convert_examples_to_features(test_InputExamples, label_list, MAX_SEQ_LENGTH, bert_tokenizer)\n",
    "\treturn train_features, test_features  "
   ]
  },
  {
   "cell_type": "code",
   "execution_count": 167,
   "metadata": {},
   "outputs": [
    {
     "name": "stdout",
     "output_type": "stream",
     "text": [
      "BERT Vocab length =  30522\n",
      "completed in : 30.7865731716156 seconds\n"
     ]
    }
   ],
   "source": [
    "start = time.time()\n",
    "train_features, test_features = build_bert_dataset(text,labels,genre_dict)\n",
    "end = time.time()\n",
    "print(\"completed in :\",end - start,\"seconds\")"
   ]
  },
  {
   "cell_type": "code",
   "execution_count": 161,
   "metadata": {},
   "outputs": [],
   "source": [
    "def create_model(is_predicting, input_ids, input_mask, segment_ids, labels,\n",
    "                 num_labels):\n",
    "  \"\"\"Creates a classification model.\"\"\"\n",
    "\n",
    "  bert_module = hub.Module(\n",
    "      BERT_MODEL_HUB,\n",
    "      trainable=True)\n",
    "  bert_inputs = dict(\n",
    "      input_ids=input_ids,\n",
    "      input_mask=input_mask,\n",
    "      segment_ids=segment_ids)\n",
    "  bert_outputs = bert_module(\n",
    "      inputs=bert_inputs,\n",
    "      signature=\"tokens\",\n",
    "      as_dict=True)\n",
    "\n",
    "  # Use \"pooled_output\" for classification tasks on an entire sentence.\n",
    "  # Use \"sequence_outputs\" for token-level output.\n",
    "  output_layer = bert_outputs[\"pooled_output\"]\n",
    "\n",
    "  hidden_size = output_layer.shape[-1].value\n",
    "\n",
    "  # Create our own layer to tune for politeness data.\n",
    "  output_weights = tf.get_variable(\n",
    "      \"output_weights\", [num_labels, hidden_size],\n",
    "      initializer=tf.truncated_normal_initializer(stddev=0.02))\n",
    "\n",
    "  output_bias = tf.get_variable(\n",
    "      \"output_bias\", [num_labels], initializer=tf.zeros_initializer())\n",
    "\n",
    "  with tf.variable_scope(\"loss\"):\n",
    "\n",
    "    # Dropout helps prevent overfitting\n",
    "    output_layer = tf.nn.dropout(output_layer, keep_prob=0.9)\n",
    "\n",
    "    logits = tf.matmul(output_layer, output_weights, transpose_b=True)\n",
    "    logits = tf.nn.bias_add(logits, output_bias)\n",
    "    log_probs = tf.nn.log_softmax(logits, axis=-1)\n",
    "\n",
    "    # Convert labels into one-hot encoding\n",
    "    one_hot_labels = tf.one_hot(labels, depth=num_labels, dtype=tf.float32)\n",
    "\n",
    "    predicted_labels = tf.squeeze(tf.argmax(log_probs, axis=-1, output_type=tf.int32))\n",
    "    # If we're predicting, we want predicted labels and the probabiltiies.\n",
    "    if is_predicting:\n",
    "      return (predicted_labels, log_probs)\n",
    "\n",
    "    # If we're train/eval, compute loss between predicted and actual label\n",
    "    per_example_loss = -tf.reduce_sum(one_hot_labels * log_probs, axis=-1)\n",
    "    loss = tf.reduce_mean(per_example_loss)\n",
    "    return (loss, predicted_labels, log_probs)"
   ]
  },
  {
   "cell_type": "code",
   "execution_count": 162,
   "metadata": {},
   "outputs": [],
   "source": [
    "# model_fn_builder actually creates our model function\n",
    "# using the passed parameters for num_labels, learning_rate, etc.\n",
    "def model_fn_builder(num_labels, learning_rate, num_train_steps,\n",
    "                     num_warmup_steps):\n",
    "  \"\"\"Returns `model_fn` closure for TPUEstimator.\"\"\"\n",
    "  def model_fn(features, labels, mode, params):  # pylint: disable=unused-argument\n",
    "    \"\"\"The `model_fn` for TPUEstimator.\"\"\"\n",
    "\n",
    "    input_ids = features[\"input_ids\"]\n",
    "    input_mask = features[\"input_mask\"]\n",
    "    segment_ids = features[\"segment_ids\"]\n",
    "    label_ids = features[\"label_ids\"]\n",
    "\n",
    "    is_predicting = (mode == tf.estimator.ModeKeys.PREDICT)\n",
    "    \n",
    "    # TRAIN and EVAL\n",
    "    if not is_predicting:\n",
    "\n",
    "      (loss, predicted_labels, log_probs) = create_model(\n",
    "        is_predicting, input_ids, input_mask, segment_ids, label_ids, num_labels)\n",
    "\n",
    "      train_op = bert.optimization.create_optimizer(\n",
    "          loss, learning_rate, num_train_steps, num_warmup_steps, use_tpu=False)\n",
    "\n",
    "      # Calculate evaluation metrics. \n",
    "      def metric_fn(label_ids, predicted_labels):\n",
    "        accuracy = tf.metrics.accuracy(label_ids, predicted_labels)\n",
    "        f1_score = tf.contrib.metrics.f1_score(\n",
    "            label_ids,\n",
    "            predicted_labels)\n",
    "        auc = tf.metrics.auc(\n",
    "            label_ids,\n",
    "            predicted_labels)\n",
    "        recall = tf.metrics.recall(\n",
    "            label_ids,\n",
    "            predicted_labels)\n",
    "        precision = tf.metrics.precision(\n",
    "            label_ids,\n",
    "            predicted_labels) \n",
    "        true_pos = tf.metrics.true_positives(\n",
    "            label_ids,\n",
    "            predicted_labels)\n",
    "        true_neg = tf.metrics.true_negatives(\n",
    "            label_ids,\n",
    "            predicted_labels)   \n",
    "        false_pos = tf.metrics.false_positives(\n",
    "            label_ids,\n",
    "            predicted_labels)  \n",
    "        false_neg = tf.metrics.false_negatives(\n",
    "            label_ids,\n",
    "            predicted_labels)\n",
    "        return {\n",
    "            \"eval_accuracy\": accuracy,\n",
    "            \"f1_score\": f1_score,\n",
    "            \"auc\": auc,\n",
    "            \"precision\": precision,\n",
    "            \"recall\": recall,\n",
    "            \"true_positives\": true_pos,\n",
    "            \"true_negatives\": true_neg,\n",
    "            \"false_positives\": false_pos,\n",
    "            \"false_negatives\": false_neg\n",
    "        }\n",
    "\n",
    "      eval_metrics = metric_fn(label_ids, predicted_labels)\n",
    "\n",
    "      if mode == tf.estimator.ModeKeys.TRAIN:\n",
    "        return tf.estimator.EstimatorSpec(mode=mode,\n",
    "          loss=loss,\n",
    "          train_op=train_op)\n",
    "      else:\n",
    "          return tf.estimator.EstimatorSpec(mode=mode,\n",
    "            loss=loss,\n",
    "            eval_metric_ops=eval_metrics)\n",
    "    else:\n",
    "      (predicted_labels, log_probs) = create_model(\n",
    "        is_predicting, input_ids, input_mask, segment_ids, label_ids, num_labels)\n",
    "\n",
    "      predictions = {\n",
    "          'probabilities': log_probs,\n",
    "          'labels': predicted_labels\n",
    "      }\n",
    "      return tf.estimator.EstimatorSpec(mode, predictions=predictions)\n",
    "\n",
    "  # Return the actual model function in the closure\n",
    "  return model_fn"
   ]
  },
  {
   "cell_type": "code",
   "execution_count": 163,
   "metadata": {},
   "outputs": [],
   "source": [
    "# Compute train and warmup steps from batch size\n",
    "# These hyperparameters are copied from this colab notebook (https://colab.sandbox.google.com/github/tensorflow/tpu/blob/master/tools/colab/bert_finetuning_with_cloud_tpus.ipynb)\n",
    "BATCH_SIZE = 32\n",
    "LEARNING_RATE = 2e-5\n",
    "NUM_TRAIN_EPOCHS = 3.0\n",
    "# Warmup is a period of time where hte learning rate \n",
    "# is small and gradually increases--usually helps training.\n",
    "WARMUP_PROPORTION = 0.1\n",
    "# Model configs\n",
    "SAVE_CHECKPOINTS_STEPS = 500\n",
    "SAVE_SUMMARY_STEPS = 100"
   ]
  },
  {
   "cell_type": "code",
   "execution_count": 168,
   "metadata": {},
   "outputs": [],
   "source": [
    "# Compute # train and warmup steps from batch size\n",
    "num_train_steps = int(len(train_features) / BATCH_SIZE * NUM_TRAIN_EPOCHS)\n",
    "num_warmup_steps = int(num_train_steps * WARMUP_PROPORTION)"
   ]
  },
  {
   "cell_type": "code",
   "execution_count": 172,
   "metadata": {},
   "outputs": [],
   "source": [
    "# Specify outpit directory and number of checkpoint steps to save\n",
    "run_config = tf.estimator.RunConfig(\n",
    "    model_dir=\".\",\n",
    "    save_summary_steps=SAVE_SUMMARY_STEPS,\n",
    "    save_checkpoints_steps=SAVE_CHECKPOINTS_STEPS)"
   ]
  },
  {
   "cell_type": "code",
   "execution_count": 176,
   "metadata": {},
   "outputs": [],
   "source": [
    "model_fn = model_fn_builder(\n",
    "  num_labels=len(list(genre_dict.values())),\n",
    "  learning_rate=LEARNING_RATE,\n",
    "  num_train_steps=num_train_steps,\n",
    "  num_warmup_steps=num_warmup_steps)\n",
    "\n",
    "estimator = tf.estimator.Estimator(\n",
    "  model_fn=model_fn,\n",
    "  config=run_config,\n",
    "  params={\"batch_size\": BATCH_SIZE})"
   ]
  },
  {
   "cell_type": "code",
   "execution_count": 179,
   "metadata": {},
   "outputs": [],
   "source": [
    "# Create an input function for training. drop_remainder = True for using TPUs.\n",
    "train_input_fn = bert.run_classifier.input_fn_builder(\n",
    "    features=train_features,\n",
    "    seq_length=MAX_SEQ_LENGTH,\n",
    "    is_training=True,\n",
    "    drop_remainder=False)"
   ]
  },
  {
   "cell_type": "code",
   "execution_count": null,
   "metadata": {},
   "outputs": [
    {
     "name": "stdout",
     "output_type": "stream",
     "text": [
      "Beginning Training!\n"
     ]
    },
    {
     "name": "stderr",
     "output_type": "stream",
     "text": [
      "W0726 19:52:34.173723 4498986432 deprecation.py:506] From <ipython-input-161-ca03218f28a6>:34: calling dropout (from tensorflow.python.ops.nn_ops) with keep_prob is deprecated and will be removed in a future version.\n",
      "Instructions for updating:\n",
      "Please use `rate` instead of `keep_prob`. Rate should be set to `rate = 1 - keep_prob`.\n",
      "W0726 19:52:34.252125 4498986432 deprecation_wrapper.py:119] From /Users/dan/anaconda3/lib/python3.7/site-packages/bert/optimization.py:27: The name tf.train.get_or_create_global_step is deprecated. Please use tf.compat.v1.train.get_or_create_global_step instead.\n",
      "\n",
      "W0726 19:52:34.254184 4498986432 deprecation_wrapper.py:119] From /Users/dan/anaconda3/lib/python3.7/site-packages/bert/optimization.py:32: The name tf.train.polynomial_decay is deprecated. Please use tf.compat.v1.train.polynomial_decay instead.\n",
      "\n",
      "W0726 19:52:34.263746 4498986432 deprecation.py:323] From /Users/dan/anaconda3/lib/python3.7/site-packages/tensorflow/python/keras/optimizer_v2/learning_rate_schedule.py:409: div (from tensorflow.python.ops.math_ops) is deprecated and will be removed in a future version.\n",
      "Instructions for updating:\n",
      "Deprecated in favor of operator or tf.math.divide.\n",
      "W0726 19:52:34.283501 4498986432 deprecation_wrapper.py:119] From /Users/dan/anaconda3/lib/python3.7/site-packages/bert/optimization.py:70: The name tf.trainable_variables is deprecated. Please use tf.compat.v1.trainable_variables instead.\n",
      "\n",
      "W0726 19:52:34.738847 4498986432 deprecation.py:323] From /Users/dan/anaconda3/lib/python3.7/site-packages/tensorflow/python/ops/math_grad.py:1205: add_dispatch_support.<locals>.wrapper (from tensorflow.python.ops.array_ops) is deprecated and will be removed in a future version.\n",
      "Instructions for updating:\n",
      "Use tf.where in 2.0, which has the same broadcast rule as np.where\n",
      "W0726 19:52:39.069196 4498986432 deprecation_wrapper.py:119] From /Users/dan/anaconda3/lib/python3.7/site-packages/bert/optimization.py:117: The name tf.get_variable is deprecated. Please use tf.compat.v1.get_variable instead.\n",
      "\n",
      "/Users/dan/anaconda3/lib/python3.7/site-packages/tensorflow/python/ops/gradients_util.py:93: UserWarning: Converting sparse IndexedSlices to a dense Tensor of unknown shape. This may consume a large amount of memory.\n",
      "  \"Converting sparse IndexedSlices to a dense Tensor of unknown shape. \"\n",
      "/Users/dan/anaconda3/lib/python3.7/site-packages/tensorflow/python/ops/gradients_util.py:93: UserWarning: Converting sparse IndexedSlices to a dense Tensor of unknown shape. This may consume a large amount of memory.\n",
      "  \"Converting sparse IndexedSlices to a dense Tensor of unknown shape. \"\n",
      "W0726 19:52:50.545306 4498986432 lazy_loader.py:50] \n",
      "The TensorFlow contrib module will not be included in TensorFlow 2.0.\n",
      "For more information, please see:\n",
      "  * https://github.com/tensorflow/community/blob/master/rfcs/20180907-contrib-sunset.md\n",
      "  * https://github.com/tensorflow/addons\n",
      "  * https://github.com/tensorflow/io (for I/O related ops)\n",
      "If you depend on functionality not listed there, please file an issue.\n",
      "\n",
      "W0726 19:55:42.558086 4498986432 basic_session_run_hooks.py:724] It seems that global step (tf.train.get_global_step) has not been increased. Current value (could be stable): 2 vs previous value: 2. You could increase the global step by passing tf.train.get_global_step() to Optimizer.apply_gradients or Optimizer.minimize.\n"
     ]
    }
   ],
   "source": [
    "BERT_MODEL_HUB = \"https://tfhub.dev/google/bert_uncased_L-12_H-768_A-12/1\"\n",
    "print(f'Beginning Training!')\n",
    "current_time = datetime.now()\n",
    "estimator.train(input_fn=train_input_fn, max_steps=num_train_steps)\n",
    "print(\"Training took time \", datetime.now() - current_time)"
   ]
  },
  {
   "cell_type": "code",
   "execution_count": null,
   "metadata": {},
   "outputs": [],
   "source": [
    "test_input_fn = run_classifier.input_fn_builder(\n",
    "    features=test_features,\n",
    "    seq_length=MAX_SEQ_LENGTH,\n",
    "    is_training=False,\n",
    "    drop_remainder=False)"
   ]
  },
  {
   "cell_type": "code",
   "execution_count": null,
   "metadata": {},
   "outputs": [],
   "source": [
    "estimator.evaluate(input_fn=test_input_fn, steps=None)"
   ]
  },
  {
   "cell_type": "code",
   "execution_count": null,
   "metadata": {},
   "outputs": [],
   "source": []
  },
  {
   "cell_type": "markdown",
   "metadata": {},
   "source": []
  },
  {
   "cell_type": "code",
   "execution_count": 51,
   "metadata": {},
   "outputs": [],
   "source": [
    "##CNN HERE"
   ]
  },
  {
   "cell_type": "code",
   "execution_count": 29,
   "metadata": {},
   "outputs": [
    {
     "name": "stdout",
     "output_type": "stream",
     "text": [
      "Feature counts in powers of two buckets: [(1, 209447), (2, 25020), (4, 18723), (256, 947), (8, 13129), (512, 546), (16, 8907), (1024, 338), (32, 5733), (128, 1873), (64, 3291)].\n"
     ]
    }
   ],
   "source": [
    "def bucket_features_by_count(featCount):\n",
    "    \"\"\"Bucket the counts by powers of two.\"\"\"\n",
    "    for i in range(11):\n",
    "        size = 2 ** i\n",
    "        if featCount <= size:\n",
    "            return size\n",
    "    return -1\n",
    "\n",
    "feature_counts = train_sample_rdd_ohe.flatMap(lambda lp: lp.features.indices)\\\n",
    "                                     .map(lambda x: (x, 1)).reduceByKey(lambda x, y: x + y)\n",
    "feature_counts_buckets = feature_counts.map(lambda x: (bucket_features_by_count(x[1]), 1)) \\\n",
    "                         .filter(lambda x: x[0] != -1).reduceByKey(lambda x, y: x + y).collect()\n",
    "print(f'Feature counts in powers of two buckets: {feature_counts_buckets}.')"
   ]
  },
  {
   "cell_type": "code",
   "execution_count": 67,
   "metadata": {},
   "outputs": [
    {
     "data": {
      "text/plain": [
       "(Text(0.5, 0, 'log (Bucket Size)'), Text(0, 0.5, 'log (Counts)'))"
      ]
     },
     "execution_count": 67,
     "metadata": {},
     "output_type": "execute_result"
    },
    {
     "data": {
      "image/png": "[encoded data removed]",
      "text/plain": [
       "<Figure size 720x720 with 1 Axes>"
      ]
     },
     "metadata": {
      "needs_background": "light"
     },
     "output_type": "display_data"
    }
   ],
   "source": [
    "x, y = zip(*feature_counts_buckets)\n",
    "fig, ax = plt.subplots(figsize=(10,10))\n",
    "plt.rcParams.update({'font.size': 15})\n",
    "ax=sns.scatterplot(x=np.log(x), y = np.log(y), ax=ax, s=200)\n",
    "ax.set_xlabel(\"log (Bucket Size)\"), ax.set_ylabel(\"log (Counts)\")"
   ]
  },
  {
   "cell_type": "markdown",
   "metadata": {},
   "source": [
    "The above figure characterizes the sparsity of the features in the data set. Note that this is a log-log plot. It is clear that majority of features only have smaller number of data points. Therefore, it does not make sense to use all features. We need to reduce the feature dimension drastically. This will increase the scalability of the algorithm without sacrificing the performance.\n",
    "\n",
    "Without any dimension reduction, let us first use `LogisticRegressionWithLBFGS` from Spark mllib to characterize the baseline ROC as illustrated below."
   ]
  },
  {
   "cell_type": "code",
   "execution_count": 13,
   "metadata": {},
   "outputs": [
    {
     "name": "stdout",
     "output_type": "stream",
     "text": [
      "... train sample data with 50 iterations in 38.00198984146118 seconds.\n"
     ]
    }
   ],
   "source": [
    "start = time.time()\n",
    "lrm_sample_train = LogisticRegressionWithLBFGS.train(train_sample_rdd_ohe, iterations=50)\n",
    "print (f'... train sample data with 50 iterations in {time.time() - start} seconds.')"
   ]
  },
  {
   "cell_type": "code",
   "execution_count": 14,
   "metadata": {},
   "outputs": [
    {
     "name": "stdout",
     "output_type": "stream",
     "text": [
      "0.5\n",
      "288289\n"
     ]
    }
   ],
   "source": [
    "print(lrm_sample_train.threshold)\n",
    "print(len(lrm_sample_train.weights))"
   ]
  },
  {
   "cell_type": "code",
   "execution_count": 14,
   "metadata": {},
   "outputs": [
    {
     "name": "stdout",
     "output_type": "stream",
     "text": [
      "# of test samples = 45608\n",
      "... get one hot LabelPoint for test dev in 35.79230332374573 seconds.\n"
     ]
    }
   ],
   "source": [
    "start = time.time()\n",
    "dev_sample_rdd = dev_rdd.sample(False, 0.01, 2019).cache()\n",
    "print(f'# of test samples = {dev_sample_rdd.count()}')\n",
    "dev_sample_rdd_ohe = dev_sample_rdd.map(lambda x: parse_with_label(x, sample_ctr_dict, sample_num_ctr_features))\n",
    "dev_sample_rdd_ohe.cache()\n",
    "print (f'... get one hot LabelPoint for test dev in {time.time() - start} seconds.')"
   ]
  },
  {
   "cell_type": "code",
   "execution_count": 21,
   "metadata": {},
   "outputs": [
    {
     "name": "stdout",
     "output_type": "stream",
     "text": [
      "Sample test accuracy = 0.6816088958387629\n",
      "... complete prediction on sampled dev data in 0.8345451354980469 seconds.\n"
     ]
    }
   ],
   "source": [
    "start = time.time()\n",
    "test_results = dev_sample_rdd_ohe.map(lambda x: (x.label, lrm_sample_train.predict(x.features)))\n",
    "testErr = test_results.filter(lambda x: x[0] != x[1]).count() / float(test_results.count())\n",
    "print(f\"Sample test accuracy = {1-testErr}\")\n",
    "print (f'... complete prediction on sampled dev data in {time.time() - start} seconds.')"
   ]
  },
  {
   "cell_type": "code",
   "execution_count": 22,
   "metadata": {
    "collapsed": true
   },
   "outputs": [],
   "source": [
    "lrm_sample_train.clearThreshold()\n",
    "test_labels_and_prob = dev_sample_rdd_ohe.map(lambda x: (x.label, lrm_sample_train.predict(x.features))).collect()"
   ]
  },
  {
   "cell_type": "code",
   "execution_count": 29,
   "metadata": {
    "collapsed": true
   },
   "outputs": [],
   "source": [
    "test_labels_and_prob.sort(key=lambda x: x[1], reverse=True)"
   ]
  },
  {
   "cell_type": "code",
   "execution_count": 50,
   "metadata": {},
   "outputs": [
    {
     "data": {
      "text/plain": [
       "[<matplotlib.lines.Line2D at 0x7fb11d0bea90>]"
      ]
     },
     "execution_count": 50,
     "metadata": {},
     "output_type": "execute_result"
    },
    {
     "data": {
      "image/png": "[encoded data removed]",
      "text/plain": [
       "<Figure size 720x720 with 1 Axes>"
      ]
     },
     "metadata": {
      "needs_background": "light"
     },
     "output_type": "display_data"
    }
   ],
   "source": [
    "labels_by_weight = np.array([k for (k, v) in test_labels_and_prob])\n",
    "length = labels_by_weight.size\n",
    "true_positives = labels_by_weight.cumsum()\n",
    "num_positive = true_positives[-1]\n",
    "false_positives = np.arange(1.0, length + 1, 1.) - true_positives\n",
    "\n",
    "true_positive_rate = true_positives / num_positive\n",
    "false_positive_rate = false_positives / (length - num_positive)\n",
    "\n",
    "\n",
    "# Generate layout and plot data\n",
    "fig, ax = plt.subplots(figsize=(10,10))\n",
    "plt.rcParams.update({'font.size': 15})\n",
    "ax.set_xlim(-.05, 1.05), ax.set_ylim(-.05, 1.05)\n",
    "ax.set_ylabel('True Positive Rate (Sensitivity)')\n",
    "ax.set_xlabel('False Positive Rate (1 - Specificity)')\n",
    "plt.plot(false_positive_rate, true_positive_rate, color='#8cbfd0', linestyle='-', linewidth=3.)\n",
    "plt.plot((0., 1.), (0., 1.), linestyle='--', color='#d6ebf2', linewidth=2.)"
   ]
  },
  {
   "cell_type": "markdown",
   "metadata": {},
   "source": [
    "The above ROC curve visualizes how well the model predicts the target. It shows us the trade-off between the false positive rate and true positive rate, as we vary the threshold required to predict a positive outcome. A random model is represented by the dashed line. With full set of features, it is better than random model but it is also not very strong either.  It is also less accuracte than the null rate we would have by guessing \"not-clicked\" every time, of 75%.\n",
    "\n",
    "\n",
    "## Major data Challenge mitigation strategy\n",
    "\n",
    "### Method of Feature Hashing\n",
    "\n",
    "We have seen above that we have a mostly empty sparse feature set. In this situation, feature hashing is a useful technique for handling sparse, high-dimensional features in this machine learning problem. It is going to allow us to design a fast, simple, memory-efficient, and well-suited Logistical regression model that can be used in this online learning scenario. Below we wil also build the data pipeline using the RDD framework, this will help us demonstrate the distributed nature of the underlying algorithm.\n",
    "\n",
    "Benefits of feature hashing:\n",
    "\n",
    "1) Handles sparse data pipelines consistently, irrespective of new categorical values.\n",
    "2) Keeps the overall dimensions to be static-- we can set this-- hence limiting effect of sparsity.\n",
    "3) Computationally very efficient, we can predict now using the number of rows the time and space complexity of the algorithm"
   ]
  },
  {
   "cell_type": "markdown",
   "metadata": {},
   "source": [
    "# 4. Methods\n",
    "\n",
    "__[this section needs to have each of the methods we tried - our design and implementations]__\n",
    "__[the following is just a sample, needs to be revised]__\n",
    "\n",
    "In this section, we will implement homegrown logistic regression with gradient descent, as described in Section 2. Based on the insights from EDA, we first need to implement the hashing trick to bound the number of features in our one-hot encoding. To compare our homegrown implementation, we use the off-the-shelf logistic regression solver from Spark MLlib."
   ]
  },
  {
   "cell_type": "markdown",
   "metadata": {},
   "source": [
    "## Reduce features with feature hashing trick\n",
    "\n",
    "### The RDD API based approach\n",
    "The following functions provide the hashing of features based on the feature ID. This approach utilizes base RDD API and no machine learning scala libraries from Spark. "
   ]
  },
  {
   "cell_type": "code",
   "execution_count": 13,
   "metadata": {
    "collapsed": true
   },
   "outputs": [],
   "source": [
    "from collections import defaultdict\n",
    "import hashlib\n",
    "\n",
    "def feature_hashing(num_dimensions, original_features, verbose=False):\n",
    "    \"\"\"\n",
    "    Args:\n",
    "        num_dimensions (int): Number of buckets to use as features.\n",
    "        original_features (list of (int, str)): A list of features for an observation.  Represented as\n",
    "            (featureID, value) tuples.\n",
    "        verbose (bool, optional): If true, the mappings of featureString to index will be\n",
    "            printed.\n",
    "\n",
    "    Returns:\n",
    "        dict of int to float:  The keys will be integers which represent the dimensions that the\n",
    "            features have been hashed to.  The value for a given key will contain the count of the\n",
    "            (featureID, value) tuples that have hashed to that key.\n",
    "    \"\"\"\n",
    "    mapping = {}\n",
    "    for idx, category in original_features:\n",
    "        feature_str = (category + str(idx)).encode('utf-8')\n",
    "        mapping[feature_str] = int(int(hashlib.md5(feature_str).hexdigest(), 16) % num_dimensions)\n",
    "    if(verbose):\n",
    "        print (f'mapping is {mapping}.')\n",
    "    hashed_features = defaultdict(float)\n",
    "    for d in mapping.values():\n",
    "        hashed_features[d] += 1.0\n",
    "    return dict(hashed_features)\n",
    "\n",
    "def parse_to_hashed_LabeledPoint(line, num_dimensions):\n",
    "    \"\"\"\n",
    "    Args:\n",
    "        line (str): A comma separated string where the first value is the label and the rest are\n",
    "            features.\n",
    "        num_dimensions: The number of buckets to hash to.\n",
    "\n",
    "    Returns:\n",
    "        LabeledPoint: A LabeledPoint with a label (0.0 or 1.0) and a SparseVector of hashed\n",
    "            features.\n",
    "    \"\"\"\n",
    "    features = parse(line)\n",
    "    items = line.split(',')\n",
    "    label = items[0]\n",
    "    features_hashed = feature_hashing(num_dimensions, features, verbose=False)\n",
    "    return LabeledPoint(label, SparseVector(num_dimensions, features_hashed))"
   ]
  },
  {
   "cell_type": "markdown",
   "metadata": {},
   "source": [
    "First, let us test the hashing function with our toy example and verify its correctness with manual checking as shown below."
   ]
  },
  {
   "cell_type": "code",
   "execution_count": 53,
   "metadata": {},
   "outputs": [
    {
     "name": "stdout",
     "output_type": "stream",
     "text": [
      "mapping is {b'url11': 33, b'url21': 90, b'user20': 6, b'url31': 66, b'user10': 90}.\n",
      "100 dimensions hashed dict for toy example: {33: 1.0, 90: 2.0, 6: 1.0, 66: 1.0}.\n",
      "\n",
      "mapping is {b'url11': 3, b'url21': 0, b'user20': 6, b'url31': 6, b'user10': 0}.\n",
      "10 dimensions hashed dict for toy example: {3: 1.0, 0: 2.0, 6: 2.0}.\n",
      "\n",
      "mapping is {b'url11': 3, b'url21': 0, b'user20': 1, b'url31': 1, b'user10': 0}.\n",
      "5 dimensions hashed dict for toy example: {3: 1.0, 0: 2.0, 1: 2.0}.\n"
     ]
    }
   ],
   "source": [
    "print(f'100 dimensions hashed dict for toy example: {feature_hashing(100, toy_dict.keys(), True)}.\\n')\n",
    "print(f'10 dimensions hashed dict for toy example: {feature_hashing(10, toy_dict.keys(), True)}.\\n')\n",
    "print(f'5 dimensions hashed dict for toy example: {feature_hashing(5, toy_dict.keys(), True)}.')"
   ]
  },
  {
   "cell_type": "markdown",
   "metadata": {},
   "source": [
    "To compare the sparsity of the hashed features and non-hashed features, we now apply hashing trick to our sample data as illustrated below. The number of hashed dimensions is bounded at $2^{15} = 32,768$."
   ]
  },
  {
   "cell_type": "code",
   "execution_count": 12,
   "metadata": {},
   "outputs": [
    {
     "name": "stdout",
     "output_type": "stream",
     "text": [
      "[LabeledPoint(0.0, (32768,[250,3668,4822,5093,5302,7114,7998,9985,10624,10633,11722,12090,12143,12433,13910,14339,14780,14872,15609,15816,16814,17062,17716,19274,19370,20103,21604,21659,21890,22284,24746,25201,25533,25882,26656,29152,31663,32475,32708],[1.0,1.0,1.0,1.0,1.0,1.0,1.0,1.0,1.0,1.0,1.0,1.0,1.0,1.0,1.0,1.0,1.0,1.0,1.0,1.0,1.0,1.0,1.0,1.0,1.0,1.0,1.0,1.0,1.0,1.0,1.0,1.0,1.0,1.0,1.0,1.0,1.0,1.0,1.0]))]\n"
     ]
    }
   ],
   "source": [
    "ctr_dimensions = 2 ** 15\n",
    "train_sample_rdd_hashed = train_sample_rdd.map(lambda x: parse_to_hashed_LabeledPoint(x, ctr_dimensions))\n",
    "train_sample_rdd_hashed.cache()\n",
    "print (train_sample_rdd_hashed.take(1))"
   ]
  },
  {
   "cell_type": "code",
   "execution_count": 56,
   "metadata": {
    "collapsed": true
   },
   "outputs": [],
   "source": [
    "def compute_sparsity(rdd, d, n):\n",
    "    \"\"\"Calculates the average sparsity for the features in an RDD of LabeledPoints.\n",
    "\n",
    "    Args:\n",
    "        data (RDD of LabeledPoint): The LabeledPoints to use in the sparsity calculation.\n",
    "        d (int): The total number of features.\n",
    "        n (int): The number of observations in the RDD.\n",
    "\n",
    "    Returns:\n",
    "        float: The average of the ratio of features in a point to total features.\n",
    "    \"\"\"\n",
    "    return float(rdd.map(lambda x: len(x.features.indices)).sum()) / d / n"
   ]
  },
  {
   "cell_type": "code",
   "execution_count": 59,
   "metadata": {},
   "outputs": [
    {
     "name": "stdout",
     "output_type": "stream",
     "text": [
      "Average hashed sparsity: 0.0011806893013603088\n",
      "Average OHE sparsity: 0.00013514871556739936\n"
     ]
    }
   ],
   "source": [
    "num_train_samples = train_sample_rdd.count()\n",
    "mean_sparse_hashed = compute_sparsity(train_sample_rdd_hashed, ctr_dimensions, num_train_samples)\n",
    "mean_sparse_ohe = compute_sparsity(train_sample_rdd_ohe, sample_num_ctr_features, num_train_samples)\n",
    "\n",
    "print (f'Average hashed sparsity: {mean_sparse_hashed}')\n",
    "print (f'Average OHE sparsity: {mean_sparse_ohe}')"
   ]
  },
  {
   "cell_type": "markdown",
   "metadata": {},
   "source": [
    "As we reduced the number of dimensions of the sampled data from $288,289$ to hashed $32,768$ dimensions, the average of the ratio of features in a point to total features is increased by one order of magnitude from $1.35\\times 10^{-4}$ to $1.1\\times 10^{-3}$. Therefore, the sparsity is reduced."
   ]
  },
  {
   "cell_type": "code",
   "execution_count": 15,
   "metadata": {},
   "outputs": [
    {
     "name": "stdout",
     "output_type": "stream",
     "text": [
      "Length of hashed weight vector: 32768.\n",
      "Sample hashed test accuracy = 0.6703648482722329\n",
      "... train hashed sample data with 50 iterations in 59.799105167388916 seconds.\n"
     ]
    }
   ],
   "source": [
    "dev_sample_rdd_hashed = dev_sample_rdd.map(lambda x: parse_to_hashed_LabeledPoint(x, ctr_dimensions))\n",
    "start = time.time()\n",
    "lrm_sample_train_hashed_data = LogisticRegressionWithLBFGS.train(train_sample_rdd_hashed, iterations=50)\n",
    "print(f'Length of hashed weight vector: {len(lrm_sample_train_hashed_data.weights)}.')\n",
    "test_results_hashed = dev_sample_rdd_hashed.map(lambda x: (x.label, lrm_sample_train_hashed_data.predict(x.features)))\n",
    "testErr_hashed = test_results_hashed.filter(lambda x: x[0] != x[1]).count() / float(test_results_hashed.count())\n",
    "print(f\"Sample hashed test accuracy = {1-testErr_hashed}\")\n",
    "print (f'... train hashed sample data with 50 iterations in {time.time() - start} seconds.')"
   ]
  },
  {
   "cell_type": "markdown",
   "metadata": {},
   "source": [
    "As we reduced the number of dimensions of the sampled data from $288,289$ to hashed $32,768$ dimensions, we reduced sparsity as shown earlier. However, __the accuracy remains about the same $0.68$ vs $0.67$__ as shown here."
   ]
  },
  {
   "cell_type": "markdown",
   "metadata": {},
   "source": [
    "### Logistic Regression(Homegrown) with Gradient Descent\n",
    "\n",
    "We are now ready to implement our homegrown logistic regression described on Section 2. The gradient update function is straight forward and it directly maps to equation (2). We apply map-reduce programming using RDDs.\n",
    "\n",
    "The mapper function calculates the gradient. Based on equation (2), the gradient is just an updated vector $x_i$ with scalar. Since we use the sparse vector representation, we only need to multiply the scalar to the one hot values of the $x_i$.\n",
    "\n",
    "To complete the gradient step, there is a step to sum over all sparse vectors over all data points. This step turns out to be very challenging to optimize. First, we tried the Spark built-in function `mean()`, but the computation time is too long. Then, we wrote several specialized functions for adding these sparse vectors that yield limited improvements. Finally, we applied `aggregate` function and let `numpy` perform the vector summation. Our last approach improved the run time by 100 times. However, when we compare with the native `Scala` implementation, our `python` based approach is still about 6 times slower.\n",
    "\n",
    "Note that we did not implement the stochastic gradient descent since the default MLlib fraction of data for gradient descent is 1. We mainly focus on GD with full data pass in each iteration.\n",
    "\n",
    "In the following, we present our results for both homegrown and Spark `MLlib` on the full training set and test set."
   ]
  },
  {
   "cell_type": "code",
   "execution_count": 14,
   "metadata": {
    "collapsed": true
   },
   "outputs": [],
   "source": [
    "def negative_log_likelihood_loss(dataRDD, W):\n",
    "    \"\"\"\n",
    "    Compute mean squared error.\n",
    "    Args:\n",
    "        dataRDD - LabeledPoint\n",
    "        W       - (array) model coefficients\n",
    "    Returns:\n",
    "        loss\n",
    "    \"\"\"\n",
    "    def calc_loss(x):\n",
    "        ret = np.log(1+ np.exp(- x.features.dot(W))) + (1-x.label)*x.features.dot(W)\n",
    "        return ret\n",
    "    loss = dataRDD.map(calc_loss).mean()\n",
    "    return loss"
   ]
  },
  {
   "cell_type": "code",
   "execution_count": 15,
   "metadata": {
    "collapsed": true
   },
   "outputs": [],
   "source": [
    "from collections import defaultdict\n",
    "from pyspark.mllib.linalg import Vectors\n",
    "\n",
    "def GD_update_wReg(dataRDD, W, n, ctr_dimensions, learningRate = 0.1, regParam = 0.1):\n",
    "    \"\"\"\n",
    "    Perform one gradient descent step/update with ridge regularization.\n",
    "    Args:\n",
    "        dataRDD - LabeledPoint\n",
    "        W       - (array) model coefficients\n",
    "        learningRate - (float) defaults to 0.1\n",
    "        regParam - (float) regularization term coefficient\n",
    "    Returns:\n",
    "        model   - (array) updated coefficients\n",
    "    \"\"\"\n",
    "    new_model = None\n",
    "    def calc_gradient(x):\n",
    "        scalar = ((1./(1+np.exp(-x.features.dot(W)))-x.label))\n",
    "        x.features.values = scalar*x.features.values\n",
    "        return x.features\n",
    "    grad = dataRDD.map(calc_gradient).aggregate(np.zeros(ctr_dimensions),\n",
    "                                                lambda acc, b: acc + b.toArray(),\n",
    "                                                lambda acc, b: acc + b)\n",
    "    grad = grad/n\n",
    "    grad = grad + 2*regParam*W\n",
    "    new_model = W -learningRate * grad\n",
    "    return new_model"
   ]
  },
  {
   "cell_type": "code",
   "execution_count": 27,
   "metadata": {
    "collapsed": true
   },
   "outputs": [],
   "source": [
    "def GradientDescent_wReg(trainRDD, wInit, nSteps = 20, learningRate = 0.1,\n",
    "                         regParam = 0.1, ctr_dimensions=2**15, verbose = False):\n",
    "    \"\"\"\n",
    "    Perform nSteps iterations of regularized gradient descent and \n",
    "    track loss on a test and train set. Return lists of\n",
    "    test/train loss and the models themselves.\n",
    "    \"\"\"\n",
    "    # perform n updates & compute test and train loss after each\n",
    "    model = wInit\n",
    "    trainRDD = trainRDD.cache()\n",
    "    n = float (trainRDD.count())\n",
    "    for idx in range(nSteps):\n",
    "        print(f\"STEP: {idx+1}.\")\n",
    "        model = GD_update_wReg(trainRDD, model, n, ctr_dimensions, learningRate, regParam)\n",
    "        \n",
    "        #if verbose:\n",
    "        #    loss = negative_log_likelihood_loss(trainRDD, model)\n",
    "        #    print(f\"STEP: {idx+1}, loss = {loss}.\")\n",
    "    return model"
   ]
  },
  {
   "cell_type": "code",
   "execution_count": 17,
   "metadata": {
    "collapsed": true
   },
   "outputs": [],
   "source": [
    "def LogisticRegression_RDD_predict(features, W, threshold = 0.5):\n",
    "    prob = 1./(1+np.exp(-features.dot(W)))\n",
    "    if (prob >= threshold):\n",
    "        return 1.0\n",
    "    else:\n",
    "        return 0.0"
   ]
  },
  {
   "cell_type": "markdown",
   "metadata": {},
   "source": [
    "We first verify and test our homegrown implementation with sample data set and sample test set as shown below."
   ]
  },
  {
   "cell_type": "code",
   "execution_count": 20,
   "metadata": {},
   "outputs": [
    {
     "name": "stdout",
     "output_type": "stream",
     "text": [
      "Sample homegrown LR test accuracy = 0.7447377653043326\n",
      "\n",
      "... trained 50 iterations with homegrown LR and sample data in 265.1284329891205 seconds\n"
     ]
    }
   ],
   "source": [
    "wInit = np.zeros(ctr_dimensions)\n",
    "train_sample_model = GradientDescent_wReg(train_sample_rdd_hashed, wInit, nSteps = 50, ctr_dimensions=wInit.size,  verbose=False)\n",
    "test_results_homegrown = dev_sample_rdd_hashed.map(lambda x: (x.label, LogisticRegression_RDD_predict(x.features, train_sample_model))).cache()\n",
    "testErr_homegrown = test_results_homegrown.filter(lambda x: x[0] != x[1]).count() / float(test_results_homegrown.count())\n",
    "print(f\"Sample homegrown LR test accuracy = {1-testErr_homegrown}\")\n",
    "print(f\"\\n... trained 50 iterations with homegrown LR and sample data in {time.time() - start} seconds\")"
   ]
  },
  {
   "cell_type": "markdown",
   "metadata": {},
   "source": [
    "#### MLlib.LogisticRegressionWithLBFGS Implementation (full train and test data)\n",
    "\n",
    "First, we prepare our full training data and test data with one hot coding and feature hash trick."
   ]
  },
  {
   "cell_type": "code",
   "execution_count": 18,
   "metadata": {
    "collapsed": true
   },
   "outputs": [],
   "source": [
    "ctr_dimensions = 2 ** 15\n",
    "train_rdd_hashed = train_rdd.map(lambda x: parse_to_hashed_LabeledPoint(x, ctr_dimensions)).cache()\n",
    "dev_rdd_hashed = dev_rdd.map(lambda x: parse_to_hashed_LabeledPoint(x, ctr_dimensions)).cache()"
   ]
  },
  {
   "cell_type": "code",
   "execution_count": 19,
   "metadata": {},
   "outputs": [
    {
     "data": {
      "text/plain": [
       "[LabeledPoint(0.0, (32768,[1305,2883,3807,4814,4866,4913,6952,7117,9985,10316,11512,11722,12365,13893,14735,15816,16198,17761,19274,21604,22256,22563,22785,24855,25202,25533,25721,26487,26656,27668,28211,29152,29402,29873,30039,31484,32493,32708],[1.0,1.0,1.0,1.0,1.0,1.0,1.0,1.0,1.0,1.0,1.0,1.0,1.0,1.0,1.0,1.0,1.0,1.0,1.0,1.0,1.0,1.0,1.0,1.0,1.0,1.0,1.0,1.0,1.0,1.0,1.0,1.0,1.0,1.0,1.0,1.0,1.0,1.0]))]"
      ]
     },
     "execution_count": 19,
     "metadata": {},
     "output_type": "execute_result"
    }
   ],
   "source": [
    "train_rdd_hashed.take(1)"
   ]
  },
  {
   "cell_type": "code",
   "execution_count": 20,
   "metadata": {},
   "outputs": [
    {
     "data": {
      "text/plain": [
       "[LabeledPoint(0.0, (32768,[250,2069,2627,2817,5725,6357,7697,7762,9745,10188,11558,11722,12136,12629,12945,13026,13606,14296,14597,15048,17341,18011,18023,18689,18793,19274,20601,21604,22011,23039,23149,24234,25533,25818,26384,27095,28107,28211,28405],[1.0,1.0,1.0,1.0,1.0,1.0,1.0,1.0,1.0,1.0,1.0,1.0,1.0,1.0,1.0,1.0,1.0,1.0,1.0,1.0,1.0,1.0,1.0,1.0,1.0,1.0,1.0,1.0,1.0,1.0,1.0,1.0,1.0,1.0,1.0,1.0,1.0,1.0,1.0]))]"
      ]
     },
     "execution_count": 20,
     "metadata": {},
     "output_type": "execute_result"
    }
   ],
   "source": [
    "dev_rdd_hashed.take(1)"
   ]
  },
  {
   "cell_type": "code",
   "execution_count": 21,
   "metadata": {},
   "outputs": [
    {
     "name": "stdout",
     "output_type": "stream",
     "text": [
      "... MLlib train hashed full data with 50 iterations in 1005.9435801506042 seconds.\n"
     ]
    }
   ],
   "source": [
    "start = time.time()\n",
    "lrm_mllib_final = LogisticRegressionWithLBFGS.train(train_rdd_hashed, iterations=50)\n",
    "print (f'... MLlib train hashed full data with 50 iterations in {time.time() - start} seconds.')"
   ]
  },
  {
   "cell_type": "markdown",
   "metadata": {},
   "source": [
    "The MLlib completed the training with full data set as shown above. The run time is $1006$ seconds. We also computed the accuracy with test data set at $0.78$."
   ]
  },
  {
   "cell_type": "code",
   "execution_count": 23,
   "metadata": {},
   "outputs": [
    {
     "name": "stdout",
     "output_type": "stream",
     "text": [
      "Final test accuracy with MLlib = 0.78114392463063\n",
      "... MLlib final full test in 9.716737031936646 seconds.\n"
     ]
    }
   ],
   "source": [
    "start = time.time()\n",
    "test_results_mllib_final = dev_rdd_hashed.map(lambda x: (x.label, lrm_mllib_final.predict(x.features)))\n",
    "testErr_mllib_final = test_results_mllib_final.filter(lambda x: x[0] != x[1]).count() / float(test_results_mllib_final.count())\n",
    "print(f\"Final test accuracy with MLlib = {1-testErr_mllib_final}\")\n",
    "print (f'... MLlib final full test in {time.time() - start} seconds.')"
   ]
  },
  {
   "cell_type": "code",
   "execution_count": 26,
   "metadata": {
    "collapsed": true
   },
   "outputs": [],
   "source": [
    "lrm_mllib_final.save(sc, 'gs://w261-data-gp/notebooks/lrm_mllib_final')"
   ]
  },
  {
   "cell_type": "markdown",
   "metadata": {},
   "source": [
    "In the following, we use our homegrown logistic regression implementation to train the model with full training data set. The run time is $6806$ seconds with accuracy of $0.74$ on the test data."
   ]
  },
  {
   "cell_type": "code",
   "execution_count": 28,
   "metadata": {},
   "outputs": [
    {
     "name": "stdout",
     "output_type": "stream",
     "text": [
      "STEP: 1.\n",
      "STEP: 2.\n",
      "STEP: 3.\n",
      "STEP: 4.\n",
      "STEP: 5.\n",
      "STEP: 6.\n",
      "STEP: 7.\n",
      "STEP: 8.\n",
      "STEP: 9.\n",
      "STEP: 10.\n",
      "STEP: 11.\n",
      "STEP: 12.\n",
      "STEP: 13.\n",
      "STEP: 14.\n",
      "STEP: 15.\n",
      "STEP: 16.\n",
      "STEP: 17.\n",
      "STEP: 18.\n",
      "STEP: 19.\n",
      "STEP: 20.\n",
      "STEP: 21.\n",
      "STEP: 22.\n",
      "STEP: 23.\n",
      "STEP: 24.\n",
      "STEP: 25.\n",
      "STEP: 26.\n",
      "STEP: 27.\n",
      "STEP: 28.\n",
      "STEP: 29.\n",
      "STEP: 30.\n",
      "STEP: 31.\n",
      "STEP: 32.\n",
      "STEP: 33.\n",
      "STEP: 34.\n",
      "STEP: 35.\n",
      "STEP: 36.\n",
      "STEP: 37.\n",
      "STEP: 38.\n",
      "STEP: 39.\n",
      "STEP: 40.\n",
      "STEP: 41.\n",
      "STEP: 42.\n",
      "STEP: 43.\n",
      "STEP: 44.\n",
      "STEP: 45.\n",
      "STEP: 46.\n",
      "STEP: 47.\n",
      "STEP: 48.\n",
      "STEP: 49.\n",
      "STEP: 50.\n",
      "\n",
      "... trained 50 iterations with homegrown LR of full train data in 6806.3908133506775 seconds\n"
     ]
    }
   ],
   "source": [
    "start = time.time()\n",
    "wInit = np.zeros(ctr_dimensions)\n",
    "train_homegrown_model = GradientDescent_wReg(train_rdd_hashed, wInit, nSteps = 50,\n",
    "                                             ctr_dimensions=wInit.size, verbose=False)\n",
    "\n",
    "print(f\"\\n... trained 50 iterations with homegrown LR of full train data in {time.time() - start} seconds\")"
   ]
  },
  {
   "cell_type": "code",
   "execution_count": 29,
   "metadata": {},
   "outputs": [
    {
     "name": "stdout",
     "output_type": "stream",
     "text": [
      "Homegrown LR final test accuracy = 0.743893677221343\n",
      "... Homegrown final full test in 5.412996530532837 seconds.\n"
     ]
    }
   ],
   "source": [
    "start = time.time()\n",
    "test_results_homegrown_final = dev_rdd_hashed.map(lambda x: (x.label, LogisticRegression_RDD_predict(x.features, train_homegrown_model))).cache()\n",
    "testErr_homegrown = test_results_homegrown_final.filter(lambda x: x[0] != x[1]).count() / float(test_results_homegrown_final.count())\n",
    "\n",
    "print(f\"Homegrown LR final test accuracy = {1-testErr_homegrown}\")\n",
    "print (f'... Homegrown final full test in {time.time() - start} seconds.')"
   ]
  },
  {
   "cell_type": "markdown",
   "metadata": {},
   "source": [
    "### Benchmark A: Spark ML with homegrown hashing function\n",
    "\n",
    "The following shows the results of using `LogisticRegression` from `pyspark.ml.classification`."
   ]
  },
  {
   "cell_type": "code",
   "execution_count": 12,
   "metadata": {
    "collapsed": true
   },
   "outputs": [],
   "source": [
    "from pyspark.sql.functions import *\n",
    "from pyspark.mllib.linalg import SparseVector\n",
    "from pyspark.mllib.regression import LabeledPoint\n",
    "from pyspark.mllib.classification import LogisticRegressionWithLBFGS\n",
    "from pyspark.ml.classification import LogisticRegression\n",
    "from pyspark.ml.linalg import Vectors"
   ]
  },
  {
   "cell_type": "markdown",
   "metadata": {},
   "source": [
    "#### Hashing with DataFrames\n",
    "\n",
    "The following implementation of hashing is using the same hashing MD5 function, however there are some critical differences we must note, making this more efficient:\n",
    "\n",
    "(1) Keep the number of dimensions same, this helps comparing the models an apples to apples comparison.    \n",
    "(2) As this uses the Spark 2.0 DataFrames based ML library, we can use the new data pipeline format - `Label, Sparse Vector[features]`    \n",
    "(3) DataFrames were built using Parquet files and on the multi node cluster, the DataFrame is split over 50+ partitions.    \n",
    "(4) Even on the full dataset the hashing function takes only about 60 seconds to process 45.8 Million rows.    "
   ]
  },
  {
   "cell_type": "code",
   "execution_count": 21,
   "metadata": {
    "collapsed": true
   },
   "outputs": [],
   "source": [
    "from collections import defaultdict\n",
    "from pyspark.sql import Row\n",
    "import hashlib\n",
    "\n",
    "def hashing(dims, row, verbose=False):\n",
    "    \"\"\"\n",
    "    Args:\n",
    "        dims (int): Number of buckets to use as features.\n",
    "        row (dict of (feature name, str)): A list of named features for an observation.  Represented as\n",
    "            (featureID, value) tuples.\n",
    "        verbose (bool, optional): If true, the mappings of featureString to index will be\n",
    "            printed.\n",
    "\n",
    "    Returns:\n",
    "        dict of int to float:  The keys will be integers which represent the dimensions that the\n",
    "            features have been hashed to.  The value for a given key will contain the count of the\n",
    "            (featureID, value) tuples that have hashed to that key.\n",
    "    \"\"\"\n",
    "    mapping = {}\n",
    "    for idx, category in row.items():\n",
    "        if idx != 'Label':\n",
    "            feature_str = (str(category) + str(idx)).encode('utf-8')\n",
    "            mapping[feature_str] = int(int(hashlib.md5(feature_str).hexdigest(), 16) % dims)\n",
    "        else:\n",
    "            label = category\n",
    "    \n",
    "    features = defaultdict()\n",
    "    for d in mapping.values():\n",
    "        features[d] = 1.0\n",
    "            \n",
    "    #return dict(hashed_features)\n",
    "    return (float(label),  Vectors.sparse(dims,dict(features)))"
   ]
  },
  {
   "cell_type": "markdown",
   "metadata": {},
   "source": [
    "The following data chunks were stored separately and below is the evidence that while the samples could be processed on a sandbox, the full dataset was processed on a pre-production grade Google Cloud Data Proc cluster."
   ]
  },
  {
   "cell_type": "code",
   "execution_count": 17,
   "metadata": {
    "collapsed": true
   },
   "outputs": [],
   "source": [
    "#RUN ON DATA PROC ONLY ONCE\n",
    "#toyDF = spark.read.parquet(\"gs://w261-schakraverty-bucket/notebooks/toy_sample.parquet\")\n",
    "#F1DF = spark.read.parquet(\"gs://w261-schakraverty-bucket/notebooks/train_sample.parquet\")\n",
    "FullDF = spark.read.parquet(\"gs://w261-schakraverty-bucket/notebooks/train.parquet\")"
   ]
  },
  {
   "cell_type": "code",
   "execution_count": 19,
   "metadata": {},
   "outputs": [
    {
     "data": {
      "text/plain": [
       "45840617"
      ]
     },
     "execution_count": 19,
     "metadata": {},
     "output_type": "execute_result"
    }
   ],
   "source": [
    "FullDF.count()"
   ]
  },
  {
   "cell_type": "markdown",
   "metadata": {},
   "source": [
    "(2) Convert the feature vector into the hashed feature vector space for all the datasets"
   ]
  },
  {
   "cell_type": "code",
   "execution_count": 45,
   "metadata": {
    "collapsed": true
   },
   "outputs": [],
   "source": [
    "## HASHING TRICK - Toy Training set\n",
    "struct = toyDF_T.columns\n",
    "dims = 2 ** 15\n",
    "toyDF_TH = toyDF_T.rdd.map(lambda row: dict(zip(struct,row))) \\\n",
    "                      .map(lambda x: hashing(dims,x,False)) \\\n",
    "                      .toDF(['label','features'])"
   ]
  },
  {
   "cell_type": "code",
   "execution_count": 46,
   "metadata": {
    "collapsed": true
   },
   "outputs": [],
   "source": [
    "## ## HASHING TRICK - Toy Validation set\n",
    "\n",
    "struct = toyDF_V.columns\n",
    "dims = 2 ** 15\n",
    "toyDF_VH = toyDF_V.rdd.map(lambda row: dict(zip(struct,row))) \\\n",
    "                      .map(lambda x: hashing(dims,x,False)) \\\n",
    "                      .toDF(['label','features'])"
   ]
  },
  {
   "cell_type": "markdown",
   "metadata": {},
   "source": [
    "(3) Train and validate the Toy dataset"
   ]
  },
  {
   "cell_type": "code",
   "execution_count": 47,
   "metadata": {},
   "outputs": [
    {
     "name": "stdout",
     "output_type": "stream",
     "text": [
      "Toy Validation accuracy = 0.72\n",
      "... Toy data with 50 iterations in 5.134096622467041 seconds.\n"
     ]
    }
   ],
   "source": [
    "## Train the model using Toy Training Data\n",
    "start = time.time()\n",
    "\n",
    "lr = LogisticRegression(maxIter=50, regParam=0.01)\n",
    "modelt = lr.fit(toyDF_TH)\n",
    "\n",
    "## Validate the model using Toy Training Data\n",
    "prediction = modelt.transform(toyDF_VH)\n",
    "result = prediction.select(\"label\", \"prediction\") \\\n",
    "    .cache()\n",
    "\n",
    "testErr = result.filter(result.label!=result.prediction).count() / float(result.count())\n",
    "print(f\"Toy Validation accuracy = {1-testErr}\")\n",
    "print (f'... Toy data with 50 iterations in {time.time() - start} seconds.')"
   ]
  },
  {
   "cell_type": "markdown",
   "metadata": {},
   "source": [
    "(4) Hashing of the F1 dataset"
   ]
  },
  {
   "cell_type": "code",
   "execution_count": 48,
   "metadata": {
    "collapsed": true
   },
   "outputs": [],
   "source": [
    "## HASHING TRICK - Sample Training set\n",
    "struct = F1DF_T.columns\n",
    "dims = 2 ** 15\n",
    "F1DF_TH = F1DF_T.rdd.map(lambda row: dict(zip(struct,row))) \\\n",
    "                      .map(lambda x: hashing(dims,x,False)) \\\n",
    "                      .toDF(['label','features'])"
   ]
  },
  {
   "cell_type": "code",
   "execution_count": 49,
   "metadata": {
    "collapsed": true
   },
   "outputs": [],
   "source": [
    "## ## HASHING TRICK - Sample Validation set\n",
    "\n",
    "struct = F1DF_V.columns\n",
    "dims = 2 ** 15\n",
    "F1DF_VH = F1DF_V.rdd.map(lambda row: dict(zip(struct,row))) \\\n",
    "                      .map(lambda x: hashing(dims,x,False)) \\\n",
    "                      .toDF(['label','features'])"
   ]
  },
  {
   "cell_type": "markdown",
   "metadata": {},
   "source": [
    "(5) Training of the F1 dataset using Logistical regression"
   ]
  },
  {
   "cell_type": "code",
   "execution_count": 13,
   "metadata": {},
   "outputs": [
    {
     "name": "stdout",
     "output_type": "stream",
     "text": [
      "Sample Validation accuracy = 0.7146691719232318\n",
      "...Sample data with 50 iterations in 34.270079612731934 seconds.\n"
     ]
    }
   ],
   "source": [
    "## Train the model using F1 Training Data\n",
    "start = time.time()\n",
    "\n",
    "lr = LogisticRegression(maxIter=50, regParam=0.01)\n",
    "modelf = lr.fit(F1DF_TH)\n",
    "\n",
    "## Validate the model using F1 Training Data\n",
    "prediction = modelf.transform(F1DF_VH)\n",
    "result = prediction.select(\"label\", \"prediction\") \\\n",
    "    .cache()\n",
    "\n",
    "testErr = result.filter(result.label!=result.prediction).count() / float(result.count())\n",
    "print(f\"Sample Validation accuracy = {1-testErr}\")\n",
    "print (f'...Sample data with 50 iterations in {time.time() - start} seconds.')"
   ]
  },
  {
   "cell_type": "markdown",
   "metadata": {},
   "source": [
    "We can obtain the coefficients by using LogisticRegressionModel’s attributes. We can see the $\\beta$ coefficients of the 30k features in the model."
   ]
  },
  {
   "cell_type": "code",
   "execution_count": 14,
   "metadata": {},
   "outputs": [
    {
     "data": {
      "image/png": "[encoded data removed]",
      "text/plain": [
       "<Figure size 432x288 with 1 Axes>"
      ]
     },
     "metadata": {},
     "output_type": "display_data"
    }
   ],
   "source": [
    "import matplotlib.pyplot as plt\n",
    "import numpy as np\n",
    "\n",
    "beta = np.sort(modelf.coefficients)\n",
    "\n",
    "plt.plot(beta)\n",
    "plt.ylabel('Beta Coefficients')\n",
    "plt.show()"
   ]
  },
  {
   "cell_type": "markdown",
   "metadata": {},
   "source": [
    "### Model Performance measure\n",
    "\n",
    "\n",
    "We summarize the model over the F1 set, we can obtain the receiver-operating characteristic and area under the ROC (AUC - ROC).\n",
    "\n",
    "AUC - ROC curve is the performance measurement for classification problem at various thresholds settings. ROC is a probability curve and AUC represents degree or measure of separability. It tells how much model is capable of distinguishing between classes. Higher the AUC, better the model is at predicting 0s as 0s and 1s as 1s. By analogy, Higher the AUC, better the model is at distinguishing between patients with disease and no disease.\n",
    "\n",
    "The ROC curve below is plotted with TPR against the FPR where TPR is on y-axis and FPR is on the x-axis. This can change based on the business threshold for specificy and hence effect the sensitivity."
   ]
  },
  {
   "cell_type": "code",
   "execution_count": 16,
   "metadata": {},
   "outputs": [
    {
     "data": {
      "image/png": "[encoded data removed]",
      "text/plain": [
       "<Figure size 432x288 with 1 Axes>"
      ]
     },
     "metadata": {},
     "output_type": "display_data"
    },
    {
     "name": "stdout",
     "output_type": "stream",
     "text": [
      "Training set areaUnderROC: 0.9527498955367195\n"
     ]
    }
   ],
   "source": [
    "trainingSummary = modelf.summary\n",
    "\n",
    "roc = trainingSummary.roc.toPandas()\n",
    "plt.plot(roc['FPR'],roc['TPR'])\n",
    "plt.ylabel('False Positive Rate')\n",
    "plt.xlabel('True Positive Rate')\n",
    "plt.title('ROC Curve')\n",
    "plt.show()\n",
    "\n",
    "print('Training set areaUnderROC: ' + str(trainingSummary.areaUnderROC))"
   ]
  },
  {
   "cell_type": "markdown",
   "metadata": {},
   "source": [
    "#### Interpretation of the ROC plot\n",
    "\n",
    "In a ROC curve the false positive rate is plotted as a function of the true positive rate (Sensitivity) for different cut-off points of a parameter. The area under the ROC curve ( AUC ) is a measure of how well a parameter can distinguish between two diagnostic groups (click/non-click)<sup>[14](https://www.medcalc.org/manual/roc-curves.php)</sup>. We can see that we have a model that has an acceptable level of (online) ability to diagnose and tell our marketing client the probability of a click vs no click.   \n",
    "\n"
   ]
  },
  {
   "cell_type": "code",
   "execution_count": 17,
   "metadata": {},
   "outputs": [
    {
     "data": {
      "image/png": "[encoded data removed]",
      "text/plain": [
       "<Figure size 432x288 with 1 Axes>"
      ]
     },
     "metadata": {},
     "output_type": "display_data"
    }
   ],
   "source": [
    "pr = trainingSummary.pr.toPandas()\n",
    "plt.plot(pr['recall'],pr['precision'])\n",
    "plt.ylabel('Precision')\n",
    "plt.xlabel('Recall')\n",
    "plt.show()"
   ]
  },
  {
   "cell_type": "markdown",
   "metadata": {},
   "source": [
    "#### Interpretation of the Recall Vs Precision curve\n",
    "\n",
    "The precision-recall plot is based on two basic measures – recall and precision -- that are calculated from the four outcomes. The precision-recall plot uses recall on the x-axis and precision on the y-axis. Recall is identical with sensitivity, and precision is identical with positive predictive value. \n",
    "\n",
    "A point of caution.\n",
    "\n",
    "Saito and Rehmsmeier (2015)<sup>[8](https://journals.plos.org/plosone/article?id=10.1371/journal.pone.0118432)</sup> found in a literature analysis that ROC curves are very popular, their popularity has been increasing for the last decade, and they are the most widely used evaluation method with imbalanced data. Based on their models for how to compare performance the authors conclude that changing the main evaluation method from ROC to PRC may influence he usefulness of prediction performance measures like ROC or RPC.\n",
    "\n",
    "The graphs presented for the data sets above clearly demonstrate that adding a lot of observations without a click and with low click rate to a model may improve the ROC curve significantly without any improvement in sensitivity or in positive predictive value of the parameter evaluated. \n",
    "\n",
    "The precision-recall curves will not be impacted by the addition of more observations without a click and with low click rates. Thus it can be highly recommended to use PRC as a supplement to the routinely used ROC curves to get the full picture when evaluating and comparing performance of the model."
   ]
  },
  {
   "cell_type": "markdown",
   "metadata": {},
   "source": [
    "### Full Dataset"
   ]
  },
  {
   "cell_type": "code",
   "execution_count": 22,
   "metadata": {
    "collapsed": true
   },
   "outputs": [],
   "source": [
    "## HASHING TRICK - FULL Training set -- (RUN ON DATA PROC ONLY)\n",
    "struct = FullDF_T.columns\n",
    "dims = 2 ** 15\n",
    "FullDF_TH = FullDF_T.rdd.map(lambda row: dict(zip(struct,row))) \\\n",
    "                      .map(lambda x: hashing(dims,x,False)) \\\n",
    "                      .toDF(['label','features'])"
   ]
  },
  {
   "cell_type": "code",
   "execution_count": 23,
   "metadata": {
    "collapsed": true
   },
   "outputs": [],
   "source": [
    "## ## HASHING TRICK - FULL Validation set -- (RUN ON DATA PROC ONLY)\n",
    "\n",
    "struct = FullDF_V.columns\n",
    "dims = 2 ** 15\n",
    "FullDF_VH = FullDF_V.rdd.map(lambda row: dict(zip(struct,row))) \\\n",
    "                      .map(lambda x: hashing(dims,x,False)) \\\n",
    "                      .toDF(['label','features'])"
   ]
  },
  {
   "cell_type": "code",
   "execution_count": 26,
   "metadata": {},
   "outputs": [
    {
     "name": "stdout",
     "output_type": "stream",
     "text": [
      "FULL training set Validation accuracy = 0.7817834221245549\n",
      "...Full training data with 50 iterations in 694.7876329421997 seconds.\n"
     ]
    }
   ],
   "source": [
    "## Train the model using FULL Training Data -- (RUN ON DATA PROC ONLY)\n",
    "start = time.time()\n",
    "\n",
    "lr = LogisticRegression(maxIter=50, regParam=0.01)\n",
    "model = lr.fit(FullDF_TH)\n",
    "\n",
    "## Validate the model using FULL Training Data\n",
    "prediction = model.transform(FullDF_VH)\n",
    "result = prediction.select(\"label\", \"prediction\") \\\n",
    "    .cache()\n",
    "\n",
    "testErr = result.filter(result.label!=result.prediction).count() / float(result.count())\n",
    "print(f\"FULL training set Validation accuracy = {1-testErr}\")\n",
    "print (f'...Full training data with 50 iterations in {time.time() - start} seconds.')"
   ]
  },
  {
   "cell_type": "markdown",
   "metadata": {},
   "source": [
    "#### Distributed computing benefit illustrated\n",
    "\n",
    "The following two cells show how the data itself is distributed over 63 partitions across the worker nodes, using all the worker nodes. This helps the model train much faster and is the core selling point of Spark over a standalone model. Given the large dimension space, this dataset will have a very hard time running even when we scale up on a standalone machine, rather scaling out as needed is entirely feasible."
   ]
  },
  {
   "cell_type": "code",
   "execution_count": 37,
   "metadata": {},
   "outputs": [
    {
     "data": {
      "text/plain": [
       "63"
      ]
     },
     "execution_count": 37,
     "metadata": {},
     "output_type": "execute_result"
    }
   ],
   "source": [
    "FullDF_TH.rdd.getNumPartitions()\n"
   ]
  },
  {
   "cell_type": "code",
   "execution_count": 38,
   "metadata": {},
   "outputs": [
    {
     "data": {
      "text/plain": [
       "28"
      ]
     },
     "execution_count": 38,
     "metadata": {},
     "output_type": "execute_result"
    }
   ],
   "source": [
    "FullDF_VH.rdd.getNumPartitions()"
   ]
  },
  {
   "cell_type": "code",
   "execution_count": 27,
   "metadata": {},
   "outputs": [
    {
     "data": {
      "image/png": "[encoded data removed]",
      "text/plain": [
       "<Figure size 432x288 with 1 Axes>"
      ]
     },
     "metadata": {
      "needs_background": "light"
     },
     "output_type": "display_data"
    }
   ],
   "source": [
    "import matplotlib.pyplot as plt\n",
    "import numpy as np\n",
    "\n",
    "beta = np.sort(model.coefficients)\n",
    "\n",
    "plt.plot(beta)\n",
    "plt.ylabel('Beta Coefficients')\n",
    "plt.show()"
   ]
  },
  {
   "cell_type": "code",
   "execution_count": 28,
   "metadata": {},
   "outputs": [
    {
     "data": {
      "image/png": "[encoded data removed]",
      "text/plain": [
       "<Figure size 432x288 with 1 Axes>"
      ]
     },
     "metadata": {
      "needs_background": "light"
     },
     "output_type": "display_data"
    },
    {
     "name": "stdout",
     "output_type": "stream",
     "text": [
      "Training set areaUnderROC: 0.78004798354049\n"
     ]
    }
   ],
   "source": [
    "trainingSummary = model.summary\n",
    "\n",
    "roc = trainingSummary.roc.toPandas()\n",
    "plt.plot(roc['FPR'],roc['TPR'])\n",
    "plt.ylabel('False Positive Rate')\n",
    "plt.xlabel('True Positive Rate')\n",
    "plt.title('ROC Curve')\n",
    "plt.show()\n",
    "\n",
    "print('Training set areaUnderROC: ' + str(trainingSummary.areaUnderROC))"
   ]
  },
  {
   "cell_type": "code",
   "execution_count": 29,
   "metadata": {},
   "outputs": [
    {
     "data": {
      "image/png": "[encoded data removed]",
      "text/plain": [
       "<Figure size 432x288 with 1 Axes>"
      ]
     },
     "metadata": {
      "needs_background": "light"
     },
     "output_type": "display_data"
    }
   ],
   "source": [
    "pr = trainingSummary.pr.toPandas()\n",
    "plt.plot(pr['recall'],pr['precision'])\n",
    "plt.ylabel('Precision')\n",
    "plt.xlabel('Recall')\n",
    "plt.show()"
   ]
  },
  {
   "cell_type": "markdown",
   "metadata": {},
   "source": [
    "#### Log loss on the full training and validation set"
   ]
  },
  {
   "cell_type": "code",
   "execution_count": 31,
   "metadata": {
    "collapsed": true
   },
   "outputs": [],
   "source": [
    "def log_loss(trueLabel, predProb, eps = 1e-15):\n",
    "    p = np.clip(predProb, eps, 1 - eps)\n",
    "    if (trueLabel == 1):\n",
    "        return -np.log(p)\n",
    "    else:\n",
    "        return -np.log(1-p)"
   ]
  },
  {
   "cell_type": "code",
   "execution_count": 36,
   "metadata": {},
   "outputs": [
    {
     "name": "stdout",
     "output_type": "stream",
     "text": [
      "Mean log loss: 1.546261771468331\n"
     ]
    }
   ],
   "source": [
    "#Mean log loss on full dataset [ From Scott's Notebook]\n",
    "meanLogLoss = prediction.select(['label', 'probability']).rdd.\\\n",
    "    map(lambda x: (x[0], x[1][0])).\\\n",
    "    map(lambda x: log_loss(x[0], x[1])).sum()\\\n",
    "    / prediction.count()\n",
    "\n",
    "print(f'Mean log loss: {meanLogLoss}')"
   ]
  },
  {
   "cell_type": "code",
   "execution_count": 18,
   "metadata": {},
   "outputs": [
    {
     "name": "stdout",
     "output_type": "stream",
     "text": [
      "Test Area Under ROC: 0.652513836749881\n"
     ]
    }
   ],
   "source": [
    "from pyspark.ml.evaluation import BinaryClassificationEvaluator\n",
    "evaluator = BinaryClassificationEvaluator()\n",
    "print(\"Test Area Under ROC: \" + str(evaluator.evaluate(prediction, {evaluator.metricName: \"areaUnderROC\"})))"
   ]
  },
  {
   "cell_type": "markdown",
   "metadata": {},
   "source": [
    "Optional : Training F1 dataset using the Naive Bayes disributed ML model...(to add more explanation, implementation)"
   ]
  },
  {
   "cell_type": "code",
   "execution_count": 44,
   "metadata": {},
   "outputs": [
    {
     "name": "stdout",
     "output_type": "stream",
     "text": [
      "Sample Validation accuracy (NB) = 0.7020534156489062\n",
      "...Sample data with 50 iterations in 22.90907073020935 seconds.\n"
     ]
    }
   ],
   "source": [
    "from pyspark.ml.classification import NaiveBayes, NaiveBayesModel\n",
    "\n",
    "## Train the model using Sample Training Data\n",
    "start = time.time()\n",
    "\n",
    "from pyspark.ml.classification import NaiveBayes\n",
    "\n",
    "# Train a NaiveBayes model\n",
    "nb = NaiveBayes(smoothing=1.0, modelType=\"multinomial\")\n",
    "\n",
    "modelnb = nb.fit(F1DF_TH)\n",
    "\n",
    "## Validate the model using Toy Training Data\n",
    "prediction = modelnb.transform(F1DF_VH)\n",
    "result = prediction.select(\"label\", \"prediction\") \\\n",
    "    .cache()\n",
    "\n",
    "testErr = result.filter(result.label!=result.prediction).count() / float(result.count())\n",
    "print(f\"Sample Validation accuracy (NB) = {1-testErr}\")\n",
    "print (f'...Sample data with 50 iterations in {time.time() - start} seconds.')"
   ]
  },
  {
   "cell_type": "code",
   "execution_count": 45,
   "metadata": {},
   "outputs": [
    {
     "name": "stdout",
     "output_type": "stream",
     "text": [
      "Test Area Under ROC: 0.529507390040488\n"
     ]
    }
   ],
   "source": [
    "from pyspark.ml.evaluation import BinaryClassificationEvaluator\n",
    "evaluator = BinaryClassificationEvaluator()\n",
    "print(\"Test Area Under ROC: \" + str(evaluator.evaluate(prediction, {evaluator.metricName: \"areaUnderROC\"})))"
   ]
  },
  {
   "cell_type": "markdown",
   "metadata": {},
   "source": [
    "#### Optional : Training Full dataset using the Naive Bayes distributed ML model...\n",
    "\n",
    "[Ng and Jordan](https://www.google.com/url?sa=t&rct=j&q=&esrc=s&source=web&cd=1&cad=rja&uact=8&ved=2ahUKEwjqrI7O6tXhAhVms1QKHV6xDnkQFjAAegQIARAC&url=https%3A%2F%2Fai.stanford.edu%2F~ang%2Fpapers%2Fnips01-discriminativegenerative.pdf&usg=AOvVaw1lDX-Rqo3NwkYjfERkK3IK)<sup>[21]</sup> compare the benefits of the discriminative and generative learning, i.e. Logistical regression and Naive Bayes respectively. \n",
    "\n",
    "They show the detailed mathamatical proof of the following very important property: We notice here that the Naive Bayes classifier manages to converge more quickly to it's (higher) asymptotic error. However, the trainign time in iteself is not the only criteria, what we also understand is that while Naive Bayes initially appears to be doing better, the discriminiative Logistical regression will eventually catch up as the number of training examples will continue to increase. Logistical regression would be expected to overtake Naive Bayes. We keep the folllling example \n",
    "\n"
   ]
  },
  {
   "cell_type": "code",
   "execution_count": 39,
   "metadata": {},
   "outputs": [
    {
     "name": "stdout",
     "output_type": "stream",
     "text": [
      "Sample Validation accuracy (NB) = 0.7099160800266101\n",
      "...Sample data with 50 iterations in 597.4028360843658 seconds.\n"
     ]
    }
   ],
   "source": [
    "from pyspark.ml.classification import NaiveBayes, NaiveBayesModel\n",
    "\n",
    "## Train the model using Sample Training Data\n",
    "start = time.time()\n",
    "\n",
    "from pyspark.ml.classification import NaiveBayes\n",
    "\n",
    "# Train a NaiveBayes model\n",
    "nb = NaiveBayes(smoothing=1.0, modelType=\"multinomial\")\n",
    "\n",
    "modelnb = nb.fit(FullDF_TH)\n",
    "\n",
    "## Validate the model using Toy Training Data\n",
    "prediction = modelnb.transform(FullDF_VH)\n",
    "result = prediction.select(\"label\", \"prediction\") \\\n",
    "    .cache()\n",
    "\n",
    "testErr = result.filter(result.label!=result.prediction).count() / float(result.count())\n",
    "print(f\"Sample Validation accuracy (NB) = {1-testErr}\")\n",
    "print (f'...Sample data with 50 iterations in {time.time() - start} seconds.')"
   ]
  },
  {
   "cell_type": "markdown",
   "metadata": {},
   "source": [
    "NOTE : The above Naive Bayes algorithm was no longer used in favor of the more robust Logistical regression with regularization, thus improving the particular model. We focused on the Logistical Regression model due to it's accuracy, stability and robust parameters as the number of traning samples increase."
   ]
  },
  {
   "cell_type": "code",
   "execution_count": 20,
   "metadata": {},
   "outputs": [
    {
     "data": {
      "text/plain": [
       "(36670947, 9169301)"
      ]
     },
     "execution_count": 20,
     "metadata": {},
     "output_type": "execute_result"
    }
   ],
   "source": [
    "# RUN ON DATA PROC ONLY - Create FULL training and Validation set from Training set\n",
    "splits = FullDF.randomSplit([0.8,0.2],2019)\n",
    "FullDF_T , FullDF_V= splits[0] , splits[1]\n",
    "FullDF_T.count() , FullDF_V.count()"
   ]
  },
  {
   "cell_type": "code",
   "execution_count": 22,
   "metadata": {
    "collapsed": true
   },
   "outputs": [],
   "source": [
    "## HASHING TRICK - FULL Training set -- (RUN ON DATA PROC ONLY)\n",
    "struct = FullDF_T.columns\n",
    "dims = 2 ** 15\n",
    "FullDF_TH = FullDF_T.rdd.map(lambda row: dict(zip(struct,row))) \\\n",
    "                      .map(lambda x: hashing(dims,x,False)) \\\n",
    "                      .toDF(['label','features'])"
   ]
  },
  {
   "cell_type": "code",
   "execution_count": 23,
   "metadata": {
    "collapsed": true
   },
   "outputs": [],
   "source": [
    "## ## HASHING TRICK - FULL Validation set -- (RUN ON DATA PROC ONLY)\n",
    "\n",
    "struct = FullDF_V.columns\n",
    "dims = 2 ** 15\n",
    "FullDF_VH = FullDF_V.rdd.map(lambda row: dict(zip(struct,row))) \\\n",
    "                      .map(lambda x: hashing(dims,x,False)) \\\n",
    "                      .toDF(['label','features'])"
   ]
  },
  {
   "cell_type": "code",
   "execution_count": 26,
   "metadata": {},
   "outputs": [
    {
     "name": "stdout",
     "output_type": "stream",
     "text": [
      "FULL training set Validation accuracy = 0.7817834221245549\n",
      "...Full training data with 50 iterations in 694.7876329421997 seconds.\n"
     ]
    }
   ],
   "source": [
    "## Train the model using FULL Training Data -- (RUN ON DATA PROC ONLY)\n",
    "start = time.time()\n",
    "\n",
    "lr = LogisticRegression(maxIter=50, regParam=0.01)\n",
    "model = lr.fit(FullDF_TH)\n",
    "\n",
    "## Validate the model using FULL Training Data\n",
    "prediction = model.transform(FullDF_VH)\n",
    "result = prediction.select(\"label\", \"prediction\") \\\n",
    "    .cache()\n",
    "\n",
    "testErr = result.filter(result.label!=result.prediction).count() / float(result.count())\n",
    "print(f\"FULL training set Validation accuracy = {1-testErr}\")\n",
    "print (f'...Full training data with 50 iterations in {time.time() - start} seconds.')"
   ]
  },
  {
   "cell_type": "markdown",
   "metadata": {},
   "source": [
    "#### Benchmark A : Spark 2.0 ML implementation summary\n",
    "\n",
    "Our business user ultimately wants a solution that can achieve their goals, while the Data science team can take advantage of the most stable generally available features of Spark that can be handed off the the Dev Ops organization for continued maintenance. From approximately 2015 on, Apache Spark's core development team implemented an umbrella project called Tungsten to overhaul Spark's execution engine<sup>10</sup>. Concurrently, the Catalyst optimizer was introduced in 2015<sup>11</sup> We recognize the following key facts of using Spark's latest ML and DataFrames abstraction libraries:\n",
    "\n",
    "(1) Ease-of-use of APIs with structure - Although DataFrame structure may limit control in what the Spark program can do with data, it introduces rich semantics and an easy set of domain specific operations that can be expressed as high-level constructs. Most computations, however, can be accomplished with DataFrame's high-level APIs. (it’s much simpler to perform agg, select, sum, avg, map, filter, or groupBy operations than using RDD rows’ data fields.)<sup>[15](https://www.kdnuggets.com/2017/08/three-apache-spark-apis-rdds-dataframes-datasets.html)</sup>\n",
    "\n",
    "(2) Performance and Optimization - Along with all the above benefits, we cannot overlook the space efficiency and performance gains in using DataFrames and Dataset APIs for two reasons. First, because DataFrame and Dataset APIs are built on top of the Spark SQL engine, it uses Catalyst to generate an optimized logical and physical query plan. Across R, Java, Scala, or Python DataFrame/Dataset APIs, all relation type queries undergo the same code optimizer, providing the space and speed efficiency. Whereas the Dataset[T] typed API is optimized for data engineering tasks, the untyped Dataset(row) (an alias of DataFrame) is even faster and suitable for interactive analysis.<sup>[16](https://databricks.com/blog/2016/07/14/a-tale-of-three-apache-spark-apis-rdds-dataframes-and-datasets.html)</sup>\n",
    "\n",
    "(3) Modernization of the framework - The choice of RDD or DataFrame is NOT always easy one. RDD offers low-level functionality and control, the DataFrame allows custom view and structure, high-level and specific operations, saves space, and executes at superior speeds.\n",
    "\n",
    "As we examined in this class, the lessons we learned from early releases of Hadoop streaming, RDDs\n",
    "  — how to simplify Spark for developers, how to optimize and make it performant\n",
    "  — we decided to elevate the low-level RDD APIs to a high-level abstraction as DataFrame and Dataset and to build this unified data abstraction across  libraries atop Catalyst optimizer and Tungsten.<sup>[18](https://datalere.com/databricks/5-things-to-know-about-databricks/)</sup>\n",
    "  - Spark has been historically difficult to tune and maintain. That makes it very hard to ensure performance so that it doesn’t buckle under heavy data loads.  If the cluster isn’t expertly managed, this can negate “the Good” aspects fast.\n",
    "  - PySpark UDFs are much slower and more memory-intensive than Scala and Java UDFs are. \n",
    "  - The performance skew towards Scala and Java is noticeable and appreciated, since Spark is written in Scala and runs on the Java Virtual Machine (JVM).<sup>[19](https://www.quora.com/What-is-the-difference-between-using-Spark-in-Scala-and-Python)</sup> \n",
    "  - Python UDFs require moving data from the executor’s JVM to a Python interpreter, which is very slow. If Python UDF performance is problematic, Spark does enable a user to create Scala UDFs, which can be run in Python. However, this slows down development time and was beyond the scope of this project.<sup>[17](https://spark.apache.org/docs/latest/sql-pyspark-pandas-with-arrow.html)</sup>\n",
    "\n",
    "\n",
    "In Summary,\n",
    "\n",
    "Apache Spark has released DataFrames and DataSets abstractions. They have also added several specific base algorithms in the machine learning libraries (MLlib and ML) and improved performance. Unfortunately, enterprises that need business continuity will be cautious to upgrade to more complex engineering centric solution creating a major bottleneck due to a constant need for highly skilled data engineers and Spark data scientists. As data scientists, we have had to cope with working on the Hadoop stream, then RDD and finally the DataFrames paradigm, making the progress to become faster and lot of error prone details to be abstracted out.<sup>[20](https://thenewstack.io/the-good-bad-and-ugly-apache-spark-for-data-science-work/)</sup>\n",
    "\n",
    "We propose that for this project, we keep in mind that a model that is less complex, has greater parsimony, utilizes a framework that allows faster go-to-market and above all a distributed computing environment that is less prone to errors and resilient to the elastic nature of Big data challenges, is the key to success.\n"
   ]
  },
  {
   "cell_type": "markdown",
   "metadata": {},
   "source": [
    "### Benchmark B: Spark ML and Spark Hash function"
   ]
  },
  {
   "cell_type": "code",
   "execution_count": 5,
   "metadata": {
    "collapsed": true
   },
   "outputs": [],
   "source": [
    "import pyspark.sql.functions as F"
   ]
  },
  {
   "cell_type": "code",
   "execution_count": 6,
   "metadata": {
    "collapsed": true
   },
   "outputs": [],
   "source": [
    "from pyspark.ml.feature import FeatureHasher\n",
    "from pyspark.sql import Row\n",
    "from pyspark.ml.linalg import Vectors\n",
    "from pyspark.ml.classification import LogisticRegression\n"
   ]
  },
  {
   "cell_type": "code",
   "execution_count": 8,
   "metadata": {
    "collapsed": true
   },
   "outputs": [],
   "source": [
    "raw_train_rdd = sc.textFile('gs://whimsy/data/train.txt', 2).map(lambda x: x.replace('\\t', ','))"
   ]
  },
  {
   "cell_type": "code",
   "execution_count": 7,
   "metadata": {
    "collapsed": true
   },
   "outputs": [],
   "source": [
    "raw_train_rdd = sc.textFile('gs://w261-data-gp/data/train.txt', 2).map(lambda x: x.replace('\\t', ','))"
   ]
  },
  {
   "cell_type": "code",
   "execution_count": 21,
   "metadata": {
    "collapsed": true
   },
   "outputs": [],
   "source": [
    "#train_sample = raw_train_rdd.sample(fraction=0.10, seed = 42, withReplacement= False)\n",
    "RDD = raw_train_rdd.map(lambda x: x.split(','))\n",
    "train_sample_df = RDD.toDF()"
   ]
  },
  {
   "cell_type": "code",
   "execution_count": 24,
   "metadata": {},
   "outputs": [
    {
     "name": "stdout",
     "output_type": "stream",
     "text": [
      "Hashing to 32768 dimensions\n",
      "Hashing completed job in 0.14031076431274414 seconds.\n",
      "Fitting\n",
      "Fitting completed job in 288.1995451450348 seconds for 50 iterations.\n",
      "Objective History:\n",
      "0.5690695122717043\n",
      "0.562927102648893\n",
      "0.5403914208840935\n",
      "0.5383135289922488\n",
      "0.5370124175571116\n",
      "0.5358635546808279\n",
      "0.5349961606990863\n",
      "0.5347969340503967\n",
      "0.5345190181639797\n",
      "0.5343388757291968\n",
      "0.5340599892987344\n",
      "0.5339632675039712\n",
      "0.5338079855557321\n",
      "0.533742303707672\n",
      "0.5336732694796329\n",
      "0.5336484992434946\n",
      "0.5336321797467516\n",
      "0.5336220008041086\n",
      "0.5336165621511542\n",
      "0.5336026622197877\n",
      "0.533600303757809\n",
      "0.5335889391389165\n",
      "0.5335840536108487\n",
      "0.5335803913477444\n",
      "0.5335748287028189\n",
      "0.5335679438875043\n",
      "0.5335643313429337\n",
      "0.5335605940260457\n",
      "0.5335573418100674\n",
      "0.5335539378054186\n",
      "0.5335464075224362\n",
      "0.5335425320759277\n",
      "0.5335388133925143\n",
      "0.5335352333275233\n",
      "0.5335306893185437\n",
      "0.5335290458809745\n",
      "0.5335278494145177\n",
      "0.5335249308689615\n",
      "0.5335227896484618\n",
      "0.5335212196804394\n",
      "0.5335208636675725\n",
      "0.5335188199140855\n",
      "0.5335171084980285\n",
      "0.5335163256571412\n",
      "0.5335144742576114\n",
      "0.5335143005506361\n",
      "0.5335133687488797\n",
      "0.5335111594490113\n",
      "0.533510434904224\n",
      "0.5335093504983844\n",
      "0.5335083854698486\n",
      "+--------------------+--------------------+\n",
      "|                 FPR|                 TPR|\n",
      "+--------------------+--------------------+\n",
      "|                 0.0|                 0.0|\n",
      "|5.523361528619633E-4| 0.00859882790237367|\n",
      "|0.001363418564249...| 0.01725657229640989|\n",
      "|0.001426125376845...|0.017844970958086025|\n",
      "|0.002413215076536187|0.026401229141050336|\n",
      "|0.002590718177487791|0.027937400035656396|\n",
      "|0.003800361335542...|  0.0370755011435078|\n",
      "|0.003987895180136758| 0.03844335136756927|\n",
      "|0.005363045608295531| 0.04740121228344145|\n",
      "|0.005748056052147431|0.049840286926719976|\n",
      "| 0.00728143999478636| 0.05909256002202728|\n",
      "|0.007933584979858882| 0.06292613353371751|\n",
      "|0.009611916101100394|  0.0720736851192778|\n",
      "|0.010332751149363375| 0.07571790851903522|\n",
      "|0.012139018246538609| 0.08468275086889054|\n",
      "| 0.01216139677694609| 0.08479258074496668|\n",
      "|0.014014063395883623| 0.09358535628896938|\n",
      "|0.014254243979772038| 0.09469804361489116|\n",
      "|  0.0161869805698923| 0.10345948784540858|\n",
      "|0.016272916473029808|       0.10386083516|\n",
      "+--------------------+--------------------+\n",
      "only showing top 20 rows\n",
      "\n",
      "areaUnderROC: 0.72207684863266\n",
      "Mean log loss: 1.2607201549873468\n"
     ]
    }
   ],
   "source": [
    "numDims = 2**15\n",
    "W = np.random.randn(numDims, numDims)\n",
    "\n",
    "#Reference http://wiki.fast.ai/index.php/Log_Loss\n",
    "\n",
    "def my_log_loss(trueLabel, predProb, eps = 1e-15):\n",
    "    p = np.clip(predProb, eps, 1 - eps)\n",
    "    if (trueLabel == 1):\n",
    "        return -np.log(p)\n",
    "    else:\n",
    "        return -np.log(1-p)\n",
    "    \n",
    "\n",
    "\n",
    "start = time.time()\n",
    "print(f'Hashing to {numDims} dimensions')\n",
    "\n",
    "hasher = FeatureHasher(numFeatures=numDims,\n",
    "                       inputCols=train_sample_df.columns[1:],\n",
    "                       outputCol=\"features\")\n",
    "\n",
    "featurized = hasher.transform(train_sample_df)\n",
    "#featurized.show(truncate=False)\n",
    "\n",
    "end = time.time()\n",
    "print(f'Hashing completed job in {end - start} seconds.')\n",
    "\n",
    "start = time.time()\n",
    "print('Fitting')\n",
    "\n",
    "training = featurized.withColumn('label', featurized._1.cast('int'))\n",
    "\n",
    "\n",
    "lr = LogisticRegression(maxIter=50,\\\n",
    "                        regParam=0.01,\\\n",
    "                        elasticNetParam=0.8,\\\n",
    "                        featuresCol='features',\\\n",
    "                       labelCol='label')\n",
    "\n",
    "# Fit the model\n",
    "lrModel = lr.fit(training)\n",
    "\n",
    "end = time.time()\n",
    "print(f'Fitting completed job in {end - start} seconds for 50 iterations.')\n",
    "\n",
    "\n",
    "trainingSummary = lrModel.summary\n",
    "\n",
    "objectiveHistory = trainingSummary.objectiveHistory\n",
    "print(\"Objective History:\")\n",
    "\n",
    "for objective in objectiveHistory:\n",
    "    print(objective)\n",
    "    \n",
    "# Obtain the receiver-operating characteristic as a dataframe and areaUnderROC.\n",
    "trainingSummary.roc.show()\n",
    "print(\"areaUnderROC: \" + str(trainingSummary.areaUnderROC))\n",
    "\n",
    "# Set the model threshold to maximize F-Measure\n",
    "fMeasure = trainingSummary.fMeasureByThreshold\n",
    "maxFMeasure = fMeasure.groupBy().max('F-Measure').select('max(F-Measure)').head()\n",
    "bestThreshold = fMeasure.where(fMeasure['F-Measure'] == maxFMeasure['max(F-Measure)']) \\\n",
    "    .select('threshold').head()['threshold']\n",
    "lr.setThreshold(bestThreshold)\n",
    "\n",
    "\n",
    "predictions = lrModel.transform(dataset=training)\n",
    "\n",
    "#  mean log loss\n",
    "meanLogLoss = predictions.select(['label', 'probability']).rdd.\\\n",
    "    map(lambda x: (x[0], x[1][0])).\\\n",
    "    map(lambda x: my_log_loss(x[0], x[1])).sum()\\\n",
    "    / predictions.count()\n",
    "\n",
    "print(f'Mean log loss: {meanLogLoss}')\n"
   ]
  },
  {
   "cell_type": "code",
   "execution_count": 25,
   "metadata": {},
   "outputs": [
    {
     "data": {
      "text/plain": [
       "0.7602666866373112"
      ]
     },
     "execution_count": 25,
     "metadata": {},
     "output_type": "execute_result"
    }
   ],
   "source": [
    "trainingSummary.accuracy"
   ]
  },
  {
   "cell_type": "markdown",
   "metadata": {},
   "source": [
    "### Benchmark C: Spark MLlib and MurmurHash function"
   ]
  },
  {
   "cell_type": "markdown",
   "metadata": {},
   "source": [
    "Since One Hot Encoding of all the features in this dataset results in over 33 million dimensions, we wanted to explore the model performance when data is not one-hot-encoded. Below is the illustration of utilizing hashing and data normalization without one hot encoding. This approach retains the original dimensionality of 39 features. \n",
    "\n",
    "Containing dimensionality helps in faster performance. However, such computational performance should not undermine model performance. "
   ]
  },
  {
   "cell_type": "code",
   "execution_count": 4,
   "metadata": {
    "collapsed": true
   },
   "outputs": [],
   "source": [
    "trainFile = sc.textFile('gs://w261-project-bucket/data/train.txt', 2)\n",
    "testFile = sc.textFile('gs://w261-project-bucket/data/test.txt', 2) \n",
    "# Sample file was created using random 0.01 % of training data file\n",
    "sampleFile =  sc.textFile('gs://w261-project-bucket/data/sample.txt', 2)"
   ]
  },
  {
   "cell_type": "code",
   "execution_count": 10,
   "metadata": {
    "collapsed": true
   },
   "outputs": [],
   "source": [
    "import mmh3 as mmh"
   ]
  },
  {
   "cell_type": "code",
   "execution_count": 4,
   "metadata": {
    "collapsed": true
   },
   "outputs": [],
   "source": [
    "from pyspark.mllib.regression import LabeledPoint\n",
    "def parse(line):\n",
    "    items = line.split(\"\\t\")\n",
    "    return items\n",
    "\n",
    "def featureHash(line):\n",
    "    items = line.split(\"\\t\")\n",
    "    # Ensure target is not hashed\n",
    "    newLine = []\n",
    "    for i, item in enumerate(items):\n",
    "        if i == 0:\n",
    "            newLine.append(int(item))\n",
    "        else:\n",
    "            newLine.append(mmh.hash(item))\n",
    "    return LabeledPoint(newLine[0], newLine[1:])\n",
    "    \n",
    "def normalize(dataRDD):\n",
    "    start = time.time()\n",
    "    fMean = dataRDD.map(lambda x: x.features).mean()\n",
    "    fSD = np.sqrt(dataRDD.map(lambda x: x.features).variance())\n",
    "    \n",
    "    nRDD = dataRDD.map(lambda x: LabeledPoint(x.label, (x.features - fMean)/fSD))\n",
    "    \n",
    "    return nRDD    "
   ]
  },
  {
   "cell_type": "code",
   "execution_count": 6,
   "metadata": {},
   "outputs": [
    {
     "name": "stdout",
     "output_type": "stream",
     "text": [
      "Time to hash data: 8.0108642578125e-05 seconds.\n",
      "Time to normalize data: 223.0287230014801 seconds.\n"
     ]
    },
    {
     "data": {
      "text/plain": [
       "PythonRDD[16] at RDD at PythonRDD.scala:49"
      ]
     },
     "execution_count": 6,
     "metadata": {},
     "output_type": "execute_result"
    }
   ],
   "source": [
    "# Parse full training data \n",
    "start = time.time()\n",
    "fullRDD = trainFile.map(featureHash)\n",
    "print (f'Time to hash data: {time.time() - start} seconds.')\n",
    "\n",
    "start = time.time()\n",
    "fullHashRDD = normalize(fullRDD).cache()\n",
    "print (f'Time to normalize data: {time.time() - start} seconds.')\n",
    "\n",
    "# Split training data into training and test RDD with a 70:30 split\n",
    "trainRDD, testRDD = fullHashRDD.randomSplit([.7,.3], seed=7)\n",
    "trainRDD.cache()\n",
    "testRDD.cache()"
   ]
  },
  {
   "cell_type": "markdown",
   "metadata": {},
   "source": [
    "### Spark MLLib Evaluation Full data"
   ]
  },
  {
   "cell_type": "markdown",
   "metadata": {},
   "source": [
    "MLLib model performance was at approx 74.4 % accuracy with test data when features are not normalized. Normalizing features has made performance much worse. However, normalizing data improves the time taken to train & test data.\n",
    "\n",
    "The homegrown model, however, performs significantly better in terms of accuracy (at ~74%) although suffers in terms of time taken to generate a response. "
   ]
  },
  {
   "cell_type": "code",
   "execution_count": 23,
   "metadata": {},
   "outputs": [
    {
     "name": "stdout",
     "output_type": "stream",
     "text": [
      "Training Error is: 0.2557397838929348 and accuracy is: 0.7442602161070653.\n",
      "Time to train data: 269.92262983322144 seconds.\n",
      "Testing Error is: 0.25604189040134256 and accuracy is: 0.7439581095986574.\n",
      "Time to Test data: 65.47434186935425 seconds.\n"
     ]
    }
   ],
   "source": [
    "start = time.time()\n",
    "hModel = LogisticRegressionWithLBFGS.train(trainRDD_Hashed, iterations=50)\n",
    "\n",
    "# Evaluate model on Training data without normalizing\n",
    "trainingPredictions_Hashed = trainRDD_Hashed.map(lambda line: (line.label, hModel.predict(line.features)))\n",
    "trainErr_Hashed = trainingPredictions_Hashed.filter(lambda lp: lp[0] != lp[1]).count() / float(trainRDD_Hashed.count())\n",
    "print(f'Training Error is: {str(trainErr_Hashed)} and accuracy is: {str(1 - trainErr_Hashed)}.')\n",
    "print (f'Time to train data: {time.time() - start} seconds.')\n",
    "\n",
    "start = time.time()\n",
    "\n",
    "# Evaluate model on Test data\n",
    "testPredictions_Hashed = testRDD_Hashed.map(lambda line: (line.label, hModel.predict(line.features)))\n",
    "testErr_Hashed = testPredictions_Hashed.filter(lambda lp: lp[0] != lp[1]).count() / float(testRDD_Hashed.count())\n",
    "print(f'Testing Error is: {str(testErr_Hashed)} and accuracy is: {str(1 - testErr_Hashed)}.')\n",
    "print (f'Time to Test data: {time.time() - start} seconds.')"
   ]
  },
  {
   "cell_type": "code",
   "execution_count": 13,
   "metadata": {},
   "outputs": [
    {
     "name": "stdout",
     "output_type": "stream",
     "text": [
      "Training Error is: 0.40945115836647006 and accuracy is: 0.5905488416335299.\n",
      "Time to train data: 181.8348867893219 seconds.\n",
      "Testing Error is: 0.4092979987396704 and accuracy is: 0.5907020012603297.\n",
      "Time to Test data: 19.773133039474487 seconds.\n"
     ]
    }
   ],
   "source": [
    "start = time.time()\n",
    "lModel = LogisticRegressionWithLBFGS.train(trainRDD, iterations=50)\n",
    "\n",
    "# Evaluate model on Training data\n",
    "trainingPredictions = trainRDD.map(lambda line: (line.label, lModel.predict(line.features)))\n",
    "trainErr = trainingPredictions.filter(lambda lp: lp[0] != lp[1]).count() / float(trainRDD.count())\n",
    "print(f'Training Error is: {str(trainErr)} and accuracy is: {str(1 - trainErr)}.')\n",
    "print (f'Time to train data: {time.time() - start} seconds.')\n",
    "\n",
    "start = time.time()\n",
    "\n",
    "# Evaluate model on Test data\n",
    "testPredictions = testRDD.map(lambda line: (line.label, lModel.predict(line.features)))\n",
    "testErr = testPredictions.filter(lambda lp: lp[0] != lp[1]).count() / float(testRDD.count())\n",
    "print(f'Testing Error is: {str(testErr)} and accuracy is: {str(1 - testErr)}.')\n",
    "print (f'Time to Test data: {time.time() - start} seconds.')"
   ]
  },
  {
   "cell_type": "markdown",
   "metadata": {},
   "source": [
    "#### Homegrown model with murmurhash & normalization"
   ]
  },
  {
   "cell_type": "code",
   "execution_count": 9,
   "metadata": {
    "collapsed": true
   },
   "outputs": [],
   "source": [
    "def sigmoid(z):\n",
    "    return 1/(1+np.exp(-z))\n",
    "\n",
    "def logLikelihood(dataRDD, W):\n",
    "    augmentedData = dataRDD.map(lambda x: (x.label, np.append([1.0], x.features)))\n",
    "    def cost(data):\n",
    "        y = data[0]\n",
    "        x = data[1]\n",
    "        return ((y * np.log(sigmoid(W.dot(x)))) + (1-y)*(np.log(1-sigmoid(W.dot(x)))))\n",
    "    logLoss = -augmentedData.map(cost).mean()\n",
    "    return logLoss    \n",
    "\n",
    "def gradientUpdate(dataRDD, W, learningRate, regParam):\n",
    "    # add a bias 'feature' of 1 at index 0\n",
    "    augmentedData = dataRDD.map(lambda x: (x.label, np.append([1.0], x.features))).cache()\n",
    "    grad = augmentedData.map(lambda x: (sigmoid(W.dot(x[1])) - x[0]) * x[1]).mean()\n",
    "    grad += regParam * np.append([0.0], np.sign(W)[1:])\n",
    "    new_model = W - learningRate * grad\n",
    "    return new_model   \n",
    "\n",
    "def hgLogisticRegression(trainRDD, testRDD, W, learningRate = 0.1, regParam = 0.5, iterations = 5, verbose = True):\n",
    "    # initialize lists to track model performance\n",
    "    trainHistory, testHistory, modelHistory = [], [], []\n",
    "    hgModel = W\n",
    "    for idx in range(iterations):\n",
    "        hgModel = gradientUpdate(trainRDD, hgModel, learningRate, regParam)\n",
    "        trainingLoss = logLikelihood(trainRDD, hgModel)\n",
    "        testingLoss = logLikelihood(testRDD, hgModel)\n",
    "\n",
    "        trainHistory.append(trainingLoss)\n",
    "        testHistory.append(testingLoss)\n",
    "        modelHistory.append(hgModel)\n",
    "\n",
    "        if verbose:\n",
    "            print(\"----------\")\n",
    "            print(f\"STEP: {idx+1}\")\n",
    "            print(f\"training loss: {trainingLoss}\")\n",
    "            print(f\"test loss: {testingLoss}\")\n",
    "            print(f\"Model: {[round(w,3) for w in hgModel]}\")\n",
    "    \n",
    "    return trainHistory, testHistory, modelHistory\n",
    "\n",
    "def plotErrorCurves(trainLoss, testLoss, title = None):\n",
    "    \"\"\"\n",
    "    Helper function for plotting.\n",
    "    Args: trainLoss , testLoss\n",
    "    \"\"\"\n",
    "    fig, ax = plt.subplots(1,1,figsize = (16,8))\n",
    "    x = list(range(len(trainLoss)))[1:]\n",
    "    ax.plot(x, trainLoss[1:], 'k--', label='Training Loss')\n",
    "    ax.plot(x, testLoss[1:], 'r--', label='Test Loss')\n",
    "    ax.legend(loc='upper right', fontsize='x-large')\n",
    "    plt.xlabel('Number of Iterations')\n",
    "    plt.ylabel('Loss')\n",
    "    if title:\n",
    "        plt.title(title)\n",
    "    plt.show()\n",
    "    \n"
   ]
  },
  {
   "cell_type": "markdown",
   "metadata": {},
   "source": [
    "### Home grown model on sample data"
   ]
  },
  {
   "cell_type": "code",
   "execution_count": 11,
   "metadata": {},
   "outputs": [
    {
     "name": "stdout",
     "output_type": "stream",
     "text": [
      "Time taken on sample data: 1652.0397686958313 seconds.\n"
     ]
    }
   ],
   "source": [
    "start = time.time()\n",
    "sampleModel = np.zeros(40)\n",
    "trainSampleErr, testSampleErr, models = hgLogisticRegression(normRDD, testRDD, sampleModel, 0.1, 0.5, 50, False)\n",
    "print (f'Time taken on sample data: {time.time() - start} seconds.')"
   ]
  },
  {
   "cell_type": "code",
   "execution_count": 12,
   "metadata": {},
   "outputs": [
    {
     "data": {
      "image/png": "[encoded data removed]",
      "text/plain": [
       "<Figure size 1152x576 with 1 Axes>"
      ]
     },
     "metadata": {
      "needs_background": "light"
     },
     "output_type": "display_data"
    }
   ],
   "source": [
    "plotErrorCurves(trainSampleErr, testSampleErr, title = 'Logistic Regression - Sample data' )"
   ]
  },
  {
   "cell_type": "markdown",
   "metadata": {},
   "source": [
    "### Home grown model on full data"
   ]
  },
  {
   "cell_type": "code",
   "execution_count": 17,
   "metadata": {},
   "outputs": [
    {
     "name": "stdout",
     "output_type": "stream",
     "text": [
      "Time taken on full data: 5955.500848531723 seconds.\n"
     ]
    }
   ],
   "source": [
    "start = time.time()\n",
    "hgModel = np.zeros(40)\n",
    "trainErr, testErr, regModels = hgLogisticRegression(trainRDD, testRDD, hgModel, 0.1, 0.5, 50, False)\n",
    "print (f'Time taken on full data: {time.time() - start} seconds.')"
   ]
  },
  {
   "cell_type": "code",
   "execution_count": 18,
   "metadata": {},
   "outputs": [
    {
     "data": {
      "image/png": "[encoded data removed]",
      "text/plain": [
       "<Figure size 1152x576 with 1 Axes>"
      ]
     },
     "metadata": {
      "needs_background": "light"
     },
     "output_type": "display_data"
    }
   ],
   "source": [
    "plotErrorCurves(trainErr, testErr, title = 'Logistic Regression - Full data' )"
   ]
  },
  {
   "cell_type": "code",
   "execution_count": 71,
   "metadata": {},
   "outputs": [
    {
     "name": "stdout",
     "output_type": "stream",
     "text": [
      "Full Data homegrown LR test accuracy = 0.7435562232336266\n"
     ]
    }
   ],
   "source": [
    "pred_homegrown = testRDD.map(lambda x: (x.label, LogisticRegression_RDD_predict(np.append([1.0], x.features), regModels[-1]))).cache()\n",
    "testErr_homegrown = pred_homegrown.filter(lambda x: x[0] != x[1]).count() / float(pred_homegrown.count())\n",
    "print(f\"Full Data homegrown LR test accuracy = {1-testErr_homegrown}\")"
   ]
  },
  {
   "cell_type": "markdown",
   "metadata": {},
   "source": [
    "## Model with k-fold Cross Validation"
   ]
  },
  {
   "cell_type": "markdown",
   "metadata": {},
   "source": [
    "k-fold cross validation is a well established approach to reduce model bias and variance. The approach trains a model iteratively k-times by dividing data into k datasets, holding out the k<sup>th</sup> set for testing and using the rest for training. Bias is reduced by ensuring each data point is in test set exactly one time while the model error is computed across all k trials.<sup>[22]</sup>  \n",
    "\n",
    "K-Fold cross validation takes the following steps<sup>[23]</sup>:\n",
    "1.\tShuffle the dataset randomly.\n",
    "2.\tSplit the dataset into k groups\n",
    "3.\tFor each unique group:  \n",
    "    3.1.\tTake the group as a hold out or test data set  \n",
    "    3.2.\tTake the remaining groups as a training data set  \n",
    "    3.3.\tFit a model on the training set and evaluate it on the test set  \n",
    "    3.4.\tRetain the evaluation score and discard the model\n",
    "4.\tSummarize the skill of the model using the sample of model evaluation scores\n",
    "\n",
    "The downside of this approach however is the time it takes to train the model. Since the model executes k times, model training can take a very long time. As such, below execution was performed only on the sample dataset. The full dataset execution did not complete despite training on cluster node setup for 24 hours. This execution was terminated due to resource cnstraints."
   ]
  },
  {
   "cell_type": "code",
   "execution_count": 13,
   "metadata": {
    "collapsed": true
   },
   "outputs": [],
   "source": [
    "def kResiduals(dataPoint, models, splitNum):\n",
    "    \"\"\"\n",
    "    Compute the residuals for a data point given k different models.\n",
    "    Note that points from the k-th split are part of the test set for model number k\n",
    "    and part of the trainin set for all other models. We'll emit a key to track this.\n",
    "    Args:\n",
    "        dataPoint - tuple of (features_array, y)\n",
    "        models    - list of arrays representing model weights (bias at index 0)\n",
    "    Returns:\n",
    "        (stringFormattedKey, squared_error)\n",
    "    \"\"\"\n",
    "    # augment the data point with a bias term at index 0\n",
    "    X = np.append([1.0], dataPoint.features)\n",
    "    y = dataPoint.label\n",
    "    # emit squared residuals for each model\n",
    "    for modelNum, W in enumerate(models):\n",
    "        if modelNum == splitNum:\n",
    "            yield(f\"{modelNum}-test\", ((- y * np.log(sigmoid(W * X))) - (1-y)*(np.log(1-sigmoid(W * X)))))\n",
    "        else:\n",
    "            yield(f\"{modelNum}-train\", ((- y * np.log(sigmoid(W * X))) - (1-y)*(np.log(1-sigmoid(W * X)))))\n",
    "            \n",
    "\n",
    "def CVLoss(dataSplits, models):\n",
    "    \"\"\"\n",
    "    Compute the k-fold cross-validated test and train loss.\n",
    "    Args:\n",
    "        dataSplits - list of RDDs corresponding to the k test splits.\n",
    "        models     - list of k arrays representing model weights (bias at index 0)\n",
    "    Returns: \n",
    "        tuple of floats: (training_loss, test_loss)\n",
    "    \"\"\"\n",
    "    # compute k residuals for each dataPoint (one for each model)\n",
    "    partialLossRDD = sc.parallelize([])\n",
    "    for splitNum, splitRDD in enumerate(dataSplits):\n",
    "        residuals = splitRDD.flatMap(lambda x: kResiduals(x, models, splitNum))\n",
    "        partialLossRDD = sc.union([partialLossRDD, residuals])\n",
    "    \n",
    "    loss = partialLossRDD.mapValues(lambda x: (x,1))\\\n",
    "                         .reduceByKey(lambda a, b: (a[0] + b[0], a[1] + b[1]))\\\n",
    "                         .mapValues(lambda x: x[0]/x[1])\\\n",
    "                         .collect()\n",
    "    \n",
    "    test_loss = np.mean([x[1] for x in loss if x[0].split('-')[1] == 'test'])\n",
    "    training_loss = np.mean([x[1] for x in loss if x[0].split('-')[1] == 'train'])\n",
    "    return training_loss, test_loss\n",
    "\n",
    "def partialGradients(splitNum, dataPoint, models):\n",
    "    \"\"\"\n",
    "    Emit partial gradient for this data point for each model.\n",
    "    NOTE: a data point from split-number k is in the test set for \n",
    "    model-k so we don't compute a partial gradient for that model.\n",
    "    \"\"\"\n",
    "    # augment the data point\n",
    "    X = np.append([1.0], dataPoint.features)\n",
    "    y = dataPoint.label\n",
    "    # emit partial gradients for each model with a counter for averaging later\n",
    "    for modelNum, W in enumerate(models):\n",
    "        if modelNum != splitNum:\n",
    "            yield (modelNum, [(sigmoid(W.dot(X)) - y)*X, 1])\n",
    "\n",
    "def CVUpdate(dataSplits, models, learningRate = 0.1):\n",
    "    \"\"\"\n",
    "    Compute gradients for k models given k corresponding dataSplits.\n",
    "    NOTE: the training set for model-k is all records EXCEPT those in the k-th split.\n",
    "    \"\"\"\n",
    "    # compute partial gradient k-1 times for each fold\n",
    "    partialsRDD = sc.parallelize([])\n",
    "    for splitNum, splitRDD in enumerate(dataSplits):\n",
    "        thisFoldPartialGrads = splitRDD.flatMap(lambda x: partialGradients(splitNum, x, models))\n",
    "        partialsRDD = sc.union([partialsRDD, thisFoldPartialGrads])\n",
    "\n",
    "    # compute gradients by taking the average partialGrad for each fold\n",
    "    gradients = partialsRDD.reduceByKey(lambda a, b: (a[0] + b[0], a[1] + b[1]))\\\n",
    "                           .mapValues(lambda x: x[0]/x[1])\\\n",
    "                           .map(lambda x: x[1])\\\n",
    "                           .collect()\n",
    "    \n",
    "    # update all k models & return them in a list\n",
    "    new_models = []\n",
    "    for W, grad in zip(models, gradients):\n",
    "        new_models.append(W - learningRate * grad)\n",
    "    return new_models\n",
    "\n",
    "def GradientDescent_withCV(dataSplits, wInit, learningRate=0.1, nSteps = 5, verbose = False):\n",
    "    \"\"\"\n",
    "    Train k models in parallel and track cross validated test/train loss.\n",
    "    Returns:\n",
    "        train_hist - (list) of floats\n",
    "        test_hist - (list) of floats\n",
    "        model_hist - (list) of arrays representing model coefficients (bias at index 0)\n",
    "    \"\"\"\n",
    "    # broadcast initial models (one for each fold)\n",
    "    bModels = sc.broadcast([wInit] * len(dataSplits))\n",
    "    \n",
    "    # initialize lists to track performance\n",
    "    train_loss_0, test_loss_0 = CVLoss(dataSplits, bModels.value)\n",
    "    train_hist, test_hist, model_hist = [train_loss_0], [test_loss_0], [wInit]\n",
    "    \n",
    "    # perform k gradient updates at a time (one for each fold)\n",
    "    start = time.time()\n",
    "    for step in range(nSteps):\n",
    "        new_models = CVUpdate(dataSplits, bModels.value, learningRate)\n",
    "        bModels = sc.broadcast(new_models)\n",
    "\n",
    "        # log progress\n",
    "        train_loss, test_loss = CVLoss(dataSplits, bModels.value)\n",
    "        train_hist.append(train_loss)\n",
    "        test_hist.append(test_loss)\n",
    "        model_hist.append(new_models[0])\n",
    "        \n",
    "        if verbose:\n",
    "            print(\"-------------------\")\n",
    "            print(f\"STEP {step}: \")\n",
    "            print(f\"model 1: {[round(w,4) for w in new_models[0]]}\")\n",
    "            print(f\" train loss: {round(train_loss,4)}\")\n",
    "            print(f\" test loss: {round(test_loss,4)}\")\n",
    "            \n",
    "    print(f\"\\n... trained {nSteps} iterations in {time.time() - start} seconds\")\n",
    "    return train_hist, test_hist, model_hist"
   ]
  },
  {
   "cell_type": "code",
   "execution_count": 19,
   "metadata": {},
   "outputs": [
    {
     "name": "stdout",
     "output_type": "stream",
     "text": [
      "\n",
      "... trained 50 iterations in 753.6316719055176 seconds\n",
      "Time taken to Cross Validate on sample data: 769.2351448535919 seconds.\n"
     ]
    }
   ],
   "source": [
    "start = time.time()\n",
    "dataSplits = normRDD.randomSplit([0.2, 0.2, 0.2, 0.2, 0.2], seed = 2018) \n",
    "wInit = np.zeros(40)\n",
    "trainLossSample, testLossSample, modelsSample = GradientDescent_withCV(dataSplits, wInit, learningRate=0.1, nSteps = 50, verbose=False)\n",
    "print (f'Time taken to Cross Validate on sample data: {time.time() - start} seconds.')"
   ]
  },
  {
   "cell_type": "code",
   "execution_count": 20,
   "metadata": {},
   "outputs": [
    {
     "data": {
      "image/png": "[encoded data removed]",
      "text/plain": [
       "<Figure size 1152x576 with 1 Axes>"
      ]
     },
     "metadata": {
      "needs_background": "light"
     },
     "output_type": "display_data"
    }
   ],
   "source": [
    "plotErrorCurves(trainLossSample, testLossSample, title = '5-fold Cross Validated Loss' )"
   ]
  },
  {
   "cell_type": "code",
   "execution_count": 72,
   "metadata": {},
   "outputs": [
    {
     "name": "stdout",
     "output_type": "stream",
     "text": [
      "Sample homegrown LR test accuracy = 0.7436127839412955\n"
     ]
    }
   ],
   "source": [
    "pred_CV = testRDD.map(lambda x: (x.label, LogisticRegression_RDD_predict(np.append([1.0], x.features), modelsSample[-1]))).cache()\n",
    "testErr_CV = pred_CV.filter(lambda x: x[0] != x[1]).count() / float(pred_CV.count())\n",
    "print(f\"Sample homegrown LR test accuracy = {1-testErr_CV}\")"
   ]
  },
  {
   "cell_type": "markdown",
   "metadata": {},
   "source": [
    "# 5. Application of New Concepts\n",
    "\n",
    "__{This section needs to be updated to reflect a list of all the things we tried and what we learned]__\n",
    "\n",
    "Throughout the project we sought to implement a scalable solution with consideration to the business context.  Logistic regression was chosen as a solution known to scale well, with desirable characteristics due to the linear nature of its underlying formulation, which would translate to roughly linear time complexity and the ability to scale out effectively in a distributed environment.  With regularization it becomes an extension of ridge or LASSO regression, with all the desirable properties thereof in a distributed framework.  Logistic regression also has an explainable formulation and can be fitted with gradient descent, so solution convergence can be tuned according to known hyperparameters such as learning rate.\n",
    "\n",
    "The dataset provided challenges related to feature sparsity. With logistic regression categorical features must be converted to a numerical interpretation.  One-hot-encoding the feature set could not provide a scalable solution due to the combinatorics associated with large numbers of categories per feature, and we therefore chose to hash the feature set.  The feature hash mapped the feature set to a bounded space, provided a framework for handling unseen data per feature, and could be tuned either to map each feature individually to a new space (as in our homegrown solutions), or to map the entire feature set as a whole to a new space, as with Spark's built-in hash.  The former would allow for further feature selection or the ability to drop features providing minimal information, while the latter allows the usage of all information and a fast implementation.  One drawback is that hashing adds an additional hyperparameter, the size of the new space, which could require tuning.\n",
    "\n",
    "The algorithm was developed atop the RDD API, using the map/reduce paradigm, allowing for control of each detail of the implementation, but at a cost of speed vs. either the Spark MLLib  or ML implementation. In the case of MLLib, we lose efficiency due to Python being slower than Scala.  In the case of the ML library, further improvements by the Apache Spark project to the query optimizer mean still further gains in speed, considerably outpacing our implementation, but at the cost of less transparency to the inner workings of the algorithm.\n",
    "\n",
    "As a useful control against overfitted models, we built the implementation with the ability to apply and tune regularization.  While the default Spark implementation allows for $L_1$ or $L_2$ regularization we have only included $L_2$ for now.  We did not explore tuning the regularization hyperparameter, but it provides an important control against possible bias associated with using a large number of features.\n",
    "\n",
    "<h5><center> Summary of performance with 50 iterations and $2^{15}$ hashed features.</center></h5>\n",
    " \n",
    "|Feature Engineering|Implementation|Training time (seconds)|Test data accuracy|Comments|\n",
    "|----- |---- |----|----|----|\n",
    "|ML build-in hashing|ML   |288|0.76|Dataframe API|\n",
    "|One-hot coding with homegrown hashing|MLlib| 1006|0.78| RDD, Scala implementation|\n",
    "|One-hot coding with homegrown hashing|Homegrown|6806|0.74|RDD, Python implementation|\n",
    "\n",
    "\n",
    "<h5 align=\"center\">Summary of performance with 50 iterations and $39$ features.</h5>\n",
    " \n",
    "|Feature Engineering|Implementation|Training time (seconds)|Test data accuracy|Comments|\n",
    "|---- |---- |----|----|----|\n",
    "|MMH | MLlib  |270|0.74|RDD, Scala Implementation|\n",
    "|MMH & Data Normalization|MLlib| 182|0.59|RDD, Scala Implementation|\n",
    "|MMH & Data Normalization|Homegrown|5955|0.74|RDD, Python implementation|\n",
    "|MMH & Data Normalization|Homegrown Cross Validation|769 (sample data only)|0.74|RDD, Python implementation|\n"
   ]
  },
  {
   "cell_type": "markdown",
   "metadata": {},
   "source": [
    "# 6. References\n",
    "\n",
    "__[FULL LIST WILL BE UPDATED AS WE COMPLETE PROJECT]__\n",
    "\n",
    "(1) [The State of Streaming Music Services](https://www.pcmag.com/roundup/260966/the-best-online-music-streaming-services)\n",
    "\n",
    "(2) [Spotify - For the record](https://newsroom.spotify.com/company-info/)\n",
    "\n",
    "(3) [Criteo website](https://www.criteo.com/)\n",
    "\n",
    "(4) [Simplify advertising analytics click prediction with databricks unified analytics platform](https://databricks.com/blog/2018/07/19/simplify-advertising-analytics-click-prediction-with-databricks-unified-analytics-platform.html)\n",
    "\n",
    "(5) [Simple and scalable response prediction for display advertising](https://www.dropbox.com/s/s4x7wp8gjsh021d/TISTRespPredAds-Chappelle-CTR-Prediction-2014Paper.pdf?dl+=0)\n",
    "\n",
    "(6) [Parquet for Spark-SQL](https://developer.ibm.com/hadoop/2015/12/03/parquet-for-spark-sql/)\n",
    "\n",
    "(7) [Click-Through Rate Prediction Lab](https://datascience-enthusiast.com/Python/cs120_lab3_ctr_df_celloutput.html)\n",
    "\n",
    "(8) [The Precision-Recall Plot Is More Informative than the ROC Plot When Evaluating Binary Classifiers on Imbalanced Datasets](https://journals.plos.org/plosone/article?id=10.1371/journal.pone.0118432)\n",
    "\n",
    "(9) [Understanding AUC ROC](https://towardsdatascience.com/understanding-auc-roc-curve-68b2303cc9c5)\n",
    "\n",
    "(10) [Spark Streaming](https://databricks.com/blog/2016/07/28/structured-streaming-in-apache-spark.html)\n",
    "\n",
    "(11) [ML with Pyspark](https://towardsdatascience.com/machine-learning-with-pyspark-and-mllib-solving-a-binary-classification-problem-96396065d2aa)\n",
    "\n",
    "(12) [Project Tungsten: Improving the Efficiency of Spark Applications](https://databricks.com/blog/2015/04/28/project-tungsten-bringing-spark-closer-to-bare-metal.html)\n",
    "\n",
    "(13) [Deep Dive into Spark SQL's Catalyst Optimizer](https://databricks.com/blog/2015/04/13/deep-dive-into-spark-sqls-catalyst-optimizer.html)\n",
    "\n",
    "(14) [Interpretation of the ROC plot](https://www.medcalc.org/manual/roc-curves.php)\n",
    "\n",
    "(15) [RDD Vs DataFrames](https://www.kdnuggets.com/2017/08/three-apache-spark-apis-rdds-dataframes-datasets.html))\n",
    "\n",
    "(16) [Differences - RDD & DataFrames](https://databricks.com/blog/2016/07/14/a-tale-of-three-apache-spark-apis-rdds-dataframes-and-datasets.html))\n",
    "\n",
    "\n",
    "(17) [Spark SQL Documentation](https://spark.apache.org/docs/latest/sql-pyspark-pandas-with-arrow.html))\n",
    "\n",
    "(18) [Databricks Blog - RDD Vs DataFrames](https://datalere.com/databricks/5-things-to-know-about-databricks/)\n",
    "\n",
    "(19) [Spark in Scala Vs Python](https://www.quora.com/What-is-the-difference-between-using-Spark-in-Scala-and-Python) \n",
    "\n",
    "(20) [Spark - Pros and Cons of the Platform](https://thenewstack.io/the-good-bad-and-ugly-apache-spark-for-data-science-work/)\n",
    "\n",
    "(21) [Discriminative vs Generative classifiers by Ng and Jordan](https://www.google.com/url?sa=t&rct=j&q=&esrc=s&source=web&cd=1&cad=rja&uact=8&ved=2ahUKEwjqrI7O6tXhAhVms1QKHV6xDnkQFjAAegQIARAC&url=https%3A%2F%2Fai.stanford.edu%2F~ang%2Fpapers%2Fnips01-discriminativegenerative.pdf&usg=AOvVaw1lDX-Rqo3NwkYjfERkK3IK)\n",
    "(22) [CS.CMU.EDU](https://www.cs.cmu.edu/~schneide/tut5/node42.html)\n",
    "(23) [Machine Learning Mastery](https://machinelearningmastery.com/k-fold-cross-validation/)\n",
    "\n",
    "\n",
    "## Code snippet references\n",
    "\n",
    "(1) [Randomly pick lines from a file without slurping it with unix](https://stackoverflow.com/questions/692312/randomly-pick-lines-from-a-file-without-slurping-it-with-unix)\n",
    "\n",
    "(2) [Click-through rate prediction](https://databricks-prod-cloudfront.cloud.databricks.com/public/4027ec902e239c93eaaa8714f173bcfc/2799933550853697/1070943937512584/2202577924924539/latest.html)\n",
    "\n",
    "(3) [Log loss](http://wiki.fast.ai/index.php/Log_Loss)\n",
    "\n",
    "(4) [Classification and Regression](https://spark.apache.org/docs/2.1.1/ml-classification-regression.html)\n",
    "\n",
    "(5) [pyspark.ml package - Pyspark documentation](https://spark.apache.org/docs/2.1.1/api/python/pyspark.ml.html#pyspark.ml.classification.LogisticRegression)\n",
    "\n"
   ]
  },
  {
   "cell_type": "code",
   "execution_count": 54,
   "metadata": {},
   "outputs": [
    {
     "name": "stdout",
     "output_type": "stream",
     "text": [
      "Copying file://final_project_workbook.ipynb [Content-Type=application/octet-stream]...\n",
      "AccessDeniedException: 403 Insufficient Permission                              \n"
     ]
    }
   ],
   "source": [
    "!gsutil cp final_project_workbook.ipynb gs://266-schakraverty"
   ]
  },
  {
   "cell_type": "code",
   "execution_count": null,
   "metadata": {},
   "outputs": [],
   "source": []
  }
 ],
 "metadata": {
  "kernelspec": {
   "display_name": "Python 3",
   "language": "python",
   "name": "python3"
  },
  "language_info": {
   "codemirror_mode": {
    "name": "ipython",
    "version": 3
   },
   "file_extension": ".py",
   "mimetype": "text/x-python",
   "name": "python",
   "nbconvert_exporter": "python",
   "pygments_lexer": "ipython3",
   "version": "3.7.1"
  },
  "toc": {
   "colors": {
    "hover_highlight": "#DAA520",
    "running_highlight": "#FF0000",
    "selected_highlight": "#FFD700"
   },
   "moveMenuLeft": true,
   "nav_menu": {
    "height": "441px",
    "width": "252px"
   },
   "navigate_menu": true,
   "number_sections": true,
   "sideBar": true,
   "threshold": 4,
   "toc_cell": true,
   "toc_position": {
    "height": "827px",
    "left": "0px",
    "right": "1125px",
    "top": "107px",
    "width": "428px"
   },
   "toc_section_display": "block",
   "toc_window_display": true
  }
 },
 "nbformat": 4,
 "nbformat_minor": 2
}
