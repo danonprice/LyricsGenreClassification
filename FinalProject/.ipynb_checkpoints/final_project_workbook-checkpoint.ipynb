{
 "cells": [
  {
   "cell_type": "markdown",
   "metadata": {},
   "source": [
    "#  Classification of Music Lyrics by Genre\n",
    "\n",
    "\n",
    "__`MIDS w266: Natural Language Processing and Deep Learning | UC Berkeley School of Information | Summer 2019`__\n",
    "\n",
    "_Team members_\n",
    "\n",
    "  - __Dan Price__, danprice@ischool.berkeley.edu\n",
    "  - __Shiraz Chakraverty__, schakraverty@berkeley.edu\n",
    "\n",
    "  \n",
    "## Table of Contents\n",
    "\n",
    "[1.Abstract](#1.-Abstract)\n",
    "\n",
    "[2.Introduction](#2.-Introduction)\n",
    "\n",
    "[3.Background](#3.-Background)\n",
    "\n",
    "[3.EDA and discussion of challenges](#3.-EDA-and-discussion-of-challenges)\n",
    "\n",
    "[4.Methods (design and implementation)](#4.-Methods)\n",
    "\n",
    "[5. Application of New Concepts](#5.-Application-of-New-Concepts)\n",
    "\n",
    "[References](#6.-References)"
   ]
  },
  {
   "cell_type": "markdown",
   "metadata": {},
   "source": [
    "__Please render this notebook with `jupyter` or `nbviewer`. The github notebook viewer does not render all equations correctly.__"
   ]
  },
  {
   "cell_type": "markdown",
   "metadata": {},
   "source": [
    "# 1. Abstract\n",
    "\n",
    "\n",
    "\"CD sales are plummeting, and vinyl sales have plateaued after rising to their greatest peak since the 1990s, but that doesn't mean that people have stopped listening to music. With the rise of streaming music, people are listening as much as ever, in their homes, offices, or any other location where their devices can connect to the internet.\" - Says PCMag<sup>[1]</sup>\n",
    "\n",
    "Spotify<sup>[2]</sup>, happens to have total market share of over $25 Billion, and is one of the leaders in the music streaming space today. It has millions of songs in its database and claims at its core that it has the right music for everyone. They have invested a lot in research, especially NLP methods, starting with classification of the music based on many factors including tempo, acoustics, energy, danceability etc. to answer that most important and stressful first impression question: What is your favorite type of music?\n",
    "\n",
    "Companies like spotify are surviving based on more and more nuanced music classification, either to be able to place the right recommendations to their customers or simply as a product (for example Shazam). Thus finding out at scale, the music genres is the most fundamental step in moving towards a personal listening experience."
   ]
  },
  {
   "cell_type": "markdown",
   "metadata": {},
   "source": [
    "# 2. Introduction\n",
    "\n",
    "Various academic and industry teams have tried approaches to this space. Efforts to understand music, both sonically and semantically through lyrics and metadata, have coalesced in a subfield known as Music Information Retrieval (MIR). No single effort has been very successful in finding a stable method which performs significantly well to tackle the lyrical genre classification problem. SVM, KNN and Naive Bayes have all been used in lyrical classification but they all have very low accuracy. We would like to explore the application of new and emerging models to the task.\n",
    "\n",
    "In the field of Natural Language Processing, the classification of music genres based on lyrics is a challenging task. Machine understanding of language in general is complex. We cannot yet fully understand how the human brain does it but many strides have been made. With that understanding, newer and emerging algorithms and word embeddings are able to offer classifications useful for organizations doing language tasks at a large scale. \n",
    "\n",
    "We would like to explore advantages and disadvantages of several methods in papers we have selected and report our observations, learnings and a recommendation. With the focus of deep learning, it is clear that Neural Networks tend to work better than previously used models. We would like to explore this path and provide some comparative analysis. \n",
    "\n",
    "The dataset for this problem is hard to come by  due to copyright and other original content protection requirements. The search for more examples continues, in the meantime we have we found a data set in Kaggle which is suitable to get started with model development.\n",
    "\n",
    "The initial dataset is downloadable as a comma delimited file. The columns in the file are as follows:\n",
    "`index,song,year,artist,genre,lyrics`\n",
    "    \n",
    "We are particularly interested in the text in the lyrics column. However, we may find ways to utilize other columns as features. The lyrics are a string with carriage returns denoting an end of line. Statistics specific to the overall structure of the lyrics, such as line length, may add value to the classification task."
   ]
  },
  {
   "cell_type": "markdown",
   "metadata": {},
   "source": [
    "# 3. Background\n",
    "\n",
    "\n",
    "__[to be done] - this section needs to capture a summary of the literature we used with reference citations, methods we chose, etc\n",
    "[the following is a sample only]__\n",
    "\n",
    "The algorithm is based on Logistic Regression. We follow the development and notation of [Chapelle et al.,](https://www.dropbox.com/s/s4x7wp8gjsh021d/TISTRespPredAds-Chappelle-CTR-Prediction-2014Paper.pdf?dl+=0)<sup>[5]</sup> For a given data sample $i$, let $y_i$ be our target variable, namely,  we have\n",
    "\n",
    "$$\n",
    "y_i =\n",
    "\\begin{cases}\n",
    "0 \\;\\; \\text{if user does not click on the ad},\\\\\n",
    "1 \\;\\; \\text{otherwise}.\n",
    "\\end{cases}\n",
    "$$\n",
    "\n",
    "Let $\\mathbf{x}_i$ be the $d$-dimensional one-hot vector, i.e., $\\mathbf{x}_i \\in \\{0,1\\}^d$. Our goal is to find the weight vector $\\mathbf{w} \\in \\mathbb{R}^d$. The probability of sample $\\mathbf{x}_i$ belonging to class 1 is given by the following.\n",
    "\n",
    "$$P(y_i=1 | \\mathbf{x}_i, \\mathbf{w}) = \\frac{1}{1+e^{-\\mathbf{w}^\\top\\mathbf{x}_i}}$$\n",
    "\n",
    "Thus, the probability of sample $\\mathbf{x}_i$ belonging to class 0 is given by the following.\n",
    "\n",
    "$$P(y_i=0 | \\mathbf{x}_i, \\mathbf{w}) = \\frac{e^{-\\mathbf{w}^\\top\\mathbf{x}_i}}{1+e^{-\\mathbf{w}^\\top\\mathbf{x}_i}}$$\n",
    "\n",
    "The logistic regression model is a linear model of the log odds ratio, namely, we have the following.\n",
    "\n",
    "$$\\log \\frac{P(y_i=1 | \\mathbf{x}_i, \\mathbf{w})}{P(y_i=0 | \\mathbf{x}_i, \\mathbf{w})} = \\log \\frac{1}{e^{-\\mathbf{w}^\\top\\mathbf{x}_i}} = \\log e^{\\mathbf{w}^\\top\\mathbf{x}_i}= \\mathbf{w}^\\top\\mathbf{x}_i $$\n",
    "\n",
    "The weight factor can be calculated via minimizing the negative log likelihood (namely maximize the joined probability across all samples). Also, in order to overcome over fitting, we need to add regularization. Thus, we have the following equation under the $L_2$ regularization.\n",
    "\n",
    "$$\\underset{\\mathbf{w}}{\\operatorname{argmin}} \\left( \\sum_{i=1}^{n}\\left(\\log(1+e^{-\\mathbf{w}^\\top\\mathbf{x}_i})+(1-y_i)\\mathbf{w}^\\top\\mathbf{x}_i\\right) + \\lambda \\lVert \\mathbf{w} \\rVert^2 \\right) \\tag{1} $$\n",
    "\n",
    "The above objective function is a convex function and we can leverage Gradient Descent (GD) methods to solve it. The GD can be easily parallelized in a map-reduce framework. Furthermore,\n",
    "we can derive the gradient of equation (1) as follows.\n",
    "\n",
    "$$ \\nabla_{\\boldsymbol{\\mathbf{w}}} = \\sum_{i=1}^{n}\\left( \\frac{-\\mathbf{x}_i e^{-\\mathbf{w}^\\top\\mathbf{x}_i }}{1+e^{-\\mathbf{w}^\\top\\mathbf{x}_i }} + (1-y_i)\\mathbf{x}_i\\right)  + 2\\lambda \\mathbf{w} = \\sum_{i=1}^{n} \\left( \\frac{1}{1+e^{-\\mathbf{w}^\\top\\mathbf{x}_i}} - y_i \\right) \\mathbf{x}_i   + 2\\lambda \\mathbf{w} \\tag{2}$$ \n",
    "\n",
    "Let $\\alpha$ be the learning rate, we can iteratively update $\\mathbf{w}$ as follows.\n",
    "\n",
    "$$\\mathbf{w}_\\text{new} = \\mathbf{w}_\\text{old} - \\alpha \\nabla_{\\boldsymbol{\\mathbf{w}}}$$\n",
    "\n",
    "To illustrate our algorithm, let us consider the following simple example with two features.\n",
    "\n",
    "  - Feature $f_1$ is the user identifier, it has two possible values `user1` or `user2`.\n",
    "  - Feature $f_2$ is the advertise web site url, it can be either `url1`, `url2` or `url3`.\n",
    " \n",
    "Let us use one-hot encoding for these categorical variables as it is standard practice in machine learning for categorical variables. The dimensionality with one-hot coding is $d=\\sum_{j=1}^{F} c_f$, where $f$-th feature has $c_f$ values. In the above example, we have $d=5$. Furthermore, each position in one-hot code is referenced by tuple `(feature_id, category_value)`. For example, we have the following vector in our case.\n",
    "\n",
    "$$[(f_1, \\text{user1}), (f_1, \\text{user2}), (f_2, \\text{url1}), (f_2, \\text{url2}), (f_2, \\text{url3}) ]$$\n",
    "\n",
    "Each position in above vector is a binary. 1 means that the referenced feature takes the corresponding value. The following table shows all possible one-hot vector and their corresponding meaning.\n",
    "\n",
    "| One-Hot vector | $f_1$ | $f_2$ |\n",
    "| :---: | :---: |    :---: |\n",
    "| [1,0,1,0,0]  | user1     | url1 |\n",
    "| [1,0,0,1,0]  | user1     | url2 |\n",
    "| [1,0,0,0,1]  | user1     | url3 |\n",
    "| [0,1,1,0,0]  | user2     | url1 |\n",
    "| [0,1,0,1,0]  | user2     | url2 |\n",
    "| [0,1,0,0,1]  | user2     | url3 |"
   ]
  },
  {
   "cell_type": "markdown",
   "metadata": {},
   "source": [
    "## Notebook Set-Up\n",
    "\n",
    "The following setup demonstrates two distinct yet valuable approaches. We have used the RDD API as well as the Spark 2.0 DataFrame and ML API in this project. The following are the setup elements, in brief:\n",
    "\n",
    "(1) Python and Spark libraries - \n",
    "\n",
    "`NumPy` Provides\n",
    ",\n",
    "  1. An array object of arbitrary homogeneous items\n",
    "  2. Fast mathematical operations over arrays\n",
    "  3. Linear Algebra, Fourier Transforms, Random Number Generation\n",
    "\n",
    "`Pandas` Provides,\n",
    "\n",
    "  1. Intelligent label-based slicing, fancy indexing, and subsetting of large data sets.\n",
    "  2. Intuitive merging and joining data sets.\n",
    "  3. Flexible reshaping and pivoting of data sets.\n",
    "\n",
    "`Matplotlib` Provides a MATLAB-like way of plotting. `pyplot` is mainly intended for interactive plots and simple cases of programmatic\n",
    "plot generation::\n",
    "\n",
    "`SparkSession` is the entry point to programming Spark with the Dataset and DataFrame API. A SparkSession can be used create `DataFrame` as tables, execute SQL over tables, cache tables, and read parquet files.\n",
    "\n",
    "For brevity, we will not list out all the libraries and their functions, this can be easily requested by executing `[name of library]??`"
   ]
  },
  {
   "cell_type": "code",
   "execution_count": 82,
   "metadata": {},
   "outputs": [],
   "source": [
    "# This tells matplotlib not to try opening a new window for each plot.\n",
    "%matplotlib inline\n",
    "\n",
    "# General libraries.\n",
    "import time\n",
    "import re\n",
    "import numpy as np\n",
    "import matplotlib.pyplot as plt\n",
    "import pandas as pd\n",
    "import math\n",
    "import csv\n",
    "from nltk.corpus import wordnet\n",
    "from sklearn.naive_bayes import MultinomialNB, BernoulliNB\n",
    "from sklearn.linear_model import LogisticRegression\n",
    "from sklearn.tree import DecisionTreeClassifier\n",
    "from sklearn.neural_network import MLPClassifier\n",
    "from sklearn.ensemble import RandomForestClassifier\n",
    "from sklearn.feature_extraction.text import CountVectorizer, TfidfVectorizer\n",
    "from sklearn.model_selection import cross_validate\n",
    "from sklearn.model_selection import train_test_split\n",
    "from sklearn import svm\n",
    "from nltk.stem.porter import *\n",
    "from stemming.porter2 import stem\n",
    "from sklearn.metrics import confusion_matrix\n",
    "import sys\n",
    "from sklearn.pipeline import Pipeline\n",
    "import pickle\n",
    "from sklearn.externals import joblib\n",
    "from sklearn import preprocessing\n"
   ]
  },
  {
   "cell_type": "code",
   "execution_count": 18,
   "metadata": {},
   "outputs": [],
   "source": [
    "%reload_ext autoreload\n",
    "%autoreload 2"
   ]
  },
  {
   "cell_type": "code",
   "execution_count": 19,
   "metadata": {},
   "outputs": [],
   "source": [
    "# store path to notebook\n",
    "PWD = !pwd\n",
    "PWD = PWD[0]"
   ]
  },
  {
   "cell_type": "markdown",
   "metadata": {},
   "source": [
    "### Algorithm illustration with toy example\n",
    "\n",
    "Following is the illustration of aforementioned gradient descent method for the logistic regression with Pandas Dataframe. We will compare our output with `LogisticRegressionWithLBFGS` from Spark MLlib for validation."
   ]
  },
  {
   "cell_type": "code",
   "execution_count": 29,
   "metadata": {},
   "outputs": [
    {
     "data": {
      "text/html": [
       "<div>\n",
       "<style scoped>\n",
       "    .dataframe tbody tr th:only-of-type {\n",
       "        vertical-align: middle;\n",
       "    }\n",
       "\n",
       "    .dataframe tbody tr th {\n",
       "        vertical-align: top;\n",
       "    }\n",
       "\n",
       "    .dataframe thead th {\n",
       "        text-align: right;\n",
       "    }\n",
       "</style>\n",
       "<table border=\"1\" class=\"dataframe\">\n",
       "  <thead>\n",
       "    <tr style=\"text-align: right;\">\n",
       "      <th></th>\n",
       "      <th>x</th>\n",
       "      <th>y</th>\n",
       "    </tr>\n",
       "  </thead>\n",
       "  <tbody>\n",
       "    <tr>\n",
       "      <th>0</th>\n",
       "      <td>[1, 0, 1, 0, 0]</td>\n",
       "      <td>1</td>\n",
       "    </tr>\n",
       "    <tr>\n",
       "      <th>1</th>\n",
       "      <td>[1, 0, 0, 1, 0]</td>\n",
       "      <td>0</td>\n",
       "    </tr>\n",
       "    <tr>\n",
       "      <th>2</th>\n",
       "      <td>[1, 0, 0, 0, 1]</td>\n",
       "      <td>0</td>\n",
       "    </tr>\n",
       "    <tr>\n",
       "      <th>3</th>\n",
       "      <td>[0, 1, 1, 0, 0]</td>\n",
       "      <td>1</td>\n",
       "    </tr>\n",
       "    <tr>\n",
       "      <th>4</th>\n",
       "      <td>[0, 1, 0, 1, 0]</td>\n",
       "      <td>0</td>\n",
       "    </tr>\n",
       "    <tr>\n",
       "      <th>5</th>\n",
       "      <td>[0, 1, 0, 0, 1]</td>\n",
       "      <td>0</td>\n",
       "    </tr>\n",
       "  </tbody>\n",
       "</table>\n",
       "</div>"
      ],
      "text/plain": [
       "                 x  y\n",
       "0  [1, 0, 1, 0, 0]  1\n",
       "1  [1, 0, 0, 1, 0]  0\n",
       "2  [1, 0, 0, 0, 1]  0\n",
       "3  [0, 1, 1, 0, 0]  1\n",
       "4  [0, 1, 0, 1, 0]  0\n",
       "5  [0, 1, 0, 0, 1]  0"
      ]
     },
     "execution_count": 29,
     "metadata": {},
     "output_type": "execute_result"
    }
   ],
   "source": [
    "df = pd.DataFrame({\"x\": [np.array([1,0,1,0,0]), np.array([1,0,0,1,0]), np.array([1,0,0,0,1]), np.array([0,1,1,0,0]), np.array([0,1,0,1,0]), np.array([0,1,0,0,1])],\n",
    "                   \"y\": [1,0,0,1,0,0]})\n",
    "df"
   ]
  },
  {
   "cell_type": "code",
   "execution_count": 30,
   "metadata": {},
   "outputs": [],
   "source": [
    "def NegativeLogLikelihood(df, W):\n",
    "    \"\"\"\n",
    "    Compute mean squared error.\n",
    "    Args:\n",
    "        df - OneHot vector and y\n",
    "        W  - model coefficients\n",
    "    \"\"\"\n",
    "    loglikelihood = df.apply(lambda row: np.log(1+ np.exp(- np.dot(row.x, W))) + (1-row.y)*np.dot(row.x, W), axis=1).sum()\n",
    "    return loglikelihood"
   ]
  },
  {
   "cell_type": "code",
   "execution_count": 31,
   "metadata": {},
   "outputs": [],
   "source": [
    "def GDUpdate(df, W, learningRate = 0.1):\n",
    "    \"\"\"\n",
    "    Perform one gradient descent step/update.\n",
    "    Args:\n",
    "        df - OneHot vector and y\n",
    "        W  - model coefficients\n",
    "    Returns:\n",
    "        new_model -  updated coefficients\n",
    "    \"\"\"\n",
    "    grad = df.apply(lambda row: (1./(1+np.exp(-np.dot(row.x, W)))-row.y)*row.x, axis=1).sum()\n",
    "    new_model = W - learningRate * grad\n",
    "   \n",
    "    return new_model"
   ]
  },
  {
   "cell_type": "code",
   "execution_count": 54,
   "metadata": {},
   "outputs": [
    {
     "name": "stdout",
     "output_type": "stream",
     "text": [
      "BASELINE:  Negative likelihood = 4.1588830833596715\n",
      "Final:  Negative likelihood = 0.0006362401568529584\n"
     ]
    },
    {
     "data": {
      "text/html": [
       "<div>\n",
       "<style scoped>\n",
       "    .dataframe tbody tr th:only-of-type {\n",
       "        vertical-align: middle;\n",
       "    }\n",
       "\n",
       "    .dataframe tbody tr th {\n",
       "        vertical-align: top;\n",
       "    }\n",
       "\n",
       "    .dataframe thead th {\n",
       "        text-align: right;\n",
       "    }\n",
       "</style>\n",
       "<table border=\"1\" class=\"dataframe\">\n",
       "  <thead>\n",
       "    <tr style=\"text-align: right;\">\n",
       "      <th></th>\n",
       "      <th>x</th>\n",
       "      <th>y</th>\n",
       "      <th>Estimated Probabilities</th>\n",
       "    </tr>\n",
       "  </thead>\n",
       "  <tbody>\n",
       "    <tr>\n",
       "      <th>0</th>\n",
       "      <td>[1, 0, 1, 0, 0]</td>\n",
       "      <td>1</td>\n",
       "      <td>9.996836e-01</td>\n",
       "    </tr>\n",
       "    <tr>\n",
       "      <th>1</th>\n",
       "      <td>[1, 0, 0, 1, 0]</td>\n",
       "      <td>0</td>\n",
       "      <td>8.460042e-07</td>\n",
       "    </tr>\n",
       "    <tr>\n",
       "      <th>2</th>\n",
       "      <td>[1, 0, 0, 0, 1]</td>\n",
       "      <td>0</td>\n",
       "      <td>8.460042e-07</td>\n",
       "    </tr>\n",
       "    <tr>\n",
       "      <th>3</th>\n",
       "      <td>[0, 1, 1, 0, 0]</td>\n",
       "      <td>1</td>\n",
       "      <td>9.996836e-01</td>\n",
       "    </tr>\n",
       "    <tr>\n",
       "      <th>4</th>\n",
       "      <td>[0, 1, 0, 1, 0]</td>\n",
       "      <td>0</td>\n",
       "      <td>8.460042e-07</td>\n",
       "    </tr>\n",
       "    <tr>\n",
       "      <th>5</th>\n",
       "      <td>[0, 1, 0, 0, 1]</td>\n",
       "      <td>0</td>\n",
       "      <td>8.460042e-07</td>\n",
       "    </tr>\n",
       "  </tbody>\n",
       "</table>\n",
       "</div>"
      ],
      "text/plain": [
       "                 x  y  Estimated Probabilities\n",
       "0  [1, 0, 1, 0, 0]  1             9.996836e-01\n",
       "1  [1, 0, 0, 1, 0]  0             8.460042e-07\n",
       "2  [1, 0, 0, 0, 1]  0             8.460042e-07\n",
       "3  [0, 1, 1, 0, 0]  1             9.996836e-01\n",
       "4  [0, 1, 0, 1, 0]  0             8.460042e-07\n",
       "5  [0, 1, 0, 0, 1]  0             8.460042e-07"
      ]
     },
     "execution_count": 54,
     "metadata": {},
     "output_type": "execute_result"
    }
   ],
   "source": [
    "verbose = False\n",
    "BASELINE = np.zeros(5)\n",
    "nSteps = 100\n",
    "pre_model = BASELINE\n",
    "pre_nll = NegativeLogLikelihood(df,pre_model)\n",
    "print(f\"BASELINE:  Negative likelihood = {pre_nll}\")\n",
    "for idx in range(nSteps):\n",
    "    if verbose:\n",
    "        print(\"----------\")\n",
    "        print(f\"STEP: {idx+1}\")\n",
    "    cur_model = GDUpdate(df, pre_model, learningRate=10)\n",
    "    cur_nll = NegativeLogLikelihood(df, cur_model)\n",
    "    if (cur_nll < pre_nll):\n",
    "        pre_model = cur_model\n",
    "        pre_nll = cur_nll\n",
    "        if verbose:\n",
    "            print(f\"Negative likelihood: {cur_nll}\")\n",
    "            print(f\"Model: {[round(w,3) for w in cur_model]}\")\n",
    "    else:\n",
    "        final_model = pre_model\n",
    "        print(f'Minimum found in STEP {idx}')\n",
    "        print(f\"Final:  Negative likelihood = {pre_nll}\")\n",
    "        break\n",
    "final_model = cur_model\n",
    "print(f\"Final:  Negative likelihood = {cur_nll}\")\n",
    "\n",
    "df['Estimated Probabilities'] =  df.apply(lambda row: 1/(1+np.exp(-np.dot(row.x, final_model))), axis=1)\n",
    "df"
   ]
  },
  {
   "cell_type": "code",
   "execution_count": 20,
   "metadata": {},
   "outputs": [
    {
     "data": {
      "text/plain": [
       "[0.9996080594401896,\n",
       " 0.0003149949373407126,\n",
       " 0.0003149949373407126,\n",
       " 0.9996080594401896,\n",
       " 0.0003149949373407126,\n",
       " 0.0003149949373407126]"
      ]
     },
     "execution_count": 20,
     "metadata": {},
     "output_type": "execute_result"
    }
   ],
   "source": [
    "data = [LabeledPoint(1.0, [1.0,0.0,1.0,0.0,0.0]), LabeledPoint(0.0, [1.0,0.0,0.0,1.0,0.0]), LabeledPoint(0.0, [1.0,0.0,0.0,0.0,1.0]),\n",
    "        LabeledPoint(1.0, [0.0,1.0,1.0,0.0,0.0]), LabeledPoint(0.0, [0.0,1.0,0.0,1.0,0.0]), LabeledPoint(0.0, [0.0,1.0,0.0,0.0,1.0])]\n",
    "lrm = LogisticRegressionWithLBFGS.train(sc.parallelize(data), iterations=10)\n",
    "lrm.clearThreshold()\n",
    "lrm.predict(sc.parallelize([[1.0, 0.0, 1.0, 0.0, 0.0],\n",
    "                            [1.0, 0.0, 0.0, 1.0, 0.0],\n",
    "                            [1.0, 0.0, 0.0, 0.0, 1.0],\n",
    "                            [0.0, 1.0, 1.0, 0.0, 0.0],\n",
    "                            [0.0, 1.0, 0.0, 1.0, 0.0],\n",
    "                            [0.0, 1.0, 0.0, 0.0, 1.0]])).collect()"
   ]
  },
  {
   "cell_type": "markdown",
   "metadata": {},
   "source": [
    "As illustrated above, our gradient descent algorithm has very similar output as results from `LogisticRegressionWithLBFGS`."
   ]
  },
  {
   "cell_type": "markdown",
   "metadata": {},
   "source": [
    "# 3. EDA and discussion of challenges\n",
    "\n",
    "__[section needs to be updated]__\n",
    "\n",
    "\n",
    "The goal of our EDA is to characterize the dimensionality and distribution of our data. While dependent variable in our dataset tells us that the problem at hand can be solved using a binary classification algorithm, EDA helps us confirm model selection and evaluate options for a scalable solution in the Map-Reduce framework. More specifically, we will explore the data to identify the following:\n",
    "\n",
    "- What is the total number of dimensions?\n",
    "- What is the distribution of dimensions?\n",
    "- Does the dataset conform to the assumptions of a Linear Regression statistcal model?\n",
    "- What is Receiver Operating Characteristic (ROC) curve with all features (i.e., without any feature hashing)?\n",
    "\n",
    "\n",
    "### Loading the Dataset\n",
    "\n",
    "In a limited scope and timeframe we can use this chunk of data that represents roughly a week's worth of click through logs captured. From the raw data, we can see that the dataset consists of text delimited by tabs. The first entry is the label (0 or 1, where 0 means the user didn't click on the given ad), while the rest are features associated with the ad. While we can imagine that there could be a whole host of features like device types, browser types, time of day, date, advertisers, ad, platform, company...but we cannot see any of these labels or the underlying values, these have been changed and hence we cannot `infer` based on any domain knowledge, hence the goal in this project will be more on `prediction performance` and `distributed computing scalability and design efficiency`.\n",
    "\n",
    "Data file strip :  ```0\t\t0\t14\t6\t7132\t171\t2\t2\t6\t\t1\t\t6\t05db9164\t38a947a1\te88a1d4c\t8eb9aec7\t25c83c98\tfbad5c96\t3fd38f3b\t```\n",
    "\n"
   ]
  },
  {
   "cell_type": "markdown",
   "metadata": {},
   "source": [
    "The training data set consists of over 45 million rows with 13 integer and 26 categorical features. The following observations can be made by analyzing a sample:\n",
    "\n",
    "1. Label data is 0 or 1 making it a good candidate for logistic regression model\n",
    "2. Sparse matrix - Dataset contains a lot of missing values. These cannot be deleted since missing values for columns are normal for this use case. Our model will have to be able to handle a sparse matrix \n",
    "3. Columns 14 onwards are categorical variables, but the majority of the values are missing and each column has thousands of categories. One Hot encoding of these categorical variables will result in a very large number of features (columns). \n",
    "4. The correlation matrix of integer features in sample reveal no significant positive or negative correlation between features. This helps ascertain that data conforms with logistic regression assumption of 'little or no multicollinearity between independent variables'. As a result, all independent variables will be used as features within our model. \n",
    "5. The integer variable histograms show that these variables are highly skewed to the left, with a few values to the extreme right. This skewed distribution of data should not be an issue since logistic regression does not assume underlying data is normal.\n",
    "6. A count of outcomes in sample data shows approx. 3:1 ratio between 0 and 1 as outcome (approx. 75% of data has 0 as outcome). Our strategies to handle the sparse matrix will have to pay careful attention to the ratio of outcome variables to ensure minimal bias in model.\n",
    "7.  Classification models need to be developed with mind to the prior rates of success (click) or failure (not-clicked). If one is much more likely than the other, predicting the more likely class every time will be accurate at the same rate as the likely class. In the case of this data the prior rates are not given, and the description of the data<sup>[2]</sup> specifically indicates that the classes have been sampled at different rates to change the size of the data set. We cannot hope to recover the initial information. Non-clicks comprise approximately 75% of the data we do have, so our classifier will have to do better than 75% accuracy to beat simply predicting \"non-click\" every time."
   ]
  },
  {
   "cell_type": "markdown",
   "metadata": {},
   "source": [
    "#### Project file Handling (pipeline workflow)\n",
    "\n",
    "This section is for illustrating the benefits of parsing the raw data files methodically. We need to be mindful that Kaggle challenge provides a dataset that is cleaned, formatted and contains some data preprocessing that will be unavailable with model encounters new data. The operating system provides simple Unix raw file reading tools that can be used to move, split, modify (tab to csv) and even do simple EDA like count lines, words, find specific key words etc. the following section tackles these and each step is explained."
   ]
  },
  {
   "cell_type": "markdown",
   "metadata": {},
   "source": [
    "(1) Create a storage directory, download and extract the tarball. This section below is to capture the data we have been provided. In production, we will likely grep this from a kafka stream dumping files into a hdfs storage location from where we can safely load the data into our Spark clusters. However before doing these, we still need to capture these files, and be able to perform some basic operations prior to using the Spark application."
   ]
  },
  {
   "cell_type": "code",
   "execution_count": 12,
   "metadata": {},
   "outputs": [
    {
     "name": "stdout",
     "output_type": "stream",
     "text": [
      "gunzip: can't stat: data/lyrics.tar.gz (data/lyrics.tar.gz.gz): No such file or directory\n",
      "x ./._lyrics.csv\n",
      "x lyrics.csv\n"
     ]
    }
   ],
   "source": [
    "# Run Once - In production, this will move to the data pipeline\n",
    "# make a data folder & download zipped datafile\n",
    "#!mkdir data\n",
    "!gunzip data/lyrics.tar.gz\n",
    "!tar -xvf data/lyrics.tar\n",
    "!cp lyrics.csv data/lyrics.csv"
   ]
  },
  {
   "cell_type": "markdown",
   "metadata": {},
   "source": [
    "(2) Count the total size of the dataset."
   ]
  },
  {
   "cell_type": "code",
   "execution_count": 13,
   "metadata": {},
   "outputs": [
    {
     "name": "stdout",
     "output_type": "stream",
     "text": [
      " 9357041 data/lyrics.csv\r\n"
     ]
    }
   ],
   "source": [
    "#Count the number of records in the raw data\n",
    "!wc -l data/lyrics.csv"
   ]
  },
  {
   "cell_type": "code",
   "execution_count": 24,
   "metadata": {},
   "outputs": [
    {
     "name": "stdout",
     "output_type": "stream",
     "text": [
      "Number of Records: 362237\n"
     ]
    }
   ],
   "source": [
    "lyrics_sample = pd.read_csv('data/lyrics.csv')\n",
    "print('Number of Records:',len(lyrics_sample))"
   ]
  },
  {
   "cell_type": "code",
   "execution_count": 41,
   "metadata": {},
   "outputs": [],
   "source": [
    "#Pre-processing\n",
    "def data_cleanup():\n",
    "\n",
    "#Cleaning up the data\n",
    "    with open('data/lyrics.csv', 'r') as inp, open('data/lyrics_out.csv', 'w') as out:\n",
    "        writer = csv.writer(out)\n",
    "        for row in csv.reader(inp):\n",
    "            if row[4] != \"Alkebulan\" and row[4] != \"Other\" and row[4] != \"\" and row[4] != \"Not Available\" and row[4] != \"zora sourit\" and row[5] != \"\":\n",
    "                writer.writerow(row)\n",
    "\n",
    "def multi_class_data():\n",
    "\tdata_cleanup()\n",
    "\n",
    "\tdf = pd.read_csv('data/lyrics_out.csv')\n",
    "\n",
    "\t#add a new column with word count of the lyrics of a song\n",
    "\tdf['word_count'] = df['lyrics'].str.split( ).str.len()\n",
    "\n",
    "\tdf[\"lyrics\"] = df['lyrics'].str.lower()\n",
    "\n",
    "\tdf['lyrics'] = df['lyrics'].str.strip('[]')\n",
    "\tdf['lyrics'] = df['lyrics'].str.strip('()')\n",
    "\tdf[\"lyrics\"] = df['lyrics'].str.replace('[^\\w\\s]','')\n",
    "\tdf[\"lyrics\"] = df['lyrics'].str.replace('chorus','')\n",
    "\tdf[\"lyrics\"] = df['lyrics'].str.replace(':','')\n",
    "\tdf[\"lyrics\"] = df['lyrics'].str.replace(',','')\n",
    "\tdf[\"lyrics\"] = df['lyrics'].str.replace('verse','')\n",
    "\tdf[\"lyrics\"] = df['lyrics'].str.replace('x1','')\n",
    "\tdf[\"lyrics\"] = df['lyrics'].str.replace('x2','')\n",
    "\tdf[\"lyrics\"] = df['lyrics'].str.replace('x3','')\n",
    "\tdf[\"lyrics\"] = df['lyrics'].str.replace('x4','')\n",
    "\tdf[\"lyrics\"] = df['lyrics'].str.replace('x5','')\n",
    "\tdf[\"lyrics\"] = df['lyrics'].str.replace('x6','')\n",
    "\tdf[\"lyrics\"] = df['lyrics'].str.replace('x7','')\n",
    "\tdf[\"lyrics\"] = df['lyrics'].str.replace('x8','')\n",
    "\tdf[\"lyrics\"] = df['lyrics'].str.replace('x9','')\n",
    "\tdf[\"lyrics\"] = df['lyrics'].str.decode('utf-8', errors='ignore')\n",
    "\n",
    "\t#remove rows with lyrics count less than 100\n",
    "\n",
    "\t#df = df[df['genre']!=\"Pop\"]\n",
    "\tdf = df[df['genre']!=\"Folk\"]\n",
    "\t#df = df[df['genre']!=\"Jazz\"]\n",
    "\tdf = df[df['genre']!=\"R&B\"]\n",
    "\tdf = df[df['genre']!=\"Indie\"]\n",
    "\tdf = df[df['genre']!=\"Electronic\"]\n",
    "\tdf = df[df['genre']!=\"Metal\"]\n",
    "\n",
    "\tdf = df[df['word_count'] > 100]\n",
    "\n",
    "\tdf = df.groupby('genre').head(1000)\n",
    "\t#replace carriage returns\n",
    "\tdf = df.replace({'\\n': ' '}, regex=True)\n",
    "\n",
    "\tdel df['song'],df['year'],df['artist'],df['word_count']\n",
    "\tprint (df.head())\n",
    "\n",
    "\tdf.to_csv('data/lyrics_final.csv', index=False)"
   ]
  },
  {
   "cell_type": "code",
   "execution_count": 67,
   "metadata": {},
   "outputs": [
    {
     "name": "stdout",
     "output_type": "stream",
     "text": [
      "... completed job in 12.540312051773071 seconds.\n"
     ]
    }
   ],
   "source": [
    "start = time.time()\n",
    "data_cleanup()\n",
    "end = time.time()\n",
    "print(f'... completed job in {end - start} seconds.')"
   ]
  },
  {
   "cell_type": "markdown",
   "metadata": {},
   "source": [
    "Note: Above code simply follows good programming practice of building a toy, sample and full dataset and data objects in Spark. This helps us do unit test, some time and complexity testing before we run our data jobs on the full dataset. \n",
    "\n",
    "Just to recap the above section:\n",
    "\n",
    "1) We made (3) sets of data to unit test, validate modeling and run full model.\n",
    "2) We also plan to use the RDD, DataFrame and ML APIs hence having these data samples aids the development\n",
    "3) Learning about the data is most efficient using samples rather than he full dataset, practically saving us time and allowing us to make meaningful statistical inferences about the 'population' from the 'samples'."
   ]
  },
  {
   "cell_type": "markdown",
   "metadata": {},
   "source": [
    "The counts of unique values by feature gives a sense of the feature distribution.  Feature 17, a categorical feature, takes on about 181k unique values in the approximately 457k rows of the 1% sample dataset, indicating a huge feature space."
   ]
  },
  {
   "cell_type": "code",
   "execution_count": 68,
   "metadata": {},
   "outputs": [],
   "source": [
    "df = pd.read_csv('data/lyrics_out.csv')\n",
    "df.replace('?', -9999999, inplace=True)\n",
    "\n",
    "df.drop(['index'],1, inplace=True)\n"
   ]
  },
  {
   "cell_type": "code",
   "execution_count": 69,
   "metadata": {},
   "outputs": [
    {
     "data": {
      "text/html": [
       "<div>\n",
       "<style scoped>\n",
       "    .dataframe tbody tr th:only-of-type {\n",
       "        vertical-align: middle;\n",
       "    }\n",
       "\n",
       "    .dataframe tbody tr th {\n",
       "        vertical-align: top;\n",
       "    }\n",
       "\n",
       "    .dataframe thead th {\n",
       "        text-align: right;\n",
       "    }\n",
       "</style>\n",
       "<table border=\"1\" class=\"dataframe\">\n",
       "  <thead>\n",
       "    <tr style=\"text-align: right;\">\n",
       "      <th></th>\n",
       "      <th>song</th>\n",
       "      <th>year</th>\n",
       "      <th>artist</th>\n",
       "      <th>genre</th>\n",
       "      <th>lyrics</th>\n",
       "    </tr>\n",
       "  </thead>\n",
       "  <tbody>\n",
       "    <tr>\n",
       "      <th>0</th>\n",
       "      <td>ego-remix</td>\n",
       "      <td>2009</td>\n",
       "      <td>beyonce-knowles</td>\n",
       "      <td>Pop</td>\n",
       "      <td>Oh baby, how you doing?\\nYou know I'm gonna cu...</td>\n",
       "    </tr>\n",
       "    <tr>\n",
       "      <th>1</th>\n",
       "      <td>then-tell-me</td>\n",
       "      <td>2009</td>\n",
       "      <td>beyonce-knowles</td>\n",
       "      <td>Pop</td>\n",
       "      <td>playin' everything so easy,\\nit's like you see...</td>\n",
       "    </tr>\n",
       "    <tr>\n",
       "      <th>2</th>\n",
       "      <td>honesty</td>\n",
       "      <td>2009</td>\n",
       "      <td>beyonce-knowles</td>\n",
       "      <td>Pop</td>\n",
       "      <td>If you search\\nFor tenderness\\nIt isn't hard t...</td>\n",
       "    </tr>\n",
       "    <tr>\n",
       "      <th>3</th>\n",
       "      <td>you-are-my-rock</td>\n",
       "      <td>2009</td>\n",
       "      <td>beyonce-knowles</td>\n",
       "      <td>Pop</td>\n",
       "      <td>Oh oh oh I, oh oh oh I\\n[Verse 1:]\\nIf I wrote...</td>\n",
       "    </tr>\n",
       "    <tr>\n",
       "      <th>4</th>\n",
       "      <td>black-culture</td>\n",
       "      <td>2009</td>\n",
       "      <td>beyonce-knowles</td>\n",
       "      <td>Pop</td>\n",
       "      <td>Party the people, the people the party it's po...</td>\n",
       "    </tr>\n",
       "  </tbody>\n",
       "</table>\n",
       "</div>"
      ],
      "text/plain": [
       "              song  year           artist genre  \\\n",
       "0        ego-remix  2009  beyonce-knowles   Pop   \n",
       "1     then-tell-me  2009  beyonce-knowles   Pop   \n",
       "2          honesty  2009  beyonce-knowles   Pop   \n",
       "3  you-are-my-rock  2009  beyonce-knowles   Pop   \n",
       "4    black-culture  2009  beyonce-knowles   Pop   \n",
       "\n",
       "                                              lyrics  \n",
       "0  Oh baby, how you doing?\\nYou know I'm gonna cu...  \n",
       "1  playin' everything so easy,\\nit's like you see...  \n",
       "2  If you search\\nFor tenderness\\nIt isn't hard t...  \n",
       "3  Oh oh oh I, oh oh oh I\\n[Verse 1:]\\nIf I wrote...  \n",
       "4  Party the people, the people the party it's po...  "
      ]
     },
     "execution_count": 69,
     "metadata": {},
     "output_type": "execute_result"
    }
   ],
   "source": [
    "df.head()"
   ]
  },
  {
   "cell_type": "code",
   "execution_count": 83,
   "metadata": {},
   "outputs": [],
   "source": [
    "def pre_process():\n",
    "\n",
    "\tprint(\"Processing the data...\")\n",
    "\tdf = pd.read_csv('data/lyrics_out.csv')\n",
    "\tdf.replace('?', -9999999, inplace=True)\n",
    "\n",
    "\tdf.drop(['index'],1, inplace=True)\n",
    "\t\n",
    "\tdict_genres={'Rock':1, 'Country':2, 'Hip-Hop':3, 'Pop':4, 'Jazz':5}\n",
    "\n",
    "\tlabels = []\n",
    "\ttext = []\n",
    "\tfor index, row in df.iterrows():\n",
    "\t\tlabels.append(row[3])\n",
    "\t\twords = row[4].split()\n",
    "\t\ttext.append(row[4])\n",
    "\t\t#text.append(words)\n",
    "\t#stemming\n",
    "\ttext = [[stem(word) for word in sentence.split(\" \")] for sentence in text]\n",
    "\ttext = [\" \".join(sentence) for sentence in text]\n",
    "\n",
    "\tprint(\"Data processing done!!\")\n",
    "\n",
    "\tf = open(\"data/multiclass.txt\", \"w\")\n",
    "\n",
    "\t#text, labels = pre_process()\n",
    "\t\n",
    "\tprint(\"Total songs: %s\"%(len(labels)))\n",
    "\tcountVec = TfidfVectorizer(stop_words = 'english', sublinear_tf=True)\n",
    "\n",
    "\t#countVec = CountVectorizer(stop_words = 'english')\n",
    "\n",
    "\tx_train, x_test, y_train, y_test = train_test_split(text,labels,test_size=0.2)\n",
    "\n",
    "\t#Creating tf-idf vector for the documents\n",
    "\n",
    "\tx_trainCV = countVec.fit_transform(x_train)\n",
    "\tjoblib.dump(countVec, \"tfidf_vectorizer.pickle\")\n",
    "\n",
    "\tx_testCV = countVec.transform(x_test)\n",
    "\n",
    "\t#converting the vectors into array to use further\n",
    "\tx_train = x_trainCV.toarray()\n",
    "\tx_test = x_testCV.toarray()\n",
    "\n",
    "\tx_train = preprocessing.normalize(x_train)\n",
    "\tx_train = preprocessing.scale(x_train)\n",
    "\t\n",
    "\tx_test = preprocessing.normalize(x_test)\n",
    "\tx_test = preprocessing.scale(x_test)\n",
    "\t\n",
    "\tjoblib.dump(countVec, \"tfidf_vectorizer.pickle\")\n",
    "\n",
    "\tprint(\"x_train: %s, x_test: %s, y_train: %s, y_test: %s\"%(len(x_train),len(x_test),len(y_train),len(y_test)))\t\n",
    "\treturn x_train,x_test,y_train,y_test\n",
    "def train(input,x_train,x_test,y_train,y_test)\n",
    "\tif input == \"svm\":\n",
    "\t\tprint(\"SVM classifier\")\n",
    "\t\tsvm = Pipeline([('vect', TfidfVectorizer(analyzer=lambda x: x)),('clf', SVC(kernel = 'linear'),)])\n",
    "\t\tsvm = svm.fit(x_train,y_train)\n",
    "\t\taccuracy = svm.score(x_test,y_test)\n",
    "\t\tprint(\"SVM: accuracy for tf-idf %s\"%(accuracy))\n",
    "\t\n",
    "\tif input == \"mnb\":\n",
    "\t\tprint(\"Multinomial Naive Bayes Classifier\")\n",
    "\t\tmnb = MultinomialNB()\n",
    "\t\tmnb.fit(x_train,y_train)\n",
    "\t\taccuracy = mnb.score(x_test,y_test)\n",
    "\t\tprint(\"accuracy for multinomial naive bayes: %s\"%(accuracy))\n",
    "\t\t#print (confusion_matrix(y_train, mnb_predicted))\n",
    "\t\tf.write(\"accuracy for multinomial naive bayes: %s \\n\"%(accuracy))\n",
    "\t\n",
    "\tif input == \"bnb\":\n",
    "\t\tprint(\"Bernoulli Naive Bayes Classifier\")\n",
    "\t\tbnb = BernoulliNB()\n",
    "\t\tbnb.fit(x_train,y_train)\n",
    "\t\taccuracy = bnb.score(x_test,y_test)\n",
    "\t\tprint(\"accuracy for bernoulli naive bayes: %s\"%(accuracy))\n",
    "\t\tf.write(\"accuracy for bernoulli naive bayes: %s \\n\"%(accuracy))\n",
    "\t\n",
    "\tif input == \"lr\":\n",
    "\t\tprint(\"Logistic Regression Classifier\")\n",
    "\t\tlr = LogisticRegression(solver=\"liblinear\", multi_class=\"ovr\")\n",
    "\t\tlr.fit(x_train,y_train)\n",
    "\t\tprint(\"accuracy for LogisticRegression: %s\"%(lr.score(x_test,y_test)))\n",
    "\t\tf.write(\"accuracy for logistic regression: %s \\n\"%(accuracy))\n",
    "\t\n",
    "\tif input == \"dt\":\n",
    "\t\tprint(\"Decision Tree Classifier\")\n",
    "\t\tdt = DecisionTreeClassifier()\n",
    "\t\tdt.fit(x_train,y_train)\n",
    "\t\tprint(\"accuracy for Decision Tree: %s\"%(dt.score(x_test,y_test)))\n",
    "\t\tf.write(\"accuracy for decision tree: %s \\n\"%(accuracy))\n",
    "\t\n",
    "\tif input == \"mlp\":\n",
    "\t\tprint(\"Multi Layer Perceptron Classifier\")\n",
    "\t\t#Training and Testing on SCikit Neural Network library\n",
    "\t\tneural = MLPClassifier()\n",
    "\t\tneural.fit(x_train,y_train)\n",
    "\n",
    "\t\tjoblib.dump(neural, \"classifier.pickle\")\n",
    "\n",
    "\t\taccuracy = neural.score(x_test, y_test)\n",
    "\t\tprint(\"accuracy for Neural Network: %s\"%(accuracy))\n",
    "\t\t\n",
    "\tif input == \"rf\":\n",
    "\t\tprint(\"Random Forest Classifier\")\n",
    "\t\trf = RandomForestClassifier(n_estimators=100,max_features=\"sqrt\").fit(x_train,y_train)\n",
    "\t\tjoblib.dump(rf, \"classifier.pickle\")\n",
    "\t\taccuracy = rf.score(x_test, y_test)\n",
    "\t\t\n",
    "\t\tprint(\"accuracy for Random Forest: %s\"%(accuracy))\n",
    "\t\tf.write(\"accuracy for Random Forest: %s \\n\"%(accuracy))\n",
    "\t\n",
    "\tf.close()\n",
    "\n",
    "def test(input_string):\n",
    "\n",
    "\tvectorizer = joblib.load(\"tfidf_vectorizer.pickle\")\n",
    "\tclassifier = joblib.load(\"classifier.pickle\")\n",
    "\t\n",
    "\ttr = vectorizer.transform(input_string)\n",
    "\n",
    "\tpredictions = classifier.predict(tr)\n",
    "\tprint(predictions[0])\n",
    "\treturn predictions[0]"
   ]
  },
  {
   "cell_type": "code",
   "execution_count": 85,
   "metadata": {},
   "outputs": [
    {
     "name": "stdout",
     "output_type": "stream",
     "text": [
      "Processing the data...\n"
     ]
    },
    {
     "ename": "KeyboardInterrupt",
     "evalue": "",
     "output_type": "error",
     "traceback": [
      "\u001b[0;31m---------------------------------------------------------------------------\u001b[0m",
      "\u001b[0;31mKeyboardInterrupt\u001b[0m                         Traceback (most recent call last)",
      "\u001b[0;32m<ipython-input-85-04d3486b53ad>\u001b[0m in \u001b[0;36m<module>\u001b[0;34m\u001b[0m\n\u001b[1;32m      1\u001b[0m \u001b[0mstart\u001b[0m \u001b[0;34m=\u001b[0m \u001b[0mtime\u001b[0m\u001b[0;34m.\u001b[0m\u001b[0mtime\u001b[0m\u001b[0;34m(\u001b[0m\u001b[0;34m)\u001b[0m\u001b[0;34m\u001b[0m\u001b[0;34m\u001b[0m\u001b[0m\n\u001b[0;32m----> 2\u001b[0;31m \u001b[0mx_train\u001b[0m\u001b[0;34m,\u001b[0m\u001b[0mx_test\u001b[0m\u001b[0;34m,\u001b[0m\u001b[0my_train\u001b[0m\u001b[0;34m,\u001b[0m\u001b[0my_test\u001b[0m \u001b[0;34m=\u001b[0m \u001b[0mpre_process\u001b[0m\u001b[0;34m(\u001b[0m\u001b[0;34m)\u001b[0m\u001b[0;34m\u001b[0m\u001b[0;34m\u001b[0m\u001b[0m\n\u001b[0m\u001b[1;32m      3\u001b[0m \u001b[0mend\u001b[0m \u001b[0;34m=\u001b[0m \u001b[0mtime\u001b[0m\u001b[0;34m.\u001b[0m\u001b[0mtime\u001b[0m\u001b[0;34m(\u001b[0m\u001b[0;34m)\u001b[0m\u001b[0;34m\u001b[0m\u001b[0;34m\u001b[0m\u001b[0m\n\u001b[1;32m      4\u001b[0m \u001b[0mprint\u001b[0m\u001b[0;34m(\u001b[0m\u001b[0;34mf'... completed in {end - start} seconds.'\u001b[0m\u001b[0;34m)\u001b[0m\u001b[0;34m\u001b[0m\u001b[0;34m\u001b[0m\u001b[0m\n",
      "\u001b[0;32m<ipython-input-83-7339308716bf>\u001b[0m in \u001b[0;36mpre_process\u001b[0;34m()\u001b[0m\n\u001b[1;32m     17\u001b[0m                 \u001b[0;31m#text.append(words)\u001b[0m\u001b[0;34m\u001b[0m\u001b[0;34m\u001b[0m\u001b[0;34m\u001b[0m\u001b[0m\n\u001b[1;32m     18\u001b[0m         \u001b[0;31m#stemming\u001b[0m\u001b[0;34m\u001b[0m\u001b[0;34m\u001b[0m\u001b[0;34m\u001b[0m\u001b[0m\n\u001b[0;32m---> 19\u001b[0;31m         \u001b[0mtext\u001b[0m \u001b[0;34m=\u001b[0m \u001b[0;34m[\u001b[0m\u001b[0;34m[\u001b[0m\u001b[0mstem\u001b[0m\u001b[0;34m(\u001b[0m\u001b[0mword\u001b[0m\u001b[0;34m)\u001b[0m \u001b[0;32mfor\u001b[0m \u001b[0mword\u001b[0m \u001b[0;32min\u001b[0m \u001b[0msentence\u001b[0m\u001b[0;34m.\u001b[0m\u001b[0msplit\u001b[0m\u001b[0;34m(\u001b[0m\u001b[0;34m\" \"\u001b[0m\u001b[0;34m)\u001b[0m\u001b[0;34m]\u001b[0m \u001b[0;32mfor\u001b[0m \u001b[0msentence\u001b[0m \u001b[0;32min\u001b[0m \u001b[0mtext\u001b[0m\u001b[0;34m]\u001b[0m\u001b[0;34m\u001b[0m\u001b[0;34m\u001b[0m\u001b[0m\n\u001b[0m\u001b[1;32m     20\u001b[0m         \u001b[0mtext\u001b[0m \u001b[0;34m=\u001b[0m \u001b[0;34m[\u001b[0m\u001b[0;34m\" \"\u001b[0m\u001b[0;34m.\u001b[0m\u001b[0mjoin\u001b[0m\u001b[0;34m(\u001b[0m\u001b[0msentence\u001b[0m\u001b[0;34m)\u001b[0m \u001b[0;32mfor\u001b[0m \u001b[0msentence\u001b[0m \u001b[0;32min\u001b[0m \u001b[0mtext\u001b[0m\u001b[0;34m]\u001b[0m\u001b[0;34m\u001b[0m\u001b[0;34m\u001b[0m\u001b[0m\n\u001b[1;32m     21\u001b[0m \u001b[0;34m\u001b[0m\u001b[0m\n",
      "\u001b[0;32m<ipython-input-83-7339308716bf>\u001b[0m in \u001b[0;36m<listcomp>\u001b[0;34m(.0)\u001b[0m\n\u001b[1;32m     17\u001b[0m                 \u001b[0;31m#text.append(words)\u001b[0m\u001b[0;34m\u001b[0m\u001b[0;34m\u001b[0m\u001b[0;34m\u001b[0m\u001b[0m\n\u001b[1;32m     18\u001b[0m         \u001b[0;31m#stemming\u001b[0m\u001b[0;34m\u001b[0m\u001b[0;34m\u001b[0m\u001b[0;34m\u001b[0m\u001b[0m\n\u001b[0;32m---> 19\u001b[0;31m         \u001b[0mtext\u001b[0m \u001b[0;34m=\u001b[0m \u001b[0;34m[\u001b[0m\u001b[0;34m[\u001b[0m\u001b[0mstem\u001b[0m\u001b[0;34m(\u001b[0m\u001b[0mword\u001b[0m\u001b[0;34m)\u001b[0m \u001b[0;32mfor\u001b[0m \u001b[0mword\u001b[0m \u001b[0;32min\u001b[0m \u001b[0msentence\u001b[0m\u001b[0;34m.\u001b[0m\u001b[0msplit\u001b[0m\u001b[0;34m(\u001b[0m\u001b[0;34m\" \"\u001b[0m\u001b[0;34m)\u001b[0m\u001b[0;34m]\u001b[0m \u001b[0;32mfor\u001b[0m \u001b[0msentence\u001b[0m \u001b[0;32min\u001b[0m \u001b[0mtext\u001b[0m\u001b[0;34m]\u001b[0m\u001b[0;34m\u001b[0m\u001b[0;34m\u001b[0m\u001b[0m\n\u001b[0m\u001b[1;32m     20\u001b[0m         \u001b[0mtext\u001b[0m \u001b[0;34m=\u001b[0m \u001b[0;34m[\u001b[0m\u001b[0;34m\" \"\u001b[0m\u001b[0;34m.\u001b[0m\u001b[0mjoin\u001b[0m\u001b[0;34m(\u001b[0m\u001b[0msentence\u001b[0m\u001b[0;34m)\u001b[0m \u001b[0;32mfor\u001b[0m \u001b[0msentence\u001b[0m \u001b[0;32min\u001b[0m \u001b[0mtext\u001b[0m\u001b[0;34m]\u001b[0m\u001b[0;34m\u001b[0m\u001b[0;34m\u001b[0m\u001b[0m\n\u001b[1;32m     21\u001b[0m \u001b[0;34m\u001b[0m\u001b[0m\n",
      "\u001b[0;32m<ipython-input-83-7339308716bf>\u001b[0m in \u001b[0;36m<listcomp>\u001b[0;34m(.0)\u001b[0m\n\u001b[1;32m     17\u001b[0m                 \u001b[0;31m#text.append(words)\u001b[0m\u001b[0;34m\u001b[0m\u001b[0;34m\u001b[0m\u001b[0;34m\u001b[0m\u001b[0m\n\u001b[1;32m     18\u001b[0m         \u001b[0;31m#stemming\u001b[0m\u001b[0;34m\u001b[0m\u001b[0;34m\u001b[0m\u001b[0;34m\u001b[0m\u001b[0m\n\u001b[0;32m---> 19\u001b[0;31m         \u001b[0mtext\u001b[0m \u001b[0;34m=\u001b[0m \u001b[0;34m[\u001b[0m\u001b[0;34m[\u001b[0m\u001b[0mstem\u001b[0m\u001b[0;34m(\u001b[0m\u001b[0mword\u001b[0m\u001b[0;34m)\u001b[0m \u001b[0;32mfor\u001b[0m \u001b[0mword\u001b[0m \u001b[0;32min\u001b[0m \u001b[0msentence\u001b[0m\u001b[0;34m.\u001b[0m\u001b[0msplit\u001b[0m\u001b[0;34m(\u001b[0m\u001b[0;34m\" \"\u001b[0m\u001b[0;34m)\u001b[0m\u001b[0;34m]\u001b[0m \u001b[0;32mfor\u001b[0m \u001b[0msentence\u001b[0m \u001b[0;32min\u001b[0m \u001b[0mtext\u001b[0m\u001b[0;34m]\u001b[0m\u001b[0;34m\u001b[0m\u001b[0;34m\u001b[0m\u001b[0m\n\u001b[0m\u001b[1;32m     20\u001b[0m         \u001b[0mtext\u001b[0m \u001b[0;34m=\u001b[0m \u001b[0;34m[\u001b[0m\u001b[0;34m\" \"\u001b[0m\u001b[0;34m.\u001b[0m\u001b[0mjoin\u001b[0m\u001b[0;34m(\u001b[0m\u001b[0msentence\u001b[0m\u001b[0;34m)\u001b[0m \u001b[0;32mfor\u001b[0m \u001b[0msentence\u001b[0m \u001b[0;32min\u001b[0m \u001b[0mtext\u001b[0m\u001b[0;34m]\u001b[0m\u001b[0;34m\u001b[0m\u001b[0;34m\u001b[0m\u001b[0m\n\u001b[1;32m     21\u001b[0m \u001b[0;34m\u001b[0m\u001b[0m\n",
      "\u001b[0;32m~/anaconda3/lib/python3.7/site-packages/stemming/porter2.py\u001b[0m in \u001b[0;36mstem\u001b[0;34m(word)\u001b[0m\n\u001b[1;32m    274\u001b[0m     \u001b[0mword\u001b[0m \u001b[0;34m=\u001b[0m \u001b[0mstep_1b\u001b[0m\u001b[0;34m(\u001b[0m\u001b[0mword\u001b[0m\u001b[0;34m,\u001b[0m \u001b[0mr1\u001b[0m\u001b[0;34m)\u001b[0m\u001b[0;34m\u001b[0m\u001b[0;34m\u001b[0m\u001b[0m\n\u001b[1;32m    275\u001b[0m     \u001b[0mword\u001b[0m \u001b[0;34m=\u001b[0m \u001b[0mstep_1c\u001b[0m\u001b[0;34m(\u001b[0m\u001b[0mword\u001b[0m\u001b[0;34m)\u001b[0m\u001b[0;34m\u001b[0m\u001b[0;34m\u001b[0m\u001b[0m\n\u001b[0;32m--> 276\u001b[0;31m     \u001b[0mword\u001b[0m \u001b[0;34m=\u001b[0m \u001b[0mstep_2\u001b[0m\u001b[0;34m(\u001b[0m\u001b[0mword\u001b[0m\u001b[0;34m,\u001b[0m \u001b[0mr1\u001b[0m\u001b[0;34m)\u001b[0m\u001b[0;34m\u001b[0m\u001b[0;34m\u001b[0m\u001b[0m\n\u001b[0m\u001b[1;32m    277\u001b[0m     \u001b[0mword\u001b[0m \u001b[0;34m=\u001b[0m \u001b[0mstep_3\u001b[0m\u001b[0;34m(\u001b[0m\u001b[0mword\u001b[0m\u001b[0;34m,\u001b[0m \u001b[0mr1\u001b[0m\u001b[0;34m,\u001b[0m \u001b[0mr2\u001b[0m\u001b[0;34m)\u001b[0m\u001b[0;34m\u001b[0m\u001b[0;34m\u001b[0m\u001b[0m\n\u001b[1;32m    278\u001b[0m     \u001b[0mword\u001b[0m \u001b[0;34m=\u001b[0m \u001b[0mstep_4\u001b[0m\u001b[0;34m(\u001b[0m\u001b[0mword\u001b[0m\u001b[0;34m,\u001b[0m \u001b[0mr2\u001b[0m\u001b[0;34m)\u001b[0m\u001b[0;34m\u001b[0m\u001b[0;34m\u001b[0m\u001b[0m\n",
      "\u001b[0;32m~/anaconda3/lib/python3.7/site-packages/stemming/porter2.py\u001b[0m in \u001b[0;36mstep_2\u001b[0;34m(word, r1)\u001b[0m\n\u001b[1;32m    166\u001b[0m \u001b[0;32mdef\u001b[0m \u001b[0mstep_2\u001b[0m\u001b[0;34m(\u001b[0m\u001b[0mword\u001b[0m\u001b[0;34m,\u001b[0m \u001b[0mr1\u001b[0m\u001b[0;34m)\u001b[0m\u001b[0;34m:\u001b[0m\u001b[0;34m\u001b[0m\u001b[0;34m\u001b[0m\u001b[0m\n\u001b[1;32m    167\u001b[0m     \u001b[0;32mfor\u001b[0m \u001b[0mtrip\u001b[0m \u001b[0;32min\u001b[0m \u001b[0ms2_triples\u001b[0m\u001b[0;34m:\u001b[0m\u001b[0;34m\u001b[0m\u001b[0;34m\u001b[0m\u001b[0m\n\u001b[0;32m--> 168\u001b[0;31m         \u001b[0mattempt\u001b[0m \u001b[0;34m=\u001b[0m \u001b[0mstep_2_helper\u001b[0m\u001b[0;34m(\u001b[0m\u001b[0mword\u001b[0m\u001b[0;34m,\u001b[0m \u001b[0mr1\u001b[0m\u001b[0;34m,\u001b[0m \u001b[0mtrip\u001b[0m\u001b[0;34m[\u001b[0m\u001b[0;36m0\u001b[0m\u001b[0;34m]\u001b[0m\u001b[0;34m,\u001b[0m \u001b[0mtrip\u001b[0m\u001b[0;34m[\u001b[0m\u001b[0;36m1\u001b[0m\u001b[0;34m]\u001b[0m\u001b[0;34m,\u001b[0m \u001b[0mtrip\u001b[0m\u001b[0;34m[\u001b[0m\u001b[0;36m2\u001b[0m\u001b[0;34m]\u001b[0m\u001b[0;34m)\u001b[0m\u001b[0;34m\u001b[0m\u001b[0;34m\u001b[0m\u001b[0m\n\u001b[0m\u001b[1;32m    169\u001b[0m         \u001b[0;32mif\u001b[0m \u001b[0mattempt\u001b[0m\u001b[0;34m:\u001b[0m\u001b[0;34m\u001b[0m\u001b[0;34m\u001b[0m\u001b[0m\n\u001b[1;32m    170\u001b[0m             \u001b[0;32mreturn\u001b[0m \u001b[0mattempt\u001b[0m\u001b[0;34m\u001b[0m\u001b[0;34m\u001b[0m\u001b[0m\n",
      "\u001b[0;32m~/anaconda3/lib/python3.7/site-packages/stemming/porter2.py\u001b[0m in \u001b[0;36mstep_2_helper\u001b[0;34m(word, r1, end, repl, prev)\u001b[0m\n\u001b[1;32m    130\u001b[0m \u001b[0;34m\u001b[0m\u001b[0m\n\u001b[1;32m    131\u001b[0m \u001b[0;32mdef\u001b[0m \u001b[0mstep_2_helper\u001b[0m\u001b[0;34m(\u001b[0m\u001b[0mword\u001b[0m\u001b[0;34m,\u001b[0m \u001b[0mr1\u001b[0m\u001b[0;34m,\u001b[0m \u001b[0mend\u001b[0m\u001b[0;34m,\u001b[0m \u001b[0mrepl\u001b[0m\u001b[0;34m,\u001b[0m \u001b[0mprev\u001b[0m\u001b[0;34m)\u001b[0m\u001b[0;34m:\u001b[0m\u001b[0;34m\u001b[0m\u001b[0;34m\u001b[0m\u001b[0m\n\u001b[0;32m--> 132\u001b[0;31m         \u001b[0;32mif\u001b[0m \u001b[0mword\u001b[0m\u001b[0;34m.\u001b[0m\u001b[0mendswith\u001b[0m\u001b[0;34m(\u001b[0m\u001b[0mend\u001b[0m\u001b[0;34m)\u001b[0m\u001b[0;34m:\u001b[0m\u001b[0;34m\u001b[0m\u001b[0;34m\u001b[0m\u001b[0m\n\u001b[0m\u001b[1;32m    133\u001b[0m             \u001b[0;32mif\u001b[0m \u001b[0mlen\u001b[0m\u001b[0;34m(\u001b[0m\u001b[0mword\u001b[0m\u001b[0;34m)\u001b[0m \u001b[0;34m-\u001b[0m \u001b[0mlen\u001b[0m\u001b[0;34m(\u001b[0m\u001b[0mend\u001b[0m\u001b[0;34m)\u001b[0m \u001b[0;34m>=\u001b[0m \u001b[0mr1\u001b[0m\u001b[0;34m:\u001b[0m\u001b[0;34m\u001b[0m\u001b[0;34m\u001b[0m\u001b[0m\n\u001b[1;32m    134\u001b[0m                 \u001b[0;32mif\u001b[0m \u001b[0mprev\u001b[0m \u001b[0;34m==\u001b[0m \u001b[0;34m[\u001b[0m\u001b[0;34m]\u001b[0m\u001b[0;34m:\u001b[0m\u001b[0;34m\u001b[0m\u001b[0;34m\u001b[0m\u001b[0m\n",
      "\u001b[0;31mKeyboardInterrupt\u001b[0m: "
     ]
    }
   ],
   "source": [
    "# process the lyrics, convert into train and test\n",
    "start = time.time()\n",
    "x_train,x_test,y_train,y_test = pre_process()\n",
    "end = time.time()\n",
    "print(f'... completed in {end - start} seconds.')"
   ]
  },
  {
   "cell_type": "code",
   "execution_count": null,
   "metadata": {},
   "outputs": [],
   "source": [
    "input_param = [\"svm\",\"mnb\",\"bnb\",\"lr\",\"dt\",\"mlp\",\"rf\"]\n",
    "for i in input_param:\n",
    "    start = time.time()\n",
    "    train(i,x_train,x_test,y_train,y_test)\n",
    "    end = time.time()\n",
    "    print(f'... completed in {end - start} seconds.')"
   ]
  },
  {
   "cell_type": "markdown",
   "metadata": {},
   "source": [
    "Similarly, a large proportion of records are either null-valued, not-numeric, or blank.  This will be handled appropriately by our feature hashing later."
   ]
  },
  {
   "cell_type": "code",
   "execution_count": 19,
   "metadata": {},
   "outputs": [
    {
     "name": "stdout",
     "output_type": "stream",
     "text": [
      "Count of Null, NaN, and Missing\n",
      "_1 : 0\n",
      "_2 : 207730\n",
      "_3 : 0\n",
      "_4 : 98299\n",
      "_5 : 98835\n",
      "_6 : 11879\n",
      "_7 : 102535\n",
      "_8 : 19714\n",
      "_9 : 230\n",
      "_10 : 19714\n",
      "_11 : 207730\n",
      "_12 : 19714\n",
      "_13 : 349730\n",
      "_14 : 98835\n",
      "_15 : 0\n",
      "_16 : 0\n",
      "_17 : 15262\n",
      "_18 : 15262\n",
      "_19 : 0\n",
      "_20 : 55428\n",
      "_21 : 0\n",
      "_22 : 0\n",
      "_23 : 0\n",
      "_24 : 0\n",
      "_25 : 0\n",
      "_26 : 15262\n",
      "_27 : 0\n",
      "_28 : 0\n",
      "_29 : 0\n",
      "_30 : 15262\n",
      "_31 : 0\n",
      "_32 : 0\n",
      "_33 : 201022\n",
      "_34 : 201022\n",
      "_35 : 15262\n",
      "_36 : 348776\n",
      "_37 : 0\n",
      "_38 : 15262\n",
      "_39 : 201022\n",
      "_40 : 201022\n",
      "... completed job in 329.935094833374 seconds.\n"
     ]
    }
   ],
   "source": [
    "start = time.time()\n",
    "print('Count of Null, NaN, and Missing')\n",
    "for column in train_sample_df.columns:\n",
    "    blanksCounts = train_sample_df.filter( (F.isnull(column) ) \\\n",
    "                             | (F.isnan(column)) \\\n",
    "                             | (F.col(column) =='')).count()  # Any of the 3\n",
    "    \n",
    "    print(f'{column} : {blanksCounts}')\n",
    "end = time.time()\n",
    "print(f'... completed job in {end - start} seconds.')"
   ]
  },
  {
   "cell_type": "markdown",
   "metadata": {},
   "source": [
    "### Extremely large feature space Challenge\n",
    "\n",
    "Our sample dataset contains a huge number of categories. There are many modeling techniques that can work with categorical variables.  We could use Decision Trees, Random Forests, or others.  These do not give probability estimates. We prefer a model that does. \n",
    "\n",
    "We would like to make the `unknown` features into one hot encoded features. We will treat integer and categorical variables the same. We will also begin to use the Sparse Vector in Spark in order to conserve space. Below we will do three things: (1) One hot encoding function creation  (2) Generate one hot encoded feature space (3) Visualize the space.\n"
   ]
  },
  {
   "cell_type": "markdown",
   "metadata": {},
   "source": [
    "\n",
    "### Sparse, High-Dimensional Challenge\n",
    "\n",
    "This dataset has a very high feature dimension space (the number of features or variables in the dataset post OHE is into Millions).This is a major hurdle, as we are concerned with sparse, high-cardinality where most of the feature space is empty.\n",
    "\n",
    "High-cardinality means the features can take many unique values. Feature cardinality is in the order of millions. Feature sparsity means each sample has a low number of active features as compared to the total dimensions —  less than 1%.\n",
    "\n",
    "This creates the most substantial challenge to scale because even simple models can become very large, making them consume more memory and resources during training and when making predictions in production systems. It's vital to implement dimensionality reduction — as we have demonstrated that OHE will not work here, we will use feature hashing.\n",
    "\n",
    "\n",
    "### Volume and velocity of data Challenge\n",
    "\n",
    "While we have not explicitly addressed, it is vital to address the need for Distributed computing and a upstream queuing capability (not implemented here). With a dataset that will in production run into 100s of millions of records every few hours, we need an online learning model that can utilize Spark streaming and Spark can utilize a fast running, practical ML model that can re-train periodically and be able to make useful predictions of CTR events for the Marketing campaigns. Hence we need to implement a method that will be able to handle the issues of Volume Velocity and also sparsity. We will not be resolving the velocity issue however a Kafka stream would allow for new data to be queued up prior to entering the Spark pre processing pipeline. __The primary premise of this project is to provide a business solution that will scale up and be elastic, i.e. incur higher costs only as needed, thus we explore the legacy RDD API, MLLib and ML APIs to progressively demonstrate the modernization of Spark ecosystem. our goal is NOT to achieve very high model accuracy, rather a very fast feedback loop for our marketing client__.\n",
    "\n",
    "\n",
    "\n",
    "Following sub section uses the RDD API to perform more exploratory analysis:"
   ]
  },
  {
   "cell_type": "code",
   "execution_count": 6,
   "metadata": {},
   "outputs": [],
   "source": [
    "raw_train_rdd = sc.textFile('data/train.txt', 2).map(lambda x: x.replace('\\t', ','))\n",
    "raw_test_rdd = sc.textFile('data/test.txt', 2).map(lambda x: x.replace('\\t', ','))"
   ]
  },
  {
   "cell_type": "code",
   "execution_count": 7,
   "metadata": {},
   "outputs": [],
   "source": [
    "# GCP Cluster Only\n",
    "raw_train_rdd = sc.textFile('gs://w261-data-gp/data/train.txt', 2).map(lambda x: x.replace('\\t', ','))\n",
    "raw_test_rdd = sc.textFile('gs://w261-data-gp/data/train.txt', 2).map(lambda x: x.replace('\\t', ','))"
   ]
  },
  {
   "cell_type": "code",
   "execution_count": 8,
   "metadata": {},
   "outputs": [],
   "source": [
    "weights = [.9, .1]\n",
    "seed = 42\n",
    "train_rdd, dev_rdd = raw_train_rdd.randomSplit(weights, seed)"
   ]
  },
  {
   "cell_type": "code",
   "execution_count": 6,
   "metadata": {},
   "outputs": [
    {
     "name": "stdout",
     "output_type": "stream",
     "text": [
      "# of training data points: 41256132, # of dev data points: 4584485, total # of data points from train.txt: 45840617\n",
      "['0,1,1,5,0,1382,4,15,2,181,1,2,,2,68fd1e64,80e26c9b,fb936136,7b4723c4,25c83c98,7e0ccccf,de7995b8,1f89b562,a73ee510,a8cd5504,b2cb9c98,37c9c164,2824a5f6,1adce6ef,8ba8b39a,891b62e7,e5ba7672,f54016b9,21ddcdc9,b1252a9d,07b5194c,,3a171ecb,c5c50484,e8b83407,9727dd16']\n"
     ]
    }
   ],
   "source": [
    "# Cache the data\n",
    "train_rdd.cache()\n",
    "dev_rdd.cache()\n",
    "\n",
    "nTrain = train_rdd.count()\n",
    "nDev = dev_rdd.count()\n",
    "print (f'# of training data points: {nTrain}, # of dev data points: {nDev}, total # of data points from train.txt: {nTrain + nDev}')\n",
    "print (train_rdd.take(1))"
   ]
  },
  {
   "cell_type": "markdown",
   "metadata": {},
   "source": [
    "#### Explore the features and distributions\n",
    "\n",
    "Below cells demonstrate the complexity of a dataset where a lot of the private attributes of the metadata are hidden, hence we cannot `infer` like we could in a standard fully explainable human readable data. Here we can see a lot of he data has been hashed out, it still maintains it's underlying variance and collinearity, however the values themselves are hashed to allow the original data to remain private. We can also see that the categorical variables have many values but they don't have any ordinal nature, just a very sparse distribution, with gaps and this poses a major hurdle with one hot encoding, as we will end up with tens of thousands of sparse columns with maybe a handful of '1' and all the rest to be '0'."
   ]
  },
  {
   "cell_type": "code",
   "execution_count": 11,
   "metadata": {},
   "outputs": [
    {
     "data": {
      "text/html": [
       "<div>\n",
       "<style scoped>\n",
       "    .dataframe tbody tr th:only-of-type {\n",
       "        vertical-align: middle;\n",
       "    }\n",
       "\n",
       "    .dataframe tbody tr th {\n",
       "        vertical-align: top;\n",
       "    }\n",
       "\n",
       "    .dataframe thead th {\n",
       "        text-align: right;\n",
       "    }\n",
       "</style>\n",
       "<table border=\"1\" class=\"dataframe\">\n",
       "  <thead>\n",
       "    <tr style=\"text-align: right;\">\n",
       "      <th></th>\n",
       "      <th>0</th>\n",
       "      <th>1</th>\n",
       "      <th>2</th>\n",
       "      <th>3</th>\n",
       "      <th>4</th>\n",
       "      <th>5</th>\n",
       "      <th>6</th>\n",
       "      <th>7</th>\n",
       "      <th>8</th>\n",
       "      <th>9</th>\n",
       "      <th>...</th>\n",
       "      <th>30</th>\n",
       "      <th>31</th>\n",
       "      <th>32</th>\n",
       "      <th>33</th>\n",
       "      <th>34</th>\n",
       "      <th>35</th>\n",
       "      <th>36</th>\n",
       "      <th>37</th>\n",
       "      <th>38</th>\n",
       "      <th>39</th>\n",
       "    </tr>\n",
       "  </thead>\n",
       "  <tbody>\n",
       "    <tr>\n",
       "      <th>0</th>\n",
       "      <td>0</td>\n",
       "      <td>2.0</td>\n",
       "      <td>0</td>\n",
       "      <td>1.0</td>\n",
       "      <td>14.0</td>\n",
       "      <td>767.0</td>\n",
       "      <td>89.0</td>\n",
       "      <td>4.0</td>\n",
       "      <td>2.0</td>\n",
       "      <td>245.0</td>\n",
       "      <td>...</td>\n",
       "      <td>8efede7f</td>\n",
       "      <td>3412118d</td>\n",
       "      <td>NaN</td>\n",
       "      <td>NaN</td>\n",
       "      <td>e587c466</td>\n",
       "      <td>ad3062eb</td>\n",
       "      <td>3a171ecb</td>\n",
       "      <td>3b183c5c</td>\n",
       "      <td>NaN</td>\n",
       "      <td>NaN</td>\n",
       "    </tr>\n",
       "  </tbody>\n",
       "</table>\n",
       "<p>1 rows × 40 columns</p>\n",
       "</div>"
      ],
      "text/plain": [
       "   0    1   2    3     4      5     6    7    8      9  ...         30  \\\n",
       "0   0  2.0   0  1.0  14.0  767.0  89.0  4.0  2.0  245.0 ...   8efede7f   \n",
       "\n",
       "         31   32   33        34        35        36        37   38   39  \n",
       "0  3412118d  NaN  NaN  e587c466  ad3062eb  3a171ecb  3b183c5c  NaN  NaN  \n",
       "\n",
       "[1 rows x 40 columns]"
      ]
     },
     "execution_count": 11,
     "metadata": {},
     "output_type": "execute_result"
    }
   ],
   "source": [
    "sample_df = pd.read_csv('data/sample.txt', sep = '\\t', header=None)\n",
    "sample_df.head(1)"
   ]
  },
  {
   "cell_type": "code",
   "execution_count": 12,
   "metadata": {},
   "outputs": [
    {
     "data": {
      "image/png": "[encoded data removed]",
      "text/plain": [
       "<Figure size 1080x1080 with 16 Axes>"
      ]
     },
     "metadata": {
      "needs_background": "light"
     },
     "output_type": "display_data"
    }
   ],
   "source": [
    "sample_df.hist(figsize=(15,15), bins=15)\n",
    "plt.show()"
   ]
  },
  {
   "cell_type": "code",
   "execution_count": 13,
   "metadata": {},
   "outputs": [
    {
     "data": {
      "image/png": "[encoded data removed]",
      "text/plain": [
       "<Figure size 792x648 with 2 Axes>"
      ]
     },
     "metadata": {
      "needs_background": "light"
     },
     "output_type": "display_data"
    }
   ],
   "source": [
    "corr = sample_df.corr()\n",
    "corr.style.set_precision(2)\n",
    "fig, ax = plt.subplots(figsize=(11, 9))\n",
    "mask = np.zeros_like(corr, dtype=np.bool)\n",
    "mask[np.triu_indices_from(mask)] = True\n",
    "sns.heatmap(corr, mask=mask, cmap=\"YlGnBu\", center=0, linewidths=.2)\n",
    "plt.title(\"Correlations between features.\")\n",
    "plt.show()"
   ]
  },
  {
   "cell_type": "markdown",
   "metadata": {},
   "source": [
    "#### Exploration of the dimension sparsity and a sample ROC characterization"
   ]
  },
  {
   "cell_type": "code",
   "execution_count": 9,
   "metadata": {},
   "outputs": [],
   "source": [
    "def create_one_hot_dict(rdd):\n",
    "    \"\"\"Creates a one-hot-encoding dictionary based on the input rdd.\n",
    "\n",
    "    Args:\n",
    "        rdd (RDD of lists of (int, str)): rdd with a list of (featureID, value) tuples.\n",
    "\n",
    "    Returns:\n",
    "        dict: A dictionary where the keys are (featureID, value) tuples and map to values that are\n",
    "            unique integers.\n",
    "    \"\"\"\n",
    "    distinct_features = rdd.flatMap(lambda x: x).distinct()\n",
    "    return distinct_features.zipWithIndex().collectAsMap()\n",
    "\n",
    "def one_hot_encoding(features, feature_dict, num_features):\n",
    "    \"\"\"Produce a one-hot-encoding for a list of features.\n",
    "\n",
    "    Args:\n",
    "        features (list of (int, str)): The features corresponding to a single observation.  Each\n",
    "            feature consists of a tuple of featureID and the feature's value.\n",
    "        feature_dict (dict): A mapping of (featureID, value) to unique integer.\n",
    "        num_features (int): The total number of unique OHE features.\n",
    "\n",
    "    Returns:\n",
    "        SparseVector: A SparseVector of length num_features with index equal to the unique\n",
    "            identifiers for the (featureID, value) combinations that occur in the observation and\n",
    "            with values equal to 1.0.\n",
    "    \"\"\"\n",
    "    size_list = sorted([feature_dict[f] for f in features if f in feature_dict])\n",
    "    value_list = [1 for f in features if f in feature_dict]\n",
    "    return SparseVector(num_features, size_list, value_list)"
   ]
  },
  {
   "cell_type": "code",
   "execution_count": 12,
   "metadata": {},
   "outputs": [
    {
     "name": "stdout",
     "output_type": "stream",
     "text": [
      "Feature dictionary is: {(1, 'url1'): 0, (1, 'url2'): 1, (0, 'user2'): 2, (1, 'url3'): 3, (0, 'user1'): 4}.\n",
      "Corresponding one hot encoded data:[SparseVector(5, {0: 1.0, 4: 1.0}), SparseVector(5, {1: 1.0, 4: 1.0}), SparseVector(5, {3: 1.0, 4: 1.0}), SparseVector(5, {0: 1.0, 2: 1.0}), SparseVector(5, {1: 1.0, 2: 1.0}), SparseVector(5, {2: 1.0, 3: 1.0})].\n"
     ]
    }
   ],
   "source": [
    "toy_example =[[(0, 'user1'), (1, 'url1')], [(0, 'user1'), (1, 'url2')], [(0, 'user1'), (1, 'url3')],\n",
    "              [(0, 'user2'), (1, 'url1')], [(0, 'user2'), (1, 'url2')], [(0, 'user2'), (1, 'url3')]]\n",
    "toyRDD = sc.parallelize(toy_example)\n",
    "toy_dict = create_one_hot_dict(toyRDD)\n",
    "print(f'Feature dictionary is: {toy_dict}.')\n",
    "toy_data = toyRDD.map(lambda x: one_hot_encoding(x, toy_dict, len(toy_dict)))\n",
    "print (f'Corresponding one hot encoded data:{toy_data.collect()}.')"
   ]
  },
  {
   "cell_type": "code",
   "execution_count": 10,
   "metadata": {},
   "outputs": [],
   "source": [
    "def parse(line):\n",
    "    \"\"\"Converts a comma separated string into a list of (featureID, value) tuples.\n",
    "    \"\"\"\n",
    "    items = line.split(',')\n",
    "    return [(i, item) for i, item in enumerate(items[1:])]"
   ]
  },
  {
   "cell_type": "code",
   "execution_count": 11,
   "metadata": {},
   "outputs": [
    {
     "name": "stdout",
     "output_type": "stream",
     "text": [
      "Number of categories for feature ID 2 is 13915 \n",
      "... found number of categories in 206.74293112754822 seconds.\n"
     ]
    }
   ],
   "source": [
    "start = time.time()\n",
    "\n",
    "feature_rdd = train_rdd.map(parse).cache()\n",
    "num_categories_per_feature_id = feature_rdd.flatMap(lambda x: x).distinct().map(lambda x: (x[0], 1))\\\n",
    "                 .reduceByKey(lambda x, y: x + y).sortByKey().collect()\n",
    "print(f'Number of categories for feature ID 2 is {num_categories_per_feature_id[2][1]} ')\n",
    "print(f'... found number of categories in {time.time() - start} seconds.')"
   ]
  },
  {
   "cell_type": "code",
   "execution_count": 10,
   "metadata": {},
   "outputs": [
    {
     "name": "stdout",
     "output_type": "stream",
     "text": [
      "Total number of features: 31541071.\n",
      "Index of feature ID 0 and empty value is 17477878.\n",
      "... get one hot dictionary in 190.20003819465637 seconds.\n"
     ]
    }
   ],
   "source": [
    "start = time.time()\n",
    "ctr_dict = create_one_hot_dict(feature_rdd)\n",
    "num_ctr_features = len(ctr_dict.keys())\n",
    "print (f'Total number of features: {num_ctr_features}.')\n",
    "print (f\"Index of feature ID 0 and empty value is {ctr_dict[(0, '')]}.\")\n",
    "print (f'... get one hot dictionary in {time.time() - start} seconds.')"
   ]
  },
  {
   "cell_type": "markdown",
   "metadata": {},
   "source": [
    "The total number of dimension is __31,541,071__. This presents the challenge for Logistic Regression. As shown below, it exhausted the memory on the GCP cluster when it tried to create one-hot encoding with __31,541,071__ dimensions. \n",
    "\n",
    "Beyond a computing resource constraint, we have to also remember that for our business end user this does not add value, so we need to rethink the data engineering approach as the goal is to come up with a scalable, efficient and online modeling solution that can work with this type of data. For example:\n",
    "\n",
    "1) New advertisements, enrichments will result in new hashed categorical values. Each time this can be different.\n",
    "2) New attributes will result in an exponential growth of the one hot encoding space.\n",
    "3) The model will perform poorly due to the curse of dimensionality.\n",
    "\n",
    "Not only will the model be less interpretable, it will be more costly to produce and less useful in terms of the business value."
   ]
  },
  {
   "cell_type": "code",
   "execution_count": 11,
   "metadata": {},
   "outputs": [],
   "source": [
    "def parse_with_label(line, feature_dict, num_features):\n",
    "    \"\"\"Obtain the label and feature vector for this raw observation.\n",
    "\n",
    "    Args:\n",
    "        line (str):each line of raw data.\n",
    "        feature_dict (dict of (int, str) to int): Mapping of (featureID, value) to unique integer.\n",
    "        num_features (int): The number of unique features in the training dataset.\n",
    "\n",
    "    Returns:\n",
    "        LabeledPoint: Contains the label for the observation and the one-hot-encoding of the\n",
    "            raw features based on the provided feature_dict dictionary.\n",
    "    \"\"\"\n",
    "    features = parse(line)\n",
    "    items = line.split(',')\n",
    "    label = items[0]\n",
    "    features_vec = one_hot_encoding(features, feature_dict, num_features)\n",
    "    return LabeledPoint(label, features_vec)"
   ]
  },
  {
   "cell_type": "markdown",
   "metadata": {},
   "source": [
    "The following cell will exhaust 12G memory on GCP. We therefore decided to consider feature hashing.\n",
    "\n",
    "``` Reason: Container killed by YARN for exceeding memory limits. 12.1 GB of 12 GB physical memory used. Consider boosting spark.yarn.executor.memoryOverhead.```"
   ]
  },
  {
   "cell_type": "code",
   "execution_count": null,
   "metadata": {},
   "outputs": [],
   "source": [
    "train_rdd_ohe = train_rdd.map(lambda x: parse_with_label(x, ctr_dict, num_ctr_features))\n",
    "train_rdd_ohe.cache()\n",
    "print (train_rdd_ohe.take(1))"
   ]
  },
  {
   "cell_type": "markdown",
   "metadata": {},
   "source": [
    "Thus, let us try with 0.25% of randomly sampled data to continue our EDA for characterizing sparsity and ROC."
   ]
  },
  {
   "cell_type": "code",
   "execution_count": 12,
   "metadata": {},
   "outputs": [
    {
     "name": "stdout",
     "output_type": "stream",
     "text": [
      "# of samples = 102683\n",
      "Total number of features from sampled data: 288289.\n",
      "... get one hot dictionary for sampled data in 26.09779381752014 seconds.\n",
      "[LabeledPoint(0.0, (288289,[4,7036,7045,20947,27987,41776,45232,45245,52133,62702,66386,79943,83588,104327,111225,118292,128459,128477,135415,159724,163267,170001,173398,176856,187335,201074,201075,215123,218559,222251,232652,239685,242947,260444,260538,263992,270799,277840,281343],[1.0,1.0,1.0,1.0,1.0,1.0,1.0,1.0,1.0,1.0,1.0,1.0,1.0,1.0,1.0,1.0,1.0,1.0,1.0,1.0,1.0,1.0,1.0,1.0,1.0,1.0,1.0,1.0,1.0,1.0,1.0,1.0,1.0,1.0,1.0,1.0,1.0,1.0,1.0]))]\n",
      "... get one hot LabelPoint in 3.9549551010131836 seconds.\n"
     ]
    }
   ],
   "source": [
    "start = time.time()\n",
    "train_sample_rdd = train_rdd.sample(False, 0.0025, 2019).cache()\n",
    "print(f'# of samples = {train_sample_rdd.count()}')\n",
    "sample_feature_rdd = train_sample_rdd.map(parse).cache()\n",
    "sample_ctr_dict = create_one_hot_dict(sample_feature_rdd)\n",
    "sample_num_ctr_features = len(sample_ctr_dict.keys())\n",
    "print (f'Total number of features from sampled data: {sample_num_ctr_features}.')\n",
    "print (f'... get one hot dictionary for sampled data in {time.time() - start} seconds.')\n",
    "start = time.time()\n",
    "train_sample_rdd_ohe = train_sample_rdd.map(lambda x: parse_with_label(x, sample_ctr_dict, sample_num_ctr_features))\n",
    "train_sample_rdd_ohe.cache()\n",
    "print (train_sample_rdd_ohe.take(1))\n",
    "print (f'... get one hot LabelPoint in {time.time() - start} seconds.')"
   ]
  },
  {
   "cell_type": "code",
   "execution_count": 29,
   "metadata": {},
   "outputs": [
    {
     "name": "stdout",
     "output_type": "stream",
     "text": [
      "Feature counts in powers of two buckets: [(1, 209447), (2, 25020), (4, 18723), (256, 947), (8, 13129), (512, 546), (16, 8907), (1024, 338), (32, 5733), (128, 1873), (64, 3291)].\n"
     ]
    }
   ],
   "source": [
    "def bucket_features_by_count(featCount):\n",
    "    \"\"\"Bucket the counts by powers of two.\"\"\"\n",
    "    for i in range(11):\n",
    "        size = 2 ** i\n",
    "        if featCount <= size:\n",
    "            return size\n",
    "    return -1\n",
    "\n",
    "feature_counts = train_sample_rdd_ohe.flatMap(lambda lp: lp.features.indices)\\\n",
    "                                     .map(lambda x: (x, 1)).reduceByKey(lambda x, y: x + y)\n",
    "feature_counts_buckets = feature_counts.map(lambda x: (bucket_features_by_count(x[1]), 1)) \\\n",
    "                         .filter(lambda x: x[0] != -1).reduceByKey(lambda x, y: x + y).collect()\n",
    "print(f'Feature counts in powers of two buckets: {feature_counts_buckets}.')"
   ]
  },
  {
   "cell_type": "code",
   "execution_count": 67,
   "metadata": {},
   "outputs": [
    {
     "data": {
      "text/plain": [
       "(Text(0.5, 0, 'log (Bucket Size)'), Text(0, 0.5, 'log (Counts)'))"
      ]
     },
     "execution_count": 67,
     "metadata": {},
     "output_type": "execute_result"
    },
    {
     "data": {
      "image/png": "[encoded data removed]",
      "text/plain": [
       "<Figure size 720x720 with 1 Axes>"
      ]
     },
     "metadata": {
      "needs_background": "light"
     },
     "output_type": "display_data"
    }
   ],
   "source": [
    "x, y = zip(*feature_counts_buckets)\n",
    "fig, ax = plt.subplots(figsize=(10,10))\n",
    "plt.rcParams.update({'font.size': 15})\n",
    "ax=sns.scatterplot(x=np.log(x), y = np.log(y), ax=ax, s=200)\n",
    "ax.set_xlabel(\"log (Bucket Size)\"), ax.set_ylabel(\"log (Counts)\")"
   ]
  },
  {
   "cell_type": "markdown",
   "metadata": {},
   "source": [
    "The above figure characterizes the sparsity of the features in the data set. Note that this is a log-log plot. It is clear that majority of features only have smaller number of data points. Therefore, it does not make sense to use all features. We need to reduce the feature dimension drastically. This will increase the scalability of the algorithm without sacrificing the performance.\n",
    "\n",
    "Without any dimension reduction, let us first use `LogisticRegressionWithLBFGS` from Spark mllib to characterize the baseline ROC as illustrated below."
   ]
  },
  {
   "cell_type": "code",
   "execution_count": 13,
   "metadata": {},
   "outputs": [
    {
     "name": "stdout",
     "output_type": "stream",
     "text": [
      "... train sample data with 50 iterations in 38.00198984146118 seconds.\n"
     ]
    }
   ],
   "source": [
    "start = time.time()\n",
    "lrm_sample_train = LogisticRegressionWithLBFGS.train(train_sample_rdd_ohe, iterations=50)\n",
    "print (f'... train sample data with 50 iterations in {time.time() - start} seconds.')"
   ]
  },
  {
   "cell_type": "code",
   "execution_count": 14,
   "metadata": {},
   "outputs": [
    {
     "name": "stdout",
     "output_type": "stream",
     "text": [
      "0.5\n",
      "288289\n"
     ]
    }
   ],
   "source": [
    "print(lrm_sample_train.threshold)\n",
    "print(len(lrm_sample_train.weights))"
   ]
  },
  {
   "cell_type": "code",
   "execution_count": 14,
   "metadata": {},
   "outputs": [
    {
     "name": "stdout",
     "output_type": "stream",
     "text": [
      "# of test samples = 45608\n",
      "... get one hot LabelPoint for test dev in 35.79230332374573 seconds.\n"
     ]
    }
   ],
   "source": [
    "start = time.time()\n",
    "dev_sample_rdd = dev_rdd.sample(False, 0.01, 2019).cache()\n",
    "print(f'# of test samples = {dev_sample_rdd.count()}')\n",
    "dev_sample_rdd_ohe = dev_sample_rdd.map(lambda x: parse_with_label(x, sample_ctr_dict, sample_num_ctr_features))\n",
    "dev_sample_rdd_ohe.cache()\n",
    "print (f'... get one hot LabelPoint for test dev in {time.time() - start} seconds.')"
   ]
  },
  {
   "cell_type": "code",
   "execution_count": 21,
   "metadata": {},
   "outputs": [
    {
     "name": "stdout",
     "output_type": "stream",
     "text": [
      "Sample test accuracy = 0.6816088958387629\n",
      "... complete prediction on sampled dev data in 0.8345451354980469 seconds.\n"
     ]
    }
   ],
   "source": [
    "start = time.time()\n",
    "test_results = dev_sample_rdd_ohe.map(lambda x: (x.label, lrm_sample_train.predict(x.features)))\n",
    "testErr = test_results.filter(lambda x: x[0] != x[1]).count() / float(test_results.count())\n",
    "print(f\"Sample test accuracy = {1-testErr}\")\n",
    "print (f'... complete prediction on sampled dev data in {time.time() - start} seconds.')"
   ]
  },
  {
   "cell_type": "code",
   "execution_count": 22,
   "metadata": {},
   "outputs": [],
   "source": [
    "lrm_sample_train.clearThreshold()\n",
    "test_labels_and_prob = dev_sample_rdd_ohe.map(lambda x: (x.label, lrm_sample_train.predict(x.features))).collect()"
   ]
  },
  {
   "cell_type": "code",
   "execution_count": 29,
   "metadata": {},
   "outputs": [],
   "source": [
    "test_labels_and_prob.sort(key=lambda x: x[1], reverse=True)"
   ]
  },
  {
   "cell_type": "code",
   "execution_count": 50,
   "metadata": {},
   "outputs": [
    {
     "data": {
      "text/plain": [
       "[<matplotlib.lines.Line2D at 0x7fb11d0bea90>]"
      ]
     },
     "execution_count": 50,
     "metadata": {},
     "output_type": "execute_result"
    },
    {
     "data": {
      "image/png": "[encoded data removed]",
      "text/plain": [
       "<Figure size 720x720 with 1 Axes>"
      ]
     },
     "metadata": {
      "needs_background": "light"
     },
     "output_type": "display_data"
    }
   ],
   "source": [
    "labels_by_weight = np.array([k for (k, v) in test_labels_and_prob])\n",
    "length = labels_by_weight.size\n",
    "true_positives = labels_by_weight.cumsum()\n",
    "num_positive = true_positives[-1]\n",
    "false_positives = np.arange(1.0, length + 1, 1.) - true_positives\n",
    "\n",
    "true_positive_rate = true_positives / num_positive\n",
    "false_positive_rate = false_positives / (length - num_positive)\n",
    "\n",
    "\n",
    "# Generate layout and plot data\n",
    "fig, ax = plt.subplots(figsize=(10,10))\n",
    "plt.rcParams.update({'font.size': 15})\n",
    "ax.set_xlim(-.05, 1.05), ax.set_ylim(-.05, 1.05)\n",
    "ax.set_ylabel('True Positive Rate (Sensitivity)')\n",
    "ax.set_xlabel('False Positive Rate (1 - Specificity)')\n",
    "plt.plot(false_positive_rate, true_positive_rate, color='#8cbfd0', linestyle='-', linewidth=3.)\n",
    "plt.plot((0., 1.), (0., 1.), linestyle='--', color='#d6ebf2', linewidth=2.)"
   ]
  },
  {
   "cell_type": "markdown",
   "metadata": {},
   "source": [
    "The above ROC curve visualizes how well the model predicts the target. It shows us the trade-off between the false positive rate and true positive rate, as we vary the threshold required to predict a positive outcome. A random model is represented by the dashed line. With full set of features, it is better than random model but it is also not very strong either.  It is also less accuracte than the null rate we would have by guessing \"not-clicked\" every time, of 75%.\n",
    "\n",
    "\n",
    "## Major data Challenge mitigation strategy\n",
    "\n",
    "### Method of Feature Hashing\n",
    "\n",
    "We have seen above that we have a mostly empty sparse feature set. In this situation, feature hashing is a useful technique for handling sparse, high-dimensional features in this machine learning problem. It is going to allow us to design a fast, simple, memory-efficient, and well-suited Logistical regression model that can be used in this online learning scenario. Below we wil also build the data pipeline using the RDD framework, this will help us demonstrate the distributed nature of the underlying algorithm.\n",
    "\n",
    "Benefits of feature hashing:\n",
    "\n",
    "1) Handles sparse data pipelines consistently, irrespective of new categorical values.\n",
    "2) Keeps the overall dimensions to be static-- we can set this-- hence limiting effect of sparsity.\n",
    "3) Computationally very efficient, we can predict now using the number of rows the time and space complexity of the algorithm"
   ]
  },
  {
   "cell_type": "markdown",
   "metadata": {},
   "source": [
    "# 4. Methods\n",
    "\n",
    "__[this section needs to have each of the methods we tried - our design and implementations]__\n",
    "__[the following is just a sample, needs to be revised]__\n",
    "\n",
    "In this section, we will implement homegrown logistic regression with gradient descent, as described in Section 2. Based on the insights from EDA, we first need to implement the hashing trick to bound the number of features in our one-hot encoding. To compare our homegrown implementation, we use the off-the-shelf logistic regression solver from Spark MLlib."
   ]
  },
  {
   "cell_type": "markdown",
   "metadata": {},
   "source": [
    "## Reduce features with feature hashing trick\n",
    "\n",
    "### The RDD API based approach\n",
    "The following functions provide the hashing of features based on the feature ID. This approach utilizes base RDD API and no machine learning scala libraries from Spark. "
   ]
  },
  {
   "cell_type": "code",
   "execution_count": 13,
   "metadata": {},
   "outputs": [],
   "source": [
    "from collections import defaultdict\n",
    "import hashlib\n",
    "\n",
    "def feature_hashing(num_dimensions, original_features, verbose=False):\n",
    "    \"\"\"\n",
    "    Args:\n",
    "        num_dimensions (int): Number of buckets to use as features.\n",
    "        original_features (list of (int, str)): A list of features for an observation.  Represented as\n",
    "            (featureID, value) tuples.\n",
    "        verbose (bool, optional): If true, the mappings of featureString to index will be\n",
    "            printed.\n",
    "\n",
    "    Returns:\n",
    "        dict of int to float:  The keys will be integers which represent the dimensions that the\n",
    "            features have been hashed to.  The value for a given key will contain the count of the\n",
    "            (featureID, value) tuples that have hashed to that key.\n",
    "    \"\"\"\n",
    "    mapping = {}\n",
    "    for idx, category in original_features:\n",
    "        feature_str = (category + str(idx)).encode('utf-8')\n",
    "        mapping[feature_str] = int(int(hashlib.md5(feature_str).hexdigest(), 16) % num_dimensions)\n",
    "    if(verbose):\n",
    "        print (f'mapping is {mapping}.')\n",
    "    hashed_features = defaultdict(float)\n",
    "    for d in mapping.values():\n",
    "        hashed_features[d] += 1.0\n",
    "    return dict(hashed_features)\n",
    "\n",
    "def parse_to_hashed_LabeledPoint(line, num_dimensions):\n",
    "    \"\"\"\n",
    "    Args:\n",
    "        line (str): A comma separated string where the first value is the label and the rest are\n",
    "            features.\n",
    "        num_dimensions: The number of buckets to hash to.\n",
    "\n",
    "    Returns:\n",
    "        LabeledPoint: A LabeledPoint with a label (0.0 or 1.0) and a SparseVector of hashed\n",
    "            features.\n",
    "    \"\"\"\n",
    "    features = parse(line)\n",
    "    items = line.split(',')\n",
    "    label = items[0]\n",
    "    features_hashed = feature_hashing(num_dimensions, features, verbose=False)\n",
    "    return LabeledPoint(label, SparseVector(num_dimensions, features_hashed))"
   ]
  },
  {
   "cell_type": "markdown",
   "metadata": {},
   "source": [
    "First, let us test the hashing function with our toy example and verify its correctness with manual checking as shown below."
   ]
  },
  {
   "cell_type": "code",
   "execution_count": 53,
   "metadata": {},
   "outputs": [
    {
     "name": "stdout",
     "output_type": "stream",
     "text": [
      "mapping is {b'url11': 33, b'url21': 90, b'user20': 6, b'url31': 66, b'user10': 90}.\n",
      "100 dimensions hashed dict for toy example: {33: 1.0, 90: 2.0, 6: 1.0, 66: 1.0}.\n",
      "\n",
      "mapping is {b'url11': 3, b'url21': 0, b'user20': 6, b'url31': 6, b'user10': 0}.\n",
      "10 dimensions hashed dict for toy example: {3: 1.0, 0: 2.0, 6: 2.0}.\n",
      "\n",
      "mapping is {b'url11': 3, b'url21': 0, b'user20': 1, b'url31': 1, b'user10': 0}.\n",
      "5 dimensions hashed dict for toy example: {3: 1.0, 0: 2.0, 1: 2.0}.\n"
     ]
    }
   ],
   "source": [
    "print(f'100 dimensions hashed dict for toy example: {feature_hashing(100, toy_dict.keys(), True)}.\\n')\n",
    "print(f'10 dimensions hashed dict for toy example: {feature_hashing(10, toy_dict.keys(), True)}.\\n')\n",
    "print(f'5 dimensions hashed dict for toy example: {feature_hashing(5, toy_dict.keys(), True)}.')"
   ]
  },
  {
   "cell_type": "markdown",
   "metadata": {},
   "source": [
    "To compare the sparsity of the hashed features and non-hashed features, we now apply hashing trick to our sample data as illustrated below. The number of hashed dimensions is bounded at $2^{15} = 32,768$."
   ]
  },
  {
   "cell_type": "code",
   "execution_count": 12,
   "metadata": {},
   "outputs": [
    {
     "name": "stdout",
     "output_type": "stream",
     "text": [
      "[LabeledPoint(0.0, (32768,[250,3668,4822,5093,5302,7114,7998,9985,10624,10633,11722,12090,12143,12433,13910,14339,14780,14872,15609,15816,16814,17062,17716,19274,19370,20103,21604,21659,21890,22284,24746,25201,25533,25882,26656,29152,31663,32475,32708],[1.0,1.0,1.0,1.0,1.0,1.0,1.0,1.0,1.0,1.0,1.0,1.0,1.0,1.0,1.0,1.0,1.0,1.0,1.0,1.0,1.0,1.0,1.0,1.0,1.0,1.0,1.0,1.0,1.0,1.0,1.0,1.0,1.0,1.0,1.0,1.0,1.0,1.0,1.0]))]\n"
     ]
    }
   ],
   "source": [
    "ctr_dimensions = 2 ** 15\n",
    "train_sample_rdd_hashed = train_sample_rdd.map(lambda x: parse_to_hashed_LabeledPoint(x, ctr_dimensions))\n",
    "train_sample_rdd_hashed.cache()\n",
    "print (train_sample_rdd_hashed.take(1))"
   ]
  },
  {
   "cell_type": "code",
   "execution_count": 56,
   "metadata": {},
   "outputs": [],
   "source": [
    "def compute_sparsity(rdd, d, n):\n",
    "    \"\"\"Calculates the average sparsity for the features in an RDD of LabeledPoints.\n",
    "\n",
    "    Args:\n",
    "        data (RDD of LabeledPoint): The LabeledPoints to use in the sparsity calculation.\n",
    "        d (int): The total number of features.\n",
    "        n (int): The number of observations in the RDD.\n",
    "\n",
    "    Returns:\n",
    "        float: The average of the ratio of features in a point to total features.\n",
    "    \"\"\"\n",
    "    return float(rdd.map(lambda x: len(x.features.indices)).sum()) / d / n"
   ]
  },
  {
   "cell_type": "code",
   "execution_count": 59,
   "metadata": {},
   "outputs": [
    {
     "name": "stdout",
     "output_type": "stream",
     "text": [
      "Average hashed sparsity: 0.0011806893013603088\n",
      "Average OHE sparsity: 0.00013514871556739936\n"
     ]
    }
   ],
   "source": [
    "num_train_samples = train_sample_rdd.count()\n",
    "mean_sparse_hashed = compute_sparsity(train_sample_rdd_hashed, ctr_dimensions, num_train_samples)\n",
    "mean_sparse_ohe = compute_sparsity(train_sample_rdd_ohe, sample_num_ctr_features, num_train_samples)\n",
    "\n",
    "print (f'Average hashed sparsity: {mean_sparse_hashed}')\n",
    "print (f'Average OHE sparsity: {mean_sparse_ohe}')"
   ]
  },
  {
   "cell_type": "markdown",
   "metadata": {},
   "source": [
    "As we reduced the number of dimensions of the sampled data from $288,289$ to hashed $32,768$ dimensions, the average of the ratio of features in a point to total features is increased by one order of magnitude from $1.35\\times 10^{-4}$ to $1.1\\times 10^{-3}$. Therefore, the sparsity is reduced."
   ]
  },
  {
   "cell_type": "code",
   "execution_count": 15,
   "metadata": {},
   "outputs": [
    {
     "name": "stdout",
     "output_type": "stream",
     "text": [
      "Length of hashed weight vector: 32768.\n",
      "Sample hashed test accuracy = 0.6703648482722329\n",
      "... train hashed sample data with 50 iterations in 59.799105167388916 seconds.\n"
     ]
    }
   ],
   "source": [
    "dev_sample_rdd_hashed = dev_sample_rdd.map(lambda x: parse_to_hashed_LabeledPoint(x, ctr_dimensions))\n",
    "start = time.time()\n",
    "lrm_sample_train_hashed_data = LogisticRegressionWithLBFGS.train(train_sample_rdd_hashed, iterations=50)\n",
    "print(f'Length of hashed weight vector: {len(lrm_sample_train_hashed_data.weights)}.')\n",
    "test_results_hashed = dev_sample_rdd_hashed.map(lambda x: (x.label, lrm_sample_train_hashed_data.predict(x.features)))\n",
    "testErr_hashed = test_results_hashed.filter(lambda x: x[0] != x[1]).count() / float(test_results_hashed.count())\n",
    "print(f\"Sample hashed test accuracy = {1-testErr_hashed}\")\n",
    "print (f'... train hashed sample data with 50 iterations in {time.time() - start} seconds.')"
   ]
  },
  {
   "cell_type": "markdown",
   "metadata": {},
   "source": [
    "As we reduced the number of dimensions of the sampled data from $288,289$ to hashed $32,768$ dimensions, we reduced sparsity as shown earlier. However, __the accuracy remains about the same $0.68$ vs $0.67$__ as shown here."
   ]
  },
  {
   "cell_type": "markdown",
   "metadata": {},
   "source": [
    "### Logistic Regression(Homegrown) with Gradient Descent\n",
    "\n",
    "We are now ready to implement our homegrown logistic regression described on Section 2. The gradient update function is straight forward and it directly maps to equation (2). We apply map-reduce programming using RDDs.\n",
    "\n",
    "The mapper function calculates the gradient. Based on equation (2), the gradient is just an updated vector $x_i$ with scalar. Since we use the sparse vector representation, we only need to multiply the scalar to the one hot values of the $x_i$.\n",
    "\n",
    "To complete the gradient step, there is a step to sum over all sparse vectors over all data points. This step turns out to be very challenging to optimize. First, we tried the Spark built-in function `mean()`, but the computation time is too long. Then, we wrote several specialized functions for adding these sparse vectors that yield limited improvements. Finally, we applied `aggregate` function and let `numpy` perform the vector summation. Our last approach improved the run time by 100 times. However, when we compare with the native `Scala` implementation, our `python` based approach is still about 6 times slower.\n",
    "\n",
    "Note that we did not implement the stochastic gradient descent since the default MLlib fraction of data for gradient descent is 1. We mainly focus on GD with full data pass in each iteration.\n",
    "\n",
    "In the following, we present our results for both homegrown and Spark `MLlib` on the full training set and test set."
   ]
  },
  {
   "cell_type": "code",
   "execution_count": 14,
   "metadata": {},
   "outputs": [],
   "source": [
    "def negative_log_likelihood_loss(dataRDD, W):\n",
    "    \"\"\"\n",
    "    Compute mean squared error.\n",
    "    Args:\n",
    "        dataRDD - LabeledPoint\n",
    "        W       - (array) model coefficients\n",
    "    Returns:\n",
    "        loss\n",
    "    \"\"\"\n",
    "    def calc_loss(x):\n",
    "        ret = np.log(1+ np.exp(- x.features.dot(W))) + (1-x.label)*x.features.dot(W)\n",
    "        return ret\n",
    "    loss = dataRDD.map(calc_loss).mean()\n",
    "    return loss"
   ]
  },
  {
   "cell_type": "code",
   "execution_count": 15,
   "metadata": {},
   "outputs": [],
   "source": [
    "from collections import defaultdict\n",
    "from pyspark.mllib.linalg import Vectors\n",
    "\n",
    "def GD_update_wReg(dataRDD, W, n, ctr_dimensions, learningRate = 0.1, regParam = 0.1):\n",
    "    \"\"\"\n",
    "    Perform one gradient descent step/update with ridge regularization.\n",
    "    Args:\n",
    "        dataRDD - LabeledPoint\n",
    "        W       - (array) model coefficients\n",
    "        learningRate - (float) defaults to 0.1\n",
    "        regParam - (float) regularization term coefficient\n",
    "    Returns:\n",
    "        model   - (array) updated coefficients\n",
    "    \"\"\"\n",
    "    new_model = None\n",
    "    def calc_gradient(x):\n",
    "        scalar = ((1./(1+np.exp(-x.features.dot(W)))-x.label))\n",
    "        x.features.values = scalar*x.features.values\n",
    "        return x.features\n",
    "    grad = dataRDD.map(calc_gradient).aggregate(np.zeros(ctr_dimensions),\n",
    "                                                lambda acc, b: acc + b.toArray(),\n",
    "                                                lambda acc, b: acc + b)\n",
    "    grad = grad/n\n",
    "    grad = grad + 2*regParam*W\n",
    "    new_model = W -learningRate * grad\n",
    "    return new_model"
   ]
  },
  {
   "cell_type": "code",
   "execution_count": 27,
   "metadata": {},
   "outputs": [],
   "source": [
    "def GradientDescent_wReg(trainRDD, wInit, nSteps = 20, learningRate = 0.1,\n",
    "                         regParam = 0.1, ctr_dimensions=2**15, verbose = False):\n",
    "    \"\"\"\n",
    "    Perform nSteps iterations of regularized gradient descent and \n",
    "    track loss on a test and train set. Return lists of\n",
    "    test/train loss and the models themselves.\n",
    "    \"\"\"\n",
    "    # perform n updates & compute test and train loss after each\n",
    "    model = wInit\n",
    "    trainRDD = trainRDD.cache()\n",
    "    n = float (trainRDD.count())\n",
    "    for idx in range(nSteps):\n",
    "        print(f\"STEP: {idx+1}.\")\n",
    "        model = GD_update_wReg(trainRDD, model, n, ctr_dimensions, learningRate, regParam)\n",
    "        \n",
    "        #if verbose:\n",
    "        #    loss = negative_log_likelihood_loss(trainRDD, model)\n",
    "        #    print(f\"STEP: {idx+1}, loss = {loss}.\")\n",
    "    return model"
   ]
  },
  {
   "cell_type": "code",
   "execution_count": 17,
   "metadata": {},
   "outputs": [],
   "source": [
    "def LogisticRegression_RDD_predict(features, W, threshold = 0.5):\n",
    "    prob = 1./(1+np.exp(-features.dot(W)))\n",
    "    if (prob >= threshold):\n",
    "        return 1.0\n",
    "    else:\n",
    "        return 0.0"
   ]
  },
  {
   "cell_type": "markdown",
   "metadata": {},
   "source": [
    "We first verify and test our homegrown implementation with sample data set and sample test set as shown below."
   ]
  },
  {
   "cell_type": "code",
   "execution_count": 20,
   "metadata": {},
   "outputs": [
    {
     "name": "stdout",
     "output_type": "stream",
     "text": [
      "Sample homegrown LR test accuracy = 0.7447377653043326\n",
      "\n",
      "... trained 50 iterations with homegrown LR and sample data in 265.1284329891205 seconds\n"
     ]
    }
   ],
   "source": [
    "wInit = np.zeros(ctr_dimensions)\n",
    "train_sample_model = GradientDescent_wReg(train_sample_rdd_hashed, wInit, nSteps = 50, ctr_dimensions=wInit.size,  verbose=False)\n",
    "test_results_homegrown = dev_sample_rdd_hashed.map(lambda x: (x.label, LogisticRegression_RDD_predict(x.features, train_sample_model))).cache()\n",
    "testErr_homegrown = test_results_homegrown.filter(lambda x: x[0] != x[1]).count() / float(test_results_homegrown.count())\n",
    "print(f\"Sample homegrown LR test accuracy = {1-testErr_homegrown}\")\n",
    "print(f\"\\n... trained 50 iterations with homegrown LR and sample data in {time.time() - start} seconds\")"
   ]
  },
  {
   "cell_type": "markdown",
   "metadata": {},
   "source": [
    "#### MLlib.LogisticRegressionWithLBFGS Implementation (full train and test data)\n",
    "\n",
    "First, we prepare our full training data and test data with one hot coding and feature hash trick."
   ]
  },
  {
   "cell_type": "code",
   "execution_count": 18,
   "metadata": {},
   "outputs": [],
   "source": [
    "ctr_dimensions = 2 ** 15\n",
    "train_rdd_hashed = train_rdd.map(lambda x: parse_to_hashed_LabeledPoint(x, ctr_dimensions)).cache()\n",
    "dev_rdd_hashed = dev_rdd.map(lambda x: parse_to_hashed_LabeledPoint(x, ctr_dimensions)).cache()"
   ]
  },
  {
   "cell_type": "code",
   "execution_count": 19,
   "metadata": {},
   "outputs": [
    {
     "data": {
      "text/plain": [
       "[LabeledPoint(0.0, (32768,[1305,2883,3807,4814,4866,4913,6952,7117,9985,10316,11512,11722,12365,13893,14735,15816,16198,17761,19274,21604,22256,22563,22785,24855,25202,25533,25721,26487,26656,27668,28211,29152,29402,29873,30039,31484,32493,32708],[1.0,1.0,1.0,1.0,1.0,1.0,1.0,1.0,1.0,1.0,1.0,1.0,1.0,1.0,1.0,1.0,1.0,1.0,1.0,1.0,1.0,1.0,1.0,1.0,1.0,1.0,1.0,1.0,1.0,1.0,1.0,1.0,1.0,1.0,1.0,1.0,1.0,1.0]))]"
      ]
     },
     "execution_count": 19,
     "metadata": {},
     "output_type": "execute_result"
    }
   ],
   "source": [
    "train_rdd_hashed.take(1)"
   ]
  },
  {
   "cell_type": "code",
   "execution_count": 20,
   "metadata": {},
   "outputs": [
    {
     "data": {
      "text/plain": [
       "[LabeledPoint(0.0, (32768,[250,2069,2627,2817,5725,6357,7697,7762,9745,10188,11558,11722,12136,12629,12945,13026,13606,14296,14597,15048,17341,18011,18023,18689,18793,19274,20601,21604,22011,23039,23149,24234,25533,25818,26384,27095,28107,28211,28405],[1.0,1.0,1.0,1.0,1.0,1.0,1.0,1.0,1.0,1.0,1.0,1.0,1.0,1.0,1.0,1.0,1.0,1.0,1.0,1.0,1.0,1.0,1.0,1.0,1.0,1.0,1.0,1.0,1.0,1.0,1.0,1.0,1.0,1.0,1.0,1.0,1.0,1.0,1.0]))]"
      ]
     },
     "execution_count": 20,
     "metadata": {},
     "output_type": "execute_result"
    }
   ],
   "source": [
    "dev_rdd_hashed.take(1)"
   ]
  },
  {
   "cell_type": "code",
   "execution_count": 21,
   "metadata": {},
   "outputs": [
    {
     "name": "stdout",
     "output_type": "stream",
     "text": [
      "... MLlib train hashed full data with 50 iterations in 1005.9435801506042 seconds.\n"
     ]
    }
   ],
   "source": [
    "start = time.time()\n",
    "lrm_mllib_final = LogisticRegressionWithLBFGS.train(train_rdd_hashed, iterations=50)\n",
    "print (f'... MLlib train hashed full data with 50 iterations in {time.time() - start} seconds.')"
   ]
  },
  {
   "cell_type": "markdown",
   "metadata": {},
   "source": [
    "The MLlib completed the training with full data set as shown above. The run time is $1006$ seconds. We also computed the accuracy with test data set at $0.78$."
   ]
  },
  {
   "cell_type": "code",
   "execution_count": 23,
   "metadata": {},
   "outputs": [
    {
     "name": "stdout",
     "output_type": "stream",
     "text": [
      "Final test accuracy with MLlib = 0.78114392463063\n",
      "... MLlib final full test in 9.716737031936646 seconds.\n"
     ]
    }
   ],
   "source": [
    "start = time.time()\n",
    "test_results_mllib_final = dev_rdd_hashed.map(lambda x: (x.label, lrm_mllib_final.predict(x.features)))\n",
    "testErr_mllib_final = test_results_mllib_final.filter(lambda x: x[0] != x[1]).count() / float(test_results_mllib_final.count())\n",
    "print(f\"Final test accuracy with MLlib = {1-testErr_mllib_final}\")\n",
    "print (f'... MLlib final full test in {time.time() - start} seconds.')"
   ]
  },
  {
   "cell_type": "code",
   "execution_count": 26,
   "metadata": {},
   "outputs": [],
   "source": [
    "lrm_mllib_final.save(sc, 'gs://w261-data-gp/notebooks/lrm_mllib_final')"
   ]
  },
  {
   "cell_type": "markdown",
   "metadata": {},
   "source": [
    "In the following, we use our homegrown logistic regression implementation to train the model with full training data set. The run time is $6806$ seconds with accuracy of $0.74$ on the test data."
   ]
  },
  {
   "cell_type": "code",
   "execution_count": 28,
   "metadata": {},
   "outputs": [
    {
     "name": "stdout",
     "output_type": "stream",
     "text": [
      "STEP: 1.\n",
      "STEP: 2.\n",
      "STEP: 3.\n",
      "STEP: 4.\n",
      "STEP: 5.\n",
      "STEP: 6.\n",
      "STEP: 7.\n",
      "STEP: 8.\n",
      "STEP: 9.\n",
      "STEP: 10.\n",
      "STEP: 11.\n",
      "STEP: 12.\n",
      "STEP: 13.\n",
      "STEP: 14.\n",
      "STEP: 15.\n",
      "STEP: 16.\n",
      "STEP: 17.\n",
      "STEP: 18.\n",
      "STEP: 19.\n",
      "STEP: 20.\n",
      "STEP: 21.\n",
      "STEP: 22.\n",
      "STEP: 23.\n",
      "STEP: 24.\n",
      "STEP: 25.\n",
      "STEP: 26.\n",
      "STEP: 27.\n",
      "STEP: 28.\n",
      "STEP: 29.\n",
      "STEP: 30.\n",
      "STEP: 31.\n",
      "STEP: 32.\n",
      "STEP: 33.\n",
      "STEP: 34.\n",
      "STEP: 35.\n",
      "STEP: 36.\n",
      "STEP: 37.\n",
      "STEP: 38.\n",
      "STEP: 39.\n",
      "STEP: 40.\n",
      "STEP: 41.\n",
      "STEP: 42.\n",
      "STEP: 43.\n",
      "STEP: 44.\n",
      "STEP: 45.\n",
      "STEP: 46.\n",
      "STEP: 47.\n",
      "STEP: 48.\n",
      "STEP: 49.\n",
      "STEP: 50.\n",
      "\n",
      "... trained 50 iterations with homegrown LR of full train data in 6806.3908133506775 seconds\n"
     ]
    }
   ],
   "source": [
    "start = time.time()\n",
    "wInit = np.zeros(ctr_dimensions)\n",
    "train_homegrown_model = GradientDescent_wReg(train_rdd_hashed, wInit, nSteps = 50,\n",
    "                                             ctr_dimensions=wInit.size, verbose=False)\n",
    "\n",
    "print(f\"\\n... trained 50 iterations with homegrown LR of full train data in {time.time() - start} seconds\")"
   ]
  },
  {
   "cell_type": "code",
   "execution_count": 29,
   "metadata": {},
   "outputs": [
    {
     "name": "stdout",
     "output_type": "stream",
     "text": [
      "Homegrown LR final test accuracy = 0.743893677221343\n",
      "... Homegrown final full test in 5.412996530532837 seconds.\n"
     ]
    }
   ],
   "source": [
    "start = time.time()\n",
    "test_results_homegrown_final = dev_rdd_hashed.map(lambda x: (x.label, LogisticRegression_RDD_predict(x.features, train_homegrown_model))).cache()\n",
    "testErr_homegrown = test_results_homegrown_final.filter(lambda x: x[0] != x[1]).count() / float(test_results_homegrown_final.count())\n",
    "\n",
    "print(f\"Homegrown LR final test accuracy = {1-testErr_homegrown}\")\n",
    "print (f'... Homegrown final full test in {time.time() - start} seconds.')"
   ]
  },
  {
   "cell_type": "markdown",
   "metadata": {},
   "source": [
    "### Benchmark A: Spark ML with homegrown hashing function\n",
    "\n",
    "The following shows the results of using `LogisticRegression` from `pyspark.ml.classification`."
   ]
  },
  {
   "cell_type": "code",
   "execution_count": 12,
   "metadata": {},
   "outputs": [],
   "source": [
    "from pyspark.sql.functions import *\n",
    "from pyspark.mllib.linalg import SparseVector\n",
    "from pyspark.mllib.regression import LabeledPoint\n",
    "from pyspark.mllib.classification import LogisticRegressionWithLBFGS\n",
    "from pyspark.ml.classification import LogisticRegression\n",
    "from pyspark.ml.linalg import Vectors"
   ]
  },
  {
   "cell_type": "markdown",
   "metadata": {},
   "source": [
    "#### Hashing with DataFrames\n",
    "\n",
    "The following implementation of hashing is using the same hashing MD5 function, however there are some critical differences we must note, making this more efficient:\n",
    "\n",
    "(1) Keep the number of dimensions same, this helps comparing the models an apples to apples comparison.    \n",
    "(2) As this uses the Spark 2.0 DataFrames based ML library, we can use the new data pipeline format - `Label, Sparse Vector[features]`    \n",
    "(3) DataFrames were built using Parquet files and on the multi node cluster, the DataFrame is split over 50+ partitions.    \n",
    "(4) Even on the full dataset the hashing function takes only about 60 seconds to process 45.8 Million rows.    "
   ]
  },
  {
   "cell_type": "code",
   "execution_count": 21,
   "metadata": {},
   "outputs": [],
   "source": [
    "from collections import defaultdict\n",
    "from pyspark.sql import Row\n",
    "import hashlib\n",
    "\n",
    "def hashing(dims, row, verbose=False):\n",
    "    \"\"\"\n",
    "    Args:\n",
    "        dims (int): Number of buckets to use as features.\n",
    "        row (dict of (feature name, str)): A list of named features for an observation.  Represented as\n",
    "            (featureID, value) tuples.\n",
    "        verbose (bool, optional): If true, the mappings of featureString to index will be\n",
    "            printed.\n",
    "\n",
    "    Returns:\n",
    "        dict of int to float:  The keys will be integers which represent the dimensions that the\n",
    "            features have been hashed to.  The value for a given key will contain the count of the\n",
    "            (featureID, value) tuples that have hashed to that key.\n",
    "    \"\"\"\n",
    "    mapping = {}\n",
    "    for idx, category in row.items():\n",
    "        if idx != 'Label':\n",
    "            feature_str = (str(category) + str(idx)).encode('utf-8')\n",
    "            mapping[feature_str] = int(int(hashlib.md5(feature_str).hexdigest(), 16) % dims)\n",
    "        else:\n",
    "            label = category\n",
    "    \n",
    "    features = defaultdict()\n",
    "    for d in mapping.values():\n",
    "        features[d] = 1.0\n",
    "            \n",
    "    #return dict(hashed_features)\n",
    "    return (float(label),  Vectors.sparse(dims,dict(features)))"
   ]
  },
  {
   "cell_type": "markdown",
   "metadata": {},
   "source": [
    "The following data chunks were stored separately and below is the evidence that while the samples could be processed on a sandbox, the full dataset was processed on a pre-production grade Google Cloud Data Proc cluster."
   ]
  },
  {
   "cell_type": "code",
   "execution_count": 17,
   "metadata": {},
   "outputs": [],
   "source": [
    "#RUN ON DATA PROC ONLY ONCE\n",
    "#toyDF = spark.read.parquet(\"gs://w261-schakraverty-bucket/notebooks/toy_sample.parquet\")\n",
    "#F1DF = spark.read.parquet(\"gs://w261-schakraverty-bucket/notebooks/train_sample.parquet\")\n",
    "FullDF = spark.read.parquet(\"gs://w261-schakraverty-bucket/notebooks/train.parquet\")"
   ]
  },
  {
   "cell_type": "code",
   "execution_count": 19,
   "metadata": {},
   "outputs": [
    {
     "data": {
      "text/plain": [
       "45840617"
      ]
     },
     "execution_count": 19,
     "metadata": {},
     "output_type": "execute_result"
    }
   ],
   "source": [
    "FullDF.count()"
   ]
  },
  {
   "cell_type": "markdown",
   "metadata": {},
   "source": [
    "(2) Convert the feature vector into the hashed feature vector space for all the datasets"
   ]
  },
  {
   "cell_type": "code",
   "execution_count": 45,
   "metadata": {},
   "outputs": [],
   "source": [
    "## HASHING TRICK - Toy Training set\n",
    "struct = toyDF_T.columns\n",
    "dims = 2 ** 15\n",
    "toyDF_TH = toyDF_T.rdd.map(lambda row: dict(zip(struct,row))) \\\n",
    "                      .map(lambda x: hashing(dims,x,False)) \\\n",
    "                      .toDF(['label','features'])"
   ]
  },
  {
   "cell_type": "code",
   "execution_count": 46,
   "metadata": {},
   "outputs": [],
   "source": [
    "## ## HASHING TRICK - Toy Validation set\n",
    "\n",
    "struct = toyDF_V.columns\n",
    "dims = 2 ** 15\n",
    "toyDF_VH = toyDF_V.rdd.map(lambda row: dict(zip(struct,row))) \\\n",
    "                      .map(lambda x: hashing(dims,x,False)) \\\n",
    "                      .toDF(['label','features'])"
   ]
  },
  {
   "cell_type": "markdown",
   "metadata": {},
   "source": [
    "(3) Train and validate the Toy dataset"
   ]
  },
  {
   "cell_type": "code",
   "execution_count": 47,
   "metadata": {},
   "outputs": [
    {
     "name": "stdout",
     "output_type": "stream",
     "text": [
      "Toy Validation accuracy = 0.72\n",
      "... Toy data with 50 iterations in 5.134096622467041 seconds.\n"
     ]
    }
   ],
   "source": [
    "## Train the model using Toy Training Data\n",
    "start = time.time()\n",
    "\n",
    "lr = LogisticRegression(maxIter=50, regParam=0.01)\n",
    "modelt = lr.fit(toyDF_TH)\n",
    "\n",
    "## Validate the model using Toy Training Data\n",
    "prediction = modelt.transform(toyDF_VH)\n",
    "result = prediction.select(\"label\", \"prediction\") \\\n",
    "    .cache()\n",
    "\n",
    "testErr = result.filter(result.label!=result.prediction).count() / float(result.count())\n",
    "print(f\"Toy Validation accuracy = {1-testErr}\")\n",
    "print (f'... Toy data with 50 iterations in {time.time() - start} seconds.')"
   ]
  },
  {
   "cell_type": "markdown",
   "metadata": {},
   "source": [
    "(4) Hashing of the F1 dataset"
   ]
  },
  {
   "cell_type": "code",
   "execution_count": 48,
   "metadata": {},
   "outputs": [],
   "source": [
    "## HASHING TRICK - Sample Training set\n",
    "struct = F1DF_T.columns\n",
    "dims = 2 ** 15\n",
    "F1DF_TH = F1DF_T.rdd.map(lambda row: dict(zip(struct,row))) \\\n",
    "                      .map(lambda x: hashing(dims,x,False)) \\\n",
    "                      .toDF(['label','features'])"
   ]
  },
  {
   "cell_type": "code",
   "execution_count": 49,
   "metadata": {},
   "outputs": [],
   "source": [
    "## ## HASHING TRICK - Sample Validation set\n",
    "\n",
    "struct = F1DF_V.columns\n",
    "dims = 2 ** 15\n",
    "F1DF_VH = F1DF_V.rdd.map(lambda row: dict(zip(struct,row))) \\\n",
    "                      .map(lambda x: hashing(dims,x,False)) \\\n",
    "                      .toDF(['label','features'])"
   ]
  },
  {
   "cell_type": "markdown",
   "metadata": {},
   "source": [
    "(5) Training of the F1 dataset using Logistical regression"
   ]
  },
  {
   "cell_type": "code",
   "execution_count": 13,
   "metadata": {},
   "outputs": [
    {
     "name": "stdout",
     "output_type": "stream",
     "text": [
      "Sample Validation accuracy = 0.7146691719232318\n",
      "...Sample data with 50 iterations in 34.270079612731934 seconds.\n"
     ]
    }
   ],
   "source": [
    "## Train the model using F1 Training Data\n",
    "start = time.time()\n",
    "\n",
    "lr = LogisticRegression(maxIter=50, regParam=0.01)\n",
    "modelf = lr.fit(F1DF_TH)\n",
    "\n",
    "## Validate the model using F1 Training Data\n",
    "prediction = modelf.transform(F1DF_VH)\n",
    "result = prediction.select(\"label\", \"prediction\") \\\n",
    "    .cache()\n",
    "\n",
    "testErr = result.filter(result.label!=result.prediction).count() / float(result.count())\n",
    "print(f\"Sample Validation accuracy = {1-testErr}\")\n",
    "print (f'...Sample data with 50 iterations in {time.time() - start} seconds.')"
   ]
  },
  {
   "cell_type": "markdown",
   "metadata": {},
   "source": [
    "We can obtain the coefficients by using LogisticRegressionModel’s attributes. We can see the $\\beta$ coefficients of the 30k features in the model."
   ]
  },
  {
   "cell_type": "code",
   "execution_count": 14,
   "metadata": {},
   "outputs": [
    {
     "data": {
      "image/png": "[encoded data removed]",
      "text/plain": [
       "<Figure size 432x288 with 1 Axes>"
      ]
     },
     "metadata": {},
     "output_type": "display_data"
    }
   ],
   "source": [
    "import matplotlib.pyplot as plt\n",
    "import numpy as np\n",
    "\n",
    "beta = np.sort(modelf.coefficients)\n",
    "\n",
    "plt.plot(beta)\n",
    "plt.ylabel('Beta Coefficients')\n",
    "plt.show()"
   ]
  },
  {
   "cell_type": "markdown",
   "metadata": {},
   "source": [
    "### Model Performance measure\n",
    "\n",
    "\n",
    "We summarize the model over the F1 set, we can obtain the receiver-operating characteristic and area under the ROC (AUC - ROC).\n",
    "\n",
    "AUC - ROC curve is the performance measurement for classification problem at various thresholds settings. ROC is a probability curve and AUC represents degree or measure of separability. It tells how much model is capable of distinguishing between classes. Higher the AUC, better the model is at predicting 0s as 0s and 1s as 1s. By analogy, Higher the AUC, better the model is at distinguishing between patients with disease and no disease.\n",
    "\n",
    "The ROC curve below is plotted with TPR against the FPR where TPR is on y-axis and FPR is on the x-axis. This can change based on the business threshold for specificy and hence effect the sensitivity."
   ]
  },
  {
   "cell_type": "code",
   "execution_count": 16,
   "metadata": {},
   "outputs": [
    {
     "data": {
      "image/png": "[encoded data removed]",
      "text/plain": [
       "<Figure size 432x288 with 1 Axes>"
      ]
     },
     "metadata": {},
     "output_type": "display_data"
    },
    {
     "name": "stdout",
     "output_type": "stream",
     "text": [
      "Training set areaUnderROC: 0.9527498955367195\n"
     ]
    }
   ],
   "source": [
    "trainingSummary = modelf.summary\n",
    "\n",
    "roc = trainingSummary.roc.toPandas()\n",
    "plt.plot(roc['FPR'],roc['TPR'])\n",
    "plt.ylabel('False Positive Rate')\n",
    "plt.xlabel('True Positive Rate')\n",
    "plt.title('ROC Curve')\n",
    "plt.show()\n",
    "\n",
    "print('Training set areaUnderROC: ' + str(trainingSummary.areaUnderROC))"
   ]
  },
  {
   "cell_type": "markdown",
   "metadata": {},
   "source": [
    "#### Interpretation of the ROC plot\n",
    "\n",
    "In a ROC curve the false positive rate is plotted as a function of the true positive rate (Sensitivity) for different cut-off points of a parameter. The area under the ROC curve ( AUC ) is a measure of how well a parameter can distinguish between two diagnostic groups (click/non-click)<sup>[14](https://www.medcalc.org/manual/roc-curves.php)</sup>. We can see that we have a model that has an acceptable level of (online) ability to diagnose and tell our marketing client the probability of a click vs no click.   \n",
    "\n"
   ]
  },
  {
   "cell_type": "code",
   "execution_count": 17,
   "metadata": {},
   "outputs": [
    {
     "data": {
      "image/png": "[encoded data removed]",
      "text/plain": [
       "<Figure size 432x288 with 1 Axes>"
      ]
     },
     "metadata": {},
     "output_type": "display_data"
    }
   ],
   "source": [
    "pr = trainingSummary.pr.toPandas()\n",
    "plt.plot(pr['recall'],pr['precision'])\n",
    "plt.ylabel('Precision')\n",
    "plt.xlabel('Recall')\n",
    "plt.show()"
   ]
  },
  {
   "cell_type": "markdown",
   "metadata": {},
   "source": [
    "#### Interpretation of the Recall Vs Precision curve\n",
    "\n",
    "The precision-recall plot is based on two basic measures – recall and precision -- that are calculated from the four outcomes. The precision-recall plot uses recall on the x-axis and precision on the y-axis. Recall is identical with sensitivity, and precision is identical with positive predictive value. \n",
    "\n",
    "A point of caution.\n",
    "\n",
    "Saito and Rehmsmeier (2015)<sup>[8](https://journals.plos.org/plosone/article?id=10.1371/journal.pone.0118432)</sup> found in a literature analysis that ROC curves are very popular, their popularity has been increasing for the last decade, and they are the most widely used evaluation method with imbalanced data. Based on their models for how to compare performance the authors conclude that changing the main evaluation method from ROC to PRC may influence he usefulness of prediction performance measures like ROC or RPC.\n",
    "\n",
    "The graphs presented for the data sets above clearly demonstrate that adding a lot of observations without a click and with low click rate to a model may improve the ROC curve significantly without any improvement in sensitivity or in positive predictive value of the parameter evaluated. \n",
    "\n",
    "The precision-recall curves will not be impacted by the addition of more observations without a click and with low click rates. Thus it can be highly recommended to use PRC as a supplement to the routinely used ROC curves to get the full picture when evaluating and comparing performance of the model."
   ]
  },
  {
   "cell_type": "markdown",
   "metadata": {},
   "source": [
    "### Full Dataset"
   ]
  },
  {
   "cell_type": "code",
   "execution_count": 22,
   "metadata": {},
   "outputs": [],
   "source": [
    "## HASHING TRICK - FULL Training set -- (RUN ON DATA PROC ONLY)\n",
    "struct = FullDF_T.columns\n",
    "dims = 2 ** 15\n",
    "FullDF_TH = FullDF_T.rdd.map(lambda row: dict(zip(struct,row))) \\\n",
    "                      .map(lambda x: hashing(dims,x,False)) \\\n",
    "                      .toDF(['label','features'])"
   ]
  },
  {
   "cell_type": "code",
   "execution_count": 23,
   "metadata": {},
   "outputs": [],
   "source": [
    "## ## HASHING TRICK - FULL Validation set -- (RUN ON DATA PROC ONLY)\n",
    "\n",
    "struct = FullDF_V.columns\n",
    "dims = 2 ** 15\n",
    "FullDF_VH = FullDF_V.rdd.map(lambda row: dict(zip(struct,row))) \\\n",
    "                      .map(lambda x: hashing(dims,x,False)) \\\n",
    "                      .toDF(['label','features'])"
   ]
  },
  {
   "cell_type": "code",
   "execution_count": 26,
   "metadata": {},
   "outputs": [
    {
     "name": "stdout",
     "output_type": "stream",
     "text": [
      "FULL training set Validation accuracy = 0.7817834221245549\n",
      "...Full training data with 50 iterations in 694.7876329421997 seconds.\n"
     ]
    }
   ],
   "source": [
    "## Train the model using FULL Training Data -- (RUN ON DATA PROC ONLY)\n",
    "start = time.time()\n",
    "\n",
    "lr = LogisticRegression(maxIter=50, regParam=0.01)\n",
    "model = lr.fit(FullDF_TH)\n",
    "\n",
    "## Validate the model using FULL Training Data\n",
    "prediction = model.transform(FullDF_VH)\n",
    "result = prediction.select(\"label\", \"prediction\") \\\n",
    "    .cache()\n",
    "\n",
    "testErr = result.filter(result.label!=result.prediction).count() / float(result.count())\n",
    "print(f\"FULL training set Validation accuracy = {1-testErr}\")\n",
    "print (f'...Full training data with 50 iterations in {time.time() - start} seconds.')"
   ]
  },
  {
   "cell_type": "markdown",
   "metadata": {},
   "source": [
    "#### Distributed computing benefit illustrated\n",
    "\n",
    "The following two cells show how the data itself is distributed over 63 partitions across the worker nodes, using all the worker nodes. This helps the model train much faster and is the core selling point of Spark over a standalone model. Given the large dimension space, this dataset will have a very hard time running even when we scale up on a standalone machine, rather scaling out as needed is entirely feasible."
   ]
  },
  {
   "cell_type": "code",
   "execution_count": 37,
   "metadata": {},
   "outputs": [
    {
     "data": {
      "text/plain": [
       "63"
      ]
     },
     "execution_count": 37,
     "metadata": {},
     "output_type": "execute_result"
    }
   ],
   "source": [
    "FullDF_TH.rdd.getNumPartitions()\n"
   ]
  },
  {
   "cell_type": "code",
   "execution_count": 38,
   "metadata": {},
   "outputs": [
    {
     "data": {
      "text/plain": [
       "28"
      ]
     },
     "execution_count": 38,
     "metadata": {},
     "output_type": "execute_result"
    }
   ],
   "source": [
    "FullDF_VH.rdd.getNumPartitions()"
   ]
  },
  {
   "cell_type": "code",
   "execution_count": 27,
   "metadata": {},
   "outputs": [
    {
     "data": {
      "image/png": "[encoded data removed]",
      "text/plain": [
       "<Figure size 432x288 with 1 Axes>"
      ]
     },
     "metadata": {
      "needs_background": "light"
     },
     "output_type": "display_data"
    }
   ],
   "source": [
    "import matplotlib.pyplot as plt\n",
    "import numpy as np\n",
    "\n",
    "beta = np.sort(model.coefficients)\n",
    "\n",
    "plt.plot(beta)\n",
    "plt.ylabel('Beta Coefficients')\n",
    "plt.show()"
   ]
  },
  {
   "cell_type": "code",
   "execution_count": 28,
   "metadata": {},
   "outputs": [
    {
     "data": {
      "image/png": "[encoded data removed]",
      "text/plain": [
       "<Figure size 432x288 with 1 Axes>"
      ]
     },
     "metadata": {
      "needs_background": "light"
     },
     "output_type": "display_data"
    },
    {
     "name": "stdout",
     "output_type": "stream",
     "text": [
      "Training set areaUnderROC: 0.78004798354049\n"
     ]
    }
   ],
   "source": [
    "trainingSummary = model.summary\n",
    "\n",
    "roc = trainingSummary.roc.toPandas()\n",
    "plt.plot(roc['FPR'],roc['TPR'])\n",
    "plt.ylabel('False Positive Rate')\n",
    "plt.xlabel('True Positive Rate')\n",
    "plt.title('ROC Curve')\n",
    "plt.show()\n",
    "\n",
    "print('Training set areaUnderROC: ' + str(trainingSummary.areaUnderROC))"
   ]
  },
  {
   "cell_type": "code",
   "execution_count": 29,
   "metadata": {},
   "outputs": [
    {
     "data": {
      "image/png": "[encoded data removed]",
      "text/plain": [
       "<Figure size 432x288 with 1 Axes>"
      ]
     },
     "metadata": {
      "needs_background": "light"
     },
     "output_type": "display_data"
    }
   ],
   "source": [
    "pr = trainingSummary.pr.toPandas()\n",
    "plt.plot(pr['recall'],pr['precision'])\n",
    "plt.ylabel('Precision')\n",
    "plt.xlabel('Recall')\n",
    "plt.show()"
   ]
  },
  {
   "cell_type": "markdown",
   "metadata": {},
   "source": [
    "#### Log loss on the full training and validation set"
   ]
  },
  {
   "cell_type": "code",
   "execution_count": 31,
   "metadata": {},
   "outputs": [],
   "source": [
    "def log_loss(trueLabel, predProb, eps = 1e-15):\n",
    "    p = np.clip(predProb, eps, 1 - eps)\n",
    "    if (trueLabel == 1):\n",
    "        return -np.log(p)\n",
    "    else:\n",
    "        return -np.log(1-p)"
   ]
  },
  {
   "cell_type": "code",
   "execution_count": 36,
   "metadata": {},
   "outputs": [
    {
     "name": "stdout",
     "output_type": "stream",
     "text": [
      "Mean log loss: 1.546261771468331\n"
     ]
    }
   ],
   "source": [
    "#Mean log loss on full dataset [ From Scott's Notebook]\n",
    "meanLogLoss = prediction.select(['label', 'probability']).rdd.\\\n",
    "    map(lambda x: (x[0], x[1][0])).\\\n",
    "    map(lambda x: log_loss(x[0], x[1])).sum()\\\n",
    "    / prediction.count()\n",
    "\n",
    "print(f'Mean log loss: {meanLogLoss}')"
   ]
  },
  {
   "cell_type": "code",
   "execution_count": 18,
   "metadata": {},
   "outputs": [
    {
     "name": "stdout",
     "output_type": "stream",
     "text": [
      "Test Area Under ROC: 0.652513836749881\n"
     ]
    }
   ],
   "source": [
    "from pyspark.ml.evaluation import BinaryClassificationEvaluator\n",
    "evaluator = BinaryClassificationEvaluator()\n",
    "print(\"Test Area Under ROC: \" + str(evaluator.evaluate(prediction, {evaluator.metricName: \"areaUnderROC\"})))"
   ]
  },
  {
   "cell_type": "markdown",
   "metadata": {},
   "source": [
    "Optional : Training F1 dataset using the Naive Bayes disributed ML model...(to add more explanation, implementation)"
   ]
  },
  {
   "cell_type": "code",
   "execution_count": 44,
   "metadata": {},
   "outputs": [
    {
     "name": "stdout",
     "output_type": "stream",
     "text": [
      "Sample Validation accuracy (NB) = 0.7020534156489062\n",
      "...Sample data with 50 iterations in 22.90907073020935 seconds.\n"
     ]
    }
   ],
   "source": [
    "from pyspark.ml.classification import NaiveBayes, NaiveBayesModel\n",
    "\n",
    "## Train the model using Sample Training Data\n",
    "start = time.time()\n",
    "\n",
    "from pyspark.ml.classification import NaiveBayes\n",
    "\n",
    "# Train a NaiveBayes model\n",
    "nb = NaiveBayes(smoothing=1.0, modelType=\"multinomial\")\n",
    "\n",
    "modelnb = nb.fit(F1DF_TH)\n",
    "\n",
    "## Validate the model using Toy Training Data\n",
    "prediction = modelnb.transform(F1DF_VH)\n",
    "result = prediction.select(\"label\", \"prediction\") \\\n",
    "    .cache()\n",
    "\n",
    "testErr = result.filter(result.label!=result.prediction).count() / float(result.count())\n",
    "print(f\"Sample Validation accuracy (NB) = {1-testErr}\")\n",
    "print (f'...Sample data with 50 iterations in {time.time() - start} seconds.')"
   ]
  },
  {
   "cell_type": "code",
   "execution_count": 45,
   "metadata": {},
   "outputs": [
    {
     "name": "stdout",
     "output_type": "stream",
     "text": [
      "Test Area Under ROC: 0.529507390040488\n"
     ]
    }
   ],
   "source": [
    "from pyspark.ml.evaluation import BinaryClassificationEvaluator\n",
    "evaluator = BinaryClassificationEvaluator()\n",
    "print(\"Test Area Under ROC: \" + str(evaluator.evaluate(prediction, {evaluator.metricName: \"areaUnderROC\"})))"
   ]
  },
  {
   "cell_type": "markdown",
   "metadata": {},
   "source": [
    "#### Optional : Training Full dataset using the Naive Bayes distributed ML model...\n",
    "\n",
    "[Ng and Jordan](https://www.google.com/url?sa=t&rct=j&q=&esrc=s&source=web&cd=1&cad=rja&uact=8&ved=2ahUKEwjqrI7O6tXhAhVms1QKHV6xDnkQFjAAegQIARAC&url=https%3A%2F%2Fai.stanford.edu%2F~ang%2Fpapers%2Fnips01-discriminativegenerative.pdf&usg=AOvVaw1lDX-Rqo3NwkYjfERkK3IK)<sup>[21]</sup> compare the benefits of the discriminative and generative learning, i.e. Logistical regression and Naive Bayes respectively. \n",
    "\n",
    "They show the detailed mathamatical proof of the following very important property: We notice here that the Naive Bayes classifier manages to converge more quickly to it's (higher) asymptotic error. However, the trainign time in iteself is not the only criteria, what we also understand is that while Naive Bayes initially appears to be doing better, the discriminiative Logistical regression will eventually catch up as the number of training examples will continue to increase. Logistical regression would be expected to overtake Naive Bayes. We keep the folllling example \n",
    "\n"
   ]
  },
  {
   "cell_type": "code",
   "execution_count": 39,
   "metadata": {},
   "outputs": [
    {
     "name": "stdout",
     "output_type": "stream",
     "text": [
      "Sample Validation accuracy (NB) = 0.7099160800266101\n",
      "...Sample data with 50 iterations in 597.4028360843658 seconds.\n"
     ]
    }
   ],
   "source": [
    "from pyspark.ml.classification import NaiveBayes, NaiveBayesModel\n",
    "\n",
    "## Train the model using Sample Training Data\n",
    "start = time.time()\n",
    "\n",
    "from pyspark.ml.classification import NaiveBayes\n",
    "\n",
    "# Train a NaiveBayes model\n",
    "nb = NaiveBayes(smoothing=1.0, modelType=\"multinomial\")\n",
    "\n",
    "modelnb = nb.fit(FullDF_TH)\n",
    "\n",
    "## Validate the model using Toy Training Data\n",
    "prediction = modelnb.transform(FullDF_VH)\n",
    "result = prediction.select(\"label\", \"prediction\") \\\n",
    "    .cache()\n",
    "\n",
    "testErr = result.filter(result.label!=result.prediction).count() / float(result.count())\n",
    "print(f\"Sample Validation accuracy (NB) = {1-testErr}\")\n",
    "print (f'...Sample data with 50 iterations in {time.time() - start} seconds.')"
   ]
  },
  {
   "cell_type": "markdown",
   "metadata": {},
   "source": [
    "NOTE : The above Naive Bayes algorithm was no longer used in favor of the more robust Logistical regression with regularization, thus improving the particular model. We focused on the Logistical Regression model due to it's accuracy, stability and robust parameters as the number of traning samples increase."
   ]
  },
  {
   "cell_type": "code",
   "execution_count": 20,
   "metadata": {},
   "outputs": [
    {
     "data": {
      "text/plain": [
       "(36670947, 9169301)"
      ]
     },
     "execution_count": 20,
     "metadata": {},
     "output_type": "execute_result"
    }
   ],
   "source": [
    "# RUN ON DATA PROC ONLY - Create FULL training and Validation set from Training set\n",
    "splits = FullDF.randomSplit([0.8,0.2],2019)\n",
    "FullDF_T , FullDF_V= splits[0] , splits[1]\n",
    "FullDF_T.count() , FullDF_V.count()"
   ]
  },
  {
   "cell_type": "code",
   "execution_count": 22,
   "metadata": {},
   "outputs": [],
   "source": [
    "## HASHING TRICK - FULL Training set -- (RUN ON DATA PROC ONLY)\n",
    "struct = FullDF_T.columns\n",
    "dims = 2 ** 15\n",
    "FullDF_TH = FullDF_T.rdd.map(lambda row: dict(zip(struct,row))) \\\n",
    "                      .map(lambda x: hashing(dims,x,False)) \\\n",
    "                      .toDF(['label','features'])"
   ]
  },
  {
   "cell_type": "code",
   "execution_count": 23,
   "metadata": {},
   "outputs": [],
   "source": [
    "## ## HASHING TRICK - FULL Validation set -- (RUN ON DATA PROC ONLY)\n",
    "\n",
    "struct = FullDF_V.columns\n",
    "dims = 2 ** 15\n",
    "FullDF_VH = FullDF_V.rdd.map(lambda row: dict(zip(struct,row))) \\\n",
    "                      .map(lambda x: hashing(dims,x,False)) \\\n",
    "                      .toDF(['label','features'])"
   ]
  },
  {
   "cell_type": "code",
   "execution_count": 26,
   "metadata": {},
   "outputs": [
    {
     "name": "stdout",
     "output_type": "stream",
     "text": [
      "FULL training set Validation accuracy = 0.7817834221245549\n",
      "...Full training data with 50 iterations in 694.7876329421997 seconds.\n"
     ]
    }
   ],
   "source": [
    "## Train the model using FULL Training Data -- (RUN ON DATA PROC ONLY)\n",
    "start = time.time()\n",
    "\n",
    "lr = LogisticRegression(maxIter=50, regParam=0.01)\n",
    "model = lr.fit(FullDF_TH)\n",
    "\n",
    "## Validate the model using FULL Training Data\n",
    "prediction = model.transform(FullDF_VH)\n",
    "result = prediction.select(\"label\", \"prediction\") \\\n",
    "    .cache()\n",
    "\n",
    "testErr = result.filter(result.label!=result.prediction).count() / float(result.count())\n",
    "print(f\"FULL training set Validation accuracy = {1-testErr}\")\n",
    "print (f'...Full training data with 50 iterations in {time.time() - start} seconds.')"
   ]
  },
  {
   "cell_type": "markdown",
   "metadata": {},
   "source": [
    "#### Benchmark A : Spark 2.0 ML implementation summary\n",
    "\n",
    "Our business user ultimately wants a solution that can achieve their goals, while the Data science team can take advantage of the most stable generally available features of Spark that can be handed off the the Dev Ops organization for continued maintenance. From approximately 2015 on, Apache Spark's core development team implemented an umbrella project called Tungsten to overhaul Spark's execution engine<sup>10</sup>. Concurrently, the Catalyst optimizer was introduced in 2015<sup>11</sup> We recognize the following key facts of using Spark's latest ML and DataFrames abstraction libraries:\n",
    "\n",
    "(1) Ease-of-use of APIs with structure - Although DataFrame structure may limit control in what the Spark program can do with data, it introduces rich semantics and an easy set of domain specific operations that can be expressed as high-level constructs. Most computations, however, can be accomplished with DataFrame's high-level APIs. (it’s much simpler to perform agg, select, sum, avg, map, filter, or groupBy operations than using RDD rows’ data fields.)<sup>[15](https://www.kdnuggets.com/2017/08/three-apache-spark-apis-rdds-dataframes-datasets.html)</sup>\n",
    "\n",
    "(2) Performance and Optimization - Along with all the above benefits, we cannot overlook the space efficiency and performance gains in using DataFrames and Dataset APIs for two reasons. First, because DataFrame and Dataset APIs are built on top of the Spark SQL engine, it uses Catalyst to generate an optimized logical and physical query plan. Across R, Java, Scala, or Python DataFrame/Dataset APIs, all relation type queries undergo the same code optimizer, providing the space and speed efficiency. Whereas the Dataset[T] typed API is optimized for data engineering tasks, the untyped Dataset(row) (an alias of DataFrame) is even faster and suitable for interactive analysis.<sup>[16](https://databricks.com/blog/2016/07/14/a-tale-of-three-apache-spark-apis-rdds-dataframes-and-datasets.html)</sup>\n",
    "\n",
    "(3) Modernization of the framework - The choice of RDD or DataFrame is NOT always easy one. RDD offers low-level functionality and control, the DataFrame allows custom view and structure, high-level and specific operations, saves space, and executes at superior speeds.\n",
    "\n",
    "As we examined in this class, the lessons we learned from early releases of Hadoop streaming, RDDs\n",
    "  — how to simplify Spark for developers, how to optimize and make it performant\n",
    "  — we decided to elevate the low-level RDD APIs to a high-level abstraction as DataFrame and Dataset and to build this unified data abstraction across  libraries atop Catalyst optimizer and Tungsten.<sup>[18](https://datalere.com/databricks/5-things-to-know-about-databricks/)</sup>\n",
    "  - Spark has been historically difficult to tune and maintain. That makes it very hard to ensure performance so that it doesn’t buckle under heavy data loads.  If the cluster isn’t expertly managed, this can negate “the Good” aspects fast.\n",
    "  - PySpark UDFs are much slower and more memory-intensive than Scala and Java UDFs are. \n",
    "  - The performance skew towards Scala and Java is noticeable and appreciated, since Spark is written in Scala and runs on the Java Virtual Machine (JVM).<sup>[19](https://www.quora.com/What-is-the-difference-between-using-Spark-in-Scala-and-Python)</sup> \n",
    "  - Python UDFs require moving data from the executor’s JVM to a Python interpreter, which is very slow. If Python UDF performance is problematic, Spark does enable a user to create Scala UDFs, which can be run in Python. However, this slows down development time and was beyond the scope of this project.<sup>[17](https://spark.apache.org/docs/latest/sql-pyspark-pandas-with-arrow.html)</sup>\n",
    "\n",
    "\n",
    "In Summary,\n",
    "\n",
    "Apache Spark has released DataFrames and DataSets abstractions. They have also added several specific base algorithms in the machine learning libraries (MLlib and ML) and improved performance. Unfortunately, enterprises that need business continuity will be cautious to upgrade to more complex engineering centric solution creating a major bottleneck due to a constant need for highly skilled data engineers and Spark data scientists. As data scientists, we have had to cope with working on the Hadoop stream, then RDD and finally the DataFrames paradigm, making the progress to become faster and lot of error prone details to be abstracted out.<sup>[20](https://thenewstack.io/the-good-bad-and-ugly-apache-spark-for-data-science-work/)</sup>\n",
    "\n",
    "We propose that for this project, we keep in mind that a model that is less complex, has greater parsimony, utilizes a framework that allows faster go-to-market and above all a distributed computing environment that is less prone to errors and resilient to the elastic nature of Big data challenges, is the key to success.\n"
   ]
  },
  {
   "cell_type": "markdown",
   "metadata": {},
   "source": [
    "### Benchmark B: Spark ML and Spark Hash function"
   ]
  },
  {
   "cell_type": "code",
   "execution_count": 5,
   "metadata": {},
   "outputs": [],
   "source": [
    "import pyspark.sql.functions as F"
   ]
  },
  {
   "cell_type": "code",
   "execution_count": 6,
   "metadata": {},
   "outputs": [],
   "source": [
    "from pyspark.ml.feature import FeatureHasher\n",
    "from pyspark.sql import Row\n",
    "from pyspark.ml.linalg import Vectors\n",
    "from pyspark.ml.classification import LogisticRegression\n"
   ]
  },
  {
   "cell_type": "code",
   "execution_count": 8,
   "metadata": {},
   "outputs": [],
   "source": [
    "raw_train_rdd = sc.textFile('gs://whimsy/data/train.txt', 2).map(lambda x: x.replace('\\t', ','))"
   ]
  },
  {
   "cell_type": "code",
   "execution_count": 7,
   "metadata": {},
   "outputs": [],
   "source": [
    "raw_train_rdd = sc.textFile('gs://w261-data-gp/data/train.txt', 2).map(lambda x: x.replace('\\t', ','))"
   ]
  },
  {
   "cell_type": "code",
   "execution_count": 21,
   "metadata": {},
   "outputs": [],
   "source": [
    "#train_sample = raw_train_rdd.sample(fraction=0.10, seed = 42, withReplacement= False)\n",
    "RDD = raw_train_rdd.map(lambda x: x.split(','))\n",
    "train_sample_df = RDD.toDF()"
   ]
  },
  {
   "cell_type": "code",
   "execution_count": 24,
   "metadata": {},
   "outputs": [
    {
     "name": "stdout",
     "output_type": "stream",
     "text": [
      "Hashing to 32768 dimensions\n",
      "Hashing completed job in 0.14031076431274414 seconds.\n",
      "Fitting\n",
      "Fitting completed job in 288.1995451450348 seconds for 50 iterations.\n",
      "Objective History:\n",
      "0.5690695122717043\n",
      "0.562927102648893\n",
      "0.5403914208840935\n",
      "0.5383135289922488\n",
      "0.5370124175571116\n",
      "0.5358635546808279\n",
      "0.5349961606990863\n",
      "0.5347969340503967\n",
      "0.5345190181639797\n",
      "0.5343388757291968\n",
      "0.5340599892987344\n",
      "0.5339632675039712\n",
      "0.5338079855557321\n",
      "0.533742303707672\n",
      "0.5336732694796329\n",
      "0.5336484992434946\n",
      "0.5336321797467516\n",
      "0.5336220008041086\n",
      "0.5336165621511542\n",
      "0.5336026622197877\n",
      "0.533600303757809\n",
      "0.5335889391389165\n",
      "0.5335840536108487\n",
      "0.5335803913477444\n",
      "0.5335748287028189\n",
      "0.5335679438875043\n",
      "0.5335643313429337\n",
      "0.5335605940260457\n",
      "0.5335573418100674\n",
      "0.5335539378054186\n",
      "0.5335464075224362\n",
      "0.5335425320759277\n",
      "0.5335388133925143\n",
      "0.5335352333275233\n",
      "0.5335306893185437\n",
      "0.5335290458809745\n",
      "0.5335278494145177\n",
      "0.5335249308689615\n",
      "0.5335227896484618\n",
      "0.5335212196804394\n",
      "0.5335208636675725\n",
      "0.5335188199140855\n",
      "0.5335171084980285\n",
      "0.5335163256571412\n",
      "0.5335144742576114\n",
      "0.5335143005506361\n",
      "0.5335133687488797\n",
      "0.5335111594490113\n",
      "0.533510434904224\n",
      "0.5335093504983844\n",
      "0.5335083854698486\n",
      "+--------------------+--------------------+\n",
      "|                 FPR|                 TPR|\n",
      "+--------------------+--------------------+\n",
      "|                 0.0|                 0.0|\n",
      "|5.523361528619633E-4| 0.00859882790237367|\n",
      "|0.001363418564249...| 0.01725657229640989|\n",
      "|0.001426125376845...|0.017844970958086025|\n",
      "|0.002413215076536187|0.026401229141050336|\n",
      "|0.002590718177487791|0.027937400035656396|\n",
      "|0.003800361335542...|  0.0370755011435078|\n",
      "|0.003987895180136758| 0.03844335136756927|\n",
      "|0.005363045608295531| 0.04740121228344145|\n",
      "|0.005748056052147431|0.049840286926719976|\n",
      "| 0.00728143999478636| 0.05909256002202728|\n",
      "|0.007933584979858882| 0.06292613353371751|\n",
      "|0.009611916101100394|  0.0720736851192778|\n",
      "|0.010332751149363375| 0.07571790851903522|\n",
      "|0.012139018246538609| 0.08468275086889054|\n",
      "| 0.01216139677694609| 0.08479258074496668|\n",
      "|0.014014063395883623| 0.09358535628896938|\n",
      "|0.014254243979772038| 0.09469804361489116|\n",
      "|  0.0161869805698923| 0.10345948784540858|\n",
      "|0.016272916473029808|       0.10386083516|\n",
      "+--------------------+--------------------+\n",
      "only showing top 20 rows\n",
      "\n",
      "areaUnderROC: 0.72207684863266\n",
      "Mean log loss: 1.2607201549873468\n"
     ]
    }
   ],
   "source": [
    "numDims = 2**15\n",
    "W = np.random.randn(numDims, numDims)\n",
    "\n",
    "#Reference http://wiki.fast.ai/index.php/Log_Loss\n",
    "\n",
    "def my_log_loss(trueLabel, predProb, eps = 1e-15):\n",
    "    p = np.clip(predProb, eps, 1 - eps)\n",
    "    if (trueLabel == 1):\n",
    "        return -np.log(p)\n",
    "    else:\n",
    "        return -np.log(1-p)\n",
    "    \n",
    "\n",
    "\n",
    "start = time.time()\n",
    "print(f'Hashing to {numDims} dimensions')\n",
    "\n",
    "hasher = FeatureHasher(numFeatures=numDims,\n",
    "                       inputCols=train_sample_df.columns[1:],\n",
    "                       outputCol=\"features\")\n",
    "\n",
    "featurized = hasher.transform(train_sample_df)\n",
    "#featurized.show(truncate=False)\n",
    "\n",
    "end = time.time()\n",
    "print(f'Hashing completed job in {end - start} seconds.')\n",
    "\n",
    "start = time.time()\n",
    "print('Fitting')\n",
    "\n",
    "training = featurized.withColumn('label', featurized._1.cast('int'))\n",
    "\n",
    "\n",
    "lr = LogisticRegression(maxIter=50,\\\n",
    "                        regParam=0.01,\\\n",
    "                        elasticNetParam=0.8,\\\n",
    "                        featuresCol='features',\\\n",
    "                       labelCol='label')\n",
    "\n",
    "# Fit the model\n",
    "lrModel = lr.fit(training)\n",
    "\n",
    "end = time.time()\n",
    "print(f'Fitting completed job in {end - start} seconds for 50 iterations.')\n",
    "\n",
    "\n",
    "trainingSummary = lrModel.summary\n",
    "\n",
    "objectiveHistory = trainingSummary.objectiveHistory\n",
    "print(\"Objective History:\")\n",
    "\n",
    "for objective in objectiveHistory:\n",
    "    print(objective)\n",
    "    \n",
    "# Obtain the receiver-operating characteristic as a dataframe and areaUnderROC.\n",
    "trainingSummary.roc.show()\n",
    "print(\"areaUnderROC: \" + str(trainingSummary.areaUnderROC))\n",
    "\n",
    "# Set the model threshold to maximize F-Measure\n",
    "fMeasure = trainingSummary.fMeasureByThreshold\n",
    "maxFMeasure = fMeasure.groupBy().max('F-Measure').select('max(F-Measure)').head()\n",
    "bestThreshold = fMeasure.where(fMeasure['F-Measure'] == maxFMeasure['max(F-Measure)']) \\\n",
    "    .select('threshold').head()['threshold']\n",
    "lr.setThreshold(bestThreshold)\n",
    "\n",
    "\n",
    "predictions = lrModel.transform(dataset=training)\n",
    "\n",
    "#  mean log loss\n",
    "meanLogLoss = predictions.select(['label', 'probability']).rdd.\\\n",
    "    map(lambda x: (x[0], x[1][0])).\\\n",
    "    map(lambda x: my_log_loss(x[0], x[1])).sum()\\\n",
    "    / predictions.count()\n",
    "\n",
    "print(f'Mean log loss: {meanLogLoss}')\n"
   ]
  },
  {
   "cell_type": "code",
   "execution_count": 25,
   "metadata": {},
   "outputs": [
    {
     "data": {
      "text/plain": [
       "0.7602666866373112"
      ]
     },
     "execution_count": 25,
     "metadata": {},
     "output_type": "execute_result"
    }
   ],
   "source": [
    "trainingSummary.accuracy"
   ]
  },
  {
   "cell_type": "markdown",
   "metadata": {},
   "source": [
    "### Benchmark C: Spark MLlib and MurmurHash function"
   ]
  },
  {
   "cell_type": "markdown",
   "metadata": {},
   "source": [
    "Since One Hot Encoding of all the features in this dataset results in over 33 million dimensions, we wanted to explore the model performance when data is not one-hot-encoded. Below is the illustration of utilizing hashing and data normalization without one hot encoding. This approach retains the original dimensionality of 39 features. \n",
    "\n",
    "Containing dimensionality helps in faster performance. However, such computational performance should not undermine model performance. "
   ]
  },
  {
   "cell_type": "code",
   "execution_count": 4,
   "metadata": {},
   "outputs": [],
   "source": [
    "trainFile = sc.textFile('gs://w261-project-bucket/data/train.txt', 2)\n",
    "testFile = sc.textFile('gs://w261-project-bucket/data/test.txt', 2) \n",
    "# Sample file was created using random 0.01 % of training data file\n",
    "sampleFile =  sc.textFile('gs://w261-project-bucket/data/sample.txt', 2)"
   ]
  },
  {
   "cell_type": "code",
   "execution_count": 10,
   "metadata": {},
   "outputs": [],
   "source": [
    "import mmh3 as mmh"
   ]
  },
  {
   "cell_type": "code",
   "execution_count": 4,
   "metadata": {},
   "outputs": [],
   "source": [
    "from pyspark.mllib.regression import LabeledPoint\n",
    "def parse(line):\n",
    "    items = line.split(\"\\t\")\n",
    "    return items\n",
    "\n",
    "def featureHash(line):\n",
    "    items = line.split(\"\\t\")\n",
    "    # Ensure target is not hashed\n",
    "    newLine = []\n",
    "    for i, item in enumerate(items):\n",
    "        if i == 0:\n",
    "            newLine.append(int(item))\n",
    "        else:\n",
    "            newLine.append(mmh.hash(item))\n",
    "    return LabeledPoint(newLine[0], newLine[1:])\n",
    "    \n",
    "def normalize(dataRDD):\n",
    "    start = time.time()\n",
    "    fMean = dataRDD.map(lambda x: x.features).mean()\n",
    "    fSD = np.sqrt(dataRDD.map(lambda x: x.features).variance())\n",
    "    \n",
    "    nRDD = dataRDD.map(lambda x: LabeledPoint(x.label, (x.features - fMean)/fSD))\n",
    "    \n",
    "    return nRDD    "
   ]
  },
  {
   "cell_type": "code",
   "execution_count": 6,
   "metadata": {},
   "outputs": [
    {
     "name": "stdout",
     "output_type": "stream",
     "text": [
      "Time to hash data: 8.0108642578125e-05 seconds.\n",
      "Time to normalize data: 223.0287230014801 seconds.\n"
     ]
    },
    {
     "data": {
      "text/plain": [
       "PythonRDD[16] at RDD at PythonRDD.scala:49"
      ]
     },
     "execution_count": 6,
     "metadata": {},
     "output_type": "execute_result"
    }
   ],
   "source": [
    "# Parse full training data \n",
    "start = time.time()\n",
    "fullRDD = trainFile.map(featureHash)\n",
    "print (f'Time to hash data: {time.time() - start} seconds.')\n",
    "\n",
    "start = time.time()\n",
    "fullHashRDD = normalize(fullRDD).cache()\n",
    "print (f'Time to normalize data: {time.time() - start} seconds.')\n",
    "\n",
    "# Split training data into training and test RDD with a 70:30 split\n",
    "trainRDD, testRDD = fullHashRDD.randomSplit([.7,.3], seed=7)\n",
    "trainRDD.cache()\n",
    "testRDD.cache()"
   ]
  },
  {
   "cell_type": "markdown",
   "metadata": {},
   "source": [
    "### Spark MLLib Evaluation Full data"
   ]
  },
  {
   "cell_type": "markdown",
   "metadata": {},
   "source": [
    "MLLib model performance was at approx 74.4 % accuracy with test data when features are not normalized. Normalizing features has made performance much worse. However, normalizing data improves the time taken to train & test data.\n",
    "\n",
    "The homegrown model, however, performs significantly better in terms of accuracy (at ~74%) although suffers in terms of time taken to generate a response. "
   ]
  },
  {
   "cell_type": "code",
   "execution_count": 23,
   "metadata": {},
   "outputs": [
    {
     "name": "stdout",
     "output_type": "stream",
     "text": [
      "Training Error is: 0.2557397838929348 and accuracy is: 0.7442602161070653.\n",
      "Time to train data: 269.92262983322144 seconds.\n",
      "Testing Error is: 0.25604189040134256 and accuracy is: 0.7439581095986574.\n",
      "Time to Test data: 65.47434186935425 seconds.\n"
     ]
    }
   ],
   "source": [
    "start = time.time()\n",
    "hModel = LogisticRegressionWithLBFGS.train(trainRDD_Hashed, iterations=50)\n",
    "\n",
    "# Evaluate model on Training data without normalizing\n",
    "trainingPredictions_Hashed = trainRDD_Hashed.map(lambda line: (line.label, hModel.predict(line.features)))\n",
    "trainErr_Hashed = trainingPredictions_Hashed.filter(lambda lp: lp[0] != lp[1]).count() / float(trainRDD_Hashed.count())\n",
    "print(f'Training Error is: {str(trainErr_Hashed)} and accuracy is: {str(1 - trainErr_Hashed)}.')\n",
    "print (f'Time to train data: {time.time() - start} seconds.')\n",
    "\n",
    "start = time.time()\n",
    "\n",
    "# Evaluate model on Test data\n",
    "testPredictions_Hashed = testRDD_Hashed.map(lambda line: (line.label, hModel.predict(line.features)))\n",
    "testErr_Hashed = testPredictions_Hashed.filter(lambda lp: lp[0] != lp[1]).count() / float(testRDD_Hashed.count())\n",
    "print(f'Testing Error is: {str(testErr_Hashed)} and accuracy is: {str(1 - testErr_Hashed)}.')\n",
    "print (f'Time to Test data: {time.time() - start} seconds.')"
   ]
  },
  {
   "cell_type": "code",
   "execution_count": 13,
   "metadata": {},
   "outputs": [
    {
     "name": "stdout",
     "output_type": "stream",
     "text": [
      "Training Error is: 0.40945115836647006 and accuracy is: 0.5905488416335299.\n",
      "Time to train data: 181.8348867893219 seconds.\n",
      "Testing Error is: 0.4092979987396704 and accuracy is: 0.5907020012603297.\n",
      "Time to Test data: 19.773133039474487 seconds.\n"
     ]
    }
   ],
   "source": [
    "start = time.time()\n",
    "lModel = LogisticRegressionWithLBFGS.train(trainRDD, iterations=50)\n",
    "\n",
    "# Evaluate model on Training data\n",
    "trainingPredictions = trainRDD.map(lambda line: (line.label, lModel.predict(line.features)))\n",
    "trainErr = trainingPredictions.filter(lambda lp: lp[0] != lp[1]).count() / float(trainRDD.count())\n",
    "print(f'Training Error is: {str(trainErr)} and accuracy is: {str(1 - trainErr)}.')\n",
    "print (f'Time to train data: {time.time() - start} seconds.')\n",
    "\n",
    "start = time.time()\n",
    "\n",
    "# Evaluate model on Test data\n",
    "testPredictions = testRDD.map(lambda line: (line.label, lModel.predict(line.features)))\n",
    "testErr = testPredictions.filter(lambda lp: lp[0] != lp[1]).count() / float(testRDD.count())\n",
    "print(f'Testing Error is: {str(testErr)} and accuracy is: {str(1 - testErr)}.')\n",
    "print (f'Time to Test data: {time.time() - start} seconds.')"
   ]
  },
  {
   "cell_type": "markdown",
   "metadata": {},
   "source": [
    "#### Homegrown model with murmurhash & normalization"
   ]
  },
  {
   "cell_type": "code",
   "execution_count": 9,
   "metadata": {},
   "outputs": [],
   "source": [
    "def sigmoid(z):\n",
    "    return 1/(1+np.exp(-z))\n",
    "\n",
    "def logLikelihood(dataRDD, W):\n",
    "    augmentedData = dataRDD.map(lambda x: (x.label, np.append([1.0], x.features)))\n",
    "    def cost(data):\n",
    "        y = data[0]\n",
    "        x = data[1]\n",
    "        return ((y * np.log(sigmoid(W.dot(x)))) + (1-y)*(np.log(1-sigmoid(W.dot(x)))))\n",
    "    logLoss = -augmentedData.map(cost).mean()\n",
    "    return logLoss    \n",
    "\n",
    "def gradientUpdate(dataRDD, W, learningRate, regParam):\n",
    "    # add a bias 'feature' of 1 at index 0\n",
    "    augmentedData = dataRDD.map(lambda x: (x.label, np.append([1.0], x.features))).cache()\n",
    "    grad = augmentedData.map(lambda x: (sigmoid(W.dot(x[1])) - x[0]) * x[1]).mean()\n",
    "    grad += regParam * np.append([0.0], np.sign(W)[1:])\n",
    "    new_model = W - learningRate * grad\n",
    "    return new_model   \n",
    "\n",
    "def hgLogisticRegression(trainRDD, testRDD, W, learningRate = 0.1, regParam = 0.5, iterations = 5, verbose = True):\n",
    "    # initialize lists to track model performance\n",
    "    trainHistory, testHistory, modelHistory = [], [], []\n",
    "    hgModel = W\n",
    "    for idx in range(iterations):\n",
    "        hgModel = gradientUpdate(trainRDD, hgModel, learningRate, regParam)\n",
    "        trainingLoss = logLikelihood(trainRDD, hgModel)\n",
    "        testingLoss = logLikelihood(testRDD, hgModel)\n",
    "\n",
    "        trainHistory.append(trainingLoss)\n",
    "        testHistory.append(testingLoss)\n",
    "        modelHistory.append(hgModel)\n",
    "\n",
    "        if verbose:\n",
    "            print(\"----------\")\n",
    "            print(f\"STEP: {idx+1}\")\n",
    "            print(f\"training loss: {trainingLoss}\")\n",
    "            print(f\"test loss: {testingLoss}\")\n",
    "            print(f\"Model: {[round(w,3) for w in hgModel]}\")\n",
    "    \n",
    "    return trainHistory, testHistory, modelHistory\n",
    "\n",
    "def plotErrorCurves(trainLoss, testLoss, title = None):\n",
    "    \"\"\"\n",
    "    Helper function for plotting.\n",
    "    Args: trainLoss , testLoss\n",
    "    \"\"\"\n",
    "    fig, ax = plt.subplots(1,1,figsize = (16,8))\n",
    "    x = list(range(len(trainLoss)))[1:]\n",
    "    ax.plot(x, trainLoss[1:], 'k--', label='Training Loss')\n",
    "    ax.plot(x, testLoss[1:], 'r--', label='Test Loss')\n",
    "    ax.legend(loc='upper right', fontsize='x-large')\n",
    "    plt.xlabel('Number of Iterations')\n",
    "    plt.ylabel('Loss')\n",
    "    if title:\n",
    "        plt.title(title)\n",
    "    plt.show()\n",
    "    \n"
   ]
  },
  {
   "cell_type": "markdown",
   "metadata": {},
   "source": [
    "### Home grown model on sample data"
   ]
  },
  {
   "cell_type": "code",
   "execution_count": 11,
   "metadata": {},
   "outputs": [
    {
     "name": "stdout",
     "output_type": "stream",
     "text": [
      "Time taken on sample data: 1652.0397686958313 seconds.\n"
     ]
    }
   ],
   "source": [
    "start = time.time()\n",
    "sampleModel = np.zeros(40)\n",
    "trainSampleErr, testSampleErr, models = hgLogisticRegression(normRDD, testRDD, sampleModel, 0.1, 0.5, 50, False)\n",
    "print (f'Time taken on sample data: {time.time() - start} seconds.')"
   ]
  },
  {
   "cell_type": "code",
   "execution_count": 12,
   "metadata": {},
   "outputs": [
    {
     "data": {
      "image/png": "[encoded data removed]",
      "text/plain": [
       "<Figure size 1152x576 with 1 Axes>"
      ]
     },
     "metadata": {
      "needs_background": "light"
     },
     "output_type": "display_data"
    }
   ],
   "source": [
    "plotErrorCurves(trainSampleErr, testSampleErr, title = 'Logistic Regression - Sample data' )"
   ]
  },
  {
   "cell_type": "markdown",
   "metadata": {},
   "source": [
    "### Home grown model on full data"
   ]
  },
  {
   "cell_type": "code",
   "execution_count": 17,
   "metadata": {},
   "outputs": [
    {
     "name": "stdout",
     "output_type": "stream",
     "text": [
      "Time taken on full data: 5955.500848531723 seconds.\n"
     ]
    }
   ],
   "source": [
    "start = time.time()\n",
    "hgModel = np.zeros(40)\n",
    "trainErr, testErr, regModels = hgLogisticRegression(trainRDD, testRDD, hgModel, 0.1, 0.5, 50, False)\n",
    "print (f'Time taken on full data: {time.time() - start} seconds.')"
   ]
  },
  {
   "cell_type": "code",
   "execution_count": 18,
   "metadata": {},
   "outputs": [
    {
     "data": {
      "image/png": "[encoded data removed]",
      "text/plain": [
       "<Figure size 1152x576 with 1 Axes>"
      ]
     },
     "metadata": {
      "needs_background": "light"
     },
     "output_type": "display_data"
    }
   ],
   "source": [
    "plotErrorCurves(trainErr, testErr, title = 'Logistic Regression - Full data' )"
   ]
  },
  {
   "cell_type": "code",
   "execution_count": 71,
   "metadata": {},
   "outputs": [
    {
     "name": "stdout",
     "output_type": "stream",
     "text": [
      "Full Data homegrown LR test accuracy = 0.7435562232336266\n"
     ]
    }
   ],
   "source": [
    "pred_homegrown = testRDD.map(lambda x: (x.label, LogisticRegression_RDD_predict(np.append([1.0], x.features), regModels[-1]))).cache()\n",
    "testErr_homegrown = pred_homegrown.filter(lambda x: x[0] != x[1]).count() / float(pred_homegrown.count())\n",
    "print(f\"Full Data homegrown LR test accuracy = {1-testErr_homegrown}\")"
   ]
  },
  {
   "cell_type": "markdown",
   "metadata": {},
   "source": [
    "## Model with k-fold Cross Validation"
   ]
  },
  {
   "cell_type": "markdown",
   "metadata": {},
   "source": [
    "k-fold cross validation is a well established approach to reduce model bias and variance. The approach trains a model iteratively k-times by dividing data into k datasets, holding out the k<sup>th</sup> set for testing and using the rest for training. Bias is reduced by ensuring each data point is in test set exactly one time while the model error is computed across all k trials.<sup>[22]</sup>  \n",
    "\n",
    "K-Fold cross validation takes the following steps<sup>[23]</sup>:\n",
    "1.\tShuffle the dataset randomly.\n",
    "2.\tSplit the dataset into k groups\n",
    "3.\tFor each unique group:  \n",
    "    3.1.\tTake the group as a hold out or test data set  \n",
    "    3.2.\tTake the remaining groups as a training data set  \n",
    "    3.3.\tFit a model on the training set and evaluate it on the test set  \n",
    "    3.4.\tRetain the evaluation score and discard the model\n",
    "4.\tSummarize the skill of the model using the sample of model evaluation scores\n",
    "\n",
    "The downside of this approach however is the time it takes to train the model. Since the model executes k times, model training can take a very long time. As such, below execution was performed only on the sample dataset. The full dataset execution did not complete despite training on cluster node setup for 24 hours. This execution was terminated due to resource cnstraints."
   ]
  },
  {
   "cell_type": "code",
   "execution_count": 13,
   "metadata": {},
   "outputs": [],
   "source": [
    "def kResiduals(dataPoint, models, splitNum):\n",
    "    \"\"\"\n",
    "    Compute the residuals for a data point given k different models.\n",
    "    Note that points from the k-th split are part of the test set for model number k\n",
    "    and part of the trainin set for all other models. We'll emit a key to track this.\n",
    "    Args:\n",
    "        dataPoint - tuple of (features_array, y)\n",
    "        models    - list of arrays representing model weights (bias at index 0)\n",
    "    Returns:\n",
    "        (stringFormattedKey, squared_error)\n",
    "    \"\"\"\n",
    "    # augment the data point with a bias term at index 0\n",
    "    X = np.append([1.0], dataPoint.features)\n",
    "    y = dataPoint.label\n",
    "    # emit squared residuals for each model\n",
    "    for modelNum, W in enumerate(models):\n",
    "        if modelNum == splitNum:\n",
    "            yield(f\"{modelNum}-test\", ((- y * np.log(sigmoid(W * X))) - (1-y)*(np.log(1-sigmoid(W * X)))))\n",
    "        else:\n",
    "            yield(f\"{modelNum}-train\", ((- y * np.log(sigmoid(W * X))) - (1-y)*(np.log(1-sigmoid(W * X)))))\n",
    "            \n",
    "\n",
    "def CVLoss(dataSplits, models):\n",
    "    \"\"\"\n",
    "    Compute the k-fold cross-validated test and train loss.\n",
    "    Args:\n",
    "        dataSplits - list of RDDs corresponding to the k test splits.\n",
    "        models     - list of k arrays representing model weights (bias at index 0)\n",
    "    Returns: \n",
    "        tuple of floats: (training_loss, test_loss)\n",
    "    \"\"\"\n",
    "    # compute k residuals for each dataPoint (one for each model)\n",
    "    partialLossRDD = sc.parallelize([])\n",
    "    for splitNum, splitRDD in enumerate(dataSplits):\n",
    "        residuals = splitRDD.flatMap(lambda x: kResiduals(x, models, splitNum))\n",
    "        partialLossRDD = sc.union([partialLossRDD, residuals])\n",
    "    \n",
    "    loss = partialLossRDD.mapValues(lambda x: (x,1))\\\n",
    "                         .reduceByKey(lambda a, b: (a[0] + b[0], a[1] + b[1]))\\\n",
    "                         .mapValues(lambda x: x[0]/x[1])\\\n",
    "                         .collect()\n",
    "    \n",
    "    test_loss = np.mean([x[1] for x in loss if x[0].split('-')[1] == 'test'])\n",
    "    training_loss = np.mean([x[1] for x in loss if x[0].split('-')[1] == 'train'])\n",
    "    return training_loss, test_loss\n",
    "\n",
    "def partialGradients(splitNum, dataPoint, models):\n",
    "    \"\"\"\n",
    "    Emit partial gradient for this data point for each model.\n",
    "    NOTE: a data point from split-number k is in the test set for \n",
    "    model-k so we don't compute a partial gradient for that model.\n",
    "    \"\"\"\n",
    "    # augment the data point\n",
    "    X = np.append([1.0], dataPoint.features)\n",
    "    y = dataPoint.label\n",
    "    # emit partial gradients for each model with a counter for averaging later\n",
    "    for modelNum, W in enumerate(models):\n",
    "        if modelNum != splitNum:\n",
    "            yield (modelNum, [(sigmoid(W.dot(X)) - y)*X, 1])\n",
    "\n",
    "def CVUpdate(dataSplits, models, learningRate = 0.1):\n",
    "    \"\"\"\n",
    "    Compute gradients for k models given k corresponding dataSplits.\n",
    "    NOTE: the training set for model-k is all records EXCEPT those in the k-th split.\n",
    "    \"\"\"\n",
    "    # compute partial gradient k-1 times for each fold\n",
    "    partialsRDD = sc.parallelize([])\n",
    "    for splitNum, splitRDD in enumerate(dataSplits):\n",
    "        thisFoldPartialGrads = splitRDD.flatMap(lambda x: partialGradients(splitNum, x, models))\n",
    "        partialsRDD = sc.union([partialsRDD, thisFoldPartialGrads])\n",
    "\n",
    "    # compute gradients by taking the average partialGrad for each fold\n",
    "    gradients = partialsRDD.reduceByKey(lambda a, b: (a[0] + b[0], a[1] + b[1]))\\\n",
    "                           .mapValues(lambda x: x[0]/x[1])\\\n",
    "                           .map(lambda x: x[1])\\\n",
    "                           .collect()\n",
    "    \n",
    "    # update all k models & return them in a list\n",
    "    new_models = []\n",
    "    for W, grad in zip(models, gradients):\n",
    "        new_models.append(W - learningRate * grad)\n",
    "    return new_models\n",
    "\n",
    "def GradientDescent_withCV(dataSplits, wInit, learningRate=0.1, nSteps = 5, verbose = False):\n",
    "    \"\"\"\n",
    "    Train k models in parallel and track cross validated test/train loss.\n",
    "    Returns:\n",
    "        train_hist - (list) of floats\n",
    "        test_hist - (list) of floats\n",
    "        model_hist - (list) of arrays representing model coefficients (bias at index 0)\n",
    "    \"\"\"\n",
    "    # broadcast initial models (one for each fold)\n",
    "    bModels = sc.broadcast([wInit] * len(dataSplits))\n",
    "    \n",
    "    # initialize lists to track performance\n",
    "    train_loss_0, test_loss_0 = CVLoss(dataSplits, bModels.value)\n",
    "    train_hist, test_hist, model_hist = [train_loss_0], [test_loss_0], [wInit]\n",
    "    \n",
    "    # perform k gradient updates at a time (one for each fold)\n",
    "    start = time.time()\n",
    "    for step in range(nSteps):\n",
    "        new_models = CVUpdate(dataSplits, bModels.value, learningRate)\n",
    "        bModels = sc.broadcast(new_models)\n",
    "\n",
    "        # log progress\n",
    "        train_loss, test_loss = CVLoss(dataSplits, bModels.value)\n",
    "        train_hist.append(train_loss)\n",
    "        test_hist.append(test_loss)\n",
    "        model_hist.append(new_models[0])\n",
    "        \n",
    "        if verbose:\n",
    "            print(\"-------------------\")\n",
    "            print(f\"STEP {step}: \")\n",
    "            print(f\"model 1: {[round(w,4) for w in new_models[0]]}\")\n",
    "            print(f\" train loss: {round(train_loss,4)}\")\n",
    "            print(f\" test loss: {round(test_loss,4)}\")\n",
    "            \n",
    "    print(f\"\\n... trained {nSteps} iterations in {time.time() - start} seconds\")\n",
    "    return train_hist, test_hist, model_hist"
   ]
  },
  {
   "cell_type": "code",
   "execution_count": 19,
   "metadata": {},
   "outputs": [
    {
     "name": "stdout",
     "output_type": "stream",
     "text": [
      "\n",
      "... trained 50 iterations in 753.6316719055176 seconds\n",
      "Time taken to Cross Validate on sample data: 769.2351448535919 seconds.\n"
     ]
    }
   ],
   "source": [
    "start = time.time()\n",
    "dataSplits = normRDD.randomSplit([0.2, 0.2, 0.2, 0.2, 0.2], seed = 2018) \n",
    "wInit = np.zeros(40)\n",
    "trainLossSample, testLossSample, modelsSample = GradientDescent_withCV(dataSplits, wInit, learningRate=0.1, nSteps = 50, verbose=False)\n",
    "print (f'Time taken to Cross Validate on sample data: {time.time() - start} seconds.')"
   ]
  },
  {
   "cell_type": "code",
   "execution_count": 20,
   "metadata": {},
   "outputs": [
    {
     "data": {
      "image/png": "[encoded data removed]",
      "text/plain": [
       "<Figure size 1152x576 with 1 Axes>"
      ]
     },
     "metadata": {
      "needs_background": "light"
     },
     "output_type": "display_data"
    }
   ],
   "source": [
    "plotErrorCurves(trainLossSample, testLossSample, title = '5-fold Cross Validated Loss' )"
   ]
  },
  {
   "cell_type": "code",
   "execution_count": 72,
   "metadata": {},
   "outputs": [
    {
     "name": "stdout",
     "output_type": "stream",
     "text": [
      "Sample homegrown LR test accuracy = 0.7436127839412955\n"
     ]
    }
   ],
   "source": [
    "pred_CV = testRDD.map(lambda x: (x.label, LogisticRegression_RDD_predict(np.append([1.0], x.features), modelsSample[-1]))).cache()\n",
    "testErr_CV = pred_CV.filter(lambda x: x[0] != x[1]).count() / float(pred_CV.count())\n",
    "print(f\"Sample homegrown LR test accuracy = {1-testErr_CV}\")"
   ]
  },
  {
   "cell_type": "markdown",
   "metadata": {},
   "source": [
    "# 5. Application of New Concepts\n",
    "\n",
    "__{This section needs to be updated to reflect a list of all the things we tried and what we learned]__\n",
    "\n",
    "Throughout the project we sought to implement a scalable solution with consideration to the business context.  Logistic regression was chosen as a solution known to scale well, with desirable characteristics due to the linear nature of its underlying formulation, which would translate to roughly linear time complexity and the ability to scale out effectively in a distributed environment.  With regularization it becomes an extension of ridge or LASSO regression, with all the desirable properties thereof in a distributed framework.  Logistic regression also has an explainable formulation and can be fitted with gradient descent, so solution convergence can be tuned according to known hyperparameters such as learning rate.\n",
    "\n",
    "The dataset provided challenges related to feature sparsity. With logistic regression categorical features must be converted to a numerical interpretation.  One-hot-encoding the feature set could not provide a scalable solution due to the combinatorics associated with large numbers of categories per feature, and we therefore chose to hash the feature set.  The feature hash mapped the feature set to a bounded space, provided a framework for handling unseen data per feature, and could be tuned either to map each feature individually to a new space (as in our homegrown solutions), or to map the entire feature set as a whole to a new space, as with Spark's built-in hash.  The former would allow for further feature selection or the ability to drop features providing minimal information, while the latter allows the usage of all information and a fast implementation.  One drawback is that hashing adds an additional hyperparameter, the size of the new space, which could require tuning.\n",
    "\n",
    "The algorithm was developed atop the RDD API, using the map/reduce paradigm, allowing for control of each detail of the implementation, but at a cost of speed vs. either the Spark MLLib  or ML implementation. In the case of MLLib, we lose efficiency due to Python being slower than Scala.  In the case of the ML library, further improvements by the Apache Spark project to the query optimizer mean still further gains in speed, considerably outpacing our implementation, but at the cost of less transparency to the inner workings of the algorithm.\n",
    "\n",
    "As a useful control against overfitted models, we built the implementation with the ability to apply and tune regularization.  While the default Spark implementation allows for $L_1$ or $L_2$ regularization we have only included $L_2$ for now.  We did not explore tuning the regularization hyperparameter, but it provides an important control against possible bias associated with using a large number of features.\n",
    "\n",
    "<h5><center> Summary of performance with 50 iterations and $2^{15}$ hashed features.</center></h5>\n",
    " \n",
    "|Feature Engineering|Implementation|Training time (seconds)|Test data accuracy|Comments|\n",
    "|----- |---- |----|----|----|\n",
    "|ML build-in hashing|ML   |288|0.76|Dataframe API|\n",
    "|One-hot coding with homegrown hashing|MLlib| 1006|0.78| RDD, Scala implementation|\n",
    "|One-hot coding with homegrown hashing|Homegrown|6806|0.74|RDD, Python implementation|\n",
    "\n",
    "\n",
    "<h5 align=\"center\">Summary of performance with 50 iterations and $39$ features.</h5>\n",
    " \n",
    "|Feature Engineering|Implementation|Training time (seconds)|Test data accuracy|Comments|\n",
    "|---- |---- |----|----|----|\n",
    "|MMH | MLlib  |270|0.74|RDD, Scala Implementation|\n",
    "|MMH & Data Normalization|MLlib| 182|0.59|RDD, Scala Implementation|\n",
    "|MMH & Data Normalization|Homegrown|5955|0.74|RDD, Python implementation|\n",
    "|MMH & Data Normalization|Homegrown Cross Validation|769 (sample data only)|0.74|RDD, Python implementation|\n"
   ]
  },
  {
   "cell_type": "markdown",
   "metadata": {},
   "source": [
    "# 6. References\n",
    "\n",
    "__[FULL LIST WILL BE UPDATED AS WE COMPLETE PROJECT]__\n",
    "\n",
    "(1) [The State of Streaming Music Services](https://www.pcmag.com/roundup/260966/the-best-online-music-streaming-services)\n",
    "\n",
    "(2) [Spotify - For the record](https://newsroom.spotify.com/company-info/)\n",
    "\n",
    "(3) [Criteo website](https://www.criteo.com/)\n",
    "\n",
    "(4) [Simplify advertising analytics click prediction with databricks unified analytics platform](https://databricks.com/blog/2018/07/19/simplify-advertising-analytics-click-prediction-with-databricks-unified-analytics-platform.html)\n",
    "\n",
    "(5) [Simple and scalable response prediction for display advertising](https://www.dropbox.com/s/s4x7wp8gjsh021d/TISTRespPredAds-Chappelle-CTR-Prediction-2014Paper.pdf?dl+=0)\n",
    "\n",
    "(6) [Parquet for Spark-SQL](https://developer.ibm.com/hadoop/2015/12/03/parquet-for-spark-sql/)\n",
    "\n",
    "(7) [Click-Through Rate Prediction Lab](https://datascience-enthusiast.com/Python/cs120_lab3_ctr_df_celloutput.html)\n",
    "\n",
    "(8) [The Precision-Recall Plot Is More Informative than the ROC Plot When Evaluating Binary Classifiers on Imbalanced Datasets](https://journals.plos.org/plosone/article?id=10.1371/journal.pone.0118432)\n",
    "\n",
    "(9) [Understanding AUC ROC](https://towardsdatascience.com/understanding-auc-roc-curve-68b2303cc9c5)\n",
    "\n",
    "(10) [Spark Streaming](https://databricks.com/blog/2016/07/28/structured-streaming-in-apache-spark.html)\n",
    "\n",
    "(11) [ML with Pyspark](https://towardsdatascience.com/machine-learning-with-pyspark-and-mllib-solving-a-binary-classification-problem-96396065d2aa)\n",
    "\n",
    "(12) [Project Tungsten: Improving the Efficiency of Spark Applications](https://databricks.com/blog/2015/04/28/project-tungsten-bringing-spark-closer-to-bare-metal.html)\n",
    "\n",
    "(13) [Deep Dive into Spark SQL's Catalyst Optimizer](https://databricks.com/blog/2015/04/13/deep-dive-into-spark-sqls-catalyst-optimizer.html)\n",
    "\n",
    "(14) [Interpretation of the ROC plot](https://www.medcalc.org/manual/roc-curves.php)\n",
    "\n",
    "(15) [RDD Vs DataFrames](https://www.kdnuggets.com/2017/08/three-apache-spark-apis-rdds-dataframes-datasets.html))\n",
    "\n",
    "(16) [Differences - RDD & DataFrames](https://databricks.com/blog/2016/07/14/a-tale-of-three-apache-spark-apis-rdds-dataframes-and-datasets.html))\n",
    "\n",
    "\n",
    "(17) [Spark SQL Documentation](https://spark.apache.org/docs/latest/sql-pyspark-pandas-with-arrow.html))\n",
    "\n",
    "(18) [Databricks Blog - RDD Vs DataFrames](https://datalere.com/databricks/5-things-to-know-about-databricks/)\n",
    "\n",
    "(19) [Spark in Scala Vs Python](https://www.quora.com/What-is-the-difference-between-using-Spark-in-Scala-and-Python) \n",
    "\n",
    "(20) [Spark - Pros and Cons of the Platform](https://thenewstack.io/the-good-bad-and-ugly-apache-spark-for-data-science-work/)\n",
    "\n",
    "(21) [Discriminative vs Generative classifiers by Ng and Jordan](https://www.google.com/url?sa=t&rct=j&q=&esrc=s&source=web&cd=1&cad=rja&uact=8&ved=2ahUKEwjqrI7O6tXhAhVms1QKHV6xDnkQFjAAegQIARAC&url=https%3A%2F%2Fai.stanford.edu%2F~ang%2Fpapers%2Fnips01-discriminativegenerative.pdf&usg=AOvVaw1lDX-Rqo3NwkYjfERkK3IK)\n",
    "(22) [CS.CMU.EDU](https://www.cs.cmu.edu/~schneide/tut5/node42.html)\n",
    "(23) [Machine Learning Mastery](https://machinelearningmastery.com/k-fold-cross-validation/)\n",
    "\n",
    "\n",
    "## Code snippet references\n",
    "\n",
    "(1) [Randomly pick lines from a file without slurping it with unix](https://stackoverflow.com/questions/692312/randomly-pick-lines-from-a-file-without-slurping-it-with-unix)\n",
    "\n",
    "(2) [Click-through rate prediction](https://databricks-prod-cloudfront.cloud.databricks.com/public/4027ec902e239c93eaaa8714f173bcfc/2799933550853697/1070943937512584/2202577924924539/latest.html)\n",
    "\n",
    "(3) [Log loss](http://wiki.fast.ai/index.php/Log_Loss)\n",
    "\n",
    "(4) [Classification and Regression](https://spark.apache.org/docs/2.1.1/ml-classification-regression.html)\n",
    "\n",
    "(5) [pyspark.ml package - Pyspark documentation](https://spark.apache.org/docs/2.1.1/api/python/pyspark.ml.html#pyspark.ml.classification.LogisticRegression)\n",
    "\n"
   ]
  },
  {
   "cell_type": "code",
   "execution_count": null,
   "metadata": {},
   "outputs": [],
   "source": []
  }
 ],
 "metadata": {
  "kernelspec": {
   "display_name": "Python 3",
   "language": "python",
   "name": "python3"
  },
  "language_info": {
   "codemirror_mode": {
    "name": "ipython",
    "version": 3
   },
   "file_extension": ".py",
   "mimetype": "text/x-python",
   "name": "python",
   "nbconvert_exporter": "python",
   "pygments_lexer": "ipython3",
   "version": "3.7.3"
  },
  "toc": {
   "colors": {
    "hover_highlight": "#DAA520",
    "running_highlight": "#FF0000",
    "selected_highlight": "#FFD700"
   },
   "moveMenuLeft": true,
   "nav_menu": {
    "height": "441px",
    "width": "252px"
   },
   "navigate_menu": true,
   "number_sections": true,
   "sideBar": true,
   "threshold": 4,
   "toc_cell": true,
   "toc_position": {
    "height": "827px",
    "left": "0px",
    "right": "1125px",
    "top": "107px",
    "width": "428px"
   },
   "toc_section_display": "block",
   "toc_window_display": true
  }
 },
 "nbformat": 4,
 "nbformat_minor": 2
}
