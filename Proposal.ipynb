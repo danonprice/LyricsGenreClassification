{
 "cells": [
  {
   "cell_type": "markdown",
   "metadata": {},
   "source": [
    "## Project Abstract\n",
    "\n",
    "In the field of Natural Language Processing, the classification of music genres based on the lyrics is a challenging task. We cannot yet fully understand how the human brain does it, but many strides have been made in understanding language. With that understanding, newer algorithms are able to offer classifications useful for organizations doing this task at a large scale. \n",
    "\n",
    "We would like to explore advantages and disadvantages of each of the methods in the papers we have selected and report our observations, learnings and a recommendation. With the focus of deep learning, it is clear that Neural Networks tend to work better than the previously used models. We would like to explore this path and provide some comparative analysis.\n"
   ]
  },
  {
   "cell_type": "markdown",
   "metadata": {},
   "source": [
    "## The Motivation : Importance and Challenges\n",
    "\n",
    "A lot of tech organizations, acedemic and industry teams have tried many approaches to this space, they have not been very successful in finding a stable method which would perform significantly well to tackle this problem. SVM, KNN and Naive Bayes have all been used in lyrical classification but they all have very low success with this problem. We would like to try to replicate the research done and find stable solutions to offer potential industry partners faced with a similar problem."
   ]
  },
  {
   "cell_type": "markdown",
   "metadata": {},
   "source": [
    "## The Dataset\n",
    "\n",
    "The dataset for this problem is hard to come by  due to copyright and other original content protection requirements. The search for more examples continues, in the meantime we have we found a data set in Kaggle which is suitable to get started with model development. \n",
    "\n",
    "The dataset is downloadable as a comma delimited file (.csv). The columns in the file are as follows:\n",
    "\n",
    "    1. index\n",
    "    2. song\n",
    "    3. year\n",
    "    4. artist\n",
    "    5. genre\n",
    "    6. lyrics\n",
    "    \n",
    "We are particularly interested in the text in the lyrics column. However, we may find ways to utilize other columns as features. The lyrics are a string with carraige returns denoting an end of line. Statistics specific to the overall structure of the lyrics, such as line length, may add value to the classification task."
   ]
  },
  {
   "cell_type": "markdown",
   "metadata": {},
   "source": [
    "## Algorithmic classifiers\n",
    "\n",
    "Due to the expressive and poetic nature of music lyrics, we would like to apply ELMo (Embeddings from Language Models) to the task of lyrics genre classification. ELMo's \"deep contextualized word embeddings\" may capture the artistic wordplay and polysemy in lyrics [5]. \n",
    "\n",
    "We intend to apply a Convolutional Neural Network, Recurrent Neural Network, and Long Short Term Memory Network to the categorization task."
   ]
  },
  {
   "cell_type": "markdown",
   "metadata": {},
   "source": [
    "## Reference Papers\n",
    "\n",
    "We have started reading and understanding the progress made in the genre classification of lyrics task through the lens of these papers:\n",
    "\n",
    "1. Genre Classification using Feature Extraction and Deep Learning Techniques\n",
    "   [Research Gate paper](https://www.researchgate.net/publication/329652416_Genre_Classification_using_Feature_Extraction_and_Deep_Learning_Techniques)\n",
    "\n",
    "2. Music Genre Classification by Lyrics using a Hierarchical Attention Network\n",
    "   [Stanford.edu location](https://web.stanford.edu/class/archive/cs/cs224n/cs224n.1174/reports/2728368.pdf)\n",
    "   [ARXIV location](https://arxiv.org/pdf/1707.04678)\n",
    "\n",
    "3. Improved Music Genre Classification with Convolutional Neural Networks]\n",
    "   [Semantic Scholar paper](https://pdfs.semanticscholar.org/cb26/a668dd31b7a65e02b69d1cb28b30631ba42a.pdf)\n",
    "\n",
    "4. AI Genre Classification by Lyrics\n",
    "  [The hebrew university of jerusalem - Research paper](http://www.cs.huji.ac.il/~ai/projects/2017/decision_trees/AI_Genre_Classification_By_Lyrics/ai-genre-classification.pdf)\n",
    "  \n",
    "5. Deep contextualized word representations [ARXIV location](https://arxiv.org/abs/1802.05365)"
   ]
  },
  {
   "cell_type": "code",
   "execution_count": null,
   "metadata": {
    "collapsed": true
   },
   "outputs": [],
   "source": []
  }
 ],
 "metadata": {
  "kernelspec": {
   "display_name": "Python 3",
   "language": "python",
   "name": "python3"
  },
  "language_info": {
   "codemirror_mode": {
    "name": "ipython",
    "version": 3
   },
   "file_extension": ".py",
   "mimetype": "text/x-python",
   "name": "python",
   "nbconvert_exporter": "python",
   "pygments_lexer": "ipython3",
   "version": "3.6.1"
  }
 },
 "nbformat": 4,
 "nbformat_minor": 2
}
